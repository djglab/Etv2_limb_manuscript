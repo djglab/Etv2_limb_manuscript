{
  "nbformat": 4,
  "nbformat_minor": 0,
  "metadata": {
    "colab": {
      "name": "FE_Heatmap_Etv2_limb_v1.ipynb",
      "provenance": [],
      "collapsed_sections": [],
      "machine_shape": "hm",
      "include_colab_link": true
    },
    "kernelspec": {
      "name": "ir",
      "display_name": "R"
    }
  },
  "cells": [
    {
      "cell_type": "markdown",
      "metadata": {
        "id": "view-in-github",
        "colab_type": "text"
      },
      "source": [
        "<a href=\"https://colab.research.google.com/github/gongx030/Etv2_limb_manuscript/blob/main/FE_Heatmap_Etv2_limb_v1.ipynb\" target=\"_parent\"><img src=\"https://colab.research.google.com/assets/colab-badge.svg\" alt=\"Open In Colab\"/></a>"
      ]
    },
    {
      "cell_type": "markdown",
      "metadata": {
        "id": "0KokZAaws5Zc"
      },
      "source": [
        "The goal of this notebook is to split the enriched heatmap to see the regions that have peaks in E10.5 Posterior and contains the ZRS region, whereas the same regions should not have peaks in E9.5 HL."
      ]
    },
    {
      "cell_type": "code",
      "metadata": {
        "id": "SK7UWjMVhJvE"
      },
      "source": [
        "start_time0 <- Sys.time()"
      ],
      "execution_count": null,
      "outputs": []
    },
    {
      "cell_type": "markdown",
      "metadata": {
        "id": "9KMoMZhAuQTn"
      },
      "source": [
        "# **Download and load libraries required to run the analysis**"
      ]
    },
    {
      "cell_type": "code",
      "metadata": {
        "id": "XRVS6cpnhHAP",
        "colab": {
          "base_uri": "https://localhost:8080/",
          "height": 694
        },
        "outputId": "b15b7066-83a9-4db5-a037-768187bb5499"
      },
      "source": [
        "system('apt-get -q install libgsl-dev', intern = TRUE)\n",
        "system('apt-get install libcairo2-dev', intern = TRUE)"
      ],
      "execution_count": null,
      "outputs": [
        {
          "output_type": "display_data",
          "data": {
            "text/plain": [
              " [1] \"Reading package lists...\"                                                                                                                                                                                                                                                                                                                                                                                                                                                                                                                                                                                                                                      \n",
              " [2] \"Building dependency tree...\"                                                                                                                                                                                                                                                                                                                                                                                                                                                                                                                                                                                                                                   \n",
              " [3] \"Reading state information...\"                                                                                                                                                                                                                                                                                                                                                                                                                                                                                                                                                                                                                                  \n",
              " [4] \"The following additional packages will be installed:\"                                                                                                                                                                                                                                                                                                                                                                                                                                                                                                                                                                                                          \n",
              " [5] \"  libgsl23 libgslcblas0\"                                                                                                                                                                                                                                                                                                                                                                                                                                                                                                                                                                                                                                       \n",
              " [6] \"Suggested packages:\"                                                                                                                                                                                                                                                                                                                                                                                                                                                                                                                                                                                                                                           \n",
              " [7] \"  gsl-ref-psdoc | gsl-doc-pdf | gsl-doc-info | gsl-ref-html\"                                                                                                                                                                                                                                                                                                                                                                                                                                                                                                                                                                                                   \n",
              " [8] \"The following NEW packages will be installed:\"                                                                                                                                                                                                                                                                                                                                                                                                                                                                                                                                                                                                                 \n",
              " [9] \"  libgsl-dev libgsl23 libgslcblas0\"                                                                                                                                                                                                                                                                                                                                                                                                                                                                                                                                                                                                                            \n",
              "[10] \"0 upgraded, 3 newly installed, 0 to remove and 37 not upgraded.\"                                                                                                                                                                                                                                                                                                                                                                                                                                                                                                                                                                                               \n",
              "[11] \"Need to get 1,926 kB of archives.\"                                                                                                                                                                                                                                                                                                                                                                                                                                                                                                                                                                                                                             \n",
              "[12] \"After this operation, 9,474 kB of additional disk space will be used.\"                                                                                                                                                                                                                                                                                                                                                                                                                                                                                                                                                                                         \n",
              "[13] \"Get:1 http://archive.ubuntu.com/ubuntu bionic/universe amd64 libgslcblas0 amd64 2.4+dfsg-6 [79.7 kB]\"                                                                                                                                                                                                                                                                                                                                                                                                                                                                                                                                                          \n",
              "[14] \"Get:2 http://archive.ubuntu.com/ubuntu bionic/universe amd64 libgsl23 amd64 2.4+dfsg-6 [823 kB]\"                                                                                                                                                                                                                                                                                                                                                                                                                                                                                                                                                               \n",
              "[15] \"Get:3 http://archive.ubuntu.com/ubuntu bionic/universe amd64 libgsl-dev amd64 2.4+dfsg-6 [1,023 kB]\"                                                                                                                                                                                                                                                                                                                                                                                                                                                                                                                                                           \n",
              "[16] \"Fetched 1,926 kB in 0s (4,998 kB/s)\"                                                                                                                                                                                                                                                                                                                                                                                                                                                                                                                                                                                                                           \n",
              "[17] \"Selecting previously unselected package libgslcblas0:amd64.\\r\"                                                                                                                                                                                                                                                                                                                                                                                                                                                                                                                                                                                                 \n",
              "[18] \"(Reading database ... \\r(Reading database ... 5%\\r(Reading database ... 10%\\r(Reading database ... 15%\\r(Reading database ... 20%\\r(Reading database ... 25%\\r(Reading database ... 30%\\r(Reading database ... 35%\\r(Reading database ... 40%\\r(Reading database ... 45%\\r(Reading database ... 50%\\r(Reading database ... 55%\\r(Reading database ... 60%\\r(Reading database ... 65%\\r(Reading database ... 70%\\r(Reading database ... 75%\\r(Reading database ... 80%\\r(Reading database ... 85%\\r(Reading database ... 90%\\r(Reading database ... 95%\\r(Reading database ... 100%\\r(Reading database ... 155225 files and directories currently installed.)\\r\"\n",
              "[19] \"Preparing to unpack .../libgslcblas0_2.4+dfsg-6_amd64.deb ...\\r\"                                                                                                                                                                                                                                                                                                                                                                                                                                                                                                                                                                                               \n",
              "[20] \"Unpacking libgslcblas0:amd64 (2.4+dfsg-6) ...\\r\"                                                                                                                                                                                                                                                                                                                                                                                                                                                                                                                                                                                                               \n",
              "[21] \"Selecting previously unselected package libgsl23:amd64.\\r\"                                                                                                                                                                                                                                                                                                                                                                                                                                                                                                                                                                                                     \n",
              "[22] \"Preparing to unpack .../libgsl23_2.4+dfsg-6_amd64.deb ...\\r\"                                                                                                                                                                                                                                                                                                                                                                                                                                                                                                                                                                                                   \n",
              "[23] \"Unpacking libgsl23:amd64 (2.4+dfsg-6) ...\\r\"                                                                                                                                                                                                                                                                                                                                                                                                                                                                                                                                                                                                                   \n",
              "[24] \"Selecting previously unselected package libgsl-dev.\\r\"                                                                                                                                                                                                                                                                                                                                                                                                                                                                                                                                                                                                         \n",
              "[25] \"Preparing to unpack .../libgsl-dev_2.4+dfsg-6_amd64.deb ...\\r\"                                                                                                                                                                                                                                                                                                                                                                                                                                                                                                                                                                                                 \n",
              "[26] \"Unpacking libgsl-dev (2.4+dfsg-6) ...\\r\"                                                                                                                                                                                                                                                                                                                                                                                                                                                                                                                                                                                                                       \n",
              "[27] \"Setting up libgslcblas0:amd64 (2.4+dfsg-6) ...\\r\"                                                                                                                                                                                                                                                                                                                                                                                                                                                                                                                                                                                                              \n",
              "[28] \"Setting up libgsl23:amd64 (2.4+dfsg-6) ...\\r\"                                                                                                                                                                                                                                                                                                                                                                                                                                                                                                                                                                                                                  \n",
              "[29] \"Setting up libgsl-dev (2.4+dfsg-6) ...\\r\"                                                                                                                                                                                                                                                                                                                                                                                                                                                                                                                                                                                                                      \n",
              "[30] \"Processing triggers for man-db (2.8.3-2ubuntu0.1) ...\\r\"                                                                                                                                                                                                                                                                                                                                                                                                                                                                                                                                                                                                       \n",
              "[31] \"Processing triggers for libc-bin (2.27-3ubuntu1.3) ...\\r\"                                                                                                                                                                                                                                                                                                                                                                                                                                                                                                                                                                                                      \n",
              "[32] \"/sbin/ldconfig.real: /usr/local/lib/python3.7/dist-packages/ideep4py/lib/libmkldnn.so.0 is not a symbolic link\\r\"                                                                                                                                                                                                                                                                                                                                                                                                                                                                                                                                              \n",
              "[33] \"\\r\"                                                                                                                                                                                                                                                                                                                                                                                                                                                                                                                                                                                                                                                            "
            ],
            "text/latex": "\\begin{enumerate*}\n\\item 'Reading package lists...'\n\\item 'Building dependency tree...'\n\\item 'Reading state information...'\n\\item 'The following additional packages will be installed:'\n\\item '  libgsl23 libgslcblas0'\n\\item 'Suggested packages:'\n\\item '  gsl-ref-psdoc \\textbar{} gsl-doc-pdf \\textbar{} gsl-doc-info \\textbar{} gsl-ref-html'\n\\item 'The following NEW packages will be installed:'\n\\item '  libgsl-dev libgsl23 libgslcblas0'\n\\item '0 upgraded, 3 newly installed, 0 to remove and 37 not upgraded.'\n\\item 'Need to get 1,926 kB of archives.'\n\\item 'After this operation, 9,474 kB of additional disk space will be used.'\n\\item 'Get:1 http://archive.ubuntu.com/ubuntu bionic/universe amd64 libgslcblas0 amd64 2.4+dfsg-6 {[}79.7 kB{]}'\n\\item 'Get:2 http://archive.ubuntu.com/ubuntu bionic/universe amd64 libgsl23 amd64 2.4+dfsg-6 {[}823 kB{]}'\n\\item 'Get:3 http://archive.ubuntu.com/ubuntu bionic/universe amd64 libgsl-dev amd64 2.4+dfsg-6 {[}1,023 kB{]}'\n\\item 'Fetched 1,926 kB in 0s (4,998 kB/s)'\n\\item 'Selecting previously unselected package libgslcblas0:amd64.\\textbackslash{}r'\n\\item '(Reading database ... \\textbackslash{}r(Reading database ... 5\\%\\textbackslash{}r(Reading database ... 10\\%\\textbackslash{}r(Reading database ... 15\\%\\textbackslash{}r(Reading database ... 20\\%\\textbackslash{}r(Reading database ... 25\\%\\textbackslash{}r(Reading database ... 30\\%\\textbackslash{}r(Reading database ... 35\\%\\textbackslash{}r(Reading database ... 40\\%\\textbackslash{}r(Reading database ... 45\\%\\textbackslash{}r(Reading database ... 50\\%\\textbackslash{}r(Reading database ... 55\\%\\textbackslash{}r(Reading database ... 60\\%\\textbackslash{}r(Reading database ... 65\\%\\textbackslash{}r(Reading database ... 70\\%\\textbackslash{}r(Reading database ... 75\\%\\textbackslash{}r(Reading database ... 80\\%\\textbackslash{}r(Reading database ... 85\\%\\textbackslash{}r(Reading database ... 90\\%\\textbackslash{}r(Reading database ... 95\\%\\textbackslash{}r(Reading database ... 100\\%\\textbackslash{}r(Reading database ... 155225 files and directories currently installed.)\\textbackslash{}r'\n\\item 'Preparing to unpack .../libgslcblas0\\_2.4+dfsg-6\\_amd64.deb ...\\textbackslash{}r'\n\\item 'Unpacking libgslcblas0:amd64 (2.4+dfsg-6) ...\\textbackslash{}r'\n\\item 'Selecting previously unselected package libgsl23:amd64.\\textbackslash{}r'\n\\item 'Preparing to unpack .../libgsl23\\_2.4+dfsg-6\\_amd64.deb ...\\textbackslash{}r'\n\\item 'Unpacking libgsl23:amd64 (2.4+dfsg-6) ...\\textbackslash{}r'\n\\item 'Selecting previously unselected package libgsl-dev.\\textbackslash{}r'\n\\item 'Preparing to unpack .../libgsl-dev\\_2.4+dfsg-6\\_amd64.deb ...\\textbackslash{}r'\n\\item 'Unpacking libgsl-dev (2.4+dfsg-6) ...\\textbackslash{}r'\n\\item 'Setting up libgslcblas0:amd64 (2.4+dfsg-6) ...\\textbackslash{}r'\n\\item 'Setting up libgsl23:amd64 (2.4+dfsg-6) ...\\textbackslash{}r'\n\\item 'Setting up libgsl-dev (2.4+dfsg-6) ...\\textbackslash{}r'\n\\item 'Processing triggers for man-db (2.8.3-2ubuntu0.1) ...\\textbackslash{}r'\n\\item 'Processing triggers for libc-bin (2.27-3ubuntu1.3) ...\\textbackslash{}r'\n\\item '/sbin/ldconfig.real: /usr/local/lib/python3.7/dist-packages/ideep4py/lib/libmkldnn.so.0 is not a symbolic link\\textbackslash{}r'\n\\item '\\textbackslash{}r'\n\\end{enumerate*}\n",
            "text/markdown": "1. 'Reading package lists...'\n2. 'Building dependency tree...'\n3. 'Reading state information...'\n4. 'The following additional packages will be installed:'\n5. <span style=white-space:pre-wrap>'  libgsl23 libgslcblas0'</span>\n6. 'Suggested packages:'\n7. <span style=white-space:pre-wrap>'  gsl-ref-psdoc | gsl-doc-pdf | gsl-doc-info | gsl-ref-html'</span>\n8. 'The following NEW packages will be installed:'\n9. <span style=white-space:pre-wrap>'  libgsl-dev libgsl23 libgslcblas0'</span>\n10. '0 upgraded, 3 newly installed, 0 to remove and 37 not upgraded.'\n11. 'Need to get 1,926 kB of archives.'\n12. 'After this operation, 9,474 kB of additional disk space will be used.'\n13. 'Get:1 http://archive.ubuntu.com/ubuntu bionic/universe amd64 libgslcblas0 amd64 2.4+dfsg-6 [79.7 kB]'\n14. 'Get:2 http://archive.ubuntu.com/ubuntu bionic/universe amd64 libgsl23 amd64 2.4+dfsg-6 [823 kB]'\n15. 'Get:3 http://archive.ubuntu.com/ubuntu bionic/universe amd64 libgsl-dev amd64 2.4+dfsg-6 [1,023 kB]'\n16. 'Fetched 1,926 kB in 0s (4,998 kB/s)'\n17. 'Selecting previously unselected package libgslcblas0:amd64.\\r'\n18. '(Reading database ... \\r(Reading database ... 5%\\r(Reading database ... 10%\\r(Reading database ... 15%\\r(Reading database ... 20%\\r(Reading database ... 25%\\r(Reading database ... 30%\\r(Reading database ... 35%\\r(Reading database ... 40%\\r(Reading database ... 45%\\r(Reading database ... 50%\\r(Reading database ... 55%\\r(Reading database ... 60%\\r(Reading database ... 65%\\r(Reading database ... 70%\\r(Reading database ... 75%\\r(Reading database ... 80%\\r(Reading database ... 85%\\r(Reading database ... 90%\\r(Reading database ... 95%\\r(Reading database ... 100%\\r(Reading database ... 155225 files and directories currently installed.)\\r'\n19. 'Preparing to unpack .../libgslcblas0_2.4+dfsg-6_amd64.deb ...\\r'\n20. 'Unpacking libgslcblas0:amd64 (2.4+dfsg-6) ...\\r'\n21. 'Selecting previously unselected package libgsl23:amd64.\\r'\n22. 'Preparing to unpack .../libgsl23_2.4+dfsg-6_amd64.deb ...\\r'\n23. 'Unpacking libgsl23:amd64 (2.4+dfsg-6) ...\\r'\n24. 'Selecting previously unselected package libgsl-dev.\\r'\n25. 'Preparing to unpack .../libgsl-dev_2.4+dfsg-6_amd64.deb ...\\r'\n26. 'Unpacking libgsl-dev (2.4+dfsg-6) ...\\r'\n27. 'Setting up libgslcblas0:amd64 (2.4+dfsg-6) ...\\r'\n28. 'Setting up libgsl23:amd64 (2.4+dfsg-6) ...\\r'\n29. 'Setting up libgsl-dev (2.4+dfsg-6) ...\\r'\n30. 'Processing triggers for man-db (2.8.3-2ubuntu0.1) ...\\r'\n31. 'Processing triggers for libc-bin (2.27-3ubuntu1.3) ...\\r'\n32. '/sbin/ldconfig.real: /usr/local/lib/python3.7/dist-packages/ideep4py/lib/libmkldnn.so.0 is not a symbolic link\\r'\n33. '\\r'\n\n\n",
            "text/html": [
              "<style>\n",
              ".list-inline {list-style: none; margin:0; padding: 0}\n",
              ".list-inline>li {display: inline-block}\n",
              ".list-inline>li:not(:last-child)::after {content: \"\\00b7\"; padding: 0 .5ex}\n",
              "</style>\n",
              "<ol class=list-inline><li>'Reading package lists...'</li><li>'Building dependency tree...'</li><li>'Reading state information...'</li><li>'The following additional packages will be installed:'</li><li><span style=white-space:pre-wrap>'  libgsl23 libgslcblas0'</span></li><li>'Suggested packages:'</li><li><span style=white-space:pre-wrap>'  gsl-ref-psdoc | gsl-doc-pdf | gsl-doc-info | gsl-ref-html'</span></li><li>'The following NEW packages will be installed:'</li><li><span style=white-space:pre-wrap>'  libgsl-dev libgsl23 libgslcblas0'</span></li><li>'0 upgraded, 3 newly installed, 0 to remove and 37 not upgraded.'</li><li>'Need to get 1,926 kB of archives.'</li><li>'After this operation, 9,474 kB of additional disk space will be used.'</li><li>'Get:1 http://archive.ubuntu.com/ubuntu bionic/universe amd64 libgslcblas0 amd64 2.4+dfsg-6 [79.7 kB]'</li><li>'Get:2 http://archive.ubuntu.com/ubuntu bionic/universe amd64 libgsl23 amd64 2.4+dfsg-6 [823 kB]'</li><li>'Get:3 http://archive.ubuntu.com/ubuntu bionic/universe amd64 libgsl-dev amd64 2.4+dfsg-6 [1,023 kB]'</li><li>'Fetched 1,926 kB in 0s (4,998 kB/s)'</li><li>'Selecting previously unselected package libgslcblas0:amd64.\\r'</li><li>'(Reading database ... \\r(Reading database ... 5%\\r(Reading database ... 10%\\r(Reading database ... 15%\\r(Reading database ... 20%\\r(Reading database ... 25%\\r(Reading database ... 30%\\r(Reading database ... 35%\\r(Reading database ... 40%\\r(Reading database ... 45%\\r(Reading database ... 50%\\r(Reading database ... 55%\\r(Reading database ... 60%\\r(Reading database ... 65%\\r(Reading database ... 70%\\r(Reading database ... 75%\\r(Reading database ... 80%\\r(Reading database ... 85%\\r(Reading database ... 90%\\r(Reading database ... 95%\\r(Reading database ... 100%\\r(Reading database ... 155225 files and directories currently installed.)\\r'</li><li>'Preparing to unpack .../libgslcblas0_2.4+dfsg-6_amd64.deb ...\\r'</li><li>'Unpacking libgslcblas0:amd64 (2.4+dfsg-6) ...\\r'</li><li>'Selecting previously unselected package libgsl23:amd64.\\r'</li><li>'Preparing to unpack .../libgsl23_2.4+dfsg-6_amd64.deb ...\\r'</li><li>'Unpacking libgsl23:amd64 (2.4+dfsg-6) ...\\r'</li><li>'Selecting previously unselected package libgsl-dev.\\r'</li><li>'Preparing to unpack .../libgsl-dev_2.4+dfsg-6_amd64.deb ...\\r'</li><li>'Unpacking libgsl-dev (2.4+dfsg-6) ...\\r'</li><li>'Setting up libgslcblas0:amd64 (2.4+dfsg-6) ...\\r'</li><li>'Setting up libgsl23:amd64 (2.4+dfsg-6) ...\\r'</li><li>'Setting up libgsl-dev (2.4+dfsg-6) ...\\r'</li><li>'Processing triggers for man-db (2.8.3-2ubuntu0.1) ...\\r'</li><li>'Processing triggers for libc-bin (2.27-3ubuntu1.3) ...\\r'</li><li>'/sbin/ldconfig.real: /usr/local/lib/python3.7/dist-packages/ideep4py/lib/libmkldnn.so.0 is not a symbolic link\\r'</li><li>'\\r'</li></ol>\n"
            ]
          },
          "metadata": {}
        },
        {
          "output_type": "display_data",
          "data": {
            "text/plain": [
              " [1] \"Reading package lists...\"                                                                                                                                                                                                                                                                                                                                                                                                                                                                                                                                                                                                                                      \n",
              " [2] \"Building dependency tree...\"                                                                                                                                                                                                                                                                                                                                                                                                                                                                                                                                                                                                                                   \n",
              " [3] \"Reading state information...\"                                                                                                                                                                                                                                                                                                                                                                                                                                                                                                                                                                                                                                  \n",
              " [4] \"The following additional packages will be installed:\"                                                                                                                                                                                                                                                                                                                                                                                                                                                                                                                                                                                                          \n",
              " [5] \"  libcairo-script-interpreter2 libpixman-1-dev libxcb-shm0-dev\"                                                                                                                                                                                                                                                                                                                                                                                                                                                                                                                                                                                                \n",
              " [6] \"Suggested packages:\"                                                                                                                                                                                                                                                                                                                                                                                                                                                                                                                                                                                                                                           \n",
              " [7] \"  libcairo2-doc\"                                                                                                                                                                                                                                                                                                                                                                                                                                                                                                                                                                                                                                               \n",
              " [8] \"The following NEW packages will be installed:\"                                                                                                                                                                                                                                                                                                                                                                                                                                                                                                                                                                                                                 \n",
              " [9] \"  libcairo-script-interpreter2 libcairo2-dev libpixman-1-dev libxcb-shm0-dev\"                                                                                                                                                                                                                                                                                                                                                                                                                                                                                                                                                                                  \n",
              "[10] \"0 upgraded, 4 newly installed, 0 to remove and 37 not upgraded.\"                                                                                                                                                                                                                                                                                                                                                                                                                                                                                                                                                                                               \n",
              "[11] \"Need to get 930 kB of archives.\"                                                                                                                                                                                                                                                                                                                                                                                                                                                                                                                                                                                                                               \n",
              "[12] \"After this operation, 3,986 kB of additional disk space will be used.\"                                                                                                                                                                                                                                                                                                                                                                                                                                                                                                                                                                                         \n",
              "[13] \"Get:1 http://archive.ubuntu.com/ubuntu bionic-updates/main amd64 libcairo-script-interpreter2 amd64 1.15.10-2ubuntu0.1 [53.5 kB]\"                                                                                                                                                                                                                                                                                                                                                                                                                                                                                                                              \n",
              "[14] \"Get:2 http://archive.ubuntu.com/ubuntu bionic/main amd64 libpixman-1-dev amd64 0.34.0-2 [244 kB]\"                                                                                                                                                                                                                                                                                                                                                                                                                                                                                                                                                              \n",
              "[15] \"Get:3 http://archive.ubuntu.com/ubuntu bionic-updates/main amd64 libxcb-shm0-dev amd64 1.13-2~ubuntu18.04 [6,684 B]\"                                                                                                                                                                                                                                                                                                                                                                                                                                                                                                                                           \n",
              "[16] \"Get:4 http://archive.ubuntu.com/ubuntu bionic-updates/main amd64 libcairo2-dev amd64 1.15.10-2ubuntu0.1 [626 kB]\"                                                                                                                                                                                                                                                                                                                                                                                                                                                                                                                                              \n",
              "[17] \"Fetched 930 kB in 1s (816 kB/s)\"                                                                                                                                                                                                                                                                                                                                                                                                                                                                                                                                                                                                                               \n",
              "[18] \"Selecting previously unselected package libcairo-script-interpreter2:amd64.\\r\"                                                                                                                                                                                                                                                                                                                                                                                                                                                                                                                                                                                 \n",
              "[19] \"(Reading database ... \\r(Reading database ... 5%\\r(Reading database ... 10%\\r(Reading database ... 15%\\r(Reading database ... 20%\\r(Reading database ... 25%\\r(Reading database ... 30%\\r(Reading database ... 35%\\r(Reading database ... 40%\\r(Reading database ... 45%\\r(Reading database ... 50%\\r(Reading database ... 55%\\r(Reading database ... 60%\\r(Reading database ... 65%\\r(Reading database ... 70%\\r(Reading database ... 75%\\r(Reading database ... 80%\\r(Reading database ... 85%\\r(Reading database ... 90%\\r(Reading database ... 95%\\r(Reading database ... 100%\\r(Reading database ... 155497 files and directories currently installed.)\\r\"\n",
              "[20] \"Preparing to unpack .../libcairo-script-interpreter2_1.15.10-2ubuntu0.1_amd64.deb ...\\r\"                                                                                                                                                                                                                                                                                                                                                                                                                                                                                                                                                                       \n",
              "[21] \"Unpacking libcairo-script-interpreter2:amd64 (1.15.10-2ubuntu0.1) ...\\r\"                                                                                                                                                                                                                                                                                                                                                                                                                                                                                                                                                                                       \n",
              "[22] \"Selecting previously unselected package libpixman-1-dev:amd64.\\r\"                                                                                                                                                                                                                                                                                                                                                                                                                                                                                                                                                                                              \n",
              "[23] \"Preparing to unpack .../libpixman-1-dev_0.34.0-2_amd64.deb ...\\r\"                                                                                                                                                                                                                                                                                                                                                                                                                                                                                                                                                                                              \n",
              "[24] \"Unpacking libpixman-1-dev:amd64 (0.34.0-2) ...\\r\"                                                                                                                                                                                                                                                                                                                                                                                                                                                                                                                                                                                                              \n",
              "[25] \"Selecting previously unselected package libxcb-shm0-dev:amd64.\\r\"                                                                                                                                                                                                                                                                                                                                                                                                                                                                                                                                                                                              \n",
              "[26] \"Preparing to unpack .../libxcb-shm0-dev_1.13-2~ubuntu18.04_amd64.deb ...\\r\"                                                                                                                                                                                                                                                                                                                                                                                                                                                                                                                                                                                    \n",
              "[27] \"Unpacking libxcb-shm0-dev:amd64 (1.13-2~ubuntu18.04) ...\\r\"                                                                                                                                                                                                                                                                                                                                                                                                                                                                                                                                                                                                    \n",
              "[28] \"Selecting previously unselected package libcairo2-dev:amd64.\\r\"                                                                                                                                                                                                                                                                                                                                                                                                                                                                                                                                                                                                \n",
              "[29] \"Preparing to unpack .../libcairo2-dev_1.15.10-2ubuntu0.1_amd64.deb ...\\r\"                                                                                                                                                                                                                                                                                                                                                                                                                                                                                                                                                                                      \n",
              "[30] \"Unpacking libcairo2-dev:amd64 (1.15.10-2ubuntu0.1) ...\\r\"                                                                                                                                                                                                                                                                                                                                                                                                                                                                                                                                                                                                      \n",
              "[31] \"Setting up libcairo-script-interpreter2:amd64 (1.15.10-2ubuntu0.1) ...\\r\"                                                                                                                                                                                                                                                                                                                                                                                                                                                                                                                                                                                      \n",
              "[32] \"Setting up libxcb-shm0-dev:amd64 (1.13-2~ubuntu18.04) ...\\r\"                                                                                                                                                                                                                                                                                                                                                                                                                                                                                                                                                                                                   \n",
              "[33] \"Setting up libpixman-1-dev:amd64 (0.34.0-2) ...\\r\"                                                                                                                                                                                                                                                                                                                                                                                                                                                                                                                                                                                                             \n",
              "[34] \"Setting up libcairo2-dev:amd64 (1.15.10-2ubuntu0.1) ...\\r\"                                                                                                                                                                                                                                                                                                                                                                                                                                                                                                                                                                                                     \n",
              "[35] \"Processing triggers for libc-bin (2.27-3ubuntu1.3) ...\\r\"                                                                                                                                                                                                                                                                                                                                                                                                                                                                                                                                                                                                      \n",
              "[36] \"/sbin/ldconfig.real: /usr/local/lib/python3.7/dist-packages/ideep4py/lib/libmkldnn.so.0 is not a symbolic link\\r\"                                                                                                                                                                                                                                                                                                                                                                                                                                                                                                                                              \n",
              "[37] \"\\r\"                                                                                                                                                                                                                                                                                                                                                                                                                                                                                                                                                                                                                                                            "
            ],
            "text/latex": "\\begin{enumerate*}\n\\item 'Reading package lists...'\n\\item 'Building dependency tree...'\n\\item 'Reading state information...'\n\\item 'The following additional packages will be installed:'\n\\item '  libcairo-script-interpreter2 libpixman-1-dev libxcb-shm0-dev'\n\\item 'Suggested packages:'\n\\item '  libcairo2-doc'\n\\item 'The following NEW packages will be installed:'\n\\item '  libcairo-script-interpreter2 libcairo2-dev libpixman-1-dev libxcb-shm0-dev'\n\\item '0 upgraded, 4 newly installed, 0 to remove and 37 not upgraded.'\n\\item 'Need to get 930 kB of archives.'\n\\item 'After this operation, 3,986 kB of additional disk space will be used.'\n\\item 'Get:1 http://archive.ubuntu.com/ubuntu bionic-updates/main amd64 libcairo-script-interpreter2 amd64 1.15.10-2ubuntu0.1 {[}53.5 kB{]}'\n\\item 'Get:2 http://archive.ubuntu.com/ubuntu bionic/main amd64 libpixman-1-dev amd64 0.34.0-2 {[}244 kB{]}'\n\\item 'Get:3 http://archive.ubuntu.com/ubuntu bionic-updates/main amd64 libxcb-shm0-dev amd64 1.13-2\\textasciitilde{}ubuntu18.04 {[}6,684 B{]}'\n\\item 'Get:4 http://archive.ubuntu.com/ubuntu bionic-updates/main amd64 libcairo2-dev amd64 1.15.10-2ubuntu0.1 {[}626 kB{]}'\n\\item 'Fetched 930 kB in 1s (816 kB/s)'\n\\item 'Selecting previously unselected package libcairo-script-interpreter2:amd64.\\textbackslash{}r'\n\\item '(Reading database ... \\textbackslash{}r(Reading database ... 5\\%\\textbackslash{}r(Reading database ... 10\\%\\textbackslash{}r(Reading database ... 15\\%\\textbackslash{}r(Reading database ... 20\\%\\textbackslash{}r(Reading database ... 25\\%\\textbackslash{}r(Reading database ... 30\\%\\textbackslash{}r(Reading database ... 35\\%\\textbackslash{}r(Reading database ... 40\\%\\textbackslash{}r(Reading database ... 45\\%\\textbackslash{}r(Reading database ... 50\\%\\textbackslash{}r(Reading database ... 55\\%\\textbackslash{}r(Reading database ... 60\\%\\textbackslash{}r(Reading database ... 65\\%\\textbackslash{}r(Reading database ... 70\\%\\textbackslash{}r(Reading database ... 75\\%\\textbackslash{}r(Reading database ... 80\\%\\textbackslash{}r(Reading database ... 85\\%\\textbackslash{}r(Reading database ... 90\\%\\textbackslash{}r(Reading database ... 95\\%\\textbackslash{}r(Reading database ... 100\\%\\textbackslash{}r(Reading database ... 155497 files and directories currently installed.)\\textbackslash{}r'\n\\item 'Preparing to unpack .../libcairo-script-interpreter2\\_1.15.10-2ubuntu0.1\\_amd64.deb ...\\textbackslash{}r'\n\\item 'Unpacking libcairo-script-interpreter2:amd64 (1.15.10-2ubuntu0.1) ...\\textbackslash{}r'\n\\item 'Selecting previously unselected package libpixman-1-dev:amd64.\\textbackslash{}r'\n\\item 'Preparing to unpack .../libpixman-1-dev\\_0.34.0-2\\_amd64.deb ...\\textbackslash{}r'\n\\item 'Unpacking libpixman-1-dev:amd64 (0.34.0-2) ...\\textbackslash{}r'\n\\item 'Selecting previously unselected package libxcb-shm0-dev:amd64.\\textbackslash{}r'\n\\item 'Preparing to unpack .../libxcb-shm0-dev\\_1.13-2\\textasciitilde{}ubuntu18.04\\_amd64.deb ...\\textbackslash{}r'\n\\item 'Unpacking libxcb-shm0-dev:amd64 (1.13-2\\textasciitilde{}ubuntu18.04) ...\\textbackslash{}r'\n\\item 'Selecting previously unselected package libcairo2-dev:amd64.\\textbackslash{}r'\n\\item 'Preparing to unpack .../libcairo2-dev\\_1.15.10-2ubuntu0.1\\_amd64.deb ...\\textbackslash{}r'\n\\item 'Unpacking libcairo2-dev:amd64 (1.15.10-2ubuntu0.1) ...\\textbackslash{}r'\n\\item 'Setting up libcairo-script-interpreter2:amd64 (1.15.10-2ubuntu0.1) ...\\textbackslash{}r'\n\\item 'Setting up libxcb-shm0-dev:amd64 (1.13-2\\textasciitilde{}ubuntu18.04) ...\\textbackslash{}r'\n\\item 'Setting up libpixman-1-dev:amd64 (0.34.0-2) ...\\textbackslash{}r'\n\\item 'Setting up libcairo2-dev:amd64 (1.15.10-2ubuntu0.1) ...\\textbackslash{}r'\n\\item 'Processing triggers for libc-bin (2.27-3ubuntu1.3) ...\\textbackslash{}r'\n\\item '/sbin/ldconfig.real: /usr/local/lib/python3.7/dist-packages/ideep4py/lib/libmkldnn.so.0 is not a symbolic link\\textbackslash{}r'\n\\item '\\textbackslash{}r'\n\\end{enumerate*}\n",
            "text/markdown": "1. 'Reading package lists...'\n2. 'Building dependency tree...'\n3. 'Reading state information...'\n4. 'The following additional packages will be installed:'\n5. <span style=white-space:pre-wrap>'  libcairo-script-interpreter2 libpixman-1-dev libxcb-shm0-dev'</span>\n6. 'Suggested packages:'\n7. <span style=white-space:pre-wrap>'  libcairo2-doc'</span>\n8. 'The following NEW packages will be installed:'\n9. <span style=white-space:pre-wrap>'  libcairo-script-interpreter2 libcairo2-dev libpixman-1-dev libxcb-shm0-dev'</span>\n10. '0 upgraded, 4 newly installed, 0 to remove and 37 not upgraded.'\n11. 'Need to get 930 kB of archives.'\n12. 'After this operation, 3,986 kB of additional disk space will be used.'\n13. 'Get:1 http://archive.ubuntu.com/ubuntu bionic-updates/main amd64 libcairo-script-interpreter2 amd64 1.15.10-2ubuntu0.1 [53.5 kB]'\n14. 'Get:2 http://archive.ubuntu.com/ubuntu bionic/main amd64 libpixman-1-dev amd64 0.34.0-2 [244 kB]'\n15. 'Get:3 http://archive.ubuntu.com/ubuntu bionic-updates/main amd64 libxcb-shm0-dev amd64 1.13-2~ubuntu18.04 [6,684 B]'\n16. 'Get:4 http://archive.ubuntu.com/ubuntu bionic-updates/main amd64 libcairo2-dev amd64 1.15.10-2ubuntu0.1 [626 kB]'\n17. 'Fetched 930 kB in 1s (816 kB/s)'\n18. 'Selecting previously unselected package libcairo-script-interpreter2:amd64.\\r'\n19. '(Reading database ... \\r(Reading database ... 5%\\r(Reading database ... 10%\\r(Reading database ... 15%\\r(Reading database ... 20%\\r(Reading database ... 25%\\r(Reading database ... 30%\\r(Reading database ... 35%\\r(Reading database ... 40%\\r(Reading database ... 45%\\r(Reading database ... 50%\\r(Reading database ... 55%\\r(Reading database ... 60%\\r(Reading database ... 65%\\r(Reading database ... 70%\\r(Reading database ... 75%\\r(Reading database ... 80%\\r(Reading database ... 85%\\r(Reading database ... 90%\\r(Reading database ... 95%\\r(Reading database ... 100%\\r(Reading database ... 155497 files and directories currently installed.)\\r'\n20. 'Preparing to unpack .../libcairo-script-interpreter2_1.15.10-2ubuntu0.1_amd64.deb ...\\r'\n21. 'Unpacking libcairo-script-interpreter2:amd64 (1.15.10-2ubuntu0.1) ...\\r'\n22. 'Selecting previously unselected package libpixman-1-dev:amd64.\\r'\n23. 'Preparing to unpack .../libpixman-1-dev_0.34.0-2_amd64.deb ...\\r'\n24. 'Unpacking libpixman-1-dev:amd64 (0.34.0-2) ...\\r'\n25. 'Selecting previously unselected package libxcb-shm0-dev:amd64.\\r'\n26. 'Preparing to unpack .../libxcb-shm0-dev_1.13-2~ubuntu18.04_amd64.deb ...\\r'\n27. 'Unpacking libxcb-shm0-dev:amd64 (1.13-2~ubuntu18.04) ...\\r'\n28. 'Selecting previously unselected package libcairo2-dev:amd64.\\r'\n29. 'Preparing to unpack .../libcairo2-dev_1.15.10-2ubuntu0.1_amd64.deb ...\\r'\n30. 'Unpacking libcairo2-dev:amd64 (1.15.10-2ubuntu0.1) ...\\r'\n31. 'Setting up libcairo-script-interpreter2:amd64 (1.15.10-2ubuntu0.1) ...\\r'\n32. 'Setting up libxcb-shm0-dev:amd64 (1.13-2~ubuntu18.04) ...\\r'\n33. 'Setting up libpixman-1-dev:amd64 (0.34.0-2) ...\\r'\n34. 'Setting up libcairo2-dev:amd64 (1.15.10-2ubuntu0.1) ...\\r'\n35. 'Processing triggers for libc-bin (2.27-3ubuntu1.3) ...\\r'\n36. '/sbin/ldconfig.real: /usr/local/lib/python3.7/dist-packages/ideep4py/lib/libmkldnn.so.0 is not a symbolic link\\r'\n37. '\\r'\n\n\n",
            "text/html": [
              "<style>\n",
              ".list-inline {list-style: none; margin:0; padding: 0}\n",
              ".list-inline>li {display: inline-block}\n",
              ".list-inline>li:not(:last-child)::after {content: \"\\00b7\"; padding: 0 .5ex}\n",
              "</style>\n",
              "<ol class=list-inline><li>'Reading package lists...'</li><li>'Building dependency tree...'</li><li>'Reading state information...'</li><li>'The following additional packages will be installed:'</li><li><span style=white-space:pre-wrap>'  libcairo-script-interpreter2 libpixman-1-dev libxcb-shm0-dev'</span></li><li>'Suggested packages:'</li><li><span style=white-space:pre-wrap>'  libcairo2-doc'</span></li><li>'The following NEW packages will be installed:'</li><li><span style=white-space:pre-wrap>'  libcairo-script-interpreter2 libcairo2-dev libpixman-1-dev libxcb-shm0-dev'</span></li><li>'0 upgraded, 4 newly installed, 0 to remove and 37 not upgraded.'</li><li>'Need to get 930 kB of archives.'</li><li>'After this operation, 3,986 kB of additional disk space will be used.'</li><li>'Get:1 http://archive.ubuntu.com/ubuntu bionic-updates/main amd64 libcairo-script-interpreter2 amd64 1.15.10-2ubuntu0.1 [53.5 kB]'</li><li>'Get:2 http://archive.ubuntu.com/ubuntu bionic/main amd64 libpixman-1-dev amd64 0.34.0-2 [244 kB]'</li><li>'Get:3 http://archive.ubuntu.com/ubuntu bionic-updates/main amd64 libxcb-shm0-dev amd64 1.13-2~ubuntu18.04 [6,684 B]'</li><li>'Get:4 http://archive.ubuntu.com/ubuntu bionic-updates/main amd64 libcairo2-dev amd64 1.15.10-2ubuntu0.1 [626 kB]'</li><li>'Fetched 930 kB in 1s (816 kB/s)'</li><li>'Selecting previously unselected package libcairo-script-interpreter2:amd64.\\r'</li><li>'(Reading database ... \\r(Reading database ... 5%\\r(Reading database ... 10%\\r(Reading database ... 15%\\r(Reading database ... 20%\\r(Reading database ... 25%\\r(Reading database ... 30%\\r(Reading database ... 35%\\r(Reading database ... 40%\\r(Reading database ... 45%\\r(Reading database ... 50%\\r(Reading database ... 55%\\r(Reading database ... 60%\\r(Reading database ... 65%\\r(Reading database ... 70%\\r(Reading database ... 75%\\r(Reading database ... 80%\\r(Reading database ... 85%\\r(Reading database ... 90%\\r(Reading database ... 95%\\r(Reading database ... 100%\\r(Reading database ... 155497 files and directories currently installed.)\\r'</li><li>'Preparing to unpack .../libcairo-script-interpreter2_1.15.10-2ubuntu0.1_amd64.deb ...\\r'</li><li>'Unpacking libcairo-script-interpreter2:amd64 (1.15.10-2ubuntu0.1) ...\\r'</li><li>'Selecting previously unselected package libpixman-1-dev:amd64.\\r'</li><li>'Preparing to unpack .../libpixman-1-dev_0.34.0-2_amd64.deb ...\\r'</li><li>'Unpacking libpixman-1-dev:amd64 (0.34.0-2) ...\\r'</li><li>'Selecting previously unselected package libxcb-shm0-dev:amd64.\\r'</li><li>'Preparing to unpack .../libxcb-shm0-dev_1.13-2~ubuntu18.04_amd64.deb ...\\r'</li><li>'Unpacking libxcb-shm0-dev:amd64 (1.13-2~ubuntu18.04) ...\\r'</li><li>'Selecting previously unselected package libcairo2-dev:amd64.\\r'</li><li>'Preparing to unpack .../libcairo2-dev_1.15.10-2ubuntu0.1_amd64.deb ...\\r'</li><li>'Unpacking libcairo2-dev:amd64 (1.15.10-2ubuntu0.1) ...\\r'</li><li>'Setting up libcairo-script-interpreter2:amd64 (1.15.10-2ubuntu0.1) ...\\r'</li><li>'Setting up libxcb-shm0-dev:amd64 (1.13-2~ubuntu18.04) ...\\r'</li><li>'Setting up libpixman-1-dev:amd64 (0.34.0-2) ...\\r'</li><li>'Setting up libcairo2-dev:amd64 (1.15.10-2ubuntu0.1) ...\\r'</li><li>'Processing triggers for libc-bin (2.27-3ubuntu1.3) ...\\r'</li><li>'/sbin/ldconfig.real: /usr/local/lib/python3.7/dist-packages/ideep4py/lib/libmkldnn.so.0 is not a symbolic link\\r'</li><li>'\\r'</li></ol>\n"
            ]
          },
          "metadata": {}
        }
      ]
    },
    {
      "cell_type": "code",
      "metadata": {
        "id": "sVANztc7hMcO",
        "colab": {
          "base_uri": "https://localhost:8080/"
        },
        "outputId": "47e8e5d6-1dd9-4553-fd1c-6a34a52edb84"
      },
      "source": [
        "install.packages(c('gsl', 'devtools'))\n",
        "install.packages('Cairo')\n",
        "if (!requireNamespace(\"BiocManager\", quietly = TRUE))\n",
        "  install.packages(\"BiocManager\")\n",
        "BiocManager::install(c(\n",
        "  'chromVAR', 'BSgenome.Mmusculus.UCSC.mm10', 'motifmatchr', 'BiocParallel', 'SummarizedExperiment', 'gplots', 'circlize', 'plyr', 'dplyr', \n",
        "  'DESeq2', 'VennDiagram', 'ggwordcloud', 'GenomicRanges', 'umap', 'dbscan'\n",
        "))\n",
        "devtools::install_github(\"GreenleafLab/chromVARmotifs\")\n",
        "devtools::install_github(\"jokergoo/ComplexHeatmap\")\n",
        "devtools::install_github(\"jokergoo/EnrichedHeatmap\")"
      ],
      "execution_count": null,
      "outputs": [
        {
          "output_type": "stream",
          "name": "stderr",
          "text": [
            "Installing packages into ‘/usr/local/lib/R/site-library’\n",
            "(as ‘lib’ is unspecified)\n",
            "\n",
            "Warning message in install.packages(c(\"gsl\", \"devtools\")):\n",
            "“installation of package ‘gsl’ had non-zero exit status”\n",
            "Installing package into ‘/usr/local/lib/R/site-library’\n",
            "(as ‘lib’ is unspecified)\n",
            "\n",
            "Installing package into ‘/usr/local/lib/R/site-library’\n",
            "(as ‘lib’ is unspecified)\n",
            "\n",
            "'getOption(\"repos\")' replaces Bioconductor standard repositories, see\n",
            "'?repositories' for details\n",
            "\n",
            "replacement repositories:\n",
            "    CRAN: https://cran.rstudio.com\n",
            "\n",
            "\n",
            "Bioconductor version 3.14 (BiocManager 1.30.16), R 4.1.2 (2021-11-01)\n",
            "\n",
            "Warning message:\n",
            "“package(s) not installed when version(s) same as current; use `force = TRUE` to\n",
            "  re-install: 'dplyr'”\n",
            "Installing package(s) 'BiocVersion', 'chromVAR',\n",
            "  'BSgenome.Mmusculus.UCSC.mm10', 'motifmatchr', 'BiocParallel',\n",
            "  'SummarizedExperiment', 'gplots', 'circlize', 'plyr', 'DESeq2',\n",
            "  'VennDiagram', 'ggwordcloud', 'GenomicRanges', 'umap', 'dbscan'\n",
            "\n",
            "also installing the dependencies ‘pracma’, ‘R.oo’, ‘R.methodsS3’, ‘rjson’, ‘GenomicAlignments’, ‘reshape2’, ‘poweRlaw’, ‘GO.db’, ‘R.utils’, ‘KEGGREST’, ‘plogr’, ‘BiocIO’, ‘restfulr’, ‘sass’, ‘formatR’, ‘RCurl’, ‘GenomeInfoDbData’, ‘RcppEigen’, ‘CNEr’, ‘DirichletMultinomial’, ‘RSQLite’, ‘rtracklayer’, ‘seqLogo’, ‘TFMPvalue’, ‘XML’, ‘zlibbioc’, ‘bitops’, ‘Rhtslib’, ‘htmlwidgets’, ‘lazyeval’, ‘crosstalk’, ‘promises’, ‘httpuv’, ‘xtable’, ‘fontawesome’, ‘sourcetools’, ‘later’, ‘bslib’, ‘matrixStats’, ‘lambda.r’, ‘futile.options’, ‘AnnotationDbi’, ‘annotate’, ‘here’, ‘IRanges’, ‘GenomeInfoDb’, ‘nabor’, ‘BiocGenerics’, ‘Biostrings’, ‘TFBSTools’, ‘Rsamtools’, ‘S4Vectors’, ‘plotly’, ‘shiny’, ‘miniUI’, ‘DT’, ‘Rtsne’, ‘BSgenome’, ‘RcppArmadillo’, ‘futile.logger’, ‘snow’, ‘BH’, ‘MatrixGenerics’, ‘Biobase’, ‘DelayedArray’, ‘gtools’, ‘caTools’, ‘GlobalOptions’, ‘shape’, ‘genefilter’, ‘locfit’, ‘geneplotter’, ‘png’, ‘XVector’, ‘reticulate’, ‘RSpectra’\n",
            "\n",
            "\n",
            "Old packages: 'IRdisplay', 'IRkernel', 'repr', 'broom', 'gert', 'nlme'\n",
            "\n",
            "Downloading GitHub repo GreenleafLab/chromVARmotifs@HEAD\n",
            "\n"
          ]
        },
        {
          "output_type": "stream",
          "name": "stdout",
          "text": [
            "\n",
            "* checking for file ‘/tmp/RtmpdaqnqK/remotes48f710e65/GreenleafLab-chromVARmotifs-38bed55/DESCRIPTION’ ... OK\n",
            "* preparing ‘chromVARmotifs’:\n",
            "* checking DESCRIPTION meta-information ... OK\n",
            "* checking for LF line-endings in source and make files and shell scripts\n",
            "* checking for empty or unneeded directories\n",
            "* building ‘chromVARmotifs_0.2.0.tar.gz’\n",
            "\n"
          ]
        },
        {
          "output_type": "stream",
          "name": "stderr",
          "text": [
            "Installing package into ‘/usr/local/lib/R/site-library’\n",
            "(as ‘lib’ is unspecified)\n",
            "\n",
            "Downloading GitHub repo jokergoo/ComplexHeatmap@HEAD\n",
            "\n"
          ]
        },
        {
          "output_type": "stream",
          "name": "stdout",
          "text": [
            "iterators  (NA -> 1.0.13) [CRAN]\n",
            "foreach    (NA -> 1.5.1 ) [CRAN]\n",
            "doParallel (NA -> 1.0.16) [CRAN]\n",
            "clue       (NA -> 0.3-60) [CRAN]\n",
            "GetoptLong (NA -> 1.0.5 ) [CRAN]\n"
          ]
        },
        {
          "output_type": "stream",
          "name": "stderr",
          "text": [
            "Installing 5 packages: iterators, foreach, doParallel, clue, GetoptLong\n",
            "\n",
            "Installing packages into ‘/usr/local/lib/R/site-library’\n",
            "(as ‘lib’ is unspecified)\n",
            "\n"
          ]
        },
        {
          "output_type": "stream",
          "name": "stdout",
          "text": [
            "* checking for file ‘/tmp/RtmpdaqnqK/remotes482c2175f0/jokergoo-ComplexHeatmap-826b321/DESCRIPTION’ ... OK\n",
            "* preparing ‘ComplexHeatmap’:\n",
            "* checking DESCRIPTION meta-information ... OK\n",
            "* checking for LF line-endings in source and make files and shell scripts\n",
            "* checking for empty or unneeded directories\n",
            "* building ‘ComplexHeatmap_2.11.1.tar.gz’\n",
            "\n"
          ]
        },
        {
          "output_type": "stream",
          "name": "stderr",
          "text": [
            "Installing package into ‘/usr/local/lib/R/site-library’\n",
            "(as ‘lib’ is unspecified)\n",
            "\n",
            "Downloading GitHub repo jokergoo/EnrichedHeatmap@HEAD\n",
            "\n"
          ]
        },
        {
          "output_type": "stream",
          "name": "stdout",
          "text": [
            "\n",
            "* checking for file ‘/tmp/RtmpdaqnqK/remotes48a60762e/jokergoo-EnrichedHeatmap-de399c5/DESCRIPTION’ ... OK\n",
            "* preparing ‘EnrichedHeatmap’:\n",
            "* checking DESCRIPTION meta-information ... OK\n",
            "* cleaning src\n",
            "* checking for LF line-endings in source and make files and shell scripts\n",
            "* checking for empty or unneeded directories\n",
            "Removed empty directory ‘EnrichedHeatmap/test’\n",
            "* building ‘EnrichedHeatmap_1.23.1.tar.gz’\n",
            "\n"
          ]
        },
        {
          "output_type": "stream",
          "name": "stderr",
          "text": [
            "Installing package into ‘/usr/local/lib/R/site-library’\n",
            "(as ‘lib’ is unspecified)\n",
            "\n"
          ]
        }
      ]
    },
    {
      "cell_type": "code",
      "metadata": {
        "colab": {
          "base_uri": "https://localhost:8080/"
        },
        "id": "WEEU-ZKsqr3_",
        "outputId": "0f2bf965-9536-4ae3-9d8e-74303a491d3e"
      },
      "source": [
        "if (!requireNamespace(\"BiocManager\", quietly = TRUE))\n",
        "  install.packages(\"BiocManager\")\n",
        "BiocManager::install(c(\n",
        "  'BSgenome.Mmusculus.UCSC.mm10'\n",
        "))"
      ],
      "execution_count": null,
      "outputs": [
        {
          "output_type": "stream",
          "name": "stderr",
          "text": [
            "'getOption(\"repos\")' replaces Bioconductor standard repositories, see\n",
            "'?repositories' for details\n",
            "\n",
            "replacement repositories:\n",
            "    CRAN: https://cran.rstudio.com\n",
            "\n",
            "\n",
            "Bioconductor version 3.14 (BiocManager 1.30.16), R 4.1.2 (2021-11-01)\n",
            "\n",
            "Warning message:\n",
            "“package(s) not installed when version(s) same as current; use `force = TRUE` to\n",
            "  re-install: 'BSgenome.Mmusculus.UCSC.mm10'”\n",
            "Old packages: 'EnrichedHeatmap', 'IRdisplay', 'IRkernel', 'repr', 'broom',\n",
            "  'gert', 'nlme'\n",
            "\n"
          ]
        }
      ]
    },
    {
      "cell_type": "code",
      "metadata": {
        "id": "jGU7XpEVhPrf",
        "colab": {
          "base_uri": "https://localhost:8080/"
        },
        "outputId": "125784a2-4275-4cc8-bb67-18b0b2eaca57"
      },
      "source": [
        "library(chromVARmotifs)\n",
        "library(chromVAR)\n",
        "library(BSgenome.Mmusculus.UCSC.mm10)\n",
        "library(motifmatchr)\n",
        "library(BiocParallel)\n",
        "library(SummarizedExperiment)\n",
        "library(gplots)\n",
        "library(circlize)\n",
        "library(ComplexHeatmap)\n",
        "register(MulticoreParam(4)) # Use 8 cores\n",
        "library(plyr)\n",
        "library(dplyr)\n",
        "library(DESeq2)\n",
        "library(VennDiagram)\n",
        "library(ggwordcloud)\n",
        "library(GenomicRanges)\n",
        "library(EnrichedHeatmap)\n",
        "library(umap)\n",
        "library(dbscan)\n",
        "library(reshape2)\n",
        "library(tidyr)\n",
        "library(parallel)"
      ],
      "execution_count": null,
      "outputs": [
        {
          "output_type": "stream",
          "name": "stderr",
          "text": [
            "\n",
            "\n",
            "Loading required package: BSgenome\n",
            "\n",
            "Loading required package: BiocGenerics\n",
            "\n",
            "\n",
            "Attaching package: ‘BiocGenerics’\n",
            "\n",
            "\n",
            "The following objects are masked from ‘package:stats’:\n",
            "\n",
            "    IQR, mad, sd, var, xtabs\n",
            "\n",
            "\n",
            "The following objects are masked from ‘package:base’:\n",
            "\n",
            "    anyDuplicated, append, as.data.frame, basename, cbind, colnames,\n",
            "    dirname, do.call, duplicated, eval, evalq, Filter, Find, get, grep,\n",
            "    grepl, intersect, is.unsorted, lapply, Map, mapply, match, mget,\n",
            "    order, paste, pmax, pmax.int, pmin, pmin.int, Position, rank,\n",
            "    rbind, Reduce, rownames, sapply, setdiff, sort, table, tapply,\n",
            "    union, unique, unsplit, which.max, which.min\n",
            "\n",
            "\n",
            "Loading required package: S4Vectors\n",
            "\n",
            "Loading required package: stats4\n",
            "\n",
            "\n",
            "Attaching package: ‘S4Vectors’\n",
            "\n",
            "\n",
            "The following objects are masked from ‘package:base’:\n",
            "\n",
            "    expand.grid, I, unname\n",
            "\n",
            "\n",
            "Loading required package: IRanges\n",
            "\n",
            "Loading required package: GenomeInfoDb\n",
            "\n",
            "Loading required package: GenomicRanges\n",
            "\n",
            "Loading required package: Biostrings\n",
            "\n",
            "Loading required package: XVector\n",
            "\n",
            "\n",
            "Attaching package: ‘Biostrings’\n",
            "\n",
            "\n",
            "The following object is masked from ‘package:base’:\n",
            "\n",
            "    strsplit\n",
            "\n",
            "\n",
            "Loading required package: rtracklayer\n",
            "\n",
            "Loading required package: MatrixGenerics\n",
            "\n",
            "Loading required package: matrixStats\n",
            "\n",
            "\n",
            "Attaching package: ‘MatrixGenerics’\n",
            "\n",
            "\n",
            "The following objects are masked from ‘package:matrixStats’:\n",
            "\n",
            "    colAlls, colAnyNAs, colAnys, colAvgsPerRowSet, colCollapse,\n",
            "    colCounts, colCummaxs, colCummins, colCumprods, colCumsums,\n",
            "    colDiffs, colIQRDiffs, colIQRs, colLogSumExps, colMadDiffs,\n",
            "    colMads, colMaxs, colMeans2, colMedians, colMins, colOrderStats,\n",
            "    colProds, colQuantiles, colRanges, colRanks, colSdDiffs, colSds,\n",
            "    colSums2, colTabulates, colVarDiffs, colVars, colWeightedMads,\n",
            "    colWeightedMeans, colWeightedMedians, colWeightedSds,\n",
            "    colWeightedVars, rowAlls, rowAnyNAs, rowAnys, rowAvgsPerColSet,\n",
            "    rowCollapse, rowCounts, rowCummaxs, rowCummins, rowCumprods,\n",
            "    rowCumsums, rowDiffs, rowIQRDiffs, rowIQRs, rowLogSumExps,\n",
            "    rowMadDiffs, rowMads, rowMaxs, rowMeans2, rowMedians, rowMins,\n",
            "    rowOrderStats, rowProds, rowQuantiles, rowRanges, rowRanks,\n",
            "    rowSdDiffs, rowSds, rowSums2, rowTabulates, rowVarDiffs, rowVars,\n",
            "    rowWeightedMads, rowWeightedMeans, rowWeightedMedians,\n",
            "    rowWeightedSds, rowWeightedVars\n",
            "\n",
            "\n",
            "Loading required package: Biobase\n",
            "\n",
            "Welcome to Bioconductor\n",
            "\n",
            "    Vignettes contain introductory material; view with\n",
            "    'browseVignettes()'. To cite Bioconductor, see\n",
            "    'citation(\"Biobase\")', and for packages 'citation(\"pkgname\")'.\n",
            "\n",
            "\n",
            "\n",
            "Attaching package: ‘Biobase’\n",
            "\n",
            "\n",
            "The following object is masked from ‘package:MatrixGenerics’:\n",
            "\n",
            "    rowMedians\n",
            "\n",
            "\n",
            "The following objects are masked from ‘package:matrixStats’:\n",
            "\n",
            "    anyMissing, rowMedians\n",
            "\n",
            "\n",
            "\n",
            "Attaching package: ‘gplots’\n",
            "\n",
            "\n",
            "The following object is masked from ‘package:rtracklayer’:\n",
            "\n",
            "    space\n",
            "\n",
            "\n",
            "The following object is masked from ‘package:IRanges’:\n",
            "\n",
            "    space\n",
            "\n",
            "\n",
            "The following object is masked from ‘package:S4Vectors’:\n",
            "\n",
            "    space\n",
            "\n",
            "\n",
            "The following object is masked from ‘package:stats’:\n",
            "\n",
            "    lowess\n",
            "\n",
            "\n",
            "========================================\n",
            "circlize version 0.4.13\n",
            "CRAN page: https://cran.r-project.org/package=circlize\n",
            "Github page: https://github.com/jokergoo/circlize\n",
            "Documentation: https://jokergoo.github.io/circlize_book/book/\n",
            "\n",
            "If you use it in published research, please cite:\n",
            "Gu, Z. circlize implements and enhances circular visualization\n",
            "  in R. Bioinformatics 2014.\n",
            "\n",
            "This message can be suppressed by:\n",
            "  suppressPackageStartupMessages(library(circlize))\n",
            "========================================\n",
            "\n",
            "\n",
            "Loading required package: grid\n",
            "\n",
            "\n",
            "Attaching package: ‘grid’\n",
            "\n",
            "\n",
            "The following object is masked from ‘package:Biostrings’:\n",
            "\n",
            "    pattern\n",
            "\n",
            "\n",
            "========================================\n",
            "ComplexHeatmap version 2.11.1\n",
            "Bioconductor page: http://bioconductor.org/packages/ComplexHeatmap/\n",
            "Github page: https://github.com/jokergoo/ComplexHeatmap\n",
            "Documentation: http://jokergoo.github.io/ComplexHeatmap-reference\n",
            "\n",
            "If you use it in published research, please cite:\n",
            "Gu, Z. Complex heatmaps reveal patterns and correlations in multidimensional \n",
            "  genomic data. Bioinformatics 2016.\n",
            "\n",
            "The new InteractiveComplexHeatmap package can directly export static \n",
            "complex heatmaps into an interactive Shiny app with zero effort. Have a try!\n",
            "\n",
            "This message can be suppressed by:\n",
            "  suppressPackageStartupMessages(library(ComplexHeatmap))\n",
            "========================================\n",
            "\n",
            "\n",
            "\n",
            "Attaching package: ‘plyr’\n",
            "\n",
            "\n",
            "The following object is masked from ‘package:matrixStats’:\n",
            "\n",
            "    count\n",
            "\n",
            "\n",
            "The following object is masked from ‘package:XVector’:\n",
            "\n",
            "    compact\n",
            "\n",
            "\n",
            "The following object is masked from ‘package:IRanges’:\n",
            "\n",
            "    desc\n",
            "\n",
            "\n",
            "The following object is masked from ‘package:S4Vectors’:\n",
            "\n",
            "    rename\n",
            "\n",
            "\n",
            "\n",
            "Attaching package: ‘dplyr’\n",
            "\n",
            "\n",
            "The following objects are masked from ‘package:plyr’:\n",
            "\n",
            "    arrange, count, desc, failwith, id, mutate, rename, summarise,\n",
            "    summarize\n",
            "\n",
            "\n",
            "The following object is masked from ‘package:Biobase’:\n",
            "\n",
            "    combine\n",
            "\n",
            "\n",
            "The following object is masked from ‘package:matrixStats’:\n",
            "\n",
            "    count\n",
            "\n",
            "\n",
            "The following objects are masked from ‘package:Biostrings’:\n",
            "\n",
            "    collapse, intersect, setdiff, setequal, union\n",
            "\n",
            "\n",
            "The following object is masked from ‘package:XVector’:\n",
            "\n",
            "    slice\n",
            "\n",
            "\n",
            "The following objects are masked from ‘package:GenomicRanges’:\n",
            "\n",
            "    intersect, setdiff, union\n",
            "\n",
            "\n",
            "The following object is masked from ‘package:GenomeInfoDb’:\n",
            "\n",
            "    intersect\n",
            "\n",
            "\n",
            "The following objects are masked from ‘package:IRanges’:\n",
            "\n",
            "    collapse, desc, intersect, setdiff, slice, union\n",
            "\n",
            "\n",
            "The following objects are masked from ‘package:S4Vectors’:\n",
            "\n",
            "    first, intersect, rename, setdiff, setequal, union\n",
            "\n",
            "\n",
            "The following objects are masked from ‘package:BiocGenerics’:\n",
            "\n",
            "    combine, intersect, setdiff, union\n",
            "\n",
            "\n",
            "The following objects are masked from ‘package:stats’:\n",
            "\n",
            "    filter, lag\n",
            "\n",
            "\n",
            "The following objects are masked from ‘package:base’:\n",
            "\n",
            "    intersect, setdiff, setequal, union\n",
            "\n",
            "\n",
            "Loading required package: futile.logger\n",
            "\n",
            "Loading required package: ggplot2\n",
            "\n",
            "========================================\n",
            "EnrichedHeatmap version 1.23.1\n",
            "Bioconductor page: http://bioconductor.org/packages/EnrichedHeatmap/\n",
            "Github page: https://github.com/jokergoo/EnrichedHeatmap\n",
            "Documentation: http://bioconductor.org/packages/EnrichedHeatmap/\n",
            "\n",
            "If you use it in published research, please cite:\n",
            "Gu, Z. EnrichedHeatmap: an R/Bioconductor package for comprehensive \n",
            "visualization of genomic signal associations. BMC Genomics 2018.\n",
            "\n",
            "This message can be suppressed by:\n",
            "  suppressPackageStartupMessages(library(EnrichedHeatmap))\n",
            "========================================\n",
            "\n",
            "\n",
            "\n",
            "Attaching package: ‘tidyr’\n",
            "\n",
            "\n",
            "The following object is masked from ‘package:reshape2’:\n",
            "\n",
            "    smiths\n",
            "\n",
            "\n",
            "The following object is masked from ‘package:S4Vectors’:\n",
            "\n",
            "    expand\n",
            "\n",
            "\n"
          ]
        }
      ]
    },
    {
      "cell_type": "markdown",
      "metadata": {
        "id": "nq8aVWO_uhKQ"
      },
      "source": [
        "# **Download metadata and bed files for a unioin Etv2 limb peak set'gr'**"
      ]
    },
    {
      "cell_type": "code",
      "metadata": {
        "id": "NAYIDTZjbUEr"
      },
      "source": [
        "remote_meta_file <- 'https://s3.msi.umn.edu/dsouz072/datasets/dataset=Etv2_Limb_version=20210212a/Limb_Metadata.tsv'\n",
        "local_meta_file <- gsub('https://s3.msi.umn.edu/', './', remote_meta_file)\n",
        "system(sprintf('wget -x -c -nH %s', remote_meta_file))"
      ],
      "execution_count": null,
      "outputs": []
    },
    {
      "cell_type": "code",
      "metadata": {
        "colab": {
          "base_uri": "https://localhost:8080/",
          "height": 410
        },
        "id": "PmCpuG4TbWE-",
        "outputId": "748ac457-d805-4639-a3ca-195477a5f779"
      },
      "source": [
        "meta <- read.table(local_meta_file, header = TRUE, sep = '\\t')\n",
        "head(meta)"
      ],
      "execution_count": null,
      "outputs": [
        {
          "output_type": "display_data",
          "data": {
            "text/plain": [
              "  Name                \n",
              "1 Etv2cKO_10-31-20_S7 \n",
              "2 Etv2cKO_11-07-20_S8 \n",
              "3 Etv2cKO_11-28-20_S9 \n",
              "4 Etv2cKO_12-1-20_S10 \n",
              "5 Etv2cKO_12-9-20_S11 \n",
              "6 LimbWT_1_12-4-20_S12\n",
              "  BAM                                                                                                        \n",
              "1 https://s3.msi.umn.edu/dsouz072/datasets/dataset=Etv2_Limb_version=20210212a/Etv2cKO_10-31-20_S7.dedup.bam \n",
              "2 https://s3.msi.umn.edu/dsouz072/datasets/dataset=Etv2_Limb_version=20210212a/Etv2cKO_11-07-20_S8.dedup.bam \n",
              "3 https://s3.msi.umn.edu/dsouz072/datasets/dataset=Etv2_Limb_version=20210212a/Etv2cKO_11-28-20_S9.dedup.bam \n",
              "4 https://s3.msi.umn.edu/dsouz072/datasets/dataset=Etv2_Limb_version=20210212a/Etv2cKO_12-1-20_S10.dedup.bam \n",
              "5 https://s3.msi.umn.edu/dsouz072/datasets/dataset=Etv2_Limb_version=20210212a/Etv2cKO_12-9-20_S11.dedup.bam \n",
              "6 https://s3.msi.umn.edu/dsouz072/datasets/dataset=Etv2_Limb_version=20210212a/LimbWT_1_12-4-20_S12.dedup.bam\n",
              "  BED                                                                                                                \n",
              "1 https://s3.msi.umn.edu/dsouz072/datasets/dataset=Etv2_Limb_version=20210212a/Etv2cKO_10-31-20_S7.dedup_summits.bed \n",
              "2 https://s3.msi.umn.edu/dsouz072/datasets/dataset=Etv2_Limb_version=20210212a/Etv2cKO_11-07-20_S8.dedup_summits.bed \n",
              "3 https://s3.msi.umn.edu/dsouz072/datasets/dataset=Etv2_Limb_version=20210212a/Etv2cKO_11-28-20_S9.dedup_summits.bed \n",
              "4 https://s3.msi.umn.edu/dsouz072/datasets/dataset=Etv2_Limb_version=20210212a/Etv2cKO_12-1-20_S10.dedup_summits.bed \n",
              "5 https://s3.msi.umn.edu/dsouz072/datasets/dataset=Etv2_Limb_version=20210212a/Etv2cKO_12-9-20_S11.dedup_summits.bed \n",
              "6 https://s3.msi.umn.edu/dsouz072/datasets/dataset=Etv2_Limb_version=20210212a/LimbWT_1_12-4-20_S12.dedup_summits.bed\n",
              "  BigWig                                                                                                                 \n",
              "1 https://s3.msi.umn.edu/dsouz072/datasets/dataset=Etv2_Limb_version=20210212a/Etv2cKO_10-31-20_S7.dedup_treat_pileup.bw \n",
              "2 https://s3.msi.umn.edu/dsouz072/datasets/dataset=Etv2_Limb_version=20210212a/Etv2cKO_11-07-20_S8.dedup_treat_pileup.bw \n",
              "3 https://s3.msi.umn.edu/dsouz072/datasets/dataset=Etv2_Limb_version=20210212a/Etv2cKO_11-28-20_S9.dedup_treat_pileup.bw \n",
              "4 https://s3.msi.umn.edu/dsouz072/datasets/dataset=Etv2_Limb_version=20210212a/Etv2cKO_12-1-20_S10.dedup_treat_pileup.bw \n",
              "5 https://s3.msi.umn.edu/dsouz072/datasets/dataset=Etv2_Limb_version=20210212a/Etv2cKO_12-9-20_S11.dedup_treat_pileup.bw \n",
              "6 https://s3.msi.umn.edu/dsouz072/datasets/dataset=Etv2_Limb_version=20210212a/LimbWT_1_12-4-20_S12.dedup_treat_pileup.bw"
            ],
            "text/latex": "A data.frame: 6 × 4\n\\begin{tabular}{r|llll}\n  & Name & BAM & BED & BigWig\\\\\n  & <chr> & <chr> & <chr> & <chr>\\\\\n\\hline\n\t1 & Etv2cKO\\_10-31-20\\_S7  & https://s3.msi.umn.edu/dsouz072/datasets/dataset=Etv2\\_Limb\\_version=20210212a/Etv2cKO\\_10-31-20\\_S7.dedup.bam  & https://s3.msi.umn.edu/dsouz072/datasets/dataset=Etv2\\_Limb\\_version=20210212a/Etv2cKO\\_10-31-20\\_S7.dedup\\_summits.bed  & https://s3.msi.umn.edu/dsouz072/datasets/dataset=Etv2\\_Limb\\_version=20210212a/Etv2cKO\\_10-31-20\\_S7.dedup\\_treat\\_pileup.bw \\\\\n\t2 & Etv2cKO\\_11-07-20\\_S8  & https://s3.msi.umn.edu/dsouz072/datasets/dataset=Etv2\\_Limb\\_version=20210212a/Etv2cKO\\_11-07-20\\_S8.dedup.bam  & https://s3.msi.umn.edu/dsouz072/datasets/dataset=Etv2\\_Limb\\_version=20210212a/Etv2cKO\\_11-07-20\\_S8.dedup\\_summits.bed  & https://s3.msi.umn.edu/dsouz072/datasets/dataset=Etv2\\_Limb\\_version=20210212a/Etv2cKO\\_11-07-20\\_S8.dedup\\_treat\\_pileup.bw \\\\\n\t3 & Etv2cKO\\_11-28-20\\_S9  & https://s3.msi.umn.edu/dsouz072/datasets/dataset=Etv2\\_Limb\\_version=20210212a/Etv2cKO\\_11-28-20\\_S9.dedup.bam  & https://s3.msi.umn.edu/dsouz072/datasets/dataset=Etv2\\_Limb\\_version=20210212a/Etv2cKO\\_11-28-20\\_S9.dedup\\_summits.bed  & https://s3.msi.umn.edu/dsouz072/datasets/dataset=Etv2\\_Limb\\_version=20210212a/Etv2cKO\\_11-28-20\\_S9.dedup\\_treat\\_pileup.bw \\\\\n\t4 & Etv2cKO\\_12-1-20\\_S10  & https://s3.msi.umn.edu/dsouz072/datasets/dataset=Etv2\\_Limb\\_version=20210212a/Etv2cKO\\_12-1-20\\_S10.dedup.bam  & https://s3.msi.umn.edu/dsouz072/datasets/dataset=Etv2\\_Limb\\_version=20210212a/Etv2cKO\\_12-1-20\\_S10.dedup\\_summits.bed  & https://s3.msi.umn.edu/dsouz072/datasets/dataset=Etv2\\_Limb\\_version=20210212a/Etv2cKO\\_12-1-20\\_S10.dedup\\_treat\\_pileup.bw \\\\\n\t5 & Etv2cKO\\_12-9-20\\_S11  & https://s3.msi.umn.edu/dsouz072/datasets/dataset=Etv2\\_Limb\\_version=20210212a/Etv2cKO\\_12-9-20\\_S11.dedup.bam  & https://s3.msi.umn.edu/dsouz072/datasets/dataset=Etv2\\_Limb\\_version=20210212a/Etv2cKO\\_12-9-20\\_S11.dedup\\_summits.bed  & https://s3.msi.umn.edu/dsouz072/datasets/dataset=Etv2\\_Limb\\_version=20210212a/Etv2cKO\\_12-9-20\\_S11.dedup\\_treat\\_pileup.bw \\\\\n\t6 & LimbWT\\_1\\_12-4-20\\_S12 & https://s3.msi.umn.edu/dsouz072/datasets/dataset=Etv2\\_Limb\\_version=20210212a/LimbWT\\_1\\_12-4-20\\_S12.dedup.bam & https://s3.msi.umn.edu/dsouz072/datasets/dataset=Etv2\\_Limb\\_version=20210212a/LimbWT\\_1\\_12-4-20\\_S12.dedup\\_summits.bed & https://s3.msi.umn.edu/dsouz072/datasets/dataset=Etv2\\_Limb\\_version=20210212a/LimbWT\\_1\\_12-4-20\\_S12.dedup\\_treat\\_pileup.bw\\\\\n\\end{tabular}\n",
            "text/markdown": "\nA data.frame: 6 × 4\n\n| <!--/--> | Name &lt;chr&gt; | BAM &lt;chr&gt; | BED &lt;chr&gt; | BigWig &lt;chr&gt; |\n|---|---|---|---|---|\n| 1 | Etv2cKO_10-31-20_S7  | https://s3.msi.umn.edu/dsouz072/datasets/dataset=Etv2_Limb_version=20210212a/Etv2cKO_10-31-20_S7.dedup.bam  | https://s3.msi.umn.edu/dsouz072/datasets/dataset=Etv2_Limb_version=20210212a/Etv2cKO_10-31-20_S7.dedup_summits.bed  | https://s3.msi.umn.edu/dsouz072/datasets/dataset=Etv2_Limb_version=20210212a/Etv2cKO_10-31-20_S7.dedup_treat_pileup.bw  |\n| 2 | Etv2cKO_11-07-20_S8  | https://s3.msi.umn.edu/dsouz072/datasets/dataset=Etv2_Limb_version=20210212a/Etv2cKO_11-07-20_S8.dedup.bam  | https://s3.msi.umn.edu/dsouz072/datasets/dataset=Etv2_Limb_version=20210212a/Etv2cKO_11-07-20_S8.dedup_summits.bed  | https://s3.msi.umn.edu/dsouz072/datasets/dataset=Etv2_Limb_version=20210212a/Etv2cKO_11-07-20_S8.dedup_treat_pileup.bw  |\n| 3 | Etv2cKO_11-28-20_S9  | https://s3.msi.umn.edu/dsouz072/datasets/dataset=Etv2_Limb_version=20210212a/Etv2cKO_11-28-20_S9.dedup.bam  | https://s3.msi.umn.edu/dsouz072/datasets/dataset=Etv2_Limb_version=20210212a/Etv2cKO_11-28-20_S9.dedup_summits.bed  | https://s3.msi.umn.edu/dsouz072/datasets/dataset=Etv2_Limb_version=20210212a/Etv2cKO_11-28-20_S9.dedup_treat_pileup.bw  |\n| 4 | Etv2cKO_12-1-20_S10  | https://s3.msi.umn.edu/dsouz072/datasets/dataset=Etv2_Limb_version=20210212a/Etv2cKO_12-1-20_S10.dedup.bam  | https://s3.msi.umn.edu/dsouz072/datasets/dataset=Etv2_Limb_version=20210212a/Etv2cKO_12-1-20_S10.dedup_summits.bed  | https://s3.msi.umn.edu/dsouz072/datasets/dataset=Etv2_Limb_version=20210212a/Etv2cKO_12-1-20_S10.dedup_treat_pileup.bw  |\n| 5 | Etv2cKO_12-9-20_S11  | https://s3.msi.umn.edu/dsouz072/datasets/dataset=Etv2_Limb_version=20210212a/Etv2cKO_12-9-20_S11.dedup.bam  | https://s3.msi.umn.edu/dsouz072/datasets/dataset=Etv2_Limb_version=20210212a/Etv2cKO_12-9-20_S11.dedup_summits.bed  | https://s3.msi.umn.edu/dsouz072/datasets/dataset=Etv2_Limb_version=20210212a/Etv2cKO_12-9-20_S11.dedup_treat_pileup.bw  |\n| 6 | LimbWT_1_12-4-20_S12 | https://s3.msi.umn.edu/dsouz072/datasets/dataset=Etv2_Limb_version=20210212a/LimbWT_1_12-4-20_S12.dedup.bam | https://s3.msi.umn.edu/dsouz072/datasets/dataset=Etv2_Limb_version=20210212a/LimbWT_1_12-4-20_S12.dedup_summits.bed | https://s3.msi.umn.edu/dsouz072/datasets/dataset=Etv2_Limb_version=20210212a/LimbWT_1_12-4-20_S12.dedup_treat_pileup.bw |\n\n",
            "text/html": [
              "<table class=\"dataframe\">\n",
              "<caption>A data.frame: 6 × 4</caption>\n",
              "<thead>\n",
              "\t<tr><th></th><th scope=col>Name</th><th scope=col>BAM</th><th scope=col>BED</th><th scope=col>BigWig</th></tr>\n",
              "\t<tr><th></th><th scope=col>&lt;chr&gt;</th><th scope=col>&lt;chr&gt;</th><th scope=col>&lt;chr&gt;</th><th scope=col>&lt;chr&gt;</th></tr>\n",
              "</thead>\n",
              "<tbody>\n",
              "\t<tr><th scope=row>1</th><td>Etv2cKO_10-31-20_S7 </td><td>https://s3.msi.umn.edu/dsouz072/datasets/dataset=Etv2_Limb_version=20210212a/Etv2cKO_10-31-20_S7.dedup.bam </td><td>https://s3.msi.umn.edu/dsouz072/datasets/dataset=Etv2_Limb_version=20210212a/Etv2cKO_10-31-20_S7.dedup_summits.bed </td><td>https://s3.msi.umn.edu/dsouz072/datasets/dataset=Etv2_Limb_version=20210212a/Etv2cKO_10-31-20_S7.dedup_treat_pileup.bw </td></tr>\n",
              "\t<tr><th scope=row>2</th><td>Etv2cKO_11-07-20_S8 </td><td>https://s3.msi.umn.edu/dsouz072/datasets/dataset=Etv2_Limb_version=20210212a/Etv2cKO_11-07-20_S8.dedup.bam </td><td>https://s3.msi.umn.edu/dsouz072/datasets/dataset=Etv2_Limb_version=20210212a/Etv2cKO_11-07-20_S8.dedup_summits.bed </td><td>https://s3.msi.umn.edu/dsouz072/datasets/dataset=Etv2_Limb_version=20210212a/Etv2cKO_11-07-20_S8.dedup_treat_pileup.bw </td></tr>\n",
              "\t<tr><th scope=row>3</th><td>Etv2cKO_11-28-20_S9 </td><td>https://s3.msi.umn.edu/dsouz072/datasets/dataset=Etv2_Limb_version=20210212a/Etv2cKO_11-28-20_S9.dedup.bam </td><td>https://s3.msi.umn.edu/dsouz072/datasets/dataset=Etv2_Limb_version=20210212a/Etv2cKO_11-28-20_S9.dedup_summits.bed </td><td>https://s3.msi.umn.edu/dsouz072/datasets/dataset=Etv2_Limb_version=20210212a/Etv2cKO_11-28-20_S9.dedup_treat_pileup.bw </td></tr>\n",
              "\t<tr><th scope=row>4</th><td>Etv2cKO_12-1-20_S10 </td><td>https://s3.msi.umn.edu/dsouz072/datasets/dataset=Etv2_Limb_version=20210212a/Etv2cKO_12-1-20_S10.dedup.bam </td><td>https://s3.msi.umn.edu/dsouz072/datasets/dataset=Etv2_Limb_version=20210212a/Etv2cKO_12-1-20_S10.dedup_summits.bed </td><td>https://s3.msi.umn.edu/dsouz072/datasets/dataset=Etv2_Limb_version=20210212a/Etv2cKO_12-1-20_S10.dedup_treat_pileup.bw </td></tr>\n",
              "\t<tr><th scope=row>5</th><td>Etv2cKO_12-9-20_S11 </td><td>https://s3.msi.umn.edu/dsouz072/datasets/dataset=Etv2_Limb_version=20210212a/Etv2cKO_12-9-20_S11.dedup.bam </td><td>https://s3.msi.umn.edu/dsouz072/datasets/dataset=Etv2_Limb_version=20210212a/Etv2cKO_12-9-20_S11.dedup_summits.bed </td><td>https://s3.msi.umn.edu/dsouz072/datasets/dataset=Etv2_Limb_version=20210212a/Etv2cKO_12-9-20_S11.dedup_treat_pileup.bw </td></tr>\n",
              "\t<tr><th scope=row>6</th><td>LimbWT_1_12-4-20_S12</td><td>https://s3.msi.umn.edu/dsouz072/datasets/dataset=Etv2_Limb_version=20210212a/LimbWT_1_12-4-20_S12.dedup.bam</td><td>https://s3.msi.umn.edu/dsouz072/datasets/dataset=Etv2_Limb_version=20210212a/LimbWT_1_12-4-20_S12.dedup_summits.bed</td><td>https://s3.msi.umn.edu/dsouz072/datasets/dataset=Etv2_Limb_version=20210212a/LimbWT_1_12-4-20_S12.dedup_treat_pileup.bw</td></tr>\n",
              "</tbody>\n",
              "</table>\n"
            ]
          },
          "metadata": {}
        }
      ]
    },
    {
      "cell_type": "code",
      "metadata": {
        "id": "J6FqRa8NbY_T"
      },
      "source": [
        "meta <- meta[!grepl('Sall|916-', meta$Name),] ##Only keeping the 25 old and 7 new atac seq data "
      ],
      "execution_count": null,
      "outputs": []
    },
    {
      "cell_type": "code",
      "metadata": {
        "colab": {
          "base_uri": "https://localhost:8080/",
          "height": 69
        },
        "id": "3stkWxpRbb9L",
        "outputId": "26598e2e-87b4-4168-e683-3f50e8d8cee2"
      },
      "source": [
        "meta_name <- gsub('-|_S[0-9]+', '', meta$Name)\n",
        "meta_name <- gsub('7[0-9]+_', '', meta_name)\n",
        "meta_name <- gsub('_[0-9]+', '', meta_name)\n",
        "meta_name <- gsub('Etv2_', 'HL_Etv2_', meta_name)\n",
        "meta_name <- gsub('whole_', '', meta_name)\n",
        "meta_name <- gsub('ATAC_GFP','Posterior_E10_5',meta_name)\n",
        "meta_name <- gsub('ATAC_anterior', 'Anterior_E10_5', meta_name)\n",
        "meta_name <- gsub('ATAC', 'HL_E9_5', meta_name)\n",
        "meta_name"
      ],
      "execution_count": null,
      "outputs": [
        {
          "output_type": "display_data",
          "data": {
            "text/plain": [
              " [1] \"Etv2cKO\"             \"Etv2cKO\"             \"Etv2cKO\"            \n",
              " [4] \"Etv2cKO\"             \"Etv2cKO\"             \"LimbWT\"             \n",
              " [7] \"LimbWT\"              \"FL_GFP_neg\"          \"FL_GFP_pos\"         \n",
              "[10] \"HL_GFP_neg\"          \"HL_GFP_pos\"          \"HL_Etv2_het\"        \n",
              "[13] \"HL_Etv2_CKO\"         \"HL_Etv2_het\"         \"HL_Etv2_CKO\"        \n",
              "[16] \"HL_Etv2_CKO\"         \"FL_GFP_neg\"          \"FL_GFP_pos\"         \n",
              "[19] \"HL_GFP_neg\"          \"HL_GFP_pos\"          \"FL_GFP_neg\"         \n",
              "[22] \"FL_GFP_pos\"          \"HL_GFP_neg\"          \"HL_GFP_pos\"         \n",
              "[25] \"Etv2CKO_posteriorHL\" \"Etv2CKO_posteriorHL\" \"WT_HL\"              \n",
              "[28] \"WT_HL\"               \"Anterior_E10_5\"      \"HL_E9_5\"            \n",
              "[31] \"Posterior_E10_5\"     \"WT_LPM_NT1\"         "
            ],
            "text/latex": "\\begin{enumerate*}\n\\item 'Etv2cKO'\n\\item 'Etv2cKO'\n\\item 'Etv2cKO'\n\\item 'Etv2cKO'\n\\item 'Etv2cKO'\n\\item 'LimbWT'\n\\item 'LimbWT'\n\\item 'FL\\_GFP\\_neg'\n\\item 'FL\\_GFP\\_pos'\n\\item 'HL\\_GFP\\_neg'\n\\item 'HL\\_GFP\\_pos'\n\\item 'HL\\_Etv2\\_het'\n\\item 'HL\\_Etv2\\_CKO'\n\\item 'HL\\_Etv2\\_het'\n\\item 'HL\\_Etv2\\_CKO'\n\\item 'HL\\_Etv2\\_CKO'\n\\item 'FL\\_GFP\\_neg'\n\\item 'FL\\_GFP\\_pos'\n\\item 'HL\\_GFP\\_neg'\n\\item 'HL\\_GFP\\_pos'\n\\item 'FL\\_GFP\\_neg'\n\\item 'FL\\_GFP\\_pos'\n\\item 'HL\\_GFP\\_neg'\n\\item 'HL\\_GFP\\_pos'\n\\item 'Etv2CKO\\_posteriorHL'\n\\item 'Etv2CKO\\_posteriorHL'\n\\item 'WT\\_HL'\n\\item 'WT\\_HL'\n\\item 'Anterior\\_E10\\_5'\n\\item 'HL\\_E9\\_5'\n\\item 'Posterior\\_E10\\_5'\n\\item 'WT\\_LPM\\_NT1'\n\\end{enumerate*}\n",
            "text/markdown": "1. 'Etv2cKO'\n2. 'Etv2cKO'\n3. 'Etv2cKO'\n4. 'Etv2cKO'\n5. 'Etv2cKO'\n6. 'LimbWT'\n7. 'LimbWT'\n8. 'FL_GFP_neg'\n9. 'FL_GFP_pos'\n10. 'HL_GFP_neg'\n11. 'HL_GFP_pos'\n12. 'HL_Etv2_het'\n13. 'HL_Etv2_CKO'\n14. 'HL_Etv2_het'\n15. 'HL_Etv2_CKO'\n16. 'HL_Etv2_CKO'\n17. 'FL_GFP_neg'\n18. 'FL_GFP_pos'\n19. 'HL_GFP_neg'\n20. 'HL_GFP_pos'\n21. 'FL_GFP_neg'\n22. 'FL_GFP_pos'\n23. 'HL_GFP_neg'\n24. 'HL_GFP_pos'\n25. 'Etv2CKO_posteriorHL'\n26. 'Etv2CKO_posteriorHL'\n27. 'WT_HL'\n28. 'WT_HL'\n29. 'Anterior_E10_5'\n30. 'HL_E9_5'\n31. 'Posterior_E10_5'\n32. 'WT_LPM_NT1'\n\n\n",
            "text/html": [
              "<style>\n",
              ".list-inline {list-style: none; margin:0; padding: 0}\n",
              ".list-inline>li {display: inline-block}\n",
              ".list-inline>li:not(:last-child)::after {content: \"\\00b7\"; padding: 0 .5ex}\n",
              "</style>\n",
              "<ol class=list-inline><li>'Etv2cKO'</li><li>'Etv2cKO'</li><li>'Etv2cKO'</li><li>'Etv2cKO'</li><li>'Etv2cKO'</li><li>'LimbWT'</li><li>'LimbWT'</li><li>'FL_GFP_neg'</li><li>'FL_GFP_pos'</li><li>'HL_GFP_neg'</li><li>'HL_GFP_pos'</li><li>'HL_Etv2_het'</li><li>'HL_Etv2_CKO'</li><li>'HL_Etv2_het'</li><li>'HL_Etv2_CKO'</li><li>'HL_Etv2_CKO'</li><li>'FL_GFP_neg'</li><li>'FL_GFP_pos'</li><li>'HL_GFP_neg'</li><li>'HL_GFP_pos'</li><li>'FL_GFP_neg'</li><li>'FL_GFP_pos'</li><li>'HL_GFP_neg'</li><li>'HL_GFP_pos'</li><li>'Etv2CKO_posteriorHL'</li><li>'Etv2CKO_posteriorHL'</li><li>'WT_HL'</li><li>'WT_HL'</li><li>'Anterior_E10_5'</li><li>'HL_E9_5'</li><li>'Posterior_E10_5'</li><li>'WT_LPM_NT1'</li></ol>\n"
            ]
          },
          "metadata": {}
        }
      ]
    },
    {
      "cell_type": "code",
      "metadata": {
        "id": "tl3zppNmbysu"
      },
      "source": [
        "s3_bed <- meta$BED\n",
        "names(s3_bed) <- meta_name ##using meta data names that were modified"
      ],
      "execution_count": null,
      "outputs": []
    },
    {
      "cell_type": "code",
      "metadata": {
        "colab": {
          "base_uri": "https://localhost:8080/"
        },
        "id": "zK7INu3tb0wN",
        "outputId": "34d8a4b4-2b2a-41ca-d888-713b427c0f7b"
      },
      "source": [
        "for (i in 1:length(s3_bed)){\n",
        "  sprintf('wget -x -c -nH %s', s3_bed[i]) %>% system()\n",
        "}\n",
        "s3_bed <- gsub('https://s3.msi.umn.edu/', './', s3_bed)\n",
        "message(sprintf('all s3_bed exist: %s', all(file.exists(s3_bed))))"
      ],
      "execution_count": null,
      "outputs": [
        {
          "output_type": "stream",
          "name": "stderr",
          "text": [
            "all s3_bed exist: TRUE\n",
            "\n"
          ]
        }
      ]
    },
    {
      "cell_type": "code",
      "metadata": {
        "id": "1lGI4Laqb2tj"
      },
      "source": [
        "gr_list <- lapply(1:length(s3_bed), function(i){\n",
        "  x <- read.table(s3_bed[i], header = FALSE, sep = '\\t')\n",
        "  gr <- GRanges(seqnames = x[, 1], range = IRanges(x[, 2], x[, 3]), peak_id = x[, 4], score = x[, 5])\n",
        "  gr$source <- names(s3_bed)[i]\n",
        "  gr\n",
        "})"
      ],
      "execution_count": null,
      "outputs": []
    },
    {
      "cell_type": "code",
      "metadata": {
        "colab": {
          "base_uri": "https://localhost:8080/",
          "height": 520
        },
        "id": "xwnu53Zfb4yf",
        "outputId": "dccd145b-469a-42c4-bfe9-e4047e537a60"
      },
      "source": [
        "gr <- Reduce('c', gr_list)\n",
        "gr <- resize(gr, width = 200, fix = 'center')\n",
        "gr0 <- reduce(gr) \n",
        "mm <- as.matrix(findOverlaps(gr, gr0))\n",
        "sp <- split(mm[, 1], list(mm[, 2]))\n",
        "j <- unlist(mclapply(sp, function(i) i[which.max(gr$score[i])], mc.cores = 4))\n",
        "gr <- gr[j]\n",
        "G <- do.call('cbind', lapply(1:length(s3_bed), function(i) gr %over% gr_list[[i]]))\n",
        "gr$group <- G\n",
        "colnames(gr$group) <- names(s3_bed)\n",
        "gr"
      ],
      "execution_count": null,
      "outputs": [
        {
          "output_type": "display_data",
          "data": {
            "text/plain": [
              "GRanges object with 135211 ranges and 4 metadata columns:\n",
              "           seqnames            ranges strand |                peak_id     score\n",
              "              <Rle>         <IRanges>  <Rle> |            <character> <numeric>\n",
              "       [1]     chr1   3191816-3192015      * | /panfs/roc/scratch/d..  11.89920\n",
              "       [2]     chr1   3400047-3400246      * | /panfs/roc/scratch/d..  13.78180\n",
              "       [3]     chr1   3647523-3647722      * | /panfs/roc/scratch/d..  14.78840\n",
              "       [4]     chr1   3649033-3649232      * | /panfs/roc/scratch/d..   5.47637\n",
              "       [5]     chr1   3651338-3651537      * | /panfs/roc/scratch/d..   9.54477\n",
              "       ...      ...               ...    ... .                    ...       ...\n",
              "  [135207]     chrY 90828856-90829055      * | /panfs/roc/scratch/d..  35.17030\n",
              "  [135208]     chrY 90829716-90829915      * | /panfs/roc/scratch/d..   2.15339\n",
              "  [135209]     chrY 90835556-90835755      * | /panfs/roc/scratch/d..   8.03207\n",
              "  [135210]     chrY 90838629-90838828      * | /panfs/roc/scratch/d..   1.99781\n",
              "  [135211]     chrY 90839729-90839928      * | /panfs/roc/scratch/d..   3.50440\n",
              "                    source                 group\n",
              "               <character>              <matrix>\n",
              "       [1]         HL_E9_5 FALSE:FALSE:FALSE:...\n",
              "       [2]      FL_GFP_neg FALSE:FALSE:FALSE:...\n",
              "       [3]      HL_GFP_pos  FALSE:FALSE:TRUE:...\n",
              "       [4]      HL_GFP_pos FALSE:FALSE:FALSE:...\n",
              "       [5]         Etv2cKO  FALSE:FALSE:TRUE:...\n",
              "       ...             ...                   ...\n",
              "  [135207]      FL_GFP_pos  FALSE:FALSE:TRUE:...\n",
              "  [135208]  Anterior_E10_5 FALSE:FALSE:FALSE:...\n",
              "  [135209]      FL_GFP_pos FALSE:FALSE:FALSE:...\n",
              "  [135210]  Anterior_E10_5 FALSE:FALSE:FALSE:...\n",
              "  [135211] Posterior_E10_5 FALSE:FALSE:FALSE:...\n",
              "  -------\n",
              "  seqinfo: 22 sequences from an unspecified genome; no seqlengths"
            ]
          },
          "metadata": {}
        }
      ]
    },
    {
      "cell_type": "code",
      "metadata": {
        "id": "460fZunHb75r"
      },
      "source": [
        " gr <- gr[!seqnames(gr) %in% c('chrM', 'chrY')]"
      ],
      "execution_count": null,
      "outputs": []
    },
    {
      "cell_type": "code",
      "metadata": {
        "id": "8iysY380oKXS",
        "colab": {
          "base_uri": "https://localhost:8080/",
          "height": 520
        },
        "outputId": "9f6d910e-8308-491e-bc8f-65d3efc00219"
      },
      "source": [
        "blacklist_file <- 'https://s3.msi.umn.edu/gongx030/datasets/datasets=blacklists_version=20190827a/mm10.blacklist.bed.gz'\n",
        "blacklist <- blacklist_file %>%\n",
        "  url() %>%\n",
        "  gzcon() %>%\n",
        "  readLines() %>%\n",
        "  textConnection() %>%\n",
        "  read.table(header = TRUE, sep = '\\t')\n",
        "blacklist <- GRanges(seqnames = blacklist[, 1], range = IRanges(blacklist[, 2], blacklist[, 3]))\n",
        "\n",
        "gr <- gr[!gr %over% blacklist]\n",
        "gr"
      ],
      "execution_count": null,
      "outputs": [
        {
          "output_type": "display_data",
          "data": {
            "text/plain": [
              "GRanges object with 134677 ranges and 4 metadata columns:\n",
              "           seqnames              ranges strand |                peak_id\n",
              "              <Rle>           <IRanges>  <Rle> |            <character>\n",
              "       [1]     chr1     3191816-3192015      * | /panfs/roc/scratch/d..\n",
              "       [2]     chr1     3400047-3400246      * | /panfs/roc/scratch/d..\n",
              "       [3]     chr1     3647523-3647722      * | /panfs/roc/scratch/d..\n",
              "       [4]     chr1     3649033-3649232      * | /panfs/roc/scratch/d..\n",
              "       [5]     chr1     3651338-3651537      * | /panfs/roc/scratch/d..\n",
              "       ...      ...                 ...    ... .                    ...\n",
              "  [134673]     chrX 170859281-170859480      * | /panfs/roc/scratch/d..\n",
              "  [134674]     chrX 170862187-170862386      * | /panfs/roc/scratch/d..\n",
              "  [134675]     chrX 170865416-170865615      * | /panfs/roc/scratch/d..\n",
              "  [134676]     chrX 170867099-170867298      * | /panfs/roc/scratch/d..\n",
              "  [134677]     chrX 170881030-170881229      * | /panfs/roc/scratch/d..\n",
              "               score          source                 group\n",
              "           <numeric>     <character>              <matrix>\n",
              "       [1]  11.89920         HL_E9_5 FALSE:FALSE:FALSE:...\n",
              "       [2]  13.78180      FL_GFP_neg FALSE:FALSE:FALSE:...\n",
              "       [3]  14.78840      HL_GFP_pos  FALSE:FALSE:TRUE:...\n",
              "       [4]   5.47637      HL_GFP_pos FALSE:FALSE:FALSE:...\n",
              "       [5]   9.54477         Etv2cKO  FALSE:FALSE:TRUE:...\n",
              "       ...       ...             ...                   ...\n",
              "  [134673]   6.75089  Anterior_E10_5 FALSE:FALSE:FALSE:...\n",
              "  [134674]   5.21909         Etv2cKO   FALSE:TRUE:TRUE:...\n",
              "  [134675]   4.38382         Etv2cKO  TRUE:FALSE:FALSE:...\n",
              "  [134676]   3.76983 Posterior_E10_5 FALSE:FALSE:FALSE:...\n",
              "  [134677] 960.99600  Anterior_E10_5    TRUE:TRUE:TRUE:...\n",
              "  -------\n",
              "  seqinfo: 22 sequences from an unspecified genome; no seqlengths"
            ]
          },
          "metadata": {}
        }
      ]
    },
    {
      "cell_type": "markdown",
      "metadata": {
        "id": "aRQif-Qpu8li"
      },
      "source": [
        "# **Loading motif data and extracting Positional Weight Matrix for Etv2**"
      ]
    },
    {
      "cell_type": "code",
      "metadata": {
        "id": "KSvnVNa386fJ"
      },
      "source": [
        "data(\"homer_pwms\") "
      ],
      "execution_count": null,
      "outputs": []
    },
    {
      "cell_type": "code",
      "metadata": {
        "colab": {
          "base_uri": "https://localhost:8080/",
          "height": 34
        },
        "id": "t7KVfoM_1-R7",
        "outputId": "0604a63c-89ce-4959-9eb8-ef012fef8ac3"
      },
      "source": [
        "names(homer_pwms)[grepl('Etv2', names(homer_pwms))]"
      ],
      "execution_count": null,
      "outputs": [
        {
          "output_type": "display_data",
          "data": {
            "text/plain": [
              "[1] \"Etv2(ETS)/ES-ER71-ChIP-Seq(GSE59402)/Homer(0.967)\""
            ],
            "text/latex": "'Etv2(ETS)/ES-ER71-ChIP-Seq(GSE59402)/Homer(0.967)'",
            "text/markdown": "'Etv2(ETS)/ES-ER71-ChIP-Seq(GSE59402)/Homer(0.967)'",
            "text/html": [
              "'Etv2(ETS)/ES-ER71-ChIP-Seq(GSE59402)/Homer(0.967)'"
            ]
          },
          "metadata": {}
        }
      ]
    },
    {
      "cell_type": "code",
      "metadata": {
        "colab": {
          "base_uri": "https://localhost:8080/",
          "height": 52
        },
        "id": "QMilLrjkfhEv",
        "outputId": "0893ecd2-f64a-4fb0-d234-8cac1c0ff89f"
      },
      "source": [
        "homer_pwms['Etv2(ETS)/ES-ER71-ChIP-Seq(GSE59402)/Homer(0.967)']"
      ],
      "execution_count": null,
      "outputs": [
        {
          "output_type": "display_data",
          "data": {
            "text/plain": [
              "PWMatrixList of length 1\n",
              "names(1): Etv2(ETS)/ES-ER71-ChIP-Seq(GSE59402)/Homer(0.967)"
            ]
          },
          "metadata": {}
        }
      ]
    },
    {
      "cell_type": "code",
      "metadata": {
        "id": "ZfN0zccQ9Dy7"
      },
      "source": [
        "binding_sites <- matchMotifs(\n",
        "homer_pwms['Etv2(ETS)/ES-ER71-ChIP-Seq(GSE59402)/Homer(0.967)'], \n",
        "resize(gr, width = 200, fix = 'center'),\n",
        "genome = BSgenome.Mmusculus.UCSC.mm10,\n",
        "p.cutoff = 5e-05,\n",
        "out = 'positions'\n",
        ")[[1]]"
      ],
      "execution_count": null,
      "outputs": []
    },
    {
      "cell_type": "markdown",
      "metadata": {
        "id": "T3R-QMqKYtnY"
      },
      "source": [
        "This is the binding sites for the Etv2 motifs"
      ]
    },
    {
      "cell_type": "code",
      "metadata": {
        "colab": {
          "base_uri": "https://localhost:8080/",
          "height": 295
        },
        "id": "wMsDZBf1jVnR",
        "outputId": "8f744c85-a2cb-4f15-d252-4d53f351058d"
      },
      "source": [
        "binding_sites"
      ],
      "execution_count": null,
      "outputs": [
        {
          "output_type": "display_data",
          "data": {
            "text/plain": [
              "GRanges object with 8563 ranges and 1 metadata column:\n",
              "         seqnames              ranges strand |     score\n",
              "            <Rle>           <IRanges>  <Rle> | <numeric>\n",
              "     [1]     chr1     4571746-4571757      - |   8.14628\n",
              "     [2]     chr1     4775237-4775248      + |   8.02301\n",
              "     [3]     chr1     4785700-4785711      - |   7.68610\n",
              "     [4]     chr1     4843892-4843903      - |   7.84453\n",
              "     [5]     chr1     6761368-6761379      + |   7.75192\n",
              "     ...      ...                 ...    ... .       ...\n",
              "  [8559]     chrX 170675522-170675533      - |   7.73663\n",
              "  [8560]     chrX 170841992-170842003      + |   7.75203\n",
              "  [8561]     chrX 170854586-170854597      + |   7.75203\n",
              "  [8562]     chrX 170859360-170859371      + |   7.75203\n",
              "  [8563]     chrX 170867276-170867287      + |   7.75203\n",
              "  -------\n",
              "  seqinfo: 22 sequences from an unspecified genome; no seqlengths"
            ]
          },
          "metadata": {}
        }
      ]
    },
    {
      "cell_type": "code",
      "metadata": {
        "colab": {
          "base_uri": "https://localhost:8080/"
        },
        "id": "lT_ymZQSDGPa",
        "outputId": "2fb766f9-c011-4008-9924-0059006c90a2"
      },
      "source": [
        "seqlevels(binding_sites) <- seqlevels(BSgenome.Mmusculus.UCSC.mm10)\n",
        "seqlengths(seqinfo(binding_sites)) <- seqlengths(BSgenome.Mmusculus.UCSC.mm10)\n",
        "genome(seqinfo(binding_sites)) <- providerVersion(BSgenome.Mmusculus.UCSC.mm10)"
      ],
      "execution_count": null,
      "outputs": [
        {
          "output_type": "stream",
          "name": "stderr",
          "text": [
            "Warning message:\n",
            "“  Using providerVersion() on a BSgenome object is deprecated. Please use\n",
            "  'metadata(x)$genome' instead.”\n"
          ]
        }
      ]
    },
    {
      "cell_type": "markdown",
      "metadata": {
        "id": "o4pu0skevGTS"
      },
      "source": [
        "#**Bigwig files that would be used for Enriched Heatmap**"
      ]
    },
    {
      "cell_type": "code",
      "metadata": {
        "id": "OtQ_sju196iR"
      },
      "source": [
        "s3_bw_files <- c(\n",
        "  'E10_5_Posterior' = 'https://s3.msi.umn.edu/dsouz072/datasets/dataset=Etv2_Limb_version=20210212a/ATAC_105_GFP_S32_FE_sorted.bw',\n",
        "  'E9.5_HL' = 'https://s3.msi.umn.edu/dsouz072/datasets/dataset=Etv2_Limb_version=20210212a/ATAC_95_S30_FE_sorted.bw',\n",
        "  'Etv2cKO_E10_25' = 'https://s3.msi.umn.edu/dsouz072/datasets/dataset=Etv2_Limb_version=20210212a/Etv2cKO_E10_25_FE_sorted.bw',\n",
        "  'Etv2_CKO_E10_5' = 'https://s3.msi.umn.edu/dsouz072/datasets/dataset=Etv2_Limb_version=20210212a/Etv2CKO_posteriorHL_FE_sorted.bw',\n",
        "  'WT_E10_25' = 'https://s3.msi.umn.edu/dsouz072/datasets/dataset=Etv2_Limb_version=20210212a/WT_E10_25_FE_sorted.bw',\n",
        "  'FL_GFP_pos_E10_5' = 'https://s3.msi.umn.edu/dsouz072/datasets/dataset=Etv2_Limb_version=20210212a/FL_GFP_pos_E10_5_FE_sorted.bw',\n",
        "  'HL_GFP_pos_E10_5' = 'https://s3.msi.umn.edu/dsouz072/datasets/dataset=Etv2_Limb_version=20210212a/HL_GFP_pos_E10_5_FE_sorted.bw',\n",
        "  'E_10_5_Anterior' = 'https://s3.msi.umn.edu/dsouz072/datasets/dataset=Etv2_Limb_version=20210212a/ATAC_105_anterior_S31_FE_sorted.bw')"
      ],
      "execution_count": null,
      "outputs": []
    },
    {
      "cell_type": "code",
      "metadata": {
        "id": "KCBTv7rgxxl_"
      },
      "source": [
        "for (i in 1:length(s3_bw_files)){\n",
        "  sprintf('wget -x -c -nH %s', s3_bw_files[i]) %>% system()\n",
        "}\n"
      ],
      "execution_count": null,
      "outputs": []
    },
    {
      "cell_type": "code",
      "metadata": {
        "colab": {
          "base_uri": "https://localhost:8080/"
        },
        "id": "XJvrMrbM2rOU",
        "outputId": "25b20f45-c320-44e0-f4c6-ddf797aa4f52"
      },
      "source": [
        "s3_bw_files <- gsub('https://s3.msi.umn.edu/', './', s3_bw_files)\n",
        "message(sprintf('all local_bw_files exist: %s', all(file.exists(s3_bw_files))))"
      ],
      "execution_count": null,
      "outputs": [
        {
          "output_type": "stream",
          "name": "stderr",
          "text": [
            "all local_bw_files exist: TRUE\n",
            "\n"
          ]
        }
      ]
    },
    {
      "cell_type": "markdown",
      "metadata": {
        "id": "e1XopeBOdQ6R"
      },
      "source": [
        "Parameters to be used for generating Normalized matrix"
      ]
    },
    {
      "cell_type": "code",
      "metadata": {
        "id": "PYIZ0hw4EXId"
      },
      "source": [
        "window_size <- 1000L\n",
        "block_size <- 640L"
      ],
      "execution_count": null,
      "outputs": []
    },
    {
      "cell_type": "code",
      "metadata": {
        "colab": {
          "base_uri": "https://localhost:8080/"
        },
        "id": "ebA7mB5BtRz2",
        "outputId": "ecc4740b-8327-439e-eedb-9485ab3f21ab"
      },
      "source": [
        "w <- 25\n",
        "smooth <- FALSE\n",
        "target_width <- 20\n",
        "extend <- 1000\n",
        "target_ratio <- 1 / (2 * extend  / target_width + 1)\n",
        "#extend <- 300L / 2 \n",
        "#target_ratio <- 0\n",
        "sprintf('target_ratio:%.3f', target_ratio) %>% message()"
      ],
      "execution_count": null,
      "outputs": [
        {
          "output_type": "stream",
          "name": "stderr",
          "text": [
            "target_ratio:0.010\n",
            "\n"
          ]
        }
      ]
    },
    {
      "cell_type": "markdown",
      "metadata": {
        "id": "CK-RUd9lj-eI"
      },
      "source": [
        "# Subsetting gr to include the Etv2 binding motif's and then using the true or false matrix in gr to split the enriched heatmap based on H9.5 HL and E10.5 Posterior"
      ]
    },
    {
      "cell_type": "code",
      "metadata": {
        "id": "EunPXifXj-0n"
      },
      "source": [
        "bd <- findOverlaps(gr, binding_sites) ##Finding overlap between union peak set and binding sites\n",
        "bds <- gr[queryHits(bd)]"
      ],
      "execution_count": null,
      "outputs": []
    },
    {
      "cell_type": "code",
      "metadata": {
        "id": "HacqQnG5kDnj"
      },
      "source": [
        "sp2 <- factor(sprintf('%s_%s', bds$group[, 'HL_E9_5'], bds$group[, 'Posterior_E10_5'])) ##Groups based on the rpesence of a peak to be split in enriched heatmap"
      ],
      "execution_count": null,
      "outputs": []
    },
    {
      "cell_type": "markdown",
      "metadata": {
        "id": "Nde700v9IXh1"
      },
      "source": [
        "# LIMB Enhancer dataset from Vista (https://enhancer.lbl.gov) and Limb Enhancer Genie (/https://leg.lbl.gov/)"
      ]
    },
    {
      "cell_type": "markdown",
      "metadata": {
        "id": "wZjdm4kIRuMJ"
      },
      "source": [
        "## Vista"
      ]
    },
    {
      "cell_type": "markdown",
      "metadata": {
        "id": "TFrkVXR1SA3i"
      },
      "source": [
        "Vista looks at different enhancers in Human(hg19) and mouse(mm9). They have an advanced search where you can specifically look at limb enhancers. It gives you data containg chromosome position and sequence. After filtering and getting the crhomosome position, we then need to perform a liftover from mm9 to mm10."
      ]
    },
    {
      "cell_type": "code",
      "metadata": {
        "colab": {
          "base_uri": "https://localhost:8080/",
          "height": 286
        },
        "id": "DTNZJJOmRJjb",
        "outputId": "e5708ddf-364e-4c12-c0fd-f25cac34ee22"
      },
      "source": [
        "enhancer <- 'https://s3.msi.umn.edu/dsouz072/datasets/dataset=Etv2_Limb_version=20210212a/limb_enhancer_mm10.bed' \n",
        "local_enhancer <- gsub('https://s3.msi.umn.edu/', './', enhancer)\n",
        "system(sprintf('wget -x -c -nH %s', enhancer))\n",
        "limb_enhancer <- read.table(local_enhancer, header = FALSE, sep = '\\t')\n",
        "colnames(limb_enhancer) <- c('chr')\n",
        "limb_enhancer <- colsplit(string=limb_enhancer$chr, pattern=\":|-\", names=c(\"chr\", \"start\", \"end\"))\n",
        "head(limb_enhancer)"
      ],
      "execution_count": null,
      "outputs": [
        {
          "output_type": "display_data",
          "data": {
            "text/plain": [
              "  chr  start     end      \n",
              "1 chr1  41274476  41276046\n",
              "2 chr1  75784368  75787445\n",
              "3 chr1  75800898  75805337\n",
              "4 chr1  75882677  75886487\n",
              "5 chr1  92789102  92792922\n",
              "6 chr1 162074031 162077560"
            ],
            "text/latex": "A data.frame: 6 × 3\n\\begin{tabular}{r|lll}\n  & chr & start & end\\\\\n  & <chr> & <int> & <int>\\\\\n\\hline\n\t1 & chr1 &  41274476 &  41276046\\\\\n\t2 & chr1 &  75784368 &  75787445\\\\\n\t3 & chr1 &  75800898 &  75805337\\\\\n\t4 & chr1 &  75882677 &  75886487\\\\\n\t5 & chr1 &  92789102 &  92792922\\\\\n\t6 & chr1 & 162074031 & 162077560\\\\\n\\end{tabular}\n",
            "text/markdown": "\nA data.frame: 6 × 3\n\n| <!--/--> | chr &lt;chr&gt; | start &lt;int&gt; | end &lt;int&gt; |\n|---|---|---|---|\n| 1 | chr1 |  41274476 |  41276046 |\n| 2 | chr1 |  75784368 |  75787445 |\n| 3 | chr1 |  75800898 |  75805337 |\n| 4 | chr1 |  75882677 |  75886487 |\n| 5 | chr1 |  92789102 |  92792922 |\n| 6 | chr1 | 162074031 | 162077560 |\n\n",
            "text/html": [
              "<table class=\"dataframe\">\n",
              "<caption>A data.frame: 6 × 3</caption>\n",
              "<thead>\n",
              "\t<tr><th></th><th scope=col>chr</th><th scope=col>start</th><th scope=col>end</th></tr>\n",
              "\t<tr><th></th><th scope=col>&lt;chr&gt;</th><th scope=col>&lt;int&gt;</th><th scope=col>&lt;int&gt;</th></tr>\n",
              "</thead>\n",
              "<tbody>\n",
              "\t<tr><th scope=row>1</th><td>chr1</td><td> 41274476</td><td> 41276046</td></tr>\n",
              "\t<tr><th scope=row>2</th><td>chr1</td><td> 75784368</td><td> 75787445</td></tr>\n",
              "\t<tr><th scope=row>3</th><td>chr1</td><td> 75800898</td><td> 75805337</td></tr>\n",
              "\t<tr><th scope=row>4</th><td>chr1</td><td> 75882677</td><td> 75886487</td></tr>\n",
              "\t<tr><th scope=row>5</th><td>chr1</td><td> 92789102</td><td> 92792922</td></tr>\n",
              "\t<tr><th scope=row>6</th><td>chr1</td><td>162074031</td><td>162077560</td></tr>\n",
              "</tbody>\n",
              "</table>\n"
            ]
          },
          "metadata": {}
        }
      ]
    },
    {
      "cell_type": "code",
      "metadata": {
        "colab": {
          "base_uri": "https://localhost:8080/",
          "height": 295
        },
        "id": "nk-T1xkdS1pY",
        "outputId": "ba509d28-279c-4c1b-c4fc-2fc75b2ba552"
      },
      "source": [
        "gr_limb <- GRanges(seqnames = limb_enhancer$chr, ranges = IRanges(limb_enhancer$start, limb_enhancer$end))\n",
        "gr_limb"
      ],
      "execution_count": null,
      "outputs": [
        {
          "output_type": "display_data",
          "data": {
            "text/plain": [
              "GRanges object with 175 ranges and 0 metadata columns:\n",
              "        seqnames            ranges strand\n",
              "           <Rle>         <IRanges>  <Rle>\n",
              "    [1]     chr1 41274476-41276046      *\n",
              "    [2]     chr1 75784368-75787445      *\n",
              "    [3]     chr1 75800898-75805337      *\n",
              "    [4]     chr1 75882677-75886487      *\n",
              "    [5]     chr1 92789102-92792922      *\n",
              "    ...      ...               ...    ...\n",
              "  [171]    chr18 68909329-68911841      *\n",
              "  [172]    chr19 58371922-58373062      *\n",
              "  [173]    chr19 59423214-59425570      *\n",
              "  [174]    chr19 60015442-60016837      *\n",
              "  [175]     chrX 13240831-13243993      *\n",
              "  -------\n",
              "  seqinfo: 19 sequences from an unspecified genome; no seqlengths"
            ]
          },
          "metadata": {}
        }
      ]
    },
    {
      "cell_type": "code",
      "metadata": {
        "colab": {
          "base_uri": "https://localhost:8080/",
          "height": 295
        },
        "id": "j-P5Bko8Tg0X",
        "outputId": "9d6a98bb-4721-471f-cf9f-4b0b41a3d17d"
      },
      "source": [
        "le <- findOverlaps(binding_sites, gr_limb)\n",
        "gr_le <- binding_sites[queryHits(le)]\n",
        "gr_le"
      ],
      "execution_count": null,
      "outputs": [
        {
          "output_type": "display_data",
          "data": {
            "text/plain": [
              "GRanges object with 26 ranges and 1 metadata column:\n",
              "       seqnames              ranges strand |     score\n",
              "          <Rle>           <IRanges>  <Rle> | <numeric>\n",
              "   [1]     chr1   75786408-75786419      + |   8.16630\n",
              "   [2]     chr1   75804013-75804024      + |   7.88866\n",
              "   [3]     chr1 192799526-192799537      - |   7.75203\n",
              "   [4]    chr14   24263077-24263088      + |   8.08263\n",
              "   [5]    chr14   73234572-73234583      + |   8.14656\n",
              "   ...      ...                 ...    ... .       ...\n",
              "  [22]     chr8   25545015-25545026      - |   7.88166\n",
              "  [23]     chr8   91713334-91713345      - |   8.37895\n",
              "  [24]     chr8 126826541-126826552      + |   7.96193\n",
              "  [25]     chr9   23011611-23011622      + |   8.05918\n",
              "  [26]     chr9 118980595-118980606      + |   7.69570\n",
              "  -------\n",
              "  seqinfo: 239 sequences from mm10 genome"
            ]
          },
          "metadata": {}
        }
      ]
    },
    {
      "cell_type": "code",
      "metadata": {
        "id": "HkDIan3aWKj6"
      },
      "source": [
        "bs <- as.data.frame(binding_sites)\n",
        "bs$GI <- paste(bs$start, bs$end, sep = '-')\n",
        "bs$GI <- paste(bs$seqnames, bs$GI, sep = ':') #Getting rownames for the countdata matrix in the form chr5:29315455-29315466\n",
        "bs$log <- sp2"
      ],
      "execution_count": null,
      "outputs": []
    },
    {
      "cell_type": "code",
      "metadata": {
        "id": "gO782hIuWtIo"
      },
      "source": [
        "df_le <- as.data.frame(gr_le)\n",
        "df_le$GI <- paste(df_le$start, df_le$end, sep = '-')\n",
        "df_le$GI <- paste(df_le$seqnames, df_le$GI, sep = ':')"
      ],
      "execution_count": null,
      "outputs": []
    },
    {
      "cell_type": "code",
      "metadata": {
        "colab": {
          "base_uri": "https://localhost:8080/",
          "height": 224
        },
        "id": "QyiWBFNVW6RC",
        "outputId": "1573acc6-7d54-4526-effa-3e094492cc25"
      },
      "source": [
        "le_dat<- bs[bs$GI %in% df_le$GI,]\n",
        "le_dat[grepl('FALSE_TRUE', le_dat$log),]"
      ],
      "execution_count": null,
      "outputs": [
        {
          "output_type": "display_data",
          "data": {
            "text/plain": [
              "     seqnames start     end       width strand score   \n",
              "205  chr1      75786408  75786419 12    +      8.166299\n",
              "4226 chr19     59423803  59423814 12    -      8.663834\n",
              "5229 chr3     101398611 101398622 12    +      8.191014\n",
              "6431 chr5     143001323 143001334 12    -      7.982448\n",
              "     GI                       log       \n",
              "205  chr1:75786408-75786419   FALSE_TRUE\n",
              "4226 chr19:59423803-59423814  FALSE_TRUE\n",
              "5229 chr3:101398611-101398622 FALSE_TRUE\n",
              "6431 chr5:143001323-143001334 FALSE_TRUE"
            ],
            "text/latex": "A data.frame: 4 × 8\n\\begin{tabular}{r|llllllll}\n  & seqnames & start & end & width & strand & score & GI & log\\\\\n  & <fct> & <int> & <int> & <int> & <fct> & <dbl> & <chr> & <fct>\\\\\n\\hline\n\t205 & chr1  &  75786408 &  75786419 & 12 & + & 8.166299 & chr1:75786408-75786419   & FALSE\\_TRUE\\\\\n\t4226 & chr19 &  59423803 &  59423814 & 12 & - & 8.663834 & chr19:59423803-59423814  & FALSE\\_TRUE\\\\\n\t5229 & chr3  & 101398611 & 101398622 & 12 & + & 8.191014 & chr3:101398611-101398622 & FALSE\\_TRUE\\\\\n\t6431 & chr5  & 143001323 & 143001334 & 12 & - & 7.982448 & chr5:143001323-143001334 & FALSE\\_TRUE\\\\\n\\end{tabular}\n",
            "text/markdown": "\nA data.frame: 4 × 8\n\n| <!--/--> | seqnames &lt;fct&gt; | start &lt;int&gt; | end &lt;int&gt; | width &lt;int&gt; | strand &lt;fct&gt; | score &lt;dbl&gt; | GI &lt;chr&gt; | log &lt;fct&gt; |\n|---|---|---|---|---|---|---|---|---|\n| 205 | chr1  |  75786408 |  75786419 | 12 | + | 8.166299 | chr1:75786408-75786419   | FALSE_TRUE |\n| 4226 | chr19 |  59423803 |  59423814 | 12 | - | 8.663834 | chr19:59423803-59423814  | FALSE_TRUE |\n| 5229 | chr3  | 101398611 | 101398622 | 12 | + | 8.191014 | chr3:101398611-101398622 | FALSE_TRUE |\n| 6431 | chr5  | 143001323 | 143001334 | 12 | - | 7.982448 | chr5:143001323-143001334 | FALSE_TRUE |\n\n",
            "text/html": [
              "<table class=\"dataframe\">\n",
              "<caption>A data.frame: 4 × 8</caption>\n",
              "<thead>\n",
              "\t<tr><th></th><th scope=col>seqnames</th><th scope=col>start</th><th scope=col>end</th><th scope=col>width</th><th scope=col>strand</th><th scope=col>score</th><th scope=col>GI</th><th scope=col>log</th></tr>\n",
              "\t<tr><th></th><th scope=col>&lt;fct&gt;</th><th scope=col>&lt;int&gt;</th><th scope=col>&lt;int&gt;</th><th scope=col>&lt;int&gt;</th><th scope=col>&lt;fct&gt;</th><th scope=col>&lt;dbl&gt;</th><th scope=col>&lt;chr&gt;</th><th scope=col>&lt;fct&gt;</th></tr>\n",
              "</thead>\n",
              "<tbody>\n",
              "\t<tr><th scope=row>205</th><td>chr1 </td><td> 75786408</td><td> 75786419</td><td>12</td><td>+</td><td>8.166299</td><td>chr1:75786408-75786419  </td><td>FALSE_TRUE</td></tr>\n",
              "\t<tr><th scope=row>4226</th><td>chr19</td><td> 59423803</td><td> 59423814</td><td>12</td><td>-</td><td>8.663834</td><td>chr19:59423803-59423814 </td><td>FALSE_TRUE</td></tr>\n",
              "\t<tr><th scope=row>5229</th><td>chr3 </td><td>101398611</td><td>101398622</td><td>12</td><td>+</td><td>8.191014</td><td>chr3:101398611-101398622</td><td>FALSE_TRUE</td></tr>\n",
              "\t<tr><th scope=row>6431</th><td>chr5 </td><td>143001323</td><td>143001334</td><td>12</td><td>-</td><td>7.982448</td><td>chr5:143001323-143001334</td><td>FALSE_TRUE</td></tr>\n",
              "</tbody>\n",
              "</table>\n"
            ]
          },
          "metadata": {}
        }
      ]
    },
    {
      "cell_type": "code",
      "metadata": {
        "colab": {
          "base_uri": "https://localhost:8080/"
        },
        "id": "nfDtDbS7eKx8",
        "outputId": "b9b499a2-2075-462f-aadb-e0d9c3ead7f7"
      },
      "source": [
        "sprintf('Percent of Limb enhancers Genomic Intervals overlapping just the E10.5 Posterior only cluster: %f', nrow(le_dat[grepl('FALSE_TRUE', le_dat$log),])/nrow(limb_enhancer)*100) %>% message()"
      ],
      "execution_count": null,
      "outputs": [
        {
          "output_type": "stream",
          "name": "stderr",
          "text": [
            "Percent of Limb enhancers Genomic Intervals overlapping just the E10.5 Posterior only cluster: 2.285714\n",
            "\n"
          ]
        }
      ]
    },
    {
      "cell_type": "markdown",
      "metadata": {
        "id": "GF6XaOR6XOu2"
      },
      "source": [
        "## LEG(Limb Enhancer Genie)"
      ]
    },
    {
      "cell_type": "code",
      "metadata": {
        "colab": {
          "base_uri": "https://localhost:8080/",
          "height": 286
        },
        "id": "s6ieoKnTXNum",
        "outputId": "bed285c1-87c5-4180-a971-5f812fbe66f0"
      },
      "source": [
        "leg <- 'https://s3.msi.umn.edu/dsouz072/datasets/dataset=Etv2_Limb_version=20210212a/EnhancerGenieResults.bed'\n",
        "local_leg <- gsub('https://s3.msi.umn.edu/', './', leg)\n",
        "system(sprintf('wget -x -c -nH %s', leg))\n",
        "leg_df <- read.table(local_leg, header = FALSE, sep = '\\t')\n",
        "head(leg_df)"
      ],
      "execution_count": null,
      "outputs": [
        {
          "output_type": "display_data",
          "data": {
            "text/plain": [
              "  V1    V2        V3        V4           V5  V6\n",
              "1 chr15  12513088  12519088 unnamed.2392 925 . \n",
              "2 chr9   41933804  41939804 unnamed.6886 923 . \n",
              "3 chr19  53079626  53082626 unnamed.3584 920 . \n",
              "4 chr19  38296630  38300630 unnamed.3544 919 . \n",
              "5 chr8  102982033 102987033 unnamed.6678 916 . \n",
              "6 chr14  67381348  67385348 unnamed.2232 913 . "
            ],
            "text/latex": "A data.frame: 6 × 6\n\\begin{tabular}{r|llllll}\n  & V1 & V2 & V3 & V4 & V5 & V6\\\\\n  & <chr> & <int> & <int> & <chr> & <int> & <chr>\\\\\n\\hline\n\t1 & chr15 &  12513088 &  12519088 & unnamed.2392 & 925 & .\\\\\n\t2 & chr9  &  41933804 &  41939804 & unnamed.6886 & 923 & .\\\\\n\t3 & chr19 &  53079626 &  53082626 & unnamed.3584 & 920 & .\\\\\n\t4 & chr19 &  38296630 &  38300630 & unnamed.3544 & 919 & .\\\\\n\t5 & chr8  & 102982033 & 102987033 & unnamed.6678 & 916 & .\\\\\n\t6 & chr14 &  67381348 &  67385348 & unnamed.2232 & 913 & .\\\\\n\\end{tabular}\n",
            "text/markdown": "\nA data.frame: 6 × 6\n\n| <!--/--> | V1 &lt;chr&gt; | V2 &lt;int&gt; | V3 &lt;int&gt; | V4 &lt;chr&gt; | V5 &lt;int&gt; | V6 &lt;chr&gt; |\n|---|---|---|---|---|---|---|\n| 1 | chr15 |  12513088 |  12519088 | unnamed.2392 | 925 | . |\n| 2 | chr9  |  41933804 |  41939804 | unnamed.6886 | 923 | . |\n| 3 | chr19 |  53079626 |  53082626 | unnamed.3584 | 920 | . |\n| 4 | chr19 |  38296630 |  38300630 | unnamed.3544 | 919 | . |\n| 5 | chr8  | 102982033 | 102987033 | unnamed.6678 | 916 | . |\n| 6 | chr14 |  67381348 |  67385348 | unnamed.2232 | 913 | . |\n\n",
            "text/html": [
              "<table class=\"dataframe\">\n",
              "<caption>A data.frame: 6 × 6</caption>\n",
              "<thead>\n",
              "\t<tr><th></th><th scope=col>V1</th><th scope=col>V2</th><th scope=col>V3</th><th scope=col>V4</th><th scope=col>V5</th><th scope=col>V6</th></tr>\n",
              "\t<tr><th></th><th scope=col>&lt;chr&gt;</th><th scope=col>&lt;int&gt;</th><th scope=col>&lt;int&gt;</th><th scope=col>&lt;chr&gt;</th><th scope=col>&lt;int&gt;</th><th scope=col>&lt;chr&gt;</th></tr>\n",
              "</thead>\n",
              "<tbody>\n",
              "\t<tr><th scope=row>1</th><td>chr15</td><td> 12513088</td><td> 12519088</td><td>unnamed.2392</td><td>925</td><td>.</td></tr>\n",
              "\t<tr><th scope=row>2</th><td>chr9 </td><td> 41933804</td><td> 41939804</td><td>unnamed.6886</td><td>923</td><td>.</td></tr>\n",
              "\t<tr><th scope=row>3</th><td>chr19</td><td> 53079626</td><td> 53082626</td><td>unnamed.3584</td><td>920</td><td>.</td></tr>\n",
              "\t<tr><th scope=row>4</th><td>chr19</td><td> 38296630</td><td> 38300630</td><td>unnamed.3544</td><td>919</td><td>.</td></tr>\n",
              "\t<tr><th scope=row>5</th><td>chr8 </td><td>102982033</td><td>102987033</td><td>unnamed.6678</td><td>916</td><td>.</td></tr>\n",
              "\t<tr><th scope=row>6</th><td>chr14</td><td> 67381348</td><td> 67385348</td><td>unnamed.2232</td><td>913</td><td>.</td></tr>\n",
              "</tbody>\n",
              "</table>\n"
            ]
          },
          "metadata": {}
        }
      ]
    },
    {
      "cell_type": "code",
      "metadata": {
        "colab": {
          "base_uri": "https://localhost:8080/",
          "height": 295
        },
        "id": "00wLJRqeX4W7",
        "outputId": "247f66b2-a2f6-443b-8e22-f6f2d2353b1d"
      },
      "source": [
        "gr_leg <- GRanges(seqnames = leg_df$V1, ranges = IRanges(leg_df$V2, leg_df$V3))\n",
        "gr_leg"
      ],
      "execution_count": null,
      "outputs": [
        {
          "output_type": "display_data",
          "data": {
            "text/plain": [
              "GRanges object with 984 ranges and 0 metadata columns:\n",
              "        seqnames              ranges strand\n",
              "           <Rle>           <IRanges>  <Rle>\n",
              "    [1]    chr15   12513088-12519088      *\n",
              "    [2]     chr9   41933804-41939804      *\n",
              "    [3]    chr19   53079626-53082626      *\n",
              "    [4]    chr19   38296630-38300630      *\n",
              "    [5]     chr8 102982033-102987033      *\n",
              "    ...      ...                 ...    ...\n",
              "  [980]     chr9   29117807-29119807      *\n",
              "  [981]     chr2 124718955-124720955      *\n",
              "  [982]     chr2 124718955-124720955      *\n",
              "  [983]     chrX 138103026-138105026      *\n",
              "  [984]     chr3   50926706-50928706      *\n",
              "  -------\n",
              "  seqinfo: 20 sequences from an unspecified genome; no seqlengths"
            ]
          },
          "metadata": {}
        }
      ]
    },
    {
      "cell_type": "code",
      "metadata": {
        "colab": {
          "base_uri": "https://localhost:8080/",
          "height": 295
        },
        "id": "NwnZu6j0YASp",
        "outputId": "029839df-dd89-46c0-d6a6-8d3378255591"
      },
      "source": [
        "leg_fo <- findOverlaps(binding_sites, gr_leg)\n",
        "gr_fo <- binding_sites[queryHits(leg_fo)]\n",
        "gr_fo"
      ],
      "execution_count": null,
      "outputs": [
        {
          "output_type": "display_data",
          "data": {
            "text/plain": [
              "GRanges object with 1099 ranges and 1 metadata column:\n",
              "         seqnames              ranges strand |     score\n",
              "            <Rle>           <IRanges>  <Rle> | <numeric>\n",
              "     [1]     chr1     4843892-4843903      - |   7.84453\n",
              "     [2]     chr1   10261299-10261310      - |   8.32767\n",
              "     [3]     chr1   11355645-11355656      + |   7.75578\n",
              "     [4]     chr1   12510496-12510507      + |   7.65710\n",
              "     [5]     chr1   13245882-13245893      - |   8.66383\n",
              "     ...      ...                 ...    ... .       ...\n",
              "  [1095]     chrX 153469344-153469355      - |   7.65710\n",
              "  [1096]     chrX 153469344-153469355      - |   7.65710\n",
              "  [1097]     chrX 153470600-153470611      - |   8.38512\n",
              "  [1098]     chrX 153470600-153470611      - |   8.38512\n",
              "  [1099]     chrX 155208874-155208885      - |   7.68072\n",
              "  -------\n",
              "  seqinfo: 239 sequences from mm10 genome"
            ]
          },
          "metadata": {}
        }
      ]
    },
    {
      "cell_type": "code",
      "metadata": {
        "colab": {
          "base_uri": "https://localhost:8080/",
          "height": 286
        },
        "id": "bs_cEjEfYIAs",
        "outputId": "cbc8f6c3-4c09-4561-c30b-9bdca126b85c"
      },
      "source": [
        "leg_dat <- as.data.frame(gr_fo)\n",
        "leg_dat$GI <- paste(leg_dat$start, leg_dat$end, sep = '-')\n",
        "leg_dat$GI <- paste(leg_dat$seqnames, leg_dat$GI, sep = ':')\n",
        "head(leg_dat)"
      ],
      "execution_count": null,
      "outputs": [
        {
          "output_type": "display_data",
          "data": {
            "text/plain": [
              "  seqnames start    end      width strand score    GI                    \n",
              "1 chr1      4843892  4843903 12    -      7.844530 chr1:4843892-4843903  \n",
              "2 chr1     10261299 10261310 12    -      8.327674 chr1:10261299-10261310\n",
              "3 chr1     11355645 11355656 12    +      7.755781 chr1:11355645-11355656\n",
              "4 chr1     12510496 12510507 12    +      7.657101 chr1:12510496-12510507\n",
              "5 chr1     13245882 13245893 12    -      8.663834 chr1:13245882-13245893\n",
              "6 chr1     14512810 14512821 12    -      8.333966 chr1:14512810-14512821"
            ],
            "text/latex": "A data.frame: 6 × 7\n\\begin{tabular}{r|lllllll}\n  & seqnames & start & end & width & strand & score & GI\\\\\n  & <fct> & <int> & <int> & <int> & <fct> & <dbl> & <chr>\\\\\n\\hline\n\t1 & chr1 &  4843892 &  4843903 & 12 & - & 7.844530 & chr1:4843892-4843903  \\\\\n\t2 & chr1 & 10261299 & 10261310 & 12 & - & 8.327674 & chr1:10261299-10261310\\\\\n\t3 & chr1 & 11355645 & 11355656 & 12 & + & 7.755781 & chr1:11355645-11355656\\\\\n\t4 & chr1 & 12510496 & 12510507 & 12 & + & 7.657101 & chr1:12510496-12510507\\\\\n\t5 & chr1 & 13245882 & 13245893 & 12 & - & 8.663834 & chr1:13245882-13245893\\\\\n\t6 & chr1 & 14512810 & 14512821 & 12 & - & 8.333966 & chr1:14512810-14512821\\\\\n\\end{tabular}\n",
            "text/markdown": "\nA data.frame: 6 × 7\n\n| <!--/--> | seqnames &lt;fct&gt; | start &lt;int&gt; | end &lt;int&gt; | width &lt;int&gt; | strand &lt;fct&gt; | score &lt;dbl&gt; | GI &lt;chr&gt; |\n|---|---|---|---|---|---|---|---|\n| 1 | chr1 |  4843892 |  4843903 | 12 | - | 7.844530 | chr1:4843892-4843903   |\n| 2 | chr1 | 10261299 | 10261310 | 12 | - | 8.327674 | chr1:10261299-10261310 |\n| 3 | chr1 | 11355645 | 11355656 | 12 | + | 7.755781 | chr1:11355645-11355656 |\n| 4 | chr1 | 12510496 | 12510507 | 12 | + | 7.657101 | chr1:12510496-12510507 |\n| 5 | chr1 | 13245882 | 13245893 | 12 | - | 8.663834 | chr1:13245882-13245893 |\n| 6 | chr1 | 14512810 | 14512821 | 12 | - | 8.333966 | chr1:14512810-14512821 |\n\n",
            "text/html": [
              "<table class=\"dataframe\">\n",
              "<caption>A data.frame: 6 × 7</caption>\n",
              "<thead>\n",
              "\t<tr><th></th><th scope=col>seqnames</th><th scope=col>start</th><th scope=col>end</th><th scope=col>width</th><th scope=col>strand</th><th scope=col>score</th><th scope=col>GI</th></tr>\n",
              "\t<tr><th></th><th scope=col>&lt;fct&gt;</th><th scope=col>&lt;int&gt;</th><th scope=col>&lt;int&gt;</th><th scope=col>&lt;int&gt;</th><th scope=col>&lt;fct&gt;</th><th scope=col>&lt;dbl&gt;</th><th scope=col>&lt;chr&gt;</th></tr>\n",
              "</thead>\n",
              "<tbody>\n",
              "\t<tr><th scope=row>1</th><td>chr1</td><td> 4843892</td><td> 4843903</td><td>12</td><td>-</td><td>7.844530</td><td>chr1:4843892-4843903  </td></tr>\n",
              "\t<tr><th scope=row>2</th><td>chr1</td><td>10261299</td><td>10261310</td><td>12</td><td>-</td><td>8.327674</td><td>chr1:10261299-10261310</td></tr>\n",
              "\t<tr><th scope=row>3</th><td>chr1</td><td>11355645</td><td>11355656</td><td>12</td><td>+</td><td>7.755781</td><td>chr1:11355645-11355656</td></tr>\n",
              "\t<tr><th scope=row>4</th><td>chr1</td><td>12510496</td><td>12510507</td><td>12</td><td>+</td><td>7.657101</td><td>chr1:12510496-12510507</td></tr>\n",
              "\t<tr><th scope=row>5</th><td>chr1</td><td>13245882</td><td>13245893</td><td>12</td><td>-</td><td>8.663834</td><td>chr1:13245882-13245893</td></tr>\n",
              "\t<tr><th scope=row>6</th><td>chr1</td><td>14512810</td><td>14512821</td><td>12</td><td>-</td><td>8.333966</td><td>chr1:14512810-14512821</td></tr>\n",
              "</tbody>\n",
              "</table>\n"
            ]
          },
          "metadata": {}
        }
      ]
    },
    {
      "cell_type": "code",
      "metadata": {
        "colab": {
          "base_uri": "https://localhost:8080/",
          "height": 304
        },
        "id": "IFRoYtdnYRPd",
        "outputId": "a188a7f3-742b-4c6a-e08b-916b66971ecd"
      },
      "source": [
        "leg_sub <- bs[bs$GI %in% leg_dat$GI,]\n",
        "nrow(leg_sub[grepl('FALSE_TRUE', leg_sub$log),])\n",
        "head(leg_sub[grepl('FALSE_TRUE', leg_sub$log),])"
      ],
      "execution_count": null,
      "outputs": [
        {
          "output_type": "display_data",
          "data": {
            "text/plain": [
              "[1] 252"
            ],
            "text/latex": "252",
            "text/markdown": "252",
            "text/html": [
              "252"
            ]
          },
          "metadata": {}
        },
        {
          "output_type": "display_data",
          "data": {
            "text/plain": [
              "    seqnames start    end      width strand score    GI                    \n",
              "9   chr1     10261299 10261310 12    -      8.327674 chr1:10261299-10261310\n",
              "16  chr1     13245882 13245893 12    -      8.663834 chr1:13245882-13245893\n",
              "35  chr1     20135274 20135285 12    +      8.598601 chr1:20135274-20135285\n",
              "145 chr1     57076331 57076342 12    -      7.823929 chr1:57076331-57076342\n",
              "149 chr1     57479290 57479301 12    +      8.640968 chr1:57479290-57479301\n",
              "162 chr1     62564433 62564444 12    -      8.070349 chr1:62564433-62564444\n",
              "    log       \n",
              "9   FALSE_TRUE\n",
              "16  FALSE_TRUE\n",
              "35  FALSE_TRUE\n",
              "145 FALSE_TRUE\n",
              "149 FALSE_TRUE\n",
              "162 FALSE_TRUE"
            ],
            "text/latex": "A data.frame: 6 × 8\n\\begin{tabular}{r|llllllll}\n  & seqnames & start & end & width & strand & score & GI & log\\\\\n  & <fct> & <int> & <int> & <int> & <fct> & <dbl> & <chr> & <fct>\\\\\n\\hline\n\t9 & chr1 & 10261299 & 10261310 & 12 & - & 8.327674 & chr1:10261299-10261310 & FALSE\\_TRUE\\\\\n\t16 & chr1 & 13245882 & 13245893 & 12 & - & 8.663834 & chr1:13245882-13245893 & FALSE\\_TRUE\\\\\n\t35 & chr1 & 20135274 & 20135285 & 12 & + & 8.598601 & chr1:20135274-20135285 & FALSE\\_TRUE\\\\\n\t145 & chr1 & 57076331 & 57076342 & 12 & - & 7.823929 & chr1:57076331-57076342 & FALSE\\_TRUE\\\\\n\t149 & chr1 & 57479290 & 57479301 & 12 & + & 8.640968 & chr1:57479290-57479301 & FALSE\\_TRUE\\\\\n\t162 & chr1 & 62564433 & 62564444 & 12 & - & 8.070349 & chr1:62564433-62564444 & FALSE\\_TRUE\\\\\n\\end{tabular}\n",
            "text/markdown": "\nA data.frame: 6 × 8\n\n| <!--/--> | seqnames &lt;fct&gt; | start &lt;int&gt; | end &lt;int&gt; | width &lt;int&gt; | strand &lt;fct&gt; | score &lt;dbl&gt; | GI &lt;chr&gt; | log &lt;fct&gt; |\n|---|---|---|---|---|---|---|---|---|\n| 9 | chr1 | 10261299 | 10261310 | 12 | - | 8.327674 | chr1:10261299-10261310 | FALSE_TRUE |\n| 16 | chr1 | 13245882 | 13245893 | 12 | - | 8.663834 | chr1:13245882-13245893 | FALSE_TRUE |\n| 35 | chr1 | 20135274 | 20135285 | 12 | + | 8.598601 | chr1:20135274-20135285 | FALSE_TRUE |\n| 145 | chr1 | 57076331 | 57076342 | 12 | - | 7.823929 | chr1:57076331-57076342 | FALSE_TRUE |\n| 149 | chr1 | 57479290 | 57479301 | 12 | + | 8.640968 | chr1:57479290-57479301 | FALSE_TRUE |\n| 162 | chr1 | 62564433 | 62564444 | 12 | - | 8.070349 | chr1:62564433-62564444 | FALSE_TRUE |\n\n",
            "text/html": [
              "<table class=\"dataframe\">\n",
              "<caption>A data.frame: 6 × 8</caption>\n",
              "<thead>\n",
              "\t<tr><th></th><th scope=col>seqnames</th><th scope=col>start</th><th scope=col>end</th><th scope=col>width</th><th scope=col>strand</th><th scope=col>score</th><th scope=col>GI</th><th scope=col>log</th></tr>\n",
              "\t<tr><th></th><th scope=col>&lt;fct&gt;</th><th scope=col>&lt;int&gt;</th><th scope=col>&lt;int&gt;</th><th scope=col>&lt;int&gt;</th><th scope=col>&lt;fct&gt;</th><th scope=col>&lt;dbl&gt;</th><th scope=col>&lt;chr&gt;</th><th scope=col>&lt;fct&gt;</th></tr>\n",
              "</thead>\n",
              "<tbody>\n",
              "\t<tr><th scope=row>9</th><td>chr1</td><td>10261299</td><td>10261310</td><td>12</td><td>-</td><td>8.327674</td><td>chr1:10261299-10261310</td><td>FALSE_TRUE</td></tr>\n",
              "\t<tr><th scope=row>16</th><td>chr1</td><td>13245882</td><td>13245893</td><td>12</td><td>-</td><td>8.663834</td><td>chr1:13245882-13245893</td><td>FALSE_TRUE</td></tr>\n",
              "\t<tr><th scope=row>35</th><td>chr1</td><td>20135274</td><td>20135285</td><td>12</td><td>+</td><td>8.598601</td><td>chr1:20135274-20135285</td><td>FALSE_TRUE</td></tr>\n",
              "\t<tr><th scope=row>145</th><td>chr1</td><td>57076331</td><td>57076342</td><td>12</td><td>-</td><td>7.823929</td><td>chr1:57076331-57076342</td><td>FALSE_TRUE</td></tr>\n",
              "\t<tr><th scope=row>149</th><td>chr1</td><td>57479290</td><td>57479301</td><td>12</td><td>+</td><td>8.640968</td><td>chr1:57479290-57479301</td><td>FALSE_TRUE</td></tr>\n",
              "\t<tr><th scope=row>162</th><td>chr1</td><td>62564433</td><td>62564444</td><td>12</td><td>-</td><td>8.070349</td><td>chr1:62564433-62564444</td><td>FALSE_TRUE</td></tr>\n",
              "</tbody>\n",
              "</table>\n"
            ]
          },
          "metadata": {}
        }
      ]
    },
    {
      "cell_type": "markdown",
      "metadata": {
        "id": "DLaWosnGY7mi"
      },
      "source": [
        "Generating a column containing 1 and 0 equivalent to True or False. So leg_dat is the overlapped dataset and contains chromosome position information. If the value in the binding sites chromosome information matches the value in the leg_dat dataframe it would assign a value 1 in the new column 'limb' "
      ]
    },
    {
      "cell_type": "code",
      "metadata": {
        "colab": {
          "base_uri": "https://localhost:8080/",
          "height": 34
        },
        "id": "RcKLPaHpY7D6",
        "outputId": "d881e5e0-0594-418c-bd8c-198aac2e569e"
      },
      "source": [
        "bs$limb <- ifelse(bs$GI %in% leg_dat$GI, 1, 0) ##This column will be used in the heatmap to see the position of the enhancers after clustering the enriched heatmap\n",
        "nrow(bs[bs$limb == 1,]) ##Double checking the count of values assigned 1, needs to be 984"
      ],
      "execution_count": null,
      "outputs": [
        {
          "output_type": "display_data",
          "data": {
            "text/plain": [
              "[1] 998"
            ],
            "text/latex": "998",
            "text/markdown": "998",
            "text/html": [
              "998"
            ]
          },
          "metadata": {}
        }
      ]
    },
    {
      "cell_type": "code",
      "metadata": {
        "colab": {
          "base_uri": "https://localhost:8080/"
        },
        "id": "QdIiQhZGc737",
        "outputId": "d550c07e-9d06-4630-bb05-188d39a54502"
      },
      "source": [
        "sprintf('Percent of Limb enhancers Genomic Intervals from \"Limb Enhancer Genie\" overlapping just the E10.5 Posterior only cluster: %f', nrow(leg_sub[grepl('FALSE_TRUE', leg_sub$log),])/nrow(leg_sub)*100) %>% message()"
      ],
      "execution_count": null,
      "outputs": [
        {
          "output_type": "stream",
          "name": "stderr",
          "text": [
            "Percent of Limb enhancers Genomic Intervals from \"Limb Enhancer Genie\" overlapping just the E10.5 Posterior only cluster: 25.250501\n",
            "\n"
          ]
        }
      ]
    },
    {
      "cell_type": "code",
      "source": [
        "bs$limb"
      ],
      "metadata": {
        "colab": {
          "base_uri": "https://localhost:8080/",
          "height": 156
        },
        "id": "WYThlNGEvSMF",
        "outputId": "b8e44126-26bf-446b-ff25-12078f050a55"
      },
      "execution_count": null,
      "outputs": [
        {
          "output_type": "display_data",
          "data": {
            "text/plain": [
              "   [1] 0 0 0 1 0 0 0 0 1 0 0 0 0 1 1 1 0 0 0 0 0 0 0 0 1 1 0 0 0 0 0 0 0 0 1 0 0\n",
              "  [38] 0 0 0 0 0 0 0 0 0 0 0 0 0 0 0 0 0 0 0 0 0 0 1 0 0 0 0 0 0 0 0 0 1 0 0 0 0\n",
              "  [75] 0 0 0 0 0 0 0 0 0 0 0 0 0 0 0 0 1 1 0 0 0 0 0 0 0 0 0 0 0 0 0 0 0 0 0 0 0\n",
              " [112] 0 0 0 0 0 0 1 0 0 0 0 0 0 0 0 0 0 0 0 1 1 0 1 0 0 0 0 0 0 0 0 0 0 1 0 0 0\n",
              " [149] 1 1 0 0 0 0 0 0 0 0 0 1 0 1 0 0 0 0 0 0 0 0 0 0 0 0 0 1 0 0 0 0 0 0 0 0 0\n",
              " [186] 0 0 0 0 0 0 0 0 0 0 0 0 0 0 0 0 0 0 0 1 1 1 0 1 1 0 0 0 0 0 0 0 0 1 0 0 0\n",
              " [223] 0 0 0 0 0 0 0 0 0 0 0 0 0 0 0 0 0 0 0 0 0 0 0 0 0 0 0 0 0 0 0 0 0 0 1 1 0\n",
              " [260] 0 0 0 0 0 0 0 0 0 0 0 0 0 0 0 1 0 0 0 0 0 1 0 0 0 0 0 0 0 0 0 0 0 0 0 1 0\n",
              " [297] 1 0 0 0 0 0 0 0 0 0 0 0 1 1 0 1 0 0 0 0 0 0 0 0 0 0 0 1 0 1 0 0 0 0 0 0 0\n",
              " [334] 0 0 0 0 0 0 0 0 0 0 0 0 0 0 0 0 0 0 0 0 0 0 0 1 0 0 0 0 1 1 0 0 0 0 0 0 0\n",
              " [371] 0 0 1 0 0 1 1 0 0 0 1 0 0 0 0 0 0 0 0 0 0 0 1 0 0 0 0 0 0 1 1 1 0 0 0 0 0\n",
              " [408] 0 0 0 0 0 0 0 0 0 0 0 1 1 0 0 0 0 0 0 1 0 0 0 0 0 0 0 0 0 0 0 0 0 0 0 0 0\n",
              " [445] 1 0 0 0 1 0 0 0 0 0 0 0 0 1 1 0 0 0 1 1 0 0 0 0 0 0 0 0 0 0 0 0 0 0 0 0 0\n",
              " [482] 0 0 0 0 0 0 0 0 0 0 0 0 0 0 0 0 0 0 0 0 0 0 1 0 0 1 1 1 1 0 0 1 0 0 0 0 0\n",
              " [519] 0 0 0 0 1 0 0 1 0 0 0 0 0 0 0 0 0 0 0 0 1 0 0 0 0 0 0 0 0 0 0 0 0 0 0 0 0\n",
              " [556] 0 0 0 0 0 0 0 0 0 1 0 0 0 0 0 0 0 0 0 0 0 0 0 0 0 0 0 0 0 0 0 0 0 0 0 0 0\n",
              " [593] 0 0 0 0 0 0 0 0 0 0 0 0 0 0 0 0 0 0 0 0 0 0 0 0 0 0 1 0 0 0 0 0 0 0 0 0 1\n",
              " [630] 0 1 1 0 0 0 0 0 0 0 1 1 0 0 0 0 0 0 0 0 0 0 0 0 0 0 0 0 0 0 0 0 0 0 0 0 0\n",
              " [667] 0 0 0 0 0 0 1 1 0 0 1 0 0 0 1 0 1 0 0 0 0 0 0 0 0 0 0 0 0 0 0 0 0 0 0 0 0\n",
              " [704] 0 0 0 0 0 1 1 1 0 0 0 0 0 0 1 0 0 1 0 0 0 1 0 0 0 0 1 0 1 0 0 0 0 1 1 0 0\n",
              " [741] 0 0 0 0 0 0 0 0 0 0 0 0 0 0 0 0 0 0 0 0 0 0 0 0 1 0 0 1 0 0 1 1 0 0 0 0 0\n",
              " [778] 1 0 0 0 0 1 0 0 0 0 0 0 0 0 0 0 0 1 0 0 1 1 0 1 1 0 0 0 0 0 0 0 0 1 0 0 0\n",
              " [815] 0 1 0 0 0 0 0 0 0 1 0 0 0 0 0 0 0 0 0 0 0 0 1 0 0 0 0 0 0 0 1 0 0 0 0 0 0\n",
              " [852] 0 0 0 0 0 0 0 0 0 0 0 0 0 0 0 0 0 0 0 0 0 0 0 0 0 0 0 0 0 0 0 0 1 1 0 0 0\n",
              " [889] 0 0 0 1 0 0 0 0 0 0 0 0 0 0 0 0 0 0 0 0 0 1 0 0 0 0 0 0 0 1 0 0 0 0 0 1 0\n",
              " [926] 0 0 0 0 0 0 0 0 0 0 0 0 1 0 0 0 1 0 0 0 0 1 1 0 1 0 1 1 0 1 1 0 0 0 0 0 0\n",
              " [963] 0 0 0 0 0 0 0 0 0 0 0 0 0 1 0 0 0 0 0 0 0 0 0 0 0 0 0 0 0 0 0 0 0 0 0 0 0\n",
              "[1000] 0 0 0 0 0 0 0 0 0 0 0 0 0 0 0 0 0 0 0 0 0 0 0 0 0 0 0 0 0 1 1 1 0 1 1 0 1\n",
              "[1037] 0 0 0 0 1 0 0 0 0 0 0 1 0 0 0 1 1 0 0 0 0 0 0 1 0 0 1 0 0 1 0 0 0 0 0 0 0\n",
              "[1074] 0 0 0 0 0 0 0 0 0 0 0 0 0 0 0 0 0 0 0 1 0 0 0 0 0 0 0 0 0 0 0 0 0 0 0 0 0\n",
              "[1111] 0 0 0 0 0 0 0 0 0 1 0 0 0 0 0 0 0 0 0 1 0 0 0 0 0 0 0 0 0 1 0 0 0 0 1 0 0\n",
              "[1148] 0 0 0 0 0 0 0 0 0 0 0 0 0 0 1 0 0 0 0 0 0 0 0 0 0 0 0 1 1 1 1 0 1 0 1 0 0\n",
              "[1185] 0 0 0 0 0 0 0 0 0 0 0 0 0 0 0 0 0 0 1 0 0 1 0 0 0 0 0 0 0 0 0 0 0 0 0 0 1\n",
              "[1222] 0 0 1 0 0 0 0 0 0 0 0 1 0 1 0 0 0 0 0 1 0 0 0 0 0 0 0 0 0 0 0 0 0 0 0 0 0\n",
              "[1259] 0 0 0 0 0 0 0 0 1 0 0 0 0 1 0 0 0 0 0 0 0 0 0 0 0 0 0 0 0 0 0 0 0 0 1 0 0\n",
              "[1296] 0 0 0 1 0 1 0 0 0 0 0 0 0 0 0 0 0 0 0 0 1 1 0 0 0 0 0 0 0 0 0 0 0 0 0 0 0\n",
              "[1333] 0 0 0 0 0 0 0 0 0 0 0 0 1 0 1 0 0 0 0 0 0 0 0 0 0 0 0 0 0 0 0 0 1 0 1 0 0\n",
              "[1370] 0 0 0 0 0 1 0 0 0 0 0 0 0 0 0 1 0 0 0 0 0 0 1 0 0 0 0 0 0 0 0 0 0 0 0 0 1\n",
              "[1407] 0 0 0 0 0 0 0 0 0 0 1 0 0 1 1 0 0 0 0 0 0 0 0 0 0 0 0 0 0 0 0 0 0 0 0 0 0\n",
              "[1444] 0 0 0 0 0 0 0 0 0 0 0 0 0 0 0 0 0 0 0 0 0 0 0 0 0 0 0 0 0 0 0 0 0 0 0 0 0\n",
              "[1481] 0 0 0 0 0 0 0 0 0 0 0 0 0 1 0 0 0 1 0 1 0 0 0 0 0 0 0 1 1 0 0 0 1 0 0 0 0\n",
              "[1518] 0 0 0 0 0 0 0 0 0 0 0 0 0 0 0 0 0 0 0 0 0 0 0 0 0 0 0 0 1 0 0 0 0 0 0 0 0\n",
              "[1555] 0 0 0 0 0 0 0 0 0 0 1 0 0 0 0 0 0 0 0 0 0 0 0 0 0 0 0 0 0 0 1 0 0 0 1 0 0\n",
              "[1592] 0 1 0 0 0 0 0 0 1 0 0 1 1 0 0 0 0 0 1 0 0 0 0 0 0 0 0 0 0 0 0 0 0 0 0 0 0\n",
              "[1629] 0 0 0 0 0 0 1 0 0 0 0 0 0 0 1 0 0 1 0 0 0 0 0 0 0 0 0 0 0 0 0 0 0 0 0 0 0\n",
              "[1666] 0 0 0 0 0 0 0 0 0 0 0 1 1 1 0 0 1 0 0 0 0 0 0 0 0 0 0 0 0 1 0 0 0 0 0 0 0\n",
              "[1703] 0 0 0 0 1 0 0 0 0 0 0 0 0 0 0 0 0 0 0 0 0 0 0 1 1 0 0 1 0 0 0 1 0 0 0 0 1\n",
              "[1740] 0 0 0 0 0 0 0 0 0 0 0 0 0 0 0 0 0 0 0 0 0 0 0 0 0 0 0 0 0 0 0 0 0 0 0 1 0\n",
              "[1777] 0 0 0 0 0 0 0 0 0 0 0 0 1 1 1 0 0 1 0 0 0 0 0 0 0 0 0 1 0 1 0 0 0 0 0 0 0\n",
              "[1814] 0 0 0 0 0 0 0 0 0 0 0 0 1 0 0 0 0 0 0 0 0 0 0 0 0 0 0 1 0 0 1 0 1 0 0 0 0\n",
              "[1851] 0 0 0 0 0 0 0 0 0 0 0 0 0 0 0 0 0 0 0 0 0 0 0 0 0 0 0 0 0 0 0 0 0 0 0 0 0\n",
              "[1888] 0 0 0 0 0 0 1 0 0 0 0 1 0 0 0 0 0 0 1 0 0 0 0 1 0 0 0 0 0 0 0 0 0 0 0 0 0\n",
              "[1925] 0 0 0 0 0 0 0 0 0 0 0 0 0 0 0 0 0 0 0 0 0 0 0 0 0 1 1 0 0 0 0 0 0 0 0 0 0\n",
              "[1962] 0 0 0 0 1 0 0 1 0 0 0 0 0 0 0 0 0 0 0 0 0 0 0 0 0 0 0 0 0 0 1 0 0 0 0 0 0\n",
              "[1999] 0 0 0 0 0 0 0 0 0 0 0 0 0 0 1 1 0 0 1 0 0 0 0 0 0 0 0 0 0 0 0 1 0 0 0 0 0\n",
              "[2036] 0 0 0 0 1 0 0 0 1 1 0 1 1 0 1 1 0 0 0 1 1 0 0 0 1 0 0 1 0 1 0 0 0 1 0 0 0\n",
              "[2073] 0 0 0 0 0 1 1 1 1 0 0 0 0 0 0 0 0 0 0 0 0 0 1 1 0 0 0 1 0 1 0 1 0 0 0 0 0\n",
              "[2110] 0 0 0 0 0 0 0 0 0 0 0 0 1 0 0 0 0 1 0 0 1 0 0 0 0 0 0 0 0 0 0 0 0 0 0 0 0\n",
              "[2147] 1 0 1 1 0 0 0 0 0 0 0 0 0 0 0 0 0 0 0 0 0 0 0 0 0 0 0 0 0 0 0 0 0 0 0 1 0\n",
              "[2184] 0 0 0 1 0 0 1 0 0 0 0 0 0 0 0 0 0 0 0 0 0 0 0 1 0 0 0 0 0 0 1 0 1 0 1 0 0\n",
              "[2221] 0 0 0 1 1 0 0 1 0 0 0 0 0 0 0 0 0 1 0 0 0 1 0 0 0 0 0 0 0 0 0 0 0 0 0 0 0\n",
              "[2258] 0 0 0 0 0 0 0 0 0 0 0 0 0 0 1 0 0 0 0 0 0 0 0 0 0 0 0 0 0 0 1 0 0 0 0 0 1\n",
              "[2295] 0 0 0 0 0 0 0 1 0 0 0 0 0 0 0 1 0 0 0 0 0 0 0 0 0 0 0 0 0 0 0 0 0 0 0 1 0\n",
              "[2332] 0 0 0 0 0 0 0 0 0 0 0 0 0 0 0 0 0 0 0 0 0 0 0 0 0 0 0 0 0 0 0 0 0 0 0 0 0\n",
              "[2369] 0 0 0 0 0 0 0 0 0 0 0 0 0 0 0 0 0 0 0 0 0 0 0 0 0 0 0 0 0 0 0 0 0 0 0 0 0\n",
              "[2406] 0 0 0 0 0 0 0 0 1 1 0 1 1 1 0 0 0 0 0 0 0 0 0 0 0 0 0 0 0 0 0 0 0 1 1 0 0\n",
              "[2443] 0 0 0 0 0 0 0 0 0 0 0 0 0 0 0 1 1 1 0 1 0 0 0 0 0 0 1 0 1 0 0 0 0 0 1 1 0\n",
              "[2480] 0 0 1 0 0 0 0 0 0 0 1 1 1 0 0 0 0 1 1 1 0 0 0 0 0 0 0 0 0 0 0 0 0 0 0 0 1\n",
              "[2517] 0 0 0 0 0 0 0 0 0 0 0 0 0 0 0 0 0 0 0 1 0 1 0 0 0 0 0 0 0 0 0 0 0 0 0 0 0\n",
              "[2554] 0 0 0 0 0 0 0 0 0 0 0 0 0 0 0 0 0 1 1 0 0 0 0 0 1 0 0 0 0 0 0 0 0 0 0 0 1\n",
              "[2591] 0 0 0 0 0 1 0 0 0 0 0 0 0 0 0 0 1 0 0 0 0 0 0 0 0 0 0 0 0 0 0 0 0 0 0 1 1\n",
              "[2628] 0 0 0 0 1 0 0 0 1 1 0 0 0 0 0 0 0 0 0 0 0 1 0 0 0 0 0 0 0 0 1 0 0 0 0 0 1\n",
              "[2665] 0 0 0 0 0 0 1 0 0 0 0 0 0 0 0 0 0 0 0 0 0 0 0 0 0 0 0 1 0 0 0 0 0 0 0 0 0\n",
              "[2702] 0 0 0 0 0 0 0 0 0 0 0 1 0 0 0 0 0 0 0 0 1 0 0 0 0 1 0 0 0 0 0 1 1 0 0 0 0\n",
              "[2739] 0 0 0 1 0 0 0 0 0 0 0 0 0 0 0 1 0 0 0 0 0 0 0 0 0 0 0 0 0 1 0 0 0 0 0 1 0\n",
              "[2776] 1 0 0 0 0 0 0 0 0 0 0 0 0 0 0 0 0 0 0 0 0 0 0 0 0 0 0 0 0 0 0 1 0 0 1 0 0\n",
              "[2813] 0 0 1 0 0 0 0 0 0 0 0 0 0 0 0 0 0 0 0 0 0 0 0 1 0 0 1 0 0 0 0 0 0 0 0 0 0\n",
              "[2850] 0 1 1 0 0 0 0 0 0 0 0 1 0 1 1 1 0 0 0 0 0 0 0 0 1 1 0 0 0 0 0 1 0 0 1 0 0\n",
              "[2887] 0 0 0 0 0 0 0 0 0 1 1 1 0 0 0 0 0 0 0 0 0 0 0 0 0 0 0 0 0 1 0 0 0 0 0 0 0\n",
              "[2924] 0 0 1 0 0 0 0 0 0 0 0 1 0 0 0 0 0 0 0 0 0 1 0 0 0 1 1 0 0 0 0 0 0 0 0 0 1\n",
              "[2961] 0 0 0 0 0 0 0 0 0 0 0 0 0 0 0 0 0 0 0 0 0 0 0 0 0 0 0 0 0 0 0 0 0 0 0 0 0\n",
              "[2998] 0 0 0 0 0 0 0 0 0 0 0 0 0 0 1 0 0 0 0 0 0 0 0 0 0 1 0 0 0 0 0 0 0 0 0 0 0\n",
              "[3035] 0 0 0 0 0 0 0 0 0 0 0 0 0 0 0 0 0 0 0 0 0 0 0 0 0 0 0 0 0 0 0 0 0 0 0 0 0\n",
              "[3072] 0 0 0 0 0 0 0 1 0 0 0 0 0 0 0 0 0 0 0 0 0 0 0 0 0 0 0 0 0 0 0 0 0 0 0 0 0\n",
              "[3109] 0 0 1 0 0 0 0 0 0 0 0 0 0 1 0 0 0 0 0 0 0 1 0 0 0 1 0 0 0 0 0 0 0 1 0 0 1\n",
              "[3146] 0 1 0 0 0 1 1 0 0 0 1 0 0 0 0 0 0 0 0 0 0 0 0 0 0 0 0 0 0 0 0 0 0 0 0 0 1\n",
              "[3183] 1 0 0 0 0 0 0 1 0 0 0 0 0 0 0 0 0 0 1 1 0 1 0 0 0 1 1 0 0 0 0 0 0 0 0 1 0\n",
              "[3220] 0 0 0 0 0 1 1 1 0 1 0 0 0 0 1 0 0 0 0 0 1 1 0 0 0 0 0 0 0 0 0 0 0 0 0 0 0\n",
              "[3257] 0 0 0 0 0 0 1 0 0 0 0 0 0 0 0 0 0 0 0 0 1 0 0 0 0 0 0 0 1 1 0 0 0 1 0 0 0\n",
              "[3294] 0 0 0 0 0 0 0 0 0 0 0 0 0 0 1 0 0 0 0 0 0 0 0 0 0 0 0 0 1 0 0 0 0 0 0 0 0\n",
              "[3331] 0 0 0 0 0 0 0 0 0 0 0 0 0 0 0 0 0 0 0 1 0 0 0 0 0 0 0 0 0 0 0 0 0 0 0 1 1\n",
              "[3368] 0 0 0 0 0 0 0 0 0 0 1 1 0 0 0 0 0 0 0 0 0 0 0 0 0 0 0 0 0 0 0 0 0 0 0 0 0\n",
              "[3405] 0 0 0 0 0 0 0 0 0 0 0 0 0 0 0 0 0 0 0 0 0 0 0 0 0 0 0 0 0 0 0 0 0 0 0 0 0\n",
              "[3442] 0 0 0 0 0 0 1 1 1 0 0 0 0 0 0 1 0 0 0 0 0 0 0 0 0 0 0 0 0 0 1 0 0 0 0 0 0\n",
              "[3479] 0 0 0 0 0 0 1 0 0 0 0 0 0 0 0 0 0 0 0 0 0 0 0 0 0 0 0 0 0 0 0 0 0 0 0 0 0\n",
              "[3516] 0 0 0 0 0 0 0 0 0 0 0 0 0 0 0 0 0 0 0 0 0 0 0 0 0 0 1 1 0 0 0 0 1 1 0 0 0\n",
              "[3553] 0 0 0 0 0 0 0 0 0 0 0 0 0 0 0 1 0 0 0 0 0 1 1 0 0 0 0 0 1 0 1 0 0 0 0 0 0\n",
              "[3590] 0 0 0 0 0 0 0 0 0 0 0 0 0 0 0 0 0 0 0 0 0 0 0 0 0 0 0 0 0 0 0 0 0 0 0 1 1\n",
              "[3627] 0 1 0 0 0 0 1 0 0 0 0 0 0 1 0 0 0 0 0 1 1 0 0 0 0 0 0 0 0 0 0 0 0 0 0 0 0\n",
              "[3664] 0 0 0 0 0 0 0 0 0 0 0 0 1 0 0 0 0 0 1 0 0 0 0 0 0 0 0 0 0 0 0 0 0 0 0 0 0\n",
              "[3701] 0 0 0 0 0 0 0 0 0 0 0 0 0 0 0 0 0 1 0 1 0 1 0 0 0 0 0 1 1 0 0 0 0 0 0 0 0\n",
              "[3738] 0 0 0 0 0 0 0 0 0 0 0 1 0 0 0 0 0 0 0 0 0 0 1 1 1 0 1 0 1 0 0 0 0 0 0 0 1\n",
              "[3775] 0 1 1 0 0 0 0 0 0 0 0 0 0 1 0 0 0 0 0 0 0 0 0 1 0 0 0 0 0 0 0 1 0 0 0 0 0\n",
              "[3812] 1 0 0 0 0 0 0 0 0 0 0 0 0 0 0 0 1 0 0 0 1 1 0 0 0 0 0 0 0 0 0 0 0 0 0 0 0\n",
              "[3849] 0 0 0 0 0 1 0 0 0 0 1 1 0 0 0 0 1 1 0 0 0 0 0 0 1 0 1 0 0 1 0 0 1 0 0 0 0\n",
              "[3886] 0 1 0 0 0 0 0 0 0 0 0 0 0 0 0 0 0 1 0 0 0 0 0 0 0 0 0 0 0 0 0 0 0 1 1 0 1\n",
              "[3923] 0 0 0 0 1 0 1 1 1 0 0 0 0 0 0 0 0 0 0 0 1 0 0 0 0 0 1 0 0 1 1 0 0 0 0 0 0\n",
              "[3960] 0 0 1 1 0 0 0 0 0 0 0 0 0 0 0 1 0 0 0 0 0 1 0 0 0 0 0 0 0 0 0 0 0 0 0 0 0\n",
              "[3997] 0 0 0 0 0 0 0 0 0 0 0 0 0 0 0 0 0 0 0 0 0 0 0 0 0 0 0 0 0 0 0 0 0 0 0 0 0\n",
              "[4034] 0 0 0 0 1 0 0 0 0 0 0 0 0 0 0 0 0 0 0 0 0 0 0 0 1 0 0 0 0 0 1 1 0 0 0 0 0\n",
              "[4071] 0 1 0 0 1 0 0 0 0 0 0 0 0 1 1 0 0 0 0 0 0 0 0 0 0 1 1 0 0 0 0 0 0 0 0 0 0\n",
              "[4108] 0 0 0 0 0 0 0 0 0 0 0 0 0 0 0 0 0 1 0 1 0 0 0 0 0 0 0 0 0 0 0 1 0 0 0 0 1\n",
              "[4145] 0 1 0 0 0 0 0 0 0 0 0 0 0 0 0 0 1 1 1 0 0 0 0 0 0 1 0 0 1 0 0 0 0 0 0 0 0\n",
              "[4182] 0 0 0 0 0 1 0 0 0 0 0 0 0 0 1 0 0 0 1 0 0 0 0 0 0 1 1 1 0 0 1 0 0 1 0 0 0\n",
              "[4219] 0 0 1 0 0 0 0 0 0 0 1 0 0 0 0 0 0 0 0 0 1 1 0 0 0 0 1 0 0 0 0 0 0 0 0 0 0\n",
              "[4256] 0 0 0 0 0 0 0 0 0 0 0 0 0 0 0 0 0 0 0 0 0 0 0 0 0 0 0 0 1 0 0 1 0 0 0 0 1\n",
              "[4293] 0 0 0 1 0 0 0 0 0 0 0 0 0 0 0 0 0 0 0 0 0 0 0 0 0 0 0 0 0 0 0 0 0 1 1 0 0\n",
              "[4330] 0 1 0 0 0 0 0 0 0 0 0 0 0 0 0 0 0 0 0 0 0 1 0 1 0 0 0 0 0 0 0 0 0 0 0 0 0\n",
              "[4367] 1 0 0 0 0 0 0 1 0 0 0 0 0 1 0 0 1 0 0 0 0 0 0 0 0 0 1 0 0 0 0 0 0 0 0 0 0\n",
              "[4404] 0 1 0 0 0 0 0 0 0 0 0 0 0 0 0 0 0 0 0 0 0 0 0 0 0 0 0 0 0 0 0 0 0 1 0 1 1\n",
              "[4441] 0 1 1 0 0 0 0 0 0 0 0 0 0 0 0 0 0 1 0 0 0 1 0 0 0 0 0 0 0 1 0 0 1 0 0 0 0\n",
              "[4478] 0 0 0 0 0 0 0 0 0 1 0 0 0 0 0 0 0 0 0 0 0 0 0 0 0 0 0 0 0 0 0 0 0 0 0 0 0\n",
              "[4515] 0 0 0 1 1 0 0 1 1 1 0 1 1 0 1 1 0 0 0 0 0 0 0 0 0 0 0 0 1 0 0 0 0 0 0 0 0\n",
              "[4552] 0 0 0 0 0 1 0 0 0 0 0 0 0 0 0 0 0 0 0 0 1 0 0 0 0 0 0 0 0 1 0 0 0 0 0 0 0\n",
              "[4589] 0 0 0 0 0 0 0 0 0 0 0 0 0 0 0 0 1 1 0 1 0 0 0 0 0 0 0 0 0 0 0 0 0 0 0 0 0\n",
              "[4626] 0 0 0 0 0 0 1 0 1 0 0 0 0 0 0 0 0 0 0 0 1 0 0 0 0 0 0 0 0 0 0 0 0 0 0 0 0\n",
              "[4663] 1 1 0 1 0 0 0 0 0 0 0 0 0 0 0 0 0 0 0 0 0 0 0 0 0 1 1 0 0 0 0 0 0 0 1 0 0\n",
              "[4700] 0 0 0 0 0 0 0 0 0 0 0 0 0 0 0 0 0 0 0 0 0 0 0 0 0 0 0 0 0 0 0 0 0 0 0 0 1\n",
              "[4737] 0 1 0 0 0 0 0 0 0 0 0 0 0 0 0 0 0 0 0 0 0 0 0 0 0 0 1 1 0 0 0 0 0 0 0 1 0\n",
              "[4774] 0 0 0 0 0 0 0 1 1 0 0 0 0 0 0 0 1 1 0 0 0 0 0 0 1 0 0 1 0 0 0 0 0 0 0 0 1\n",
              "[4811] 0 0 0 0 0 0 0 0 1 0 0 0 0 0 0 0 0 0 0 0 1 0 0 0 0 0 0 1 0 1 0 0 0 0 1 0 0\n",
              "[4848] 0 0 0 0 0 0 0 0 0 0 0 0 0 0 0 0 0 0 1 0 0 0 1 1 1 0 1 0 0 0 0 0 1 1 0 0 0\n",
              "[4885] 0 0 0 0 0 0 1 0 1 0 0 0 0 0 0 0 0 0 0 0 0 0 0 0 0 0 0 0 0 0 0 0 0 0 0 0 0\n",
              "[4922] 0 0 0 0 0 0 0 0 0 0 0 0 0 0 0 0 0 0 0 0 0 0 1 1 0 0 0 1 1 0 0 0 0 0 0 0 0\n",
              "[4959] 0 0 0 0 0 0 0 0 0 0 0 0 1 0 0 0 0 0 0 0 0 0 0 0 0 0 0 0 0 0 1 1 0 1 0 1 0\n",
              "[4996] 0 0 0 0 0 0 0 0 0 0 0 0 0 0 0 0 0 0 0 0 1 0 0 0 0 0 1 0 0 0 1 0 0 0 0 0 0\n",
              "[5033] 0 0 0 0 1 1 0 0 0 0 0 0 0 0 0 0 0 0 0 1 0 0 0 1 0 0 0 0 0 0 0 0 1 0 0 0 0\n",
              "[5070] 0 0 0 0 0 0 0 0 0 0 0 0 0 0 0 0 0 0 1 0 0 0 0 0 1 0 1 0 0 0 0 0 0 0 0 0 0\n",
              "[5107] 1 0 0 0 0 0 0 0 0 0 0 0 0 0 0 0 0 0 0 0 0 0 0 0 1 0 0 0 0 0 0 0 1 1 0 0 0\n",
              "[5144] 0 0 0 0 0 0 0 0 0 0 0 0 0 1 1 0 1 1 0 0 0 0 0 0 0 0 0 0 0 0 0 0 0 0 0 0 0\n",
              "[5181] 0 0 0 0 0 0 0 0 0 0 0 0 0 0 0 0 0 0 0 0 0 0 0 1 0 0 0 1 0 1 0 0 0 0 1 0 0\n",
              "[5218] 0 0 0 0 1 0 1 1 0 0 1 1 0 0 0 0 0 0 0 0 0 0 1 0 0 0 0 0 1 0 0 0 1 0 0 0 0\n",
              "[5255] 0 0 0 1 0 0 0 0 0 0 0 0 0 0 0 1 0 0 0 0 1 0 0 0 1 0 0 0 1 0 0 0 0 0 0 0 0\n",
              "[5292] 0 0 0 0 0 0 1 0 0 0 1 1 0 0 0 0 1 0 0 0 0 1 0 0 1 0 1 1 0 0 0 0 0 0 0 0 0\n",
              "[5329] 0 0 0 0 0 0 0 0 0 0 0 0 0 0 0 0 1 0 0 0 0 0 0 0 0 0 0 0 0 0 1 1 0 1 0 0 0\n",
              "[5366] 0 0 0 0 0 0 0 0 0 0 0 0 0 0 0 1 0 0 0 0 0 0 0 0 0 0 1 0 1 1 0 0 1 0 0 1 0\n",
              "[5403] 0 0 0 0 0 1 0 0 0 0 0 0 0 0 1 0 0 0 0 0 0 0 0 0 0 0 0 0 0 0 0 0 0 0 0 0 0\n",
              "[5440] 0 0 0 0 0 0 0 0 0 0 0 0 0 0 1 0 0 0 1 0 0 0 0 1 0 0 0 0 0 0 0 0 0 0 0 0 0\n",
              "[5477] 0 0 0 0 0 0 0 0 0 0 1 0 0 0 0 0 0 0 0 0 0 0 1 0 1 0 1 0 0 1 0 1 1 1 0 1 1\n",
              "[5514] 1 0 0 1 0 0 0 1 0 1 0 0 0 0 1 1 0 0 0 0 0 0 0 0 0 0 0 0 0 0 0 0 0 0 0 0 0\n",
              "[5551] 0 0 0 0 0 0 0 0 0 1 1 0 0 0 0 0 0 1 0 0 0 0 0 0 0 0 1 0 0 0 0 0 0 0 1 0 0\n",
              "[5588] 0 0 0 0 1 1 0 1 0 0 0 0 0 0 0 0 0 0 1 0 0 0 0 1 1 0 0 0 0 0 0 0 0 1 1 0 0\n",
              "[5625] 1 0 0 0 0 0 0 0 0 0 0 1 0 0 0 0 0 0 0 0 0 0 0 0 0 0 0 1 1 0 0 0 0 0 1 0 0\n",
              "[5662] 0 0 0 0 0 0 0 0 1 0 0 0 0 0 0 0 0 0 0 0 1 0 0 0 1 0 0 1 0 0 0 1 0 0 0 0 0\n",
              "[5699] 1 1 1 0 0 1 1 0 0 1 0 0 0 0 0 0 0 0 0 0 0 0 0 0 0 0 0 1 0 1 0 0 1 1 0 0 0\n",
              "[5736] 1 0 0 0 0 0 0 0 0 0 0 0 1 0 0 0 0 0 0 0 0 0 0 0 0 0 0 0 1 0 0 0 0 0 0 0 0\n",
              "[5773] 0 0 0 0 0 0 0 0 0 0 0 0 0 0 0 0 0 0 0 0 0 0 0 0 0 0 0 0 0 1 0 0 0 0 0 0 0\n",
              "[5810] 0 0 0 0 0 0 0 0 0 0 0 0 1 1 0 0 0 0 1 0 0 0 0 0 1 1 0 1 0 0 1 0 0 0 0 0 0\n",
              "[5847] 0 0 0 0 0 0 0 0 0 0 0 0 0 0 0 1 1 0 0 0 1 0 0 0 0 0 1 0 0 0 0 0 0 0 0 0 1\n",
              "[5884] 0 0 0 0 0 0 0 0 0 0 0 0 0 0 1 0 0 0 0 0 0 0 0 0 0 0 0 0 0 0 0 0 0 0 0 0 0\n",
              "[5921] 0 0 0 0 0 0 0 0 0 0 0 0 0 0 0 0 1 0 0 0 0 0 0 0 0 0 1 1 1 0 0 0 0 0 0 0 0\n",
              "[5958] 0 0 0 0 0 0 0 0 0 1 1 0 1 1 1 1 0 0 1 0 0 0 0 0 0 0 0 0 0 0 0 0 0 0 0 0 0\n",
              "[5995] 0 0 0 0 0 0 0 0 0 0 0 0 0 0 0 0 0 0 0 0 0 0 0 0 0 0 0 0 0 0 0 0 0 0 0 0 1\n",
              "[6032] 0 1 0 0 0 1 0 0 0 0 0 1 0 0 0 0 0 0 0 0 0 0 0 0 0 0 0 0 0 1 0 0 1 0 0 0 0\n",
              "[6069] 0 0 0 0 0 0 0 0 0 0 0 0 0 0 0 0 0 1 0 0 0 0 0 0 0 0 0 0 0 0 0 0 0 0 0 1 0\n",
              "[6106] 1 1 0 0 0 0 1 0 0 1 0 0 0 0 0 0 0 1 0 0 0 0 0 0 0 1 0 0 0 0 0 0 1 0 0 0 0\n",
              "[6143] 0 1 0 0 0 0 0 0 0 0 0 0 0 0 0 0 0 0 0 0 1 1 0 0 0 0 0 0 0 0 0 0 0 0 0 0 0\n",
              "[6180] 1 0 0 1 0 0 1 0 0 0 0 0 0 0 0 0 0 0 0 1 0 1 0 0 1 0 0 0 0 0 0 0 0 0 0 0 0\n",
              "[6217] 0 0 0 0 0 0 0 0 0 0 0 0 0 0 0 0 0 0 0 0 0 0 0 1 0 0 0 0 0 0 0 0 1 0 0 0 0\n",
              "[6254] 0 0 0 0 0 1 0 0 0 0 0 0 0 0 0 1 0 0 0 0 0 1 0 0 0 0 1 0 0 0 0 0 0 0 0 0 0\n",
              "[6291] 0 0 0 0 0 0 0 0 0 1 0 0 0 0 0 1 0 0 0 0 0 0 0 0 0 1 0 0 0 1 0 0 0 0 0 0 0\n",
              "[6328] 0 0 0 0 1 0 0 0 0 0 0 0 0 0 0 0 1 0 0 0 0 0 0 0 0 0 0 0 0 0 0 0 0 0 0 0 0\n",
              "[6365] 0 1 0 0 0 0 0 0 0 0 1 0 0 0 0 0 0 0 0 1 0 0 0 0 0 0 0 1 0 0 0 0 0 0 0 0 0\n",
              "[6402] 0 0 0 0 0 0 0 0 0 0 0 0 0 0 0 0 0 0 0 0 0 0 0 0 0 0 0 0 0 1 0 0 0 0 0 0 0\n",
              "[6439] 0 0 0 0 0 0 0 1 0 0 0 0 0 0 0 0 0 0 0 0 0 0 0 0 0 0 0 0 0 0 0 0 0 0 0 0 0\n",
              "[6476] 0 0 0 0 0 0 0 0 0 0 0 0 0 1 1 0 0 0 0 1 1 0 1 0 0 0 0 0 0 1 0 0 0 0 0 0 0\n",
              "[6513] 0 0 0 0 0 0 0 0 0 0 1 0 0 0 0 1 1 0 0 1 0 1 0 0 0 0 0 0 0 0 0 0 0 0 0 0 0\n",
              "[6550] 0 0 0 0 0 0 0 0 0 1 0 0 0 0 0 1 1 0 0 0 0 0 0 1 0 0 1 0 0 0 0 0 0 0 0 0 0\n",
              "[6587] 0 0 0 0 0 0 0 0 0 0 0 0 0 0 1 0 0 0 0 0 0 0 0 0 0 0 0 1 0 0 0 0 1 1 0 0 0\n",
              "[6624] 0 0 0 0 0 0 0 0 0 0 0 0 0 0 0 0 0 0 0 0 0 1 0 0 0 1 0 0 0 0 0 0 0 0 0 0 0\n",
              "[6661] 0 0 0 0 0 0 0 0 0 0 0 0 0 0 0 0 0 1 0 0 0 1 0 0 0 1 0 0 0 0 0 0 0 0 0 0 0\n",
              "[6698] 0 0 0 0 0 0 0 0 0 0 1 1 0 0 0 0 0 0 0 0 0 0 0 0 0 0 0 0 0 0 0 0 0 0 0 0 0\n",
              "[6735] 1 0 0 0 0 0 0 1 0 0 0 1 1 0 0 0 0 0 0 0 0 0 0 0 0 0 0 0 1 0 0 1 1 0 0 1 0\n",
              "[6772] 0 1 1 0 0 1 1 0 1 0 0 0 1 0 0 0 0 0 0 0 0 0 0 1 0 0 0 1 0 0 0 0 0 0 0 0 0\n",
              "[6809] 0 0 0 0 0 0 0 0 1 0 0 0 0 0 0 1 0 1 0 0 0 0 0 0 0 0 1 0 0 0 0 0 0 0 1 0 1\n",
              "[6846] 0 0 0 0 0 0 0 1 0 0 0 1 0 0 0 0 0 0 0 0 0 0 0 0 0 0 0 0 0 0 0 0 0 0 0 0 0\n",
              "[6883] 0 0 0 1 0 1 0 0 0 0 0 0 0 0 0 0 0 0 0 0 0 0 0 0 0 0 1 0 0 0 0 0 1 0 0 0 0\n",
              "[6920] 0 0 0 0 0 1 1 0 0 1 0 0 0 0 0 0 0 0 0 0 0 0 0 0 0 0 0 0 0 0 0 0 0 0 0 0 0\n",
              "[6957] 0 0 0 0 1 0 0 0 0 0 0 0 0 0 0 0 0 0 0 0 0 0 0 0 0 0 0 0 0 0 0 0 0 0 0 0 0\n",
              "[6994] 0 0 1 0 0 0 0 0 0 0 0 0 0 0 0 0 0 0 0 0 0 0 0 0 0 0 0 0 0 0 0 0 0 0 0 0 0\n",
              "[7031] 0 0 0 0 0 0 0 0 0 0 0 0 0 0 0 0 0 0 0 0 0 0 0 0 0 0 0 0 1 0 0 1 0 0 0 0 0\n",
              "[7068] 0 0 0 0 0 0 0 0 1 0 0 0 1 1 0 0 1 0 0 0 0 0 0 0 0 0 0 0 0 0 0 0 0 0 0 0 0\n",
              "[7105] 0 0 0 0 0 0 0 0 0 0 0 0 0 0 0 0 0 0 0 0 0 0 0 1 0 0 0 0 0 0 0 0 0 0 0 0 0\n",
              "[7142] 0 0 0 0 0 0 0 1 0 0 0 0 0 0 1 1 1 1 0 1 0 1 1 0 0 0 0 0 0 0 0 0 0 1 1 1 0\n",
              "[7179] 0 0 1 1 0 0 0 0 0 0 0 0 0 0 0 0 0 0 0 0 0 0 0 0 0 1 0 0 0 0 1 0 0 0 1 0 0\n",
              "[7216] 1 0 0 0 0 0 0 0 0 0 0 0 0 1 0 0 0 0 0 0 0 0 0 0 0 0 0 0 0 0 0 0 0 0 0 0 0\n",
              "[7253] 0 0 0 0 0 0 0 0 0 0 0 0 0 0 0 0 0 0 0 0 0 0 0 0 0 0 0 0 0 0 0 0 0 0 0 0 1\n",
              "[7290] 0 0 0 1 0 0 0 0 0 0 0 0 0 0 0 0 1 0 0 0 0 0 0 0 0 0 0 0 0 1 1 1 0 0 0 0 0\n",
              "[7327] 0 1 1 0 1 0 0 0 0 0 0 1 0 0 1 0 1 0 0 0 0 0 0 0 0 0 0 1 0 0 0 0 0 0 0 0 0\n",
              "[7364] 0 0 1 0 0 0 0 0 0 0 0 0 0 0 0 0 0 0 0 0 0 0 0 0 0 0 0 0 0 0 0 0 1 0 0 1 0\n",
              "[7401] 0 0 0 0 1 0 0 0 0 0 1 0 0 0 0 0 1 1 1 0 1 0 0 0 0 0 0 0 0 0 0 0 0 0 0 0 1\n",
              "[7438] 0 0 0 0 0 0 0 0 0 0 0 0 0 0 0 0 0 0 1 0 0 0 0 0 0 0 0 0 0 0 0 0 0 0 0 0 0\n",
              "[7475] 0 0 0 0 1 0 0 0 0 1 1 0 0 1 1 0 0 1 0 0 0 0 0 0 0 0 0 0 0 0 0 0 0 0 0 0 0\n",
              "[7512] 0 0 0 0 0 0 0 0 0 0 0 0 0 0 0 0 0 0 0 0 0 0 1 1 1 0 0 0 0 0 0 0 0 0 0 0 0\n",
              "[7549] 0 0 0 1 1 0 0 0 0 0 0 0 0 1 0 0 0 0 0 0 0 0 0 1 0 0 0 0 0 0 0 0 0 0 0 0 0\n",
              "[7586] 0 0 0 0 0 0 1 0 0 1 1 1 0 0 0 0 0 0 0 0 0 0 0 0 0 0 0 0 0 0 0 0 0 0 0 0 0\n",
              "[7623] 0 0 0 0 0 0 0 1 0 0 0 0 0 0 0 0 0 0 1 1 0 0 0 0 0 0 0 0 0 0 0 0 0 0 0 0 0\n",
              "[7660] 0 0 0 0 0 0 0 0 1 0 0 0 0 0 0 0 1 0 0 0 0 0 0 0 0 0 0 0 0 0 0 0 0 0 1 0 0\n",
              "[7697] 0 0 0 0 0 0 0 0 0 0 1 0 0 0 0 0 0 0 0 0 0 0 0 0 1 0 0 0 0 0 0 0 0 0 0 0 0\n",
              "[7734] 0 0 0 0 0 1 0 0 0 1 1 1 1 0 0 0 0 0 0 0 1 0 0 0 0 0 0 0 0 0 0 0 0 0 0 0 0\n",
              "[7771] 0 0 0 0 1 0 0 0 0 0 1 1 0 0 0 0 0 0 0 0 0 0 0 0 0 0 0 1 0 0 0 0 0 0 0 0 1\n",
              "[7808] 0 0 1 1 0 0 0 1 0 0 0 0 0 0 0 0 1 0 0 0 0 0 0 0 0 0 0 0 0 0 0 1 0 0 0 0 1\n",
              "[7845] 0 0 0 0 0 0 0 0 0 0 0 0 0 0 0 0 0 0 0 0 0 0 0 0 0 0 0 0 0 0 1 0 0 0 0 1 0\n",
              "[7882] 1 1 0 0 0 0 1 1 0 0 0 0 0 0 0 0 0 0 0 0 0 0 0 0 0 0 0 0 1 0 0 0 0 0 0 0 0\n",
              "[7919] 1 0 0 1 0 0 0 0 0 0 0 0 0 0 0 0 0 0 0 0 0 0 0 0 0 1 0 0 0 0 0 1 1 0 0 0 0\n",
              "[7956] 1 0 0 0 0 1 0 0 0 0 0 0 0 0 0 0 0 1 0 1 0 1 0 0 0 0 0 0 0 1 1 0 0 0 0 0 0\n",
              "[7993] 0 0 0 0 1 0 0 1 0 0 0 0 1 0 0 1 0 0 0 0 0 1 1 0 0 0 0 1 0 0 0 0 1 0 0 0 0\n",
              "[8030] 0 0 0 0 0 0 0 0 0 1 0 0 0 0 0 1 0 0 1 0 0 0 0 0 0 0 0 1 0 0 1 0 1 0 0 0 0\n",
              "[8067] 0 0 0 0 0 0 0 0 0 0 0 0 0 1 0 0 0 0 0 0 0 0 0 0 1 1 0 0 0 0 0 0 0 0 0 0 0\n",
              "[8104] 0 0 0 0 0 1 0 0 1 0 0 1 0 0 0 0 0 0 0 0 0 0 0 0 0 0 0 0 0 1 1 0 0 0 0 1 0\n",
              "[8141] 0 0 0 0 0 0 0 0 0 0 1 1 1 0 0 0 0 1 0 0 0 0 0 0 0 0 0 0 0 0 0 0 0 1 0 0 0\n",
              "[8178] 0 0 0 0 1 0 0 0 0 0 0 0 0 0 0 0 0 0 0 0 0 0 0 1 0 0 0 0 0 0 0 0 0 0 0 0 0\n",
              "[8215] 0 0 0 0 0 0 0 0 0 0 0 0 0 0 0 0 0 0 0 1 0 0 0 0 0 0 0 0 0 0 0 0 0 0 0 0 0\n",
              "[8252] 0 0 0 0 0 0 0 0 0 0 0 0 0 0 0 0 0 0 0 0 0 0 0 0 0 0 0 0 0 0 0 0 0 0 0 0 0\n",
              "[8289] 0 0 0 1 0 0 0 0 0 0 0 0 0 0 0 0 0 0 0 0 0 0 0 0 0 1 1 0 1 1 0 0 0 0 0 0 0\n",
              "[8326] 0 0 0 0 1 1 1 0 0 0 0 0 0 0 0 1 1 0 0 0 0 0 0 0 0 0 0 0 0 0 0 0 0 0 0 0 0\n",
              "[8363] 0 0 0 0 0 0 0 0 0 0 0 0 0 0 0 0 0 0 0 1 0 0 0 0 0 0 0 0 0 1 1 0 1 0 1 0 0\n",
              "[8400] 0 0 0 0 0 0 0 0 0 1 1 1 0 0 0 0 0 1 1 1 1 1 1 0 0 0 1 1 0 0 1 0 0 0 0 0 1\n",
              "[8437] 1 0 0 0 0 0 0 0 0 0 0 1 0 0 0 0 0 0 0 0 0 1 0 1 1 0 0 0 0 0 0 0 0 0 0 0 0\n",
              "[8474] 0 0 0 0 0 0 0 0 0 0 0 0 0 0 0 0 0 0 0 0 0 0 0 0 0 1 0 0 1 0 1 0 0 0 1 1 0\n",
              "[8511] 0 0 0 1 0 0 0 0 0 0 0 1 1 0 1 0 0 0 0 0 0 0 0 0 0 0 0 0 0 0 0 0 0 0 0 0 0\n",
              "[8548] 0 0 0 0 0 0 0 0 0 0 0 0 0 0 0 0"
            ],
            "text/latex": "\\begin{enumerate*}\n\\item 0\n\\item 0\n\\item 0\n\\item 1\n\\item 0\n\\item 0\n\\item 0\n\\item 0\n\\item 1\n\\item 0\n\\item 0\n\\item 0\n\\item 0\n\\item 1\n\\item 1\n\\item 1\n\\item 0\n\\item 0\n\\item 0\n\\item 0\n\\item 0\n\\item 0\n\\item 0\n\\item 0\n\\item 1\n\\item 1\n\\item 0\n\\item 0\n\\item 0\n\\item 0\n\\item 0\n\\item 0\n\\item 0\n\\item 0\n\\item 1\n\\item 0\n\\item 0\n\\item 0\n\\item 0\n\\item 0\n\\item 0\n\\item 0\n\\item 0\n\\item 0\n\\item 0\n\\item 0\n\\item 0\n\\item 0\n\\item 0\n\\item 0\n\\item 0\n\\item 0\n\\item 0\n\\item 0\n\\item 0\n\\item 0\n\\item 0\n\\item 0\n\\item 0\n\\item 1\n\\item 0\n\\item 0\n\\item 0\n\\item 0\n\\item 0\n\\item 0\n\\item 0\n\\item 0\n\\item 0\n\\item 1\n\\item 0\n\\item 0\n\\item 0\n\\item 0\n\\item 0\n\\item 0\n\\item 0\n\\item 0\n\\item 0\n\\item 0\n\\item 0\n\\item 0\n\\item 0\n\\item 0\n\\item 0\n\\item 0\n\\item 0\n\\item 0\n\\item 0\n\\item 0\n\\item 1\n\\item 1\n\\item 0\n\\item 0\n\\item 0\n\\item 0\n\\item 0\n\\item 0\n\\item 0\n\\item 0\n\\item 0\n\\item 0\n\\item 0\n\\item 0\n\\item 0\n\\item 0\n\\item 0\n\\item 0\n\\item 0\n\\item 0\n\\item 0\n\\item 0\n\\item 0\n\\item 0\n\\item 0\n\\item 0\n\\item 0\n\\item 1\n\\item 0\n\\item 0\n\\item 0\n\\item 0\n\\item 0\n\\item 0\n\\item 0\n\\item 0\n\\item 0\n\\item 0\n\\item 0\n\\item 0\n\\item 1\n\\item 1\n\\item 0\n\\item 1\n\\item 0\n\\item 0\n\\item 0\n\\item 0\n\\item 0\n\\item 0\n\\item 0\n\\item 0\n\\item 0\n\\item 0\n\\item 1\n\\item 0\n\\item 0\n\\item 0\n\\item 1\n\\item 1\n\\item 0\n\\item 0\n\\item 0\n\\item 0\n\\item 0\n\\item 0\n\\item 0\n\\item 0\n\\item 0\n\\item 1\n\\item 0\n\\item 1\n\\item 0\n\\item 0\n\\item 0\n\\item 0\n\\item 0\n\\item 0\n\\item 0\n\\item 0\n\\item 0\n\\item 0\n\\item 0\n\\item 0\n\\item 0\n\\item 1\n\\item 0\n\\item 0\n\\item 0\n\\item 0\n\\item 0\n\\item 0\n\\item 0\n\\item 0\n\\item 0\n\\item 0\n\\item 0\n\\item 0\n\\item 0\n\\item 0\n\\item 0\n\\item 0\n\\item 0\n\\item 0\n\\item 0\n\\item 0\n\\item 0\n\\item 0\n\\item 0\n\\item 0\n\\item ⋯\n\\item 0\n\\item 0\n\\item 0\n\\item 0\n\\item 0\n\\item 0\n\\item 0\n\\item 0\n\\item 0\n\\item 0\n\\item 0\n\\item 0\n\\item 0\n\\item 0\n\\item 0\n\\item 0\n\\item 0\n\\item 0\n\\item 1\n\\item 0\n\\item 0\n\\item 0\n\\item 0\n\\item 0\n\\item 0\n\\item 0\n\\item 0\n\\item 0\n\\item 1\n\\item 1\n\\item 0\n\\item 1\n\\item 0\n\\item 1\n\\item 0\n\\item 0\n\\item 0\n\\item 0\n\\item 0\n\\item 0\n\\item 0\n\\item 0\n\\item 0\n\\item 0\n\\item 0\n\\item 1\n\\item 1\n\\item 1\n\\item 0\n\\item 0\n\\item 0\n\\item 0\n\\item 0\n\\item 1\n\\item 1\n\\item 1\n\\item 1\n\\item 1\n\\item 1\n\\item 0\n\\item 0\n\\item 0\n\\item 1\n\\item 1\n\\item 0\n\\item 0\n\\item 1\n\\item 0\n\\item 0\n\\item 0\n\\item 0\n\\item 0\n\\item 1\n\\item 1\n\\item 0\n\\item 0\n\\item 0\n\\item 0\n\\item 0\n\\item 0\n\\item 0\n\\item 0\n\\item 0\n\\item 0\n\\item 1\n\\item 0\n\\item 0\n\\item 0\n\\item 0\n\\item 0\n\\item 0\n\\item 0\n\\item 0\n\\item 0\n\\item 1\n\\item 0\n\\item 1\n\\item 1\n\\item 0\n\\item 0\n\\item 0\n\\item 0\n\\item 0\n\\item 0\n\\item 0\n\\item 0\n\\item 0\n\\item 0\n\\item 0\n\\item 0\n\\item 0\n\\item 0\n\\item 0\n\\item 0\n\\item 0\n\\item 0\n\\item 0\n\\item 0\n\\item 0\n\\item 0\n\\item 0\n\\item 0\n\\item 0\n\\item 0\n\\item 0\n\\item 0\n\\item 0\n\\item 0\n\\item 0\n\\item 0\n\\item 0\n\\item 0\n\\item 0\n\\item 0\n\\item 0\n\\item 1\n\\item 0\n\\item 0\n\\item 1\n\\item 0\n\\item 1\n\\item 0\n\\item 0\n\\item 0\n\\item 1\n\\item 1\n\\item 0\n\\item 0\n\\item 0\n\\item 0\n\\item 1\n\\item 0\n\\item 0\n\\item 0\n\\item 0\n\\item 0\n\\item 0\n\\item 0\n\\item 1\n\\item 1\n\\item 0\n\\item 1\n\\item 0\n\\item 0\n\\item 0\n\\item 0\n\\item 0\n\\item 0\n\\item 0\n\\item 0\n\\item 0\n\\item 0\n\\item 0\n\\item 0\n\\item 0\n\\item 0\n\\item 0\n\\item 0\n\\item 0\n\\item 0\n\\item 0\n\\item 0\n\\item 0\n\\item 0\n\\item 0\n\\item 0\n\\item 0\n\\item 0\n\\item 0\n\\item 0\n\\item 0\n\\item 0\n\\item 0\n\\item 0\n\\item 0\n\\item 0\n\\item 0\n\\item 0\n\\item 0\n\\item 0\n\\end{enumerate*}\n",
            "text/markdown": "1. 0\n2. 0\n3. 0\n4. 1\n5. 0\n6. 0\n7. 0\n8. 0\n9. 1\n10. 0\n11. 0\n12. 0\n13. 0\n14. 1\n15. 1\n16. 1\n17. 0\n18. 0\n19. 0\n20. 0\n21. 0\n22. 0\n23. 0\n24. 0\n25. 1\n26. 1\n27. 0\n28. 0\n29. 0\n30. 0\n31. 0\n32. 0\n33. 0\n34. 0\n35. 1\n36. 0\n37. 0\n38. 0\n39. 0\n40. 0\n41. 0\n42. 0\n43. 0\n44. 0\n45. 0\n46. 0\n47. 0\n48. 0\n49. 0\n50. 0\n51. 0\n52. 0\n53. 0\n54. 0\n55. 0\n56. 0\n57. 0\n58. 0\n59. 0\n60. 1\n61. 0\n62. 0\n63. 0\n64. 0\n65. 0\n66. 0\n67. 0\n68. 0\n69. 0\n70. 1\n71. 0\n72. 0\n73. 0\n74. 0\n75. 0\n76. 0\n77. 0\n78. 0\n79. 0\n80. 0\n81. 0\n82. 0\n83. 0\n84. 0\n85. 0\n86. 0\n87. 0\n88. 0\n89. 0\n90. 0\n91. 1\n92. 1\n93. 0\n94. 0\n95. 0\n96. 0\n97. 0\n98. 0\n99. 0\n100. 0\n101. 0\n102. 0\n103. 0\n104. 0\n105. 0\n106. 0\n107. 0\n108. 0\n109. 0\n110. 0\n111. 0\n112. 0\n113. 0\n114. 0\n115. 0\n116. 0\n117. 0\n118. 1\n119. 0\n120. 0\n121. 0\n122. 0\n123. 0\n124. 0\n125. 0\n126. 0\n127. 0\n128. 0\n129. 0\n130. 0\n131. 1\n132. 1\n133. 0\n134. 1\n135. 0\n136. 0\n137. 0\n138. 0\n139. 0\n140. 0\n141. 0\n142. 0\n143. 0\n144. 0\n145. 1\n146. 0\n147. 0\n148. 0\n149. 1\n150. 1\n151. 0\n152. 0\n153. 0\n154. 0\n155. 0\n156. 0\n157. 0\n158. 0\n159. 0\n160. 1\n161. 0\n162. 1\n163. 0\n164. 0\n165. 0\n166. 0\n167. 0\n168. 0\n169. 0\n170. 0\n171. 0\n172. 0\n173. 0\n174. 0\n175. 0\n176. 1\n177. 0\n178. 0\n179. 0\n180. 0\n181. 0\n182. 0\n183. 0\n184. 0\n185. 0\n186. 0\n187. 0\n188. 0\n189. 0\n190. 0\n191. 0\n192. 0\n193. 0\n194. 0\n195. 0\n196. 0\n197. 0\n198. 0\n199. 0\n200. 0\n201. ⋯\n202. 0\n203. 0\n204. 0\n205. 0\n206. 0\n207. 0\n208. 0\n209. 0\n210. 0\n211. 0\n212. 0\n213. 0\n214. 0\n215. 0\n216. 0\n217. 0\n218. 0\n219. 0\n220. 1\n221. 0\n222. 0\n223. 0\n224. 0\n225. 0\n226. 0\n227. 0\n228. 0\n229. 0\n230. 1\n231. 1\n232. 0\n233. 1\n234. 0\n235. 1\n236. 0\n237. 0\n238. 0\n239. 0\n240. 0\n241. 0\n242. 0\n243. 0\n244. 0\n245. 0\n246. 0\n247. 1\n248. 1\n249. 1\n250. 0\n251. 0\n252. 0\n253. 0\n254. 0\n255. 1\n256. 1\n257. 1\n258. 1\n259. 1\n260. 1\n261. 0\n262. 0\n263. 0\n264. 1\n265. 1\n266. 0\n267. 0\n268. 1\n269. 0\n270. 0\n271. 0\n272. 0\n273. 0\n274. 1\n275. 1\n276. 0\n277. 0\n278. 0\n279. 0\n280. 0\n281. 0\n282. 0\n283. 0\n284. 0\n285. 0\n286. 1\n287. 0\n288. 0\n289. 0\n290. 0\n291. 0\n292. 0\n293. 0\n294. 0\n295. 0\n296. 1\n297. 0\n298. 1\n299. 1\n300. 0\n301. 0\n302. 0\n303. 0\n304. 0\n305. 0\n306. 0\n307. 0\n308. 0\n309. 0\n310. 0\n311. 0\n312. 0\n313. 0\n314. 0\n315. 0\n316. 0\n317. 0\n318. 0\n319. 0\n320. 0\n321. 0\n322. 0\n323. 0\n324. 0\n325. 0\n326. 0\n327. 0\n328. 0\n329. 0\n330. 0\n331. 0\n332. 0\n333. 0\n334. 0\n335. 0\n336. 0\n337. 1\n338. 0\n339. 0\n340. 1\n341. 0\n342. 1\n343. 0\n344. 0\n345. 0\n346. 1\n347. 1\n348. 0\n349. 0\n350. 0\n351. 0\n352. 1\n353. 0\n354. 0\n355. 0\n356. 0\n357. 0\n358. 0\n359. 0\n360. 1\n361. 1\n362. 0\n363. 1\n364. 0\n365. 0\n366. 0\n367. 0\n368. 0\n369. 0\n370. 0\n371. 0\n372. 0\n373. 0\n374. 0\n375. 0\n376. 0\n377. 0\n378. 0\n379. 0\n380. 0\n381. 0\n382. 0\n383. 0\n384. 0\n385. 0\n386. 0\n387. 0\n388. 0\n389. 0\n390. 0\n391. 0\n392. 0\n393. 0\n394. 0\n395. 0\n396. 0\n397. 0\n398. 0\n399. 0\n400. 0\n401. 0\n\n\n",
            "text/html": [
              "<style>\n",
              ".list-inline {list-style: none; margin:0; padding: 0}\n",
              ".list-inline>li {display: inline-block}\n",
              ".list-inline>li:not(:last-child)::after {content: \"\\00b7\"; padding: 0 .5ex}\n",
              "</style>\n",
              "<ol class=list-inline><li>0</li><li>0</li><li>0</li><li>1</li><li>0</li><li>0</li><li>0</li><li>0</li><li>1</li><li>0</li><li>0</li><li>0</li><li>0</li><li>1</li><li>1</li><li>1</li><li>0</li><li>0</li><li>0</li><li>0</li><li>0</li><li>0</li><li>0</li><li>0</li><li>1</li><li>1</li><li>0</li><li>0</li><li>0</li><li>0</li><li>0</li><li>0</li><li>0</li><li>0</li><li>1</li><li>0</li><li>0</li><li>0</li><li>0</li><li>0</li><li>0</li><li>0</li><li>0</li><li>0</li><li>0</li><li>0</li><li>0</li><li>0</li><li>0</li><li>0</li><li>0</li><li>0</li><li>0</li><li>0</li><li>0</li><li>0</li><li>0</li><li>0</li><li>0</li><li>1</li><li>0</li><li>0</li><li>0</li><li>0</li><li>0</li><li>0</li><li>0</li><li>0</li><li>0</li><li>1</li><li>0</li><li>0</li><li>0</li><li>0</li><li>0</li><li>0</li><li>0</li><li>0</li><li>0</li><li>0</li><li>0</li><li>0</li><li>0</li><li>0</li><li>0</li><li>0</li><li>0</li><li>0</li><li>0</li><li>0</li><li>1</li><li>1</li><li>0</li><li>0</li><li>0</li><li>0</li><li>0</li><li>0</li><li>0</li><li>0</li><li>0</li><li>0</li><li>0</li><li>0</li><li>0</li><li>0</li><li>0</li><li>0</li><li>0</li><li>0</li><li>0</li><li>0</li><li>0</li><li>0</li><li>0</li><li>0</li><li>0</li><li>1</li><li>0</li><li>0</li><li>0</li><li>0</li><li>0</li><li>0</li><li>0</li><li>0</li><li>0</li><li>0</li><li>0</li><li>0</li><li>1</li><li>1</li><li>0</li><li>1</li><li>0</li><li>0</li><li>0</li><li>0</li><li>0</li><li>0</li><li>0</li><li>0</li><li>0</li><li>0</li><li>1</li><li>0</li><li>0</li><li>0</li><li>1</li><li>1</li><li>0</li><li>0</li><li>0</li><li>0</li><li>0</li><li>0</li><li>0</li><li>0</li><li>0</li><li>1</li><li>0</li><li>1</li><li>0</li><li>0</li><li>0</li><li>0</li><li>0</li><li>0</li><li>0</li><li>0</li><li>0</li><li>0</li><li>0</li><li>0</li><li>0</li><li>1</li><li>0</li><li>0</li><li>0</li><li>0</li><li>0</li><li>0</li><li>0</li><li>0</li><li>0</li><li>0</li><li>0</li><li>0</li><li>0</li><li>0</li><li>0</li><li>0</li><li>0</li><li>0</li><li>0</li><li>0</li><li>0</li><li>0</li><li>0</li><li>0</li><li>⋯</li><li>0</li><li>0</li><li>0</li><li>0</li><li>0</li><li>0</li><li>0</li><li>0</li><li>0</li><li>0</li><li>0</li><li>0</li><li>0</li><li>0</li><li>0</li><li>0</li><li>0</li><li>0</li><li>1</li><li>0</li><li>0</li><li>0</li><li>0</li><li>0</li><li>0</li><li>0</li><li>0</li><li>0</li><li>1</li><li>1</li><li>0</li><li>1</li><li>0</li><li>1</li><li>0</li><li>0</li><li>0</li><li>0</li><li>0</li><li>0</li><li>0</li><li>0</li><li>0</li><li>0</li><li>0</li><li>1</li><li>1</li><li>1</li><li>0</li><li>0</li><li>0</li><li>0</li><li>0</li><li>1</li><li>1</li><li>1</li><li>1</li><li>1</li><li>1</li><li>0</li><li>0</li><li>0</li><li>1</li><li>1</li><li>0</li><li>0</li><li>1</li><li>0</li><li>0</li><li>0</li><li>0</li><li>0</li><li>1</li><li>1</li><li>0</li><li>0</li><li>0</li><li>0</li><li>0</li><li>0</li><li>0</li><li>0</li><li>0</li><li>0</li><li>1</li><li>0</li><li>0</li><li>0</li><li>0</li><li>0</li><li>0</li><li>0</li><li>0</li><li>0</li><li>1</li><li>0</li><li>1</li><li>1</li><li>0</li><li>0</li><li>0</li><li>0</li><li>0</li><li>0</li><li>0</li><li>0</li><li>0</li><li>0</li><li>0</li><li>0</li><li>0</li><li>0</li><li>0</li><li>0</li><li>0</li><li>0</li><li>0</li><li>0</li><li>0</li><li>0</li><li>0</li><li>0</li><li>0</li><li>0</li><li>0</li><li>0</li><li>0</li><li>0</li><li>0</li><li>0</li><li>0</li><li>0</li><li>0</li><li>0</li><li>0</li><li>1</li><li>0</li><li>0</li><li>1</li><li>0</li><li>1</li><li>0</li><li>0</li><li>0</li><li>1</li><li>1</li><li>0</li><li>0</li><li>0</li><li>0</li><li>1</li><li>0</li><li>0</li><li>0</li><li>0</li><li>0</li><li>0</li><li>0</li><li>1</li><li>1</li><li>0</li><li>1</li><li>0</li><li>0</li><li>0</li><li>0</li><li>0</li><li>0</li><li>0</li><li>0</li><li>0</li><li>0</li><li>0</li><li>0</li><li>0</li><li>0</li><li>0</li><li>0</li><li>0</li><li>0</li><li>0</li><li>0</li><li>0</li><li>0</li><li>0</li><li>0</li><li>0</li><li>0</li><li>0</li><li>0</li><li>0</li><li>0</li><li>0</li><li>0</li><li>0</li><li>0</li><li>0</li><li>0</li><li>0</li><li>0</li></ol>\n"
            ]
          },
          "metadata": {}
        }
      ]
    },
    {
      "cell_type": "markdown",
      "metadata": {
        "id": "aR4GkPFtnvWz"
      },
      "source": [
        "## Limb Enhancer P300 dataset from'ChIP-seq accurately predicts tissue-specific activity of enhancers'"
      ]
    },
    {
      "cell_type": "code",
      "metadata": {
        "colab": {
          "base_uri": "https://localhost:8080/",
          "height": 286
        },
        "id": "8N-naEAensQH",
        "outputId": "22f93264-c1d0-492a-c504-f7875c997131"
      },
      "source": [
        "p300 <- 'https://s3.msi.umn.edu/dsouz072/datasets/dataset=Etv2_Limb_version=20210212a/Limb_mm10_enhancer.bed'\n",
        "local_p300 <- gsub('https://s3.msi.umn.edu/', './', p300)\n",
        "system(sprintf('wget -x -c -nH %s', p300))\n",
        "p300_df <- read.table(local_p300, header = FALSE, sep = ':')\n",
        "head(p300_df)"
      ],
      "execution_count": null,
      "outputs": [
        {
          "output_type": "display_data",
          "data": {
            "text/plain": [
              "  V1   V2               \n",
              "1 chr1 11026944-11027320\n",
              "2 chr1 11744744-11745245\n",
              "3 chr1 12615394-12616095\n",
              "4 chr1 12690294-12691295\n",
              "5 chr1 13426194-13426695\n",
              "6 chr1 13860894-13861645"
            ],
            "text/latex": "A data.frame: 6 × 2\n\\begin{tabular}{r|ll}\n  & V1 & V2\\\\\n  & <chr> & <chr>\\\\\n\\hline\n\t1 & chr1 & 11026944-11027320\\\\\n\t2 & chr1 & 11744744-11745245\\\\\n\t3 & chr1 & 12615394-12616095\\\\\n\t4 & chr1 & 12690294-12691295\\\\\n\t5 & chr1 & 13426194-13426695\\\\\n\t6 & chr1 & 13860894-13861645\\\\\n\\end{tabular}\n",
            "text/markdown": "\nA data.frame: 6 × 2\n\n| <!--/--> | V1 &lt;chr&gt; | V2 &lt;chr&gt; |\n|---|---|---|\n| 1 | chr1 | 11026944-11027320 |\n| 2 | chr1 | 11744744-11745245 |\n| 3 | chr1 | 12615394-12616095 |\n| 4 | chr1 | 12690294-12691295 |\n| 5 | chr1 | 13426194-13426695 |\n| 6 | chr1 | 13860894-13861645 |\n\n",
            "text/html": [
              "<table class=\"dataframe\">\n",
              "<caption>A data.frame: 6 × 2</caption>\n",
              "<thead>\n",
              "\t<tr><th></th><th scope=col>V1</th><th scope=col>V2</th></tr>\n",
              "\t<tr><th></th><th scope=col>&lt;chr&gt;</th><th scope=col>&lt;chr&gt;</th></tr>\n",
              "</thead>\n",
              "<tbody>\n",
              "\t<tr><th scope=row>1</th><td>chr1</td><td>11026944-11027320</td></tr>\n",
              "\t<tr><th scope=row>2</th><td>chr1</td><td>11744744-11745245</td></tr>\n",
              "\t<tr><th scope=row>3</th><td>chr1</td><td>12615394-12616095</td></tr>\n",
              "\t<tr><th scope=row>4</th><td>chr1</td><td>12690294-12691295</td></tr>\n",
              "\t<tr><th scope=row>5</th><td>chr1</td><td>13426194-13426695</td></tr>\n",
              "\t<tr><th scope=row>6</th><td>chr1</td><td>13860894-13861645</td></tr>\n",
              "</tbody>\n",
              "</table>\n"
            ]
          },
          "metadata": {}
        }
      ]
    },
    {
      "cell_type": "code",
      "metadata": {
        "id": "aOl-YKTNorU9"
      },
      "source": [
        "p300_df <- p300_df %>%\n",
        "  separate(V2, c(\"start\", \"end\"), \"-\")"
      ],
      "execution_count": null,
      "outputs": []
    },
    {
      "cell_type": "code",
      "metadata": {
        "id": "HqLJzC6uqqB6"
      },
      "source": [
        "p300_df$start <- as.integer(p300_df$start)"
      ],
      "execution_count": null,
      "outputs": []
    },
    {
      "cell_type": "code",
      "metadata": {
        "id": "nPj87-uBq8rL"
      },
      "source": [
        "p300_df$end <- as.integer(p300_df$end)"
      ],
      "execution_count": null,
      "outputs": []
    },
    {
      "cell_type": "code",
      "metadata": {
        "colab": {
          "base_uri": "https://localhost:8080/",
          "height": 286
        },
        "id": "AIJA4afhpznq",
        "outputId": "a0c38547-d822-4597-9f73-a2e4a423b0dc"
      },
      "source": [
        "head(p300_df)"
      ],
      "execution_count": null,
      "outputs": [
        {
          "output_type": "display_data",
          "data": {
            "text/plain": [
              "  V1   start    end     \n",
              "1 chr1 11026944 11027320\n",
              "2 chr1 11744744 11745245\n",
              "3 chr1 12615394 12616095\n",
              "4 chr1 12690294 12691295\n",
              "5 chr1 13426194 13426695\n",
              "6 chr1 13860894 13861645"
            ],
            "text/latex": "A data.frame: 6 × 3\n\\begin{tabular}{r|lll}\n  & V1 & start & end\\\\\n  & <chr> & <int> & <int>\\\\\n\\hline\n\t1 & chr1 & 11026944 & 11027320\\\\\n\t2 & chr1 & 11744744 & 11745245\\\\\n\t3 & chr1 & 12615394 & 12616095\\\\\n\t4 & chr1 & 12690294 & 12691295\\\\\n\t5 & chr1 & 13426194 & 13426695\\\\\n\t6 & chr1 & 13860894 & 13861645\\\\\n\\end{tabular}\n",
            "text/markdown": "\nA data.frame: 6 × 3\n\n| <!--/--> | V1 &lt;chr&gt; | start &lt;int&gt; | end &lt;int&gt; |\n|---|---|---|---|\n| 1 | chr1 | 11026944 | 11027320 |\n| 2 | chr1 | 11744744 | 11745245 |\n| 3 | chr1 | 12615394 | 12616095 |\n| 4 | chr1 | 12690294 | 12691295 |\n| 5 | chr1 | 13426194 | 13426695 |\n| 6 | chr1 | 13860894 | 13861645 |\n\n",
            "text/html": [
              "<table class=\"dataframe\">\n",
              "<caption>A data.frame: 6 × 3</caption>\n",
              "<thead>\n",
              "\t<tr><th></th><th scope=col>V1</th><th scope=col>start</th><th scope=col>end</th></tr>\n",
              "\t<tr><th></th><th scope=col>&lt;chr&gt;</th><th scope=col>&lt;int&gt;</th><th scope=col>&lt;int&gt;</th></tr>\n",
              "</thead>\n",
              "<tbody>\n",
              "\t<tr><th scope=row>1</th><td>chr1</td><td>11026944</td><td>11027320</td></tr>\n",
              "\t<tr><th scope=row>2</th><td>chr1</td><td>11744744</td><td>11745245</td></tr>\n",
              "\t<tr><th scope=row>3</th><td>chr1</td><td>12615394</td><td>12616095</td></tr>\n",
              "\t<tr><th scope=row>4</th><td>chr1</td><td>12690294</td><td>12691295</td></tr>\n",
              "\t<tr><th scope=row>5</th><td>chr1</td><td>13426194</td><td>13426695</td></tr>\n",
              "\t<tr><th scope=row>6</th><td>chr1</td><td>13860894</td><td>13861645</td></tr>\n",
              "</tbody>\n",
              "</table>\n"
            ]
          },
          "metadata": {}
        }
      ]
    },
    {
      "cell_type": "code",
      "metadata": {
        "colab": {
          "base_uri": "https://localhost:8080/",
          "height": 295
        },
        "id": "mNdGWdVpqP31",
        "outputId": "d35121bd-c2db-46d8-bea8-779f6baa6b76"
      },
      "source": [
        "gr_p300 <- GRanges(seqnames = p300_df$V1, ranges = IRanges(p300_df$start, p300_df$end))\n",
        "gr_p300"
      ],
      "execution_count": null,
      "outputs": [
        {
          "output_type": "display_data",
          "data": {
            "text/plain": [
              "GRanges object with 2105 ranges and 0 metadata columns:\n",
              "         seqnames              ranges strand\n",
              "            <Rle>           <IRanges>  <Rle>\n",
              "     [1]     chr1   11026944-11027320      *\n",
              "     [2]     chr1   11744744-11745245      *\n",
              "     [3]     chr1   12615394-12616095      *\n",
              "     [4]     chr1   12690294-12691295      *\n",
              "     [5]     chr1   13426194-13426695      *\n",
              "     ...      ...                 ...    ...\n",
              "  [2101]     chrX 106186486-106187362      *\n",
              "  [2102]     chrX 122831141-122831692      *\n",
              "  [2103]     chrX 129756714-129757390      *\n",
              "  [2104]     chrX 145509757-145510508      *\n",
              "  [2105]     chrX 152016832-152017233      *\n",
              "  -------\n",
              "  seqinfo: 20 sequences from an unspecified genome; no seqlengths"
            ]
          },
          "metadata": {}
        }
      ]
    },
    {
      "cell_type": "code",
      "metadata": {
        "colab": {
          "base_uri": "https://localhost:8080/",
          "height": 295
        },
        "id": "ut2z65NtrIGZ",
        "outputId": "908c94ac-7383-4fa5-f5b0-4a90430e5ab8"
      },
      "source": [
        "p300_fo <- findOverlaps(binding_sites, gr_p300)\n",
        "p300_overlap <- binding_sites[queryHits(p300_fo)]\n",
        "p300_overlap"
      ],
      "execution_count": null,
      "outputs": [
        {
          "output_type": "display_data",
          "data": {
            "text/plain": [
              "GRanges object with 149 ranges and 1 metadata column:\n",
              "        seqnames              ranges strand |     score\n",
              "           <Rle>           <IRanges>  <Rle> | <numeric>\n",
              "    [1]     chr1   61928386-61928397      + |   7.82107\n",
              "    [2]     chr1   75479415-75479426      - |   7.64258\n",
              "    [3]     chr1   75786408-75786419      + |   8.16630\n",
              "    [4]     chr1   82476878-82476889      - |   8.05977\n",
              "    [5]     chr1   87847464-87847475      - |   8.14420\n",
              "    ...      ...                 ...    ... .       ...\n",
              "  [145]     chr9 107981754-107981765      - |   8.00250\n",
              "  [146]     chr9 107982813-107982824      - |   7.75813\n",
              "  [147]     chr9 118863102-118863113      - |   7.85979\n",
              "  [148]     chrX   52446756-52446767      + |   7.72139\n",
              "  [149]     chrX   70319471-70319482      - |   7.88166\n",
              "  -------\n",
              "  seqinfo: 239 sequences from mm10 genome"
            ]
          },
          "metadata": {}
        }
      ]
    },
    {
      "cell_type": "code",
      "metadata": {
        "colab": {
          "base_uri": "https://localhost:8080/",
          "height": 286
        },
        "id": "E_vXjpt9rslm",
        "outputId": "99ecacf6-53f0-4890-b431-1c315430415a"
      },
      "source": [
        "p300_dat <- as.data.frame(p300_overlap)\n",
        "p300_dat$GI <- paste(p300_dat$start, p300_dat$end, sep = '-')\n",
        "p300_dat$GI <- paste(p300_dat$seqnames, p300_dat$GI, sep = ':')\n",
        "head(p300_dat)"
      ],
      "execution_count": null,
      "outputs": [
        {
          "output_type": "display_data",
          "data": {
            "text/plain": [
              "  seqnames start     end       width strand score    GI                      \n",
              "1 chr1      61928386  61928397 12    +      7.821073 chr1:61928386-61928397  \n",
              "2 chr1      75479415  75479426 12    -      7.642575 chr1:75479415-75479426  \n",
              "3 chr1      75786408  75786419 12    +      8.166299 chr1:75786408-75786419  \n",
              "4 chr1      82476878  82476889 12    -      8.059768 chr1:82476878-82476889  \n",
              "5 chr1      87847464  87847475 12    -      8.144204 chr1:87847464-87847475  \n",
              "6 chr1     119456804 119456815 12    -      7.745751 chr1:119456804-119456815"
            ],
            "text/latex": "A data.frame: 6 × 7\n\\begin{tabular}{r|lllllll}\n  & seqnames & start & end & width & strand & score & GI\\\\\n  & <fct> & <int> & <int> & <int> & <fct> & <dbl> & <chr>\\\\\n\\hline\n\t1 & chr1 &  61928386 &  61928397 & 12 & + & 7.821073 & chr1:61928386-61928397  \\\\\n\t2 & chr1 &  75479415 &  75479426 & 12 & - & 7.642575 & chr1:75479415-75479426  \\\\\n\t3 & chr1 &  75786408 &  75786419 & 12 & + & 8.166299 & chr1:75786408-75786419  \\\\\n\t4 & chr1 &  82476878 &  82476889 & 12 & - & 8.059768 & chr1:82476878-82476889  \\\\\n\t5 & chr1 &  87847464 &  87847475 & 12 & - & 8.144204 & chr1:87847464-87847475  \\\\\n\t6 & chr1 & 119456804 & 119456815 & 12 & - & 7.745751 & chr1:119456804-119456815\\\\\n\\end{tabular}\n",
            "text/markdown": "\nA data.frame: 6 × 7\n\n| <!--/--> | seqnames &lt;fct&gt; | start &lt;int&gt; | end &lt;int&gt; | width &lt;int&gt; | strand &lt;fct&gt; | score &lt;dbl&gt; | GI &lt;chr&gt; |\n|---|---|---|---|---|---|---|---|\n| 1 | chr1 |  61928386 |  61928397 | 12 | + | 7.821073 | chr1:61928386-61928397   |\n| 2 | chr1 |  75479415 |  75479426 | 12 | - | 7.642575 | chr1:75479415-75479426   |\n| 3 | chr1 |  75786408 |  75786419 | 12 | + | 8.166299 | chr1:75786408-75786419   |\n| 4 | chr1 |  82476878 |  82476889 | 12 | - | 8.059768 | chr1:82476878-82476889   |\n| 5 | chr1 |  87847464 |  87847475 | 12 | - | 8.144204 | chr1:87847464-87847475   |\n| 6 | chr1 | 119456804 | 119456815 | 12 | - | 7.745751 | chr1:119456804-119456815 |\n\n",
            "text/html": [
              "<table class=\"dataframe\">\n",
              "<caption>A data.frame: 6 × 7</caption>\n",
              "<thead>\n",
              "\t<tr><th></th><th scope=col>seqnames</th><th scope=col>start</th><th scope=col>end</th><th scope=col>width</th><th scope=col>strand</th><th scope=col>score</th><th scope=col>GI</th></tr>\n",
              "\t<tr><th></th><th scope=col>&lt;fct&gt;</th><th scope=col>&lt;int&gt;</th><th scope=col>&lt;int&gt;</th><th scope=col>&lt;int&gt;</th><th scope=col>&lt;fct&gt;</th><th scope=col>&lt;dbl&gt;</th><th scope=col>&lt;chr&gt;</th></tr>\n",
              "</thead>\n",
              "<tbody>\n",
              "\t<tr><th scope=row>1</th><td>chr1</td><td> 61928386</td><td> 61928397</td><td>12</td><td>+</td><td>7.821073</td><td>chr1:61928386-61928397  </td></tr>\n",
              "\t<tr><th scope=row>2</th><td>chr1</td><td> 75479415</td><td> 75479426</td><td>12</td><td>-</td><td>7.642575</td><td>chr1:75479415-75479426  </td></tr>\n",
              "\t<tr><th scope=row>3</th><td>chr1</td><td> 75786408</td><td> 75786419</td><td>12</td><td>+</td><td>8.166299</td><td>chr1:75786408-75786419  </td></tr>\n",
              "\t<tr><th scope=row>4</th><td>chr1</td><td> 82476878</td><td> 82476889</td><td>12</td><td>-</td><td>8.059768</td><td>chr1:82476878-82476889  </td></tr>\n",
              "\t<tr><th scope=row>5</th><td>chr1</td><td> 87847464</td><td> 87847475</td><td>12</td><td>-</td><td>8.144204</td><td>chr1:87847464-87847475  </td></tr>\n",
              "\t<tr><th scope=row>6</th><td>chr1</td><td>119456804</td><td>119456815</td><td>12</td><td>-</td><td>7.745751</td><td>chr1:119456804-119456815</td></tr>\n",
              "</tbody>\n",
              "</table>\n"
            ]
          },
          "metadata": {}
        }
      ]
    },
    {
      "cell_type": "code",
      "metadata": {
        "colab": {
          "base_uri": "https://localhost:8080/",
          "height": 304
        },
        "id": "CoTcaVfesEed",
        "outputId": "852e9654-e7bd-43ba-a58b-8a43dd1032d9"
      },
      "source": [
        "p300_sub <- bs[bs$GI %in% p300_dat$GI,]\n",
        "nrow(p300_sub[grepl('FALSE_TRUE', p300_sub$log),])\n",
        "head(p300_sub[grepl('FALSE_TRUE', p300_sub$log),])"
      ],
      "execution_count": null,
      "outputs": [
        {
          "output_type": "display_data",
          "data": {
            "text/plain": [
              "[1] 47"
            ],
            "text/latex": "47",
            "text/markdown": "47",
            "text/html": [
              "47"
            ]
          },
          "metadata": {}
        },
        {
          "output_type": "display_data",
          "data": {
            "text/plain": [
              "    seqnames start     end       width strand score    GI                      \n",
              "201 chr1      75479415  75479426 12    -      7.642575 chr1:75479415-75479426  \n",
              "205 chr1      75786408  75786419 12    +      8.166299 chr1:75786408-75786419  \n",
              "312 chr1     119456804 119456815 12    -      7.745751 chr1:119456804-119456815\n",
              "357 chr1     133941706 133941717 12    +      7.611828 chr1:133941706-133941717\n",
              "363 chr1     135659704 135659715 12    -      8.278589 chr1:135659704-135659715\n",
              "377 chr1     138345198 138345209 12    +      8.827057 chr1:138345198-138345209\n",
              "    log        limb\n",
              "201 FALSE_TRUE 0   \n",
              "205 FALSE_TRUE 1   \n",
              "312 FALSE_TRUE 1   \n",
              "357 FALSE_TRUE 1   \n",
              "363 FALSE_TRUE 1   \n",
              "377 FALSE_TRUE 1   "
            ],
            "text/latex": "A data.frame: 6 × 9\n\\begin{tabular}{r|lllllllll}\n  & seqnames & start & end & width & strand & score & GI & log & limb\\\\\n  & <fct> & <int> & <int> & <int> & <fct> & <dbl> & <chr> & <fct> & <dbl>\\\\\n\\hline\n\t201 & chr1 &  75479415 &  75479426 & 12 & - & 7.642575 & chr1:75479415-75479426   & FALSE\\_TRUE & 0\\\\\n\t205 & chr1 &  75786408 &  75786419 & 12 & + & 8.166299 & chr1:75786408-75786419   & FALSE\\_TRUE & 1\\\\\n\t312 & chr1 & 119456804 & 119456815 & 12 & - & 7.745751 & chr1:119456804-119456815 & FALSE\\_TRUE & 1\\\\\n\t357 & chr1 & 133941706 & 133941717 & 12 & + & 7.611828 & chr1:133941706-133941717 & FALSE\\_TRUE & 1\\\\\n\t363 & chr1 & 135659704 & 135659715 & 12 & - & 8.278589 & chr1:135659704-135659715 & FALSE\\_TRUE & 1\\\\\n\t377 & chr1 & 138345198 & 138345209 & 12 & + & 8.827057 & chr1:138345198-138345209 & FALSE\\_TRUE & 1\\\\\n\\end{tabular}\n",
            "text/markdown": "\nA data.frame: 6 × 9\n\n| <!--/--> | seqnames &lt;fct&gt; | start &lt;int&gt; | end &lt;int&gt; | width &lt;int&gt; | strand &lt;fct&gt; | score &lt;dbl&gt; | GI &lt;chr&gt; | log &lt;fct&gt; | limb &lt;dbl&gt; |\n|---|---|---|---|---|---|---|---|---|---|\n| 201 | chr1 |  75479415 |  75479426 | 12 | - | 7.642575 | chr1:75479415-75479426   | FALSE_TRUE | 0 |\n| 205 | chr1 |  75786408 |  75786419 | 12 | + | 8.166299 | chr1:75786408-75786419   | FALSE_TRUE | 1 |\n| 312 | chr1 | 119456804 | 119456815 | 12 | - | 7.745751 | chr1:119456804-119456815 | FALSE_TRUE | 1 |\n| 357 | chr1 | 133941706 | 133941717 | 12 | + | 7.611828 | chr1:133941706-133941717 | FALSE_TRUE | 1 |\n| 363 | chr1 | 135659704 | 135659715 | 12 | - | 8.278589 | chr1:135659704-135659715 | FALSE_TRUE | 1 |\n| 377 | chr1 | 138345198 | 138345209 | 12 | + | 8.827057 | chr1:138345198-138345209 | FALSE_TRUE | 1 |\n\n",
            "text/html": [
              "<table class=\"dataframe\">\n",
              "<caption>A data.frame: 6 × 9</caption>\n",
              "<thead>\n",
              "\t<tr><th></th><th scope=col>seqnames</th><th scope=col>start</th><th scope=col>end</th><th scope=col>width</th><th scope=col>strand</th><th scope=col>score</th><th scope=col>GI</th><th scope=col>log</th><th scope=col>limb</th></tr>\n",
              "\t<tr><th></th><th scope=col>&lt;fct&gt;</th><th scope=col>&lt;int&gt;</th><th scope=col>&lt;int&gt;</th><th scope=col>&lt;int&gt;</th><th scope=col>&lt;fct&gt;</th><th scope=col>&lt;dbl&gt;</th><th scope=col>&lt;chr&gt;</th><th scope=col>&lt;fct&gt;</th><th scope=col>&lt;dbl&gt;</th></tr>\n",
              "</thead>\n",
              "<tbody>\n",
              "\t<tr><th scope=row>201</th><td>chr1</td><td> 75479415</td><td> 75479426</td><td>12</td><td>-</td><td>7.642575</td><td>chr1:75479415-75479426  </td><td>FALSE_TRUE</td><td>0</td></tr>\n",
              "\t<tr><th scope=row>205</th><td>chr1</td><td> 75786408</td><td> 75786419</td><td>12</td><td>+</td><td>8.166299</td><td>chr1:75786408-75786419  </td><td>FALSE_TRUE</td><td>1</td></tr>\n",
              "\t<tr><th scope=row>312</th><td>chr1</td><td>119456804</td><td>119456815</td><td>12</td><td>-</td><td>7.745751</td><td>chr1:119456804-119456815</td><td>FALSE_TRUE</td><td>1</td></tr>\n",
              "\t<tr><th scope=row>357</th><td>chr1</td><td>133941706</td><td>133941717</td><td>12</td><td>+</td><td>7.611828</td><td>chr1:133941706-133941717</td><td>FALSE_TRUE</td><td>1</td></tr>\n",
              "\t<tr><th scope=row>363</th><td>chr1</td><td>135659704</td><td>135659715</td><td>12</td><td>-</td><td>8.278589</td><td>chr1:135659704-135659715</td><td>FALSE_TRUE</td><td>1</td></tr>\n",
              "\t<tr><th scope=row>377</th><td>chr1</td><td>138345198</td><td>138345209</td><td>12</td><td>+</td><td>8.827057</td><td>chr1:138345198-138345209</td><td>FALSE_TRUE</td><td>1</td></tr>\n",
              "</tbody>\n",
              "</table>\n"
            ]
          },
          "metadata": {}
        }
      ]
    },
    {
      "cell_type": "code",
      "metadata": {
        "colab": {
          "base_uri": "https://localhost:8080/",
          "height": 34
        },
        "id": "TpSjSf38s6sk",
        "outputId": "736690cc-2336-4fd1-cad5-380e7169470a"
      },
      "source": [
        "bs$p300 <- ifelse(bs$GI %in% p300_dat$GI, 'yes', 'no') ##This column will be used in the heatmap to see the position of the enhancers after clustering the enriched heatmap\n",
        "nrow(bs[bs$p300 == 'yes',]) ##Double checking the count of values assigned 1, needs to be 133"
      ],
      "execution_count": null,
      "outputs": [
        {
          "output_type": "display_data",
          "data": {
            "text/plain": [
              "[1] 149"
            ],
            "text/latex": "149",
            "text/markdown": "149",
            "text/html": [
              "149"
            ]
          },
          "metadata": {}
        }
      ]
    },
    {
      "cell_type": "code",
      "source": [
        "nrow(p300_sub)"
      ],
      "metadata": {
        "colab": {
          "base_uri": "https://localhost:8080/",
          "height": 34
        },
        "id": "LKeZzjcw7PhJ",
        "outputId": "62251cfa-bd0d-4f1c-a4d1-eb57d40c80d9"
      },
      "execution_count": null,
      "outputs": [
        {
          "output_type": "display_data",
          "data": {
            "text/plain": [
              "[1] 149"
            ],
            "text/latex": "149",
            "text/markdown": "149",
            "text/html": [
              "149"
            ]
          },
          "metadata": {}
        }
      ]
    },
    {
      "cell_type": "code",
      "source": [
        "nrow(p300_sub[grepl('FALSE_TRUE', p300_sub$log),])"
      ],
      "metadata": {
        "colab": {
          "base_uri": "https://localhost:8080/",
          "height": 34
        },
        "id": "7eYLNaG47be2",
        "outputId": "afa2c50a-49a6-4684-fdea-45fc0474c2d5"
      },
      "execution_count": null,
      "outputs": [
        {
          "output_type": "display_data",
          "data": {
            "text/plain": [
              "[1] 47"
            ],
            "text/latex": "47",
            "text/markdown": "47",
            "text/html": [
              "47"
            ]
          },
          "metadata": {}
        }
      ]
    },
    {
      "cell_type": "code",
      "metadata": {
        "colab": {
          "base_uri": "https://localhost:8080/"
        },
        "id": "mLzLANnxicCD",
        "outputId": "072c711f-f10f-4e4f-c858-f8b9318411ea"
      },
      "source": [
        "sprintf('Percent of Limb enhancers Genomic Intervals from \"Limb Enhancer Genie\" overlapping just the E10.5 Posterior only cluster: %f', nrow(p300_sub[grepl('FALSE_TRUE', p300_sub$log),])/nrow(p300_sub)*100) %>% message()"
      ],
      "execution_count": null,
      "outputs": [
        {
          "output_type": "stream",
          "name": "stderr",
          "text": [
            "Percent of Limb enhancers Genomic Intervals from \"Limb Enhancer Genie\" overlapping just the E10.5 Posterior only cluster: 31.543624\n",
            "\n"
          ]
        }
      ]
    },
    {
      "cell_type": "code",
      "source": [
        "bs$p300"
      ],
      "metadata": {
        "colab": {
          "base_uri": "https://localhost:8080/",
          "height": 243
        },
        "id": "IGNmc-21vV4G",
        "outputId": "a52276f1-b81c-4736-a377-bcdc5e65b5d5"
      },
      "execution_count": null,
      "outputs": [
        {
          "output_type": "display_data",
          "data": {
            "text/plain": [
              "   [1] \"no\"  \"no\"  \"no\"  \"no\"  \"no\"  \"no\"  \"no\"  \"no\"  \"no\"  \"no\"  \"no\"  \"no\" \n",
              "  [13] \"no\"  \"no\"  \"no\"  \"no\"  \"no\"  \"no\"  \"no\"  \"no\"  \"no\"  \"no\"  \"no\"  \"no\" \n",
              "  [25] \"no\"  \"no\"  \"no\"  \"no\"  \"no\"  \"no\"  \"no\"  \"no\"  \"no\"  \"no\"  \"no\"  \"no\" \n",
              "  [37] \"no\"  \"no\"  \"no\"  \"no\"  \"no\"  \"no\"  \"no\"  \"no\"  \"no\"  \"no\"  \"no\"  \"no\" \n",
              "  [49] \"no\"  \"no\"  \"no\"  \"no\"  \"no\"  \"no\"  \"no\"  \"no\"  \"no\"  \"no\"  \"no\"  \"no\" \n",
              "  [61] \"no\"  \"no\"  \"no\"  \"no\"  \"no\"  \"no\"  \"no\"  \"no\"  \"no\"  \"no\"  \"no\"  \"no\" \n",
              "  [73] \"no\"  \"no\"  \"no\"  \"no\"  \"no\"  \"no\"  \"no\"  \"no\"  \"no\"  \"no\"  \"no\"  \"no\" \n",
              "  [85] \"no\"  \"no\"  \"no\"  \"no\"  \"no\"  \"no\"  \"no\"  \"no\"  \"no\"  \"no\"  \"no\"  \"no\" \n",
              "  [97] \"no\"  \"no\"  \"no\"  \"no\"  \"no\"  \"no\"  \"no\"  \"no\"  \"no\"  \"no\"  \"no\"  \"no\" \n",
              " [109] \"no\"  \"no\"  \"no\"  \"no\"  \"no\"  \"no\"  \"no\"  \"no\"  \"no\"  \"no\"  \"no\"  \"no\" \n",
              " [121] \"no\"  \"no\"  \"no\"  \"no\"  \"no\"  \"no\"  \"no\"  \"no\"  \"no\"  \"no\"  \"no\"  \"no\" \n",
              " [133] \"no\"  \"no\"  \"no\"  \"no\"  \"no\"  \"no\"  \"no\"  \"no\"  \"no\"  \"no\"  \"no\"  \"no\" \n",
              " [145] \"no\"  \"no\"  \"no\"  \"no\"  \"no\"  \"no\"  \"no\"  \"no\"  \"no\"  \"no\"  \"no\"  \"no\" \n",
              " [157] \"no\"  \"no\"  \"no\"  \"yes\" \"no\"  \"no\"  \"no\"  \"no\"  \"no\"  \"no\"  \"no\"  \"no\" \n",
              " [169] \"no\"  \"no\"  \"no\"  \"no\"  \"no\"  \"no\"  \"no\"  \"no\"  \"no\"  \"no\"  \"no\"  \"no\" \n",
              " [181] \"no\"  \"no\"  \"no\"  \"no\"  \"no\"  \"no\"  \"no\"  \"no\"  \"no\"  \"no\"  \"no\"  \"no\" \n",
              " [193] \"no\"  \"no\"  \"no\"  \"no\"  \"no\"  \"no\"  \"no\"  \"no\"  \"yes\" \"no\"  \"no\"  \"no\" \n",
              " [205] \"yes\" \"no\"  \"no\"  \"no\"  \"no\"  \"no\"  \"no\"  \"no\"  \"no\"  \"no\"  \"no\"  \"no\" \n",
              " [217] \"no\"  \"no\"  \"no\"  \"no\"  \"no\"  \"no\"  \"no\"  \"no\"  \"no\"  \"no\"  \"no\"  \"no\" \n",
              " [229] \"yes\" \"no\"  \"no\"  \"no\"  \"no\"  \"no\"  \"no\"  \"no\"  \"no\"  \"no\"  \"no\"  \"no\" \n",
              " [241] \"no\"  \"no\"  \"no\"  \"no\"  \"no\"  \"no\"  \"no\"  \"no\"  \"no\"  \"no\"  \"no\"  \"yes\"\n",
              " [253] \"no\"  \"no\"  \"no\"  \"no\"  \"no\"  \"no\"  \"no\"  \"no\"  \"no\"  \"no\"  \"no\"  \"no\" \n",
              " [265] \"no\"  \"no\"  \"no\"  \"no\"  \"no\"  \"no\"  \"no\"  \"no\"  \"no\"  \"no\"  \"no\"  \"no\" \n",
              " [277] \"no\"  \"no\"  \"no\"  \"no\"  \"no\"  \"no\"  \"no\"  \"no\"  \"no\"  \"no\"  \"no\"  \"no\" \n",
              " [289] \"no\"  \"no\"  \"no\"  \"no\"  \"no\"  \"no\"  \"no\"  \"no\"  \"no\"  \"no\"  \"no\"  \"no\" \n",
              " [301] \"no\"  \"no\"  \"no\"  \"no\"  \"no\"  \"no\"  \"no\"  \"no\"  \"no\"  \"no\"  \"no\"  \"yes\"\n",
              " [313] \"no\"  \"no\"  \"no\"  \"no\"  \"no\"  \"no\"  \"no\"  \"no\"  \"no\"  \"no\"  \"no\"  \"no\" \n",
              " [325] \"no\"  \"no\"  \"no\"  \"no\"  \"no\"  \"no\"  \"no\"  \"no\"  \"no\"  \"no\"  \"no\"  \"no\" \n",
              " [337] \"no\"  \"no\"  \"no\"  \"no\"  \"no\"  \"no\"  \"no\"  \"no\"  \"no\"  \"no\"  \"no\"  \"no\" \n",
              " [349] \"no\"  \"no\"  \"no\"  \"no\"  \"no\"  \"no\"  \"no\"  \"no\"  \"yes\" \"no\"  \"no\"  \"no\" \n",
              " [361] \"no\"  \"no\"  \"yes\" \"no\"  \"no\"  \"no\"  \"no\"  \"no\"  \"no\"  \"no\"  \"no\"  \"no\" \n",
              " [373] \"no\"  \"no\"  \"no\"  \"no\"  \"yes\" \"no\"  \"no\"  \"no\"  \"no\"  \"no\"  \"no\"  \"no\" \n",
              " [385] \"no\"  \"no\"  \"no\"  \"no\"  \"no\"  \"no\"  \"no\"  \"no\"  \"no\"  \"no\"  \"no\"  \"no\" \n",
              " [397] \"no\"  \"no\"  \"no\"  \"no\"  \"no\"  \"no\"  \"no\"  \"no\"  \"no\"  \"no\"  \"no\"  \"no\" \n",
              " [409] \"no\"  \"yes\" \"no\"  \"no\"  \"no\"  \"no\"  \"no\"  \"no\"  \"no\"  \"no\"  \"no\"  \"no\" \n",
              " [421] \"no\"  \"no\"  \"no\"  \"no\"  \"no\"  \"no\"  \"no\"  \"no\"  \"no\"  \"no\"  \"no\"  \"no\" \n",
              " [433] \"no\"  \"no\"  \"no\"  \"no\"  \"no\"  \"no\"  \"no\"  \"no\"  \"no\"  \"no\"  \"no\"  \"no\" \n",
              " [445] \"no\"  \"no\"  \"no\"  \"no\"  \"no\"  \"no\"  \"no\"  \"no\"  \"no\"  \"no\"  \"no\"  \"no\" \n",
              " [457] \"no\"  \"yes\" \"no\"  \"no\"  \"no\"  \"no\"  \"no\"  \"no\"  \"yes\" \"no\"  \"no\"  \"no\" \n",
              " [469] \"no\"  \"no\"  \"no\"  \"no\"  \"no\"  \"no\"  \"no\"  \"no\"  \"no\"  \"no\"  \"no\"  \"no\" \n",
              " [481] \"no\"  \"no\"  \"no\"  \"no\"  \"no\"  \"no\"  \"no\"  \"no\"  \"no\"  \"no\"  \"no\"  \"no\" \n",
              " [493] \"no\"  \"no\"  \"no\"  \"no\"  \"no\"  \"no\"  \"no\"  \"no\"  \"no\"  \"no\"  \"no\"  \"yes\"\n",
              " [505] \"no\"  \"no\"  \"no\"  \"no\"  \"no\"  \"no\"  \"no\"  \"no\"  \"no\"  \"no\"  \"no\"  \"no\" \n",
              " [517] \"no\"  \"no\"  \"no\"  \"no\"  \"no\"  \"no\"  \"no\"  \"no\"  \"no\"  \"no\"  \"no\"  \"no\" \n",
              " [529] \"no\"  \"no\"  \"no\"  \"no\"  \"no\"  \"no\"  \"no\"  \"no\"  \"no\"  \"no\"  \"no\"  \"no\" \n",
              " [541] \"no\"  \"no\"  \"no\"  \"no\"  \"no\"  \"no\"  \"no\"  \"no\"  \"no\"  \"no\"  \"no\"  \"no\" \n",
              " [553] \"no\"  \"no\"  \"no\"  \"no\"  \"no\"  \"no\"  \"no\"  \"no\"  \"no\"  \"no\"  \"no\"  \"no\" \n",
              " [565] \"no\"  \"no\"  \"no\"  \"no\"  \"no\"  \"no\"  \"no\"  \"no\"  \"no\"  \"no\"  \"no\"  \"no\" \n",
              " [577] \"no\"  \"no\"  \"no\"  \"no\"  \"no\"  \"no\"  \"no\"  \"no\"  \"no\"  \"no\"  \"no\"  \"no\" \n",
              " [589] \"no\"  \"no\"  \"no\"  \"no\"  \"no\"  \"no\"  \"no\"  \"no\"  \"no\"  \"no\"  \"no\"  \"no\" \n",
              " [601] \"no\"  \"no\"  \"no\"  \"no\"  \"no\"  \"no\"  \"no\"  \"no\"  \"no\"  \"no\"  \"no\"  \"no\" \n",
              " [613] \"no\"  \"no\"  \"no\"  \"no\"  \"no\"  \"no\"  \"no\"  \"no\"  \"no\"  \"no\"  \"no\"  \"no\" \n",
              " [625] \"no\"  \"no\"  \"no\"  \"no\"  \"no\"  \"no\"  \"no\"  \"no\"  \"no\"  \"no\"  \"no\"  \"no\" \n",
              " [637] \"no\"  \"no\"  \"no\"  \"yes\" \"yes\" \"no\"  \"no\"  \"no\"  \"no\"  \"no\"  \"no\"  \"no\" \n",
              " [649] \"no\"  \"no\"  \"no\"  \"no\"  \"no\"  \"no\"  \"no\"  \"no\"  \"no\"  \"no\"  \"no\"  \"no\" \n",
              " [661] \"no\"  \"no\"  \"no\"  \"no\"  \"no\"  \"no\"  \"no\"  \"no\"  \"no\"  \"no\"  \"no\"  \"no\" \n",
              " [673] \"no\"  \"no\"  \"no\"  \"no\"  \"no\"  \"no\"  \"no\"  \"no\"  \"no\"  \"no\"  \"no\"  \"no\" \n",
              " [685] \"no\"  \"no\"  \"no\"  \"no\"  \"no\"  \"no\"  \"no\"  \"no\"  \"no\"  \"no\"  \"no\"  \"no\" \n",
              " [697] \"no\"  \"no\"  \"no\"  \"no\"  \"no\"  \"no\"  \"no\"  \"no\"  \"no\"  \"no\"  \"no\"  \"no\" \n",
              " [709] \"no\"  \"no\"  \"no\"  \"no\"  \"no\"  \"no\"  \"no\"  \"no\"  \"no\"  \"no\"  \"no\"  \"no\" \n",
              " [721] \"no\"  \"no\"  \"no\"  \"no\"  \"no\"  \"no\"  \"no\"  \"no\"  \"no\"  \"no\"  \"no\"  \"no\" \n",
              " [733] \"no\"  \"no\"  \"no\"  \"no\"  \"no\"  \"no\"  \"no\"  \"no\"  \"no\"  \"no\"  \"no\"  \"no\" \n",
              " [745] \"no\"  \"no\"  \"no\"  \"no\"  \"no\"  \"no\"  \"no\"  \"no\"  \"no\"  \"no\"  \"no\"  \"no\" \n",
              " [757] \"no\"  \"no\"  \"no\"  \"no\"  \"no\"  \"no\"  \"no\"  \"no\"  \"no\"  \"no\"  \"no\"  \"no\" \n",
              " [769] \"no\"  \"no\"  \"no\"  \"no\"  \"no\"  \"no\"  \"no\"  \"no\"  \"no\"  \"no\"  \"no\"  \"no\" \n",
              " [781] \"no\"  \"no\"  \"no\"  \"no\"  \"no\"  \"no\"  \"no\"  \"no\"  \"no\"  \"no\"  \"no\"  \"no\" \n",
              " [793] \"no\"  \"no\"  \"no\"  \"no\"  \"no\"  \"no\"  \"no\"  \"no\"  \"yes\" \"no\"  \"no\"  \"no\" \n",
              " [805] \"no\"  \"no\"  \"no\"  \"no\"  \"no\"  \"no\"  \"no\"  \"no\"  \"no\"  \"no\"  \"no\"  \"no\" \n",
              " [817] \"no\"  \"no\"  \"no\"  \"no\"  \"no\"  \"no\"  \"no\"  \"no\"  \"no\"  \"no\"  \"no\"  \"no\" \n",
              " [829] \"no\"  \"no\"  \"no\"  \"no\"  \"no\"  \"no\"  \"no\"  \"no\"  \"no\"  \"no\"  \"no\"  \"no\" \n",
              " [841] \"no\"  \"no\"  \"no\"  \"no\"  \"no\"  \"no\"  \"no\"  \"no\"  \"no\"  \"no\"  \"no\"  \"no\" \n",
              " [853] \"no\"  \"no\"  \"no\"  \"no\"  \"no\"  \"no\"  \"no\"  \"no\"  \"no\"  \"no\"  \"no\"  \"no\" \n",
              " [865] \"no\"  \"no\"  \"no\"  \"no\"  \"no\"  \"no\"  \"no\"  \"no\"  \"no\"  \"no\"  \"no\"  \"no\" \n",
              " [877] \"no\"  \"no\"  \"no\"  \"no\"  \"no\"  \"no\"  \"no\"  \"yes\" \"no\"  \"no\"  \"no\"  \"no\" \n",
              " [889] \"no\"  \"no\"  \"no\"  \"no\"  \"no\"  \"no\"  \"no\"  \"no\"  \"no\"  \"yes\" \"yes\" \"no\" \n",
              " [901] \"no\"  \"no\"  \"no\"  \"no\"  \"no\"  \"no\"  \"no\"  \"no\"  \"no\"  \"no\"  \"no\"  \"no\" \n",
              " [913] \"no\"  \"no\"  \"no\"  \"no\"  \"no\"  \"no\"  \"no\"  \"no\"  \"no\"  \"no\"  \"no\"  \"no\" \n",
              " [925] \"no\"  \"no\"  \"no\"  \"no\"  \"no\"  \"no\"  \"no\"  \"no\"  \"no\"  \"no\"  \"no\"  \"no\" \n",
              " [937] \"no\"  \"no\"  \"no\"  \"no\"  \"no\"  \"no\"  \"no\"  \"no\"  \"no\"  \"no\"  \"no\"  \"yes\"\n",
              " [949] \"no\"  \"no\"  \"no\"  \"no\"  \"yes\" \"no\"  \"no\"  \"no\"  \"no\"  \"no\"  \"no\"  \"no\" \n",
              " [961] \"no\"  \"no\"  \"no\"  \"no\"  \"no\"  \"no\"  \"no\"  \"no\"  \"no\"  \"no\"  \"no\"  \"no\" \n",
              " [973] \"no\"  \"no\"  \"no\"  \"no\"  \"no\"  \"no\"  \"no\"  \"no\"  \"no\"  \"no\"  \"no\"  \"no\" \n",
              " [985] \"no\"  \"no\"  \"no\"  \"no\"  \"no\"  \"no\"  \"no\"  \"no\"  \"no\"  \"no\"  \"no\"  \"no\" \n",
              " [997] \"no\"  \"no\"  \"no\"  \"no\"  \"no\"  \"no\"  \"no\"  \"no\"  \"no\"  \"no\"  \"no\"  \"no\" \n",
              "[1009] \"no\"  \"no\"  \"no\"  \"no\"  \"no\"  \"no\"  \"no\"  \"no\"  \"no\"  \"no\"  \"no\"  \"no\" \n",
              "[1021] \"no\"  \"no\"  \"no\"  \"no\"  \"no\"  \"no\"  \"no\"  \"no\"  \"no\"  \"no\"  \"no\"  \"no\" \n",
              "[1033] \"no\"  \"no\"  \"no\"  \"no\"  \"yes\" \"no\"  \"no\"  \"no\"  \"yes\" \"no\"  \"no\"  \"no\" \n",
              "[1045] \"no\"  \"no\"  \"no\"  \"no\"  \"no\"  \"no\"  \"no\"  \"no\"  \"no\"  \"no\"  \"no\"  \"no\" \n",
              "[1057] \"no\"  \"no\"  \"no\"  \"no\"  \"no\"  \"no\"  \"no\"  \"no\"  \"no\"  \"no\"  \"no\"  \"no\" \n",
              "[1069] \"no\"  \"no\"  \"no\"  \"no\"  \"no\"  \"no\"  \"no\"  \"no\"  \"no\"  \"no\"  \"no\"  \"no\" \n",
              "[1081] \"no\"  \"no\"  \"no\"  \"no\"  \"no\"  \"no\"  \"no\"  \"no\"  \"no\"  \"no\"  \"no\"  \"no\" \n",
              "[1093] \"no\"  \"no\"  \"no\"  \"no\"  \"no\"  \"no\"  \"no\"  \"no\"  \"no\"  \"no\"  \"no\"  \"no\" \n",
              "[1105] \"no\"  \"no\"  \"no\"  \"no\"  \"no\"  \"no\"  \"no\"  \"no\"  \"no\"  \"no\"  \"no\"  \"no\" \n",
              "[1117] \"no\"  \"no\"  \"no\"  \"no\"  \"no\"  \"no\"  \"no\"  \"no\"  \"no\"  \"no\"  \"no\"  \"no\" \n",
              "[1129] \"no\"  \"no\"  \"no\"  \"no\"  \"no\"  \"no\"  \"no\"  \"no\"  \"no\"  \"no\"  \"no\"  \"no\" \n",
              "[1141] \"no\"  \"no\"  \"no\"  \"no\"  \"no\"  \"no\"  \"no\"  \"no\"  \"no\"  \"no\"  \"no\"  \"no\" \n",
              "[1153] \"no\"  \"no\"  \"no\"  \"no\"  \"no\"  \"no\"  \"no\"  \"no\"  \"no\"  \"no\"  \"no\"  \"no\" \n",
              "[1165] \"no\"  \"no\"  \"no\"  \"no\"  \"no\"  \"no\"  \"no\"  \"no\"  \"no\"  \"no\"  \"no\"  \"no\" \n",
              "[1177] \"no\"  \"no\"  \"no\"  \"no\"  \"no\"  \"no\"  \"no\"  \"no\"  \"no\"  \"no\"  \"no\"  \"no\" \n",
              "[1189] \"no\"  \"no\"  \"no\"  \"no\"  \"no\"  \"no\"  \"no\"  \"no\"  \"no\"  \"no\"  \"no\"  \"no\" \n",
              "[1201] \"no\"  \"no\"  \"no\"  \"no\"  \"no\"  \"no\"  \"no\"  \"no\"  \"no\"  \"no\"  \"no\"  \"no\" \n",
              "[1213] \"no\"  \"no\"  \"no\"  \"no\"  \"no\"  \"no\"  \"no\"  \"no\"  \"no\"  \"no\"  \"no\"  \"no\" \n",
              "[1225] \"no\"  \"no\"  \"no\"  \"no\"  \"no\"  \"no\"  \"no\"  \"no\"  \"no\"  \"no\"  \"yes\" \"no\" \n",
              "[1237] \"no\"  \"no\"  \"no\"  \"no\"  \"no\"  \"no\"  \"no\"  \"no\"  \"no\"  \"no\"  \"no\"  \"no\" \n",
              "[1249] \"no\"  \"no\"  \"no\"  \"no\"  \"no\"  \"no\"  \"no\"  \"no\"  \"no\"  \"no\"  \"no\"  \"no\" \n",
              "[1261] \"no\"  \"no\"  \"no\"  \"no\"  \"no\"  \"no\"  \"no\"  \"no\"  \"no\"  \"no\"  \"no\"  \"no\" \n",
              "[1273] \"no\"  \"no\"  \"no\"  \"no\"  \"no\"  \"no\"  \"no\"  \"no\"  \"no\"  \"no\"  \"no\"  \"no\" \n",
              "[1285] \"no\"  \"no\"  \"no\"  \"no\"  \"no\"  \"no\"  \"no\"  \"no\"  \"no\"  \"no\"  \"no\"  \"no\" \n",
              "[1297] \"no\"  \"no\"  \"no\"  \"no\"  \"no\"  \"no\"  \"no\"  \"no\"  \"no\"  \"no\"  \"no\"  \"no\" \n",
              "[1309] \"no\"  \"no\"  \"no\"  \"no\"  \"no\"  \"yes\" \"no\"  \"no\"  \"no\"  \"no\"  \"no\"  \"no\" \n",
              "[1321] \"no\"  \"no\"  \"no\"  \"no\"  \"no\"  \"no\"  \"no\"  \"no\"  \"no\"  \"no\"  \"no\"  \"no\" \n",
              "[1333] \"no\"  \"no\"  \"no\"  \"no\"  \"no\"  \"no\"  \"no\"  \"no\"  \"no\"  \"no\"  \"no\"  \"no\" \n",
              "[1345] \"no\"  \"no\"  \"no\"  \"no\"  \"no\"  \"no\"  \"no\"  \"no\"  \"no\"  \"no\"  \"no\"  \"no\" \n",
              "[1357] \"no\"  \"no\"  \"no\"  \"no\"  \"no\"  \"no\"  \"no\"  \"no\"  \"no\"  \"no\"  \"yes\" \"no\" \n",
              "[1369] \"no\"  \"no\"  \"no\"  \"no\"  \"no\"  \"no\"  \"no\"  \"no\"  \"no\"  \"no\"  \"no\"  \"no\" \n",
              "[1381] \"no\"  \"no\"  \"no\"  \"no\"  \"no\"  \"no\"  \"no\"  \"no\"  \"no\"  \"no\"  \"no\"  \"no\" \n",
              "[1393] \"no\"  \"no\"  \"no\"  \"no\"  \"no\"  \"no\"  \"no\"  \"no\"  \"no\"  \"no\"  \"no\"  \"no\" \n",
              "[1405] \"no\"  \"no\"  \"no\"  \"no\"  \"no\"  \"no\"  \"no\"  \"no\"  \"no\"  \"no\"  \"no\"  \"no\" \n",
              "[1417] \"no\"  \"no\"  \"no\"  \"no\"  \"no\"  \"no\"  \"no\"  \"no\"  \"no\"  \"no\"  \"no\"  \"no\" \n",
              "[1429] \"no\"  \"no\"  \"no\"  \"no\"  \"no\"  \"no\"  \"no\"  \"no\"  \"no\"  \"yes\" \"yes\" \"no\" \n",
              "[1441] \"no\"  \"no\"  \"no\"  \"no\"  \"no\"  \"no\"  \"no\"  \"no\"  \"no\"  \"no\"  \"no\"  \"no\" \n",
              "[1453] \"no\"  \"no\"  \"no\"  \"no\"  \"no\"  \"no\"  \"no\"  \"no\"  \"no\"  \"no\"  \"no\"  \"no\" \n",
              "[1465] \"no\"  \"no\"  \"no\"  \"no\"  \"no\"  \"no\"  \"no\"  \"no\"  \"no\"  \"no\"  \"no\"  \"no\" \n",
              "[1477] \"no\"  \"no\"  \"no\"  \"no\"  \"no\"  \"no\"  \"no\"  \"no\"  \"no\"  \"no\"  \"no\"  \"no\" \n",
              "[1489] \"no\"  \"no\"  \"no\"  \"no\"  \"no\"  \"no\"  \"no\"  \"no\"  \"no\"  \"no\"  \"no\"  \"no\" \n",
              "[1501] \"no\"  \"no\"  \"no\"  \"no\"  \"no\"  \"no\"  \"no\"  \"no\"  \"no\"  \"no\"  \"no\"  \"no\" \n",
              "[1513] \"no\"  \"no\"  \"no\"  \"no\"  \"no\"  \"no\"  \"no\"  \"no\"  \"no\"  \"no\"  \"no\"  \"no\" \n",
              "[1525] \"no\"  \"no\"  \"no\"  \"no\"  \"no\"  \"no\"  \"no\"  \"no\"  \"no\"  \"no\"  \"no\"  \"no\" \n",
              "[1537] \"no\"  \"no\"  \"no\"  \"no\"  \"no\"  \"no\"  \"no\"  \"no\"  \"no\"  \"no\"  \"no\"  \"no\" \n",
              "[1549] \"no\"  \"no\"  \"no\"  \"no\"  \"no\"  \"no\"  \"no\"  \"no\"  \"no\"  \"no\"  \"no\"  \"no\" \n",
              "[1561] \"no\"  \"no\"  \"no\"  \"no\"  \"no\"  \"no\"  \"no\"  \"no\"  \"no\"  \"no\"  \"no\"  \"no\" \n",
              "[1573] \"no\"  \"no\"  \"no\"  \"no\"  \"no\"  \"no\"  \"no\"  \"no\"  \"no\"  \"no\"  \"no\"  \"no\" \n",
              "[1585] \"no\"  \"no\"  \"no\"  \"no\"  \"no\"  \"no\"  \"no\"  \"no\"  \"no\"  \"no\"  \"no\"  \"no\" \n",
              "[1597] \"no\"  \"no\"  \"no\"  \"no\"  \"no\"  \"no\"  \"no\"  \"no\"  \"no\"  \"no\"  \"no\"  \"no\" \n",
              "[1609] \"no\"  \"no\"  \"no\"  \"no\"  \"no\"  \"no\"  \"no\"  \"no\"  \"no\"  \"no\"  \"no\"  \"no\" \n",
              "[1621] \"no\"  \"no\"  \"no\"  \"no\"  \"no\"  \"no\"  \"no\"  \"no\"  \"no\"  \"no\"  \"no\"  \"no\" \n",
              "[1633] \"no\"  \"no\"  \"no\"  \"no\"  \"no\"  \"no\"  \"no\"  \"no\"  \"no\"  \"no\"  \"no\"  \"no\" \n",
              "[1645] \"no\"  \"no\"  \"no\"  \"no\"  \"no\"  \"no\"  \"no\"  \"no\"  \"no\"  \"no\"  \"no\"  \"yes\"\n",
              "[1657] \"no\"  \"no\"  \"no\"  \"no\"  \"no\"  \"no\"  \"no\"  \"no\"  \"no\"  \"no\"  \"no\"  \"no\" \n",
              "[1669] \"no\"  \"no\"  \"no\"  \"no\"  \"no\"  \"no\"  \"no\"  \"no\"  \"no\"  \"no\"  \"no\"  \"no\" \n",
              "[1681] \"no\"  \"no\"  \"no\"  \"no\"  \"no\"  \"no\"  \"no\"  \"no\"  \"no\"  \"no\"  \"no\"  \"no\" \n",
              "[1693] \"no\"  \"no\"  \"no\"  \"no\"  \"no\"  \"no\"  \"no\"  \"no\"  \"no\"  \"no\"  \"no\"  \"no\" \n",
              "[1705] \"no\"  \"no\"  \"no\"  \"no\"  \"no\"  \"no\"  \"no\"  \"no\"  \"no\"  \"no\"  \"no\"  \"no\" \n",
              "[1717] \"no\"  \"no\"  \"no\"  \"no\"  \"no\"  \"no\"  \"no\"  \"no\"  \"no\"  \"no\"  \"no\"  \"no\" \n",
              "[1729] \"no\"  \"no\"  \"no\"  \"no\"  \"no\"  \"no\"  \"no\"  \"no\"  \"no\"  \"no\"  \"no\"  \"no\" \n",
              "[1741] \"no\"  \"no\"  \"no\"  \"no\"  \"no\"  \"no\"  \"no\"  \"no\"  \"no\"  \"no\"  \"no\"  \"no\" \n",
              "[1753] \"no\"  \"no\"  \"no\"  \"no\"  \"no\"  \"no\"  \"no\"  \"no\"  \"no\"  \"no\"  \"no\"  \"no\" \n",
              "[1765] \"no\"  \"no\"  \"no\"  \"no\"  \"no\"  \"no\"  \"no\"  \"no\"  \"no\"  \"no\"  \"no\"  \"no\" \n",
              "[1777] \"no\"  \"no\"  \"no\"  \"no\"  \"no\"  \"no\"  \"no\"  \"no\"  \"no\"  \"no\"  \"no\"  \"no\" \n",
              "[1789] \"no\"  \"no\"  \"no\"  \"no\"  \"no\"  \"no\"  \"no\"  \"no\"  \"no\"  \"no\"  \"no\"  \"no\" \n",
              "[1801] \"no\"  \"no\"  \"no\"  \"no\"  \"no\"  \"no\"  \"no\"  \"no\"  \"no\"  \"no\"  \"no\"  \"no\" \n",
              "[1813] \"no\"  \"no\"  \"no\"  \"no\"  \"no\"  \"no\"  \"no\"  \"no\"  \"yes\" \"no\"  \"no\"  \"no\" \n",
              "[1825] \"no\"  \"no\"  \"no\"  \"no\"  \"no\"  \"no\"  \"no\"  \"no\"  \"no\"  \"no\"  \"no\"  \"no\" \n",
              "[1837] \"no\"  \"no\"  \"no\"  \"no\"  \"no\"  \"no\"  \"no\"  \"no\"  \"no\"  \"no\"  \"no\"  \"no\" \n",
              "[1849] \"no\"  \"no\"  \"no\"  \"no\"  \"no\"  \"no\"  \"no\"  \"no\"  \"no\"  \"no\"  \"no\"  \"no\" \n",
              "[1861] \"no\"  \"no\"  \"no\"  \"no\"  \"no\"  \"no\"  \"no\"  \"no\"  \"no\"  \"no\"  \"no\"  \"no\" \n",
              "[1873] \"no\"  \"no\"  \"no\"  \"no\"  \"no\"  \"no\"  \"no\"  \"no\"  \"no\"  \"no\"  \"no\"  \"no\" \n",
              "[1885] \"no\"  \"no\"  \"no\"  \"no\"  \"no\"  \"no\"  \"no\"  \"no\"  \"no\"  \"yes\" \"no\"  \"no\" \n",
              "[1897] \"no\"  \"no\"  \"no\"  \"no\"  \"no\"  \"no\"  \"no\"  \"no\"  \"no\"  \"no\"  \"no\"  \"no\" \n",
              "[1909] \"no\"  \"no\"  \"no\"  \"no\"  \"no\"  \"no\"  \"no\"  \"no\"  \"no\"  \"no\"  \"no\"  \"no\" \n",
              "[1921] \"no\"  \"no\"  \"no\"  \"no\"  \"no\"  \"no\"  \"no\"  \"no\"  \"no\"  \"no\"  \"no\"  \"no\" \n",
              "[1933] \"no\"  \"no\"  \"no\"  \"no\"  \"no\"  \"no\"  \"no\"  \"no\"  \"no\"  \"no\"  \"no\"  \"no\" \n",
              "[1945] \"no\"  \"no\"  \"no\"  \"no\"  \"no\"  \"no\"  \"no\"  \"no\"  \"no\"  \"no\"  \"no\"  \"no\" \n",
              "[1957] \"no\"  \"no\"  \"no\"  \"no\"  \"no\"  \"no\"  \"no\"  \"no\"  \"no\"  \"no\"  \"no\"  \"no\" \n",
              "[1969] \"no\"  \"no\"  \"no\"  \"no\"  \"no\"  \"no\"  \"no\"  \"no\"  \"no\"  \"no\"  \"no\"  \"no\" \n",
              "[1981] \"no\"  \"no\"  \"no\"  \"no\"  \"no\"  \"no\"  \"no\"  \"no\"  \"no\"  \"no\"  \"no\"  \"no\" \n",
              "[1993] \"no\"  \"no\"  \"no\"  \"no\"  \"no\"  \"no\"  \"no\"  \"no\"  \"no\"  \"no\"  \"no\"  \"no\" \n",
              "[2005] \"no\"  \"no\"  \"no\"  \"no\"  \"no\"  \"no\"  \"no\"  \"no\"  \"no\"  \"no\"  \"no\"  \"no\" \n",
              "[2017] \"no\"  \"no\"  \"no\"  \"no\"  \"no\"  \"no\"  \"no\"  \"no\"  \"no\"  \"no\"  \"no\"  \"no\" \n",
              "[2029] \"no\"  \"no\"  \"no\"  \"no\"  \"no\"  \"no\"  \"no\"  \"no\"  \"no\"  \"no\"  \"no\"  \"no\" \n",
              "[2041] \"no\"  \"no\"  \"no\"  \"no\"  \"no\"  \"no\"  \"no\"  \"no\"  \"no\"  \"yes\" \"yes\" \"no\" \n",
              "[2053] \"no\"  \"no\"  \"no\"  \"no\"  \"no\"  \"no\"  \"no\"  \"no\"  \"no\"  \"no\"  \"no\"  \"no\" \n",
              "[2065] \"no\"  \"no\"  \"no\"  \"no\"  \"no\"  \"no\"  \"no\"  \"no\"  \"no\"  \"no\"  \"no\"  \"no\" \n",
              "[2077] \"no\"  \"no\"  \"no\"  \"no\"  \"no\"  \"no\"  \"no\"  \"no\"  \"no\"  \"no\"  \"no\"  \"no\" \n",
              "[2089] \"no\"  \"no\"  \"no\"  \"no\"  \"no\"  \"no\"  \"no\"  \"no\"  \"no\"  \"no\"  \"no\"  \"no\" \n",
              "[2101] \"yes\" \"no\"  \"no\"  \"no\"  \"no\"  \"no\"  \"no\"  \"no\"  \"no\"  \"no\"  \"no\"  \"no\" \n",
              "[2113] \"no\"  \"no\"  \"no\"  \"no\"  \"no\"  \"no\"  \"no\"  \"no\"  \"yes\" \"no\"  \"no\"  \"no\" \n",
              "[2125] \"no\"  \"no\"  \"yes\" \"no\"  \"yes\" \"no\"  \"no\"  \"no\"  \"no\"  \"no\"  \"no\"  \"no\" \n",
              "[2137] \"no\"  \"no\"  \"no\"  \"no\"  \"no\"  \"no\"  \"no\"  \"no\"  \"no\"  \"no\"  \"no\"  \"no\" \n",
              "[2149] \"no\"  \"no\"  \"no\"  \"no\"  \"no\"  \"no\"  \"no\"  \"no\"  \"no\"  \"no\"  \"no\"  \"no\" \n",
              "[2161] \"no\"  \"no\"  \"no\"  \"no\"  \"no\"  \"no\"  \"no\"  \"no\"  \"no\"  \"no\"  \"no\"  \"no\" \n",
              "[2173] \"no\"  \"no\"  \"no\"  \"no\"  \"no\"  \"no\"  \"no\"  \"no\"  \"no\"  \"no\"  \"no\"  \"no\" \n",
              "[2185] \"no\"  \"no\"  \"no\"  \"no\"  \"no\"  \"no\"  \"no\"  \"no\"  \"no\"  \"no\"  \"no\"  \"no\" \n",
              "[2197] \"no\"  \"no\"  \"no\"  \"no\"  \"no\"  \"no\"  \"no\"  \"no\"  \"no\"  \"no\"  \"no\"  \"no\" \n",
              "[2209] \"no\"  \"no\"  \"no\"  \"no\"  \"no\"  \"no\"  \"no\"  \"no\"  \"no\"  \"no\"  \"no\"  \"no\" \n",
              "[2221] \"no\"  \"no\"  \"no\"  \"no\"  \"no\"  \"no\"  \"no\"  \"no\"  \"no\"  \"no\"  \"no\"  \"no\" \n",
              "[2233] \"no\"  \"no\"  \"no\"  \"no\"  \"no\"  \"no\"  \"no\"  \"no\"  \"no\"  \"no\"  \"no\"  \"no\" \n",
              "[2245] \"no\"  \"no\"  \"no\"  \"no\"  \"no\"  \"no\"  \"no\"  \"no\"  \"no\"  \"no\"  \"no\"  \"no\" \n",
              "[2257] \"no\"  \"yes\" \"no\"  \"no\"  \"no\"  \"no\"  \"no\"  \"no\"  \"no\"  \"no\"  \"no\"  \"no\" \n",
              "[2269] \"no\"  \"no\"  \"no\"  \"no\"  \"no\"  \"no\"  \"no\"  \"no\"  \"no\"  \"no\"  \"no\"  \"no\" \n",
              "[2281] \"no\"  \"no\"  \"no\"  \"no\"  \"no\"  \"no\"  \"no\"  \"no\"  \"no\"  \"no\"  \"no\"  \"no\" \n",
              "[2293] \"no\"  \"no\"  \"no\"  \"no\"  \"yes\" \"no\"  \"no\"  \"no\"  \"no\"  \"no\"  \"no\"  \"no\" \n",
              "[2305] \"no\"  \"no\"  \"no\"  \"no\"  \"no\"  \"no\"  \"no\"  \"no\"  \"no\"  \"no\"  \"no\"  \"no\" \n",
              "[2317] \"no\"  \"no\"  \"no\"  \"no\"  \"no\"  \"no\"  \"no\"  \"no\"  \"no\"  \"no\"  \"no\"  \"no\" \n",
              "[2329] \"no\"  \"no\"  \"no\"  \"no\"  \"no\"  \"no\"  \"no\"  \"no\"  \"no\"  \"no\"  \"no\"  \"no\" \n",
              "[2341] \"no\"  \"no\"  \"no\"  \"no\"  \"no\"  \"no\"  \"no\"  \"no\"  \"no\"  \"no\"  \"no\"  \"no\" \n",
              "[2353] \"no\"  \"no\"  \"no\"  \"no\"  \"no\"  \"no\"  \"no\"  \"no\"  \"no\"  \"no\"  \"no\"  \"no\" \n",
              "[2365] \"no\"  \"no\"  \"no\"  \"no\"  \"no\"  \"no\"  \"no\"  \"no\"  \"no\"  \"no\"  \"no\"  \"no\" \n",
              "[2377] \"no\"  \"no\"  \"no\"  \"no\"  \"no\"  \"no\"  \"no\"  \"no\"  \"no\"  \"no\"  \"no\"  \"no\" \n",
              "[2389] \"no\"  \"no\"  \"no\"  \"no\"  \"no\"  \"no\"  \"no\"  \"no\"  \"no\"  \"no\"  \"no\"  \"no\" \n",
              "[2401] \"no\"  \"no\"  \"no\"  \"no\"  \"no\"  \"no\"  \"no\"  \"no\"  \"no\"  \"no\"  \"no\"  \"no\" \n",
              "[2413] \"no\"  \"no\"  \"no\"  \"no\"  \"no\"  \"no\"  \"no\"  \"no\"  \"no\"  \"no\"  \"no\"  \"no\" \n",
              "[2425] \"no\"  \"no\"  \"no\"  \"no\"  \"no\"  \"no\"  \"no\"  \"no\"  \"no\"  \"no\"  \"no\"  \"no\" \n",
              "[2437] \"no\"  \"no\"  \"no\"  \"no\"  \"no\"  \"no\"  \"no\"  \"no\"  \"no\"  \"no\"  \"no\"  \"no\" \n",
              "[2449] \"no\"  \"no\"  \"no\"  \"no\"  \"no\"  \"no\"  \"no\"  \"no\"  \"no\"  \"no\"  \"no\"  \"no\" \n",
              "[2461] \"no\"  \"no\"  \"no\"  \"no\"  \"no\"  \"no\"  \"no\"  \"no\"  \"no\"  \"no\"  \"yes\" \"no\" \n",
              "[2473] \"no\"  \"no\"  \"no\"  \"no\"  \"no\"  \"no\"  \"no\"  \"no\"  \"no\"  \"no\"  \"no\"  \"no\" \n",
              "[2485] \"no\"  \"no\"  \"no\"  \"no\"  \"no\"  \"no\"  \"yes\" \"no\"  \"no\"  \"no\"  \"no\"  \"no\" \n",
              "[2497] \"no\"  \"no\"  \"yes\" \"no\"  \"no\"  \"no\"  \"no\"  \"no\"  \"no\"  \"no\"  \"no\"  \"no\" \n",
              "[2509] \"no\"  \"no\"  \"no\"  \"no\"  \"no\"  \"no\"  \"no\"  \"no\"  \"no\"  \"no\"  \"no\"  \"no\" \n",
              "[2521] \"no\"  \"no\"  \"no\"  \"no\"  \"no\"  \"no\"  \"no\"  \"no\"  \"no\"  \"no\"  \"no\"  \"no\" \n",
              "[2533] \"no\"  \"no\"  \"no\"  \"no\"  \"no\"  \"no\"  \"no\"  \"no\"  \"no\"  \"no\"  \"no\"  \"no\" \n",
              "[2545] \"no\"  \"no\"  \"no\"  \"no\"  \"no\"  \"no\"  \"no\"  \"no\"  \"no\"  \"no\"  \"no\"  \"no\" \n",
              "[2557] \"no\"  \"no\"  \"no\"  \"no\"  \"no\"  \"no\"  \"no\"  \"no\"  \"no\"  \"no\"  \"no\"  \"no\" \n",
              "[2569] \"no\"  \"no\"  \"no\"  \"no\"  \"no\"  \"no\"  \"no\"  \"no\"  \"no\"  \"no\"  \"no\"  \"no\" \n",
              "[2581] \"no\"  \"no\"  \"no\"  \"no\"  \"no\"  \"no\"  \"yes\" \"no\"  \"no\"  \"no\"  \"no\"  \"no\" \n",
              "[2593] \"no\"  \"no\"  \"no\"  \"yes\" \"no\"  \"no\"  \"no\"  \"no\"  \"no\"  \"no\"  \"no\"  \"no\" \n",
              "[2605] \"no\"  \"no\"  \"no\"  \"no\"  \"no\"  \"no\"  \"no\"  \"no\"  \"no\"  \"no\"  \"no\"  \"no\" \n",
              "[2617] \"no\"  \"no\"  \"no\"  \"no\"  \"no\"  \"no\"  \"no\"  \"no\"  \"no\"  \"no\"  \"no\"  \"no\" \n",
              "[2629] \"no\"  \"no\"  \"no\"  \"no\"  \"no\"  \"no\"  \"no\"  \"no\"  \"no\"  \"no\"  \"no\"  \"no\" \n",
              "[2641] \"no\"  \"no\"  \"no\"  \"no\"  \"no\"  \"no\"  \"no\"  \"no\"  \"no\"  \"no\"  \"no\"  \"no\" \n",
              "[2653] \"no\"  \"no\"  \"no\"  \"no\"  \"no\"  \"no\"  \"no\"  \"no\"  \"no\"  \"no\"  \"no\"  \"no\" \n",
              "[2665] \"no\"  \"no\"  \"no\"  \"no\"  \"no\"  \"no\"  \"no\"  \"no\"  \"no\"  \"no\"  \"no\"  \"no\" \n",
              "[2677] \"no\"  \"no\"  \"no\"  \"no\"  \"no\"  \"no\"  \"no\"  \"no\"  \"no\"  \"no\"  \"no\"  \"no\" \n",
              "[2689] \"no\"  \"no\"  \"no\"  \"no\"  \"no\"  \"no\"  \"no\"  \"no\"  \"no\"  \"no\"  \"no\"  \"no\" \n",
              "[2701] \"no\"  \"no\"  \"no\"  \"no\"  \"no\"  \"no\"  \"no\"  \"no\"  \"no\"  \"no\"  \"no\"  \"no\" \n",
              "[2713] \"no\"  \"no\"  \"no\"  \"no\"  \"no\"  \"no\"  \"no\"  \"no\"  \"no\"  \"no\"  \"no\"  \"no\" \n",
              "[2725] \"no\"  \"no\"  \"no\"  \"no\"  \"no\"  \"no\"  \"no\"  \"no\"  \"no\"  \"no\"  \"no\"  \"no\" \n",
              "[2737] \"no\"  \"no\"  \"yes\" \"no\"  \"no\"  \"no\"  \"no\"  \"no\"  \"no\"  \"no\"  \"no\"  \"no\" \n",
              "[2749] \"no\"  \"no\"  \"no\"  \"no\"  \"no\"  \"no\"  \"no\"  \"no\"  \"no\"  \"no\"  \"no\"  \"no\" \n",
              "[2761] \"no\"  \"no\"  \"no\"  \"no\"  \"no\"  \"no\"  \"no\"  \"no\"  \"no\"  \"no\"  \"no\"  \"no\" \n",
              "[2773] \"no\"  \"yes\" \"no\"  \"no\"  \"no\"  \"no\"  \"no\"  \"no\"  \"no\"  \"no\"  \"no\"  \"no\" \n",
              "[2785] \"no\"  \"no\"  \"no\"  \"no\"  \"no\"  \"no\"  \"no\"  \"no\"  \"no\"  \"no\"  \"no\"  \"no\" \n",
              "[2797] \"yes\" \"no\"  \"no\"  \"no\"  \"no\"  \"no\"  \"no\"  \"no\"  \"no\"  \"no\"  \"no\"  \"no\" \n",
              "[2809] \"no\"  \"no\"  \"no\"  \"no\"  \"no\"  \"no\"  \"no\"  \"no\"  \"no\"  \"no\"  \"no\"  \"no\" \n",
              "[2821] \"no\"  \"no\"  \"no\"  \"no\"  \"no\"  \"no\"  \"no\"  \"no\"  \"no\"  \"no\"  \"no\"  \"no\" \n",
              "[2833] \"no\"  \"no\"  \"no\"  \"no\"  \"no\"  \"no\"  \"no\"  \"no\"  \"no\"  \"no\"  \"no\"  \"no\" \n",
              "[2845] \"no\"  \"no\"  \"no\"  \"no\"  \"no\"  \"no\"  \"yes\" \"no\"  \"no\"  \"no\"  \"no\"  \"no\" \n",
              "[2857] \"no\"  \"no\"  \"no\"  \"no\"  \"no\"  \"no\"  \"no\"  \"no\"  \"no\"  \"no\"  \"no\"  \"no\" \n",
              "[2869] \"no\"  \"no\"  \"no\"  \"no\"  \"no\"  \"no\"  \"no\"  \"no\"  \"no\"  \"yes\" \"no\"  \"no\" \n",
              "[2881] \"no\"  \"no\"  \"no\"  \"no\"  \"no\"  \"no\"  \"no\"  \"no\"  \"no\"  \"no\"  \"no\"  \"no\" \n",
              "[2893] \"no\"  \"no\"  \"no\"  \"no\"  \"no\"  \"no\"  \"no\"  \"no\"  \"no\"  \"no\"  \"no\"  \"no\" \n",
              "[2905] \"no\"  \"no\"  \"no\"  \"no\"  \"no\"  \"no\"  \"no\"  \"no\"  \"no\"  \"no\"  \"no\"  \"no\" \n",
              "[2917] \"no\"  \"no\"  \"no\"  \"no\"  \"no\"  \"no\"  \"no\"  \"no\"  \"no\"  \"no\"  \"no\"  \"no\" \n",
              "[2929] \"no\"  \"no\"  \"no\"  \"no\"  \"no\"  \"no\"  \"no\"  \"no\"  \"no\"  \"no\"  \"no\"  \"no\" \n",
              "[2941] \"no\"  \"no\"  \"no\"  \"no\"  \"yes\" \"no\"  \"no\"  \"no\"  \"no\"  \"no\"  \"no\"  \"no\" \n",
              "[2953] \"no\"  \"no\"  \"no\"  \"no\"  \"no\"  \"no\"  \"no\"  \"yes\" \"no\"  \"no\"  \"no\"  \"no\" \n",
              "[2965] \"no\"  \"no\"  \"no\"  \"no\"  \"no\"  \"no\"  \"no\"  \"no\"  \"no\"  \"no\"  \"no\"  \"no\" \n",
              "[2977] \"no\"  \"no\"  \"no\"  \"no\"  \"no\"  \"no\"  \"no\"  \"no\"  \"no\"  \"no\"  \"no\"  \"no\" \n",
              "[2989] \"no\"  \"no\"  \"no\"  \"no\"  \"no\"  \"no\"  \"no\"  \"no\"  \"no\"  \"no\"  \"no\"  \"no\" \n",
              "[3001] \"no\"  \"no\"  \"no\"  \"no\"  \"no\"  \"no\"  \"no\"  \"no\"  \"no\"  \"no\"  \"no\"  \"no\" \n",
              "[3013] \"no\"  \"no\"  \"no\"  \"no\"  \"no\"  \"no\"  \"no\"  \"no\"  \"no\"  \"no\"  \"no\"  \"no\" \n",
              "[3025] \"no\"  \"no\"  \"no\"  \"no\"  \"no\"  \"no\"  \"no\"  \"no\"  \"no\"  \"no\"  \"no\"  \"no\" \n",
              "[3037] \"no\"  \"no\"  \"yes\" \"no\"  \"no\"  \"no\"  \"no\"  \"no\"  \"no\"  \"no\"  \"no\"  \"no\" \n",
              "[3049] \"no\"  \"no\"  \"no\"  \"no\"  \"no\"  \"no\"  \"no\"  \"no\"  \"no\"  \"no\"  \"no\"  \"no\" \n",
              "[3061] \"no\"  \"no\"  \"no\"  \"no\"  \"no\"  \"no\"  \"no\"  \"no\"  \"no\"  \"no\"  \"no\"  \"no\" \n",
              "[3073] \"no\"  \"no\"  \"no\"  \"no\"  \"no\"  \"no\"  \"no\"  \"no\"  \"no\"  \"no\"  \"no\"  \"no\" \n",
              "[3085] \"no\"  \"no\"  \"no\"  \"no\"  \"no\"  \"no\"  \"no\"  \"no\"  \"no\"  \"no\"  \"no\"  \"no\" \n",
              "[3097] \"no\"  \"no\"  \"no\"  \"no\"  \"no\"  \"no\"  \"no\"  \"no\"  \"no\"  \"no\"  \"no\"  \"no\" \n",
              "[3109] \"no\"  \"no\"  \"no\"  \"no\"  \"no\"  \"no\"  \"no\"  \"no\"  \"no\"  \"no\"  \"no\"  \"no\" \n",
              "[3121] \"no\"  \"no\"  \"no\"  \"no\"  \"no\"  \"no\"  \"no\"  \"no\"  \"no\"  \"no\"  \"no\"  \"no\" \n",
              "[3133] \"no\"  \"no\"  \"no\"  \"no\"  \"no\"  \"no\"  \"yes\" \"no\"  \"no\"  \"no\"  \"no\"  \"no\" \n",
              "[3145] \"yes\" \"no\"  \"no\"  \"no\"  \"no\"  \"yes\" \"no\"  \"no\"  \"no\"  \"no\"  \"no\"  \"no\" \n",
              "[3157] \"no\"  \"yes\" \"no\"  \"no\"  \"no\"  \"no\"  \"no\"  \"no\"  \"no\"  \"no\"  \"no\"  \"no\" \n",
              "[3169] \"no\"  \"no\"  \"no\"  \"no\"  \"no\"  \"no\"  \"no\"  \"no\"  \"no\"  \"no\"  \"no\"  \"no\" \n",
              "[3181] \"no\"  \"no\"  \"no\"  \"no\"  \"no\"  \"no\"  \"no\"  \"no\"  \"no\"  \"no\"  \"no\"  \"no\" \n",
              "[3193] \"no\"  \"no\"  \"no\"  \"no\"  \"no\"  \"no\"  \"no\"  \"no\"  \"yes\" \"yes\" \"no\"  \"no\" \n",
              "[3205] \"no\"  \"no\"  \"yes\" \"no\"  \"yes\" \"no\"  \"no\"  \"no\"  \"no\"  \"no\"  \"no\"  \"no\" \n",
              "[3217] \"no\"  \"no\"  \"no\"  \"no\"  \"no\"  \"no\"  \"no\"  \"no\"  \"no\"  \"no\"  \"no\"  \"no\" \n",
              "[3229] \"no\"  \"no\"  \"no\"  \"no\"  \"no\"  \"yes\" \"no\"  \"no\"  \"no\"  \"no\"  \"no\"  \"no\" \n",
              "[3241] \"no\"  \"no\"  \"no\"  \"no\"  \"no\"  \"no\"  \"no\"  \"no\"  \"no\"  \"no\"  \"no\"  \"no\" \n",
              "[3253] \"no\"  \"no\"  \"no\"  \"no\"  \"no\"  \"no\"  \"no\"  \"no\"  \"no\"  \"no\"  \"no\"  \"no\" \n",
              "[3265] \"no\"  \"no\"  \"no\"  \"no\"  \"no\"  \"no\"  \"no\"  \"no\"  \"no\"  \"no\"  \"no\"  \"no\" \n",
              "[3277] \"no\"  \"no\"  \"no\"  \"no\"  \"no\"  \"no\"  \"no\"  \"no\"  \"no\"  \"no\"  \"no\"  \"no\" \n",
              "[3289] \"no\"  \"no\"  \"no\"  \"no\"  \"no\"  \"no\"  \"no\"  \"no\"  \"no\"  \"no\"  \"no\"  \"no\" \n",
              "[3301] \"no\"  \"no\"  \"no\"  \"no\"  \"no\"  \"no\"  \"no\"  \"no\"  \"no\"  \"no\"  \"no\"  \"no\" \n",
              "[3313] \"no\"  \"no\"  \"no\"  \"no\"  \"no\"  \"no\"  \"no\"  \"no\"  \"no\"  \"no\"  \"no\"  \"no\" \n",
              "[3325] \"no\"  \"no\"  \"no\"  \"no\"  \"no\"  \"no\"  \"no\"  \"no\"  \"no\"  \"no\"  \"no\"  \"no\" \n",
              "[3337] \"no\"  \"no\"  \"no\"  \"no\"  \"no\"  \"no\"  \"no\"  \"no\"  \"no\"  \"no\"  \"no\"  \"no\" \n",
              "[3349] \"no\"  \"no\"  \"no\"  \"no\"  \"no\"  \"no\"  \"no\"  \"no\"  \"no\"  \"no\"  \"no\"  \"no\" \n",
              "[3361] \"yes\" \"no\"  \"no\"  \"no\"  \"no\"  \"no\"  \"no\"  \"no\"  \"no\"  \"no\"  \"no\"  \"no\" \n",
              "[3373] \"no\"  \"no\"  \"no\"  \"no\"  \"no\"  \"no\"  \"yes\" \"no\"  \"no\"  \"no\"  \"no\"  \"no\" \n",
              "[3385] \"no\"  \"no\"  \"no\"  \"no\"  \"no\"  \"no\"  \"no\"  \"no\"  \"no\"  \"no\"  \"no\"  \"no\" \n",
              "[3397] \"no\"  \"no\"  \"no\"  \"no\"  \"no\"  \"no\"  \"no\"  \"no\"  \"no\"  \"no\"  \"no\"  \"no\" \n",
              "[3409] \"no\"  \"no\"  \"no\"  \"no\"  \"no\"  \"no\"  \"no\"  \"no\"  \"no\"  \"no\"  \"no\"  \"no\" \n",
              "[3421] \"no\"  \"no\"  \"no\"  \"no\"  \"no\"  \"yes\" \"no\"  \"no\"  \"no\"  \"no\"  \"no\"  \"no\" \n",
              "[3433] \"no\"  \"no\"  \"no\"  \"no\"  \"no\"  \"no\"  \"no\"  \"no\"  \"no\"  \"no\"  \"no\"  \"no\" \n",
              "[3445] \"no\"  \"no\"  \"no\"  \"no\"  \"yes\" \"no\"  \"no\"  \"no\"  \"no\"  \"no\"  \"no\"  \"no\" \n",
              "[3457] \"no\"  \"no\"  \"no\"  \"no\"  \"no\"  \"no\"  \"no\"  \"no\"  \"no\"  \"no\"  \"no\"  \"no\" \n",
              "[3469] \"no\"  \"no\"  \"no\"  \"no\"  \"no\"  \"no\"  \"no\"  \"no\"  \"no\"  \"no\"  \"no\"  \"no\" \n",
              "[3481] \"no\"  \"no\"  \"no\"  \"no\"  \"no\"  \"no\"  \"no\"  \"no\"  \"no\"  \"no\"  \"no\"  \"no\" \n",
              "[3493] \"no\"  \"no\"  \"no\"  \"no\"  \"no\"  \"no\"  \"no\"  \"no\"  \"no\"  \"no\"  \"no\"  \"no\" \n",
              "[3505] \"no\"  \"no\"  \"no\"  \"no\"  \"no\"  \"no\"  \"no\"  \"no\"  \"no\"  \"no\"  \"no\"  \"no\" \n",
              "[3517] \"no\"  \"no\"  \"no\"  \"no\"  \"no\"  \"no\"  \"no\"  \"no\"  \"no\"  \"no\"  \"no\"  \"no\" \n",
              "[3529] \"no\"  \"no\"  \"no\"  \"no\"  \"no\"  \"no\"  \"no\"  \"no\"  \"no\"  \"no\"  \"no\"  \"no\" \n",
              "[3541] \"no\"  \"no\"  \"no\"  \"no\"  \"no\"  \"no\"  \"no\"  \"no\"  \"no\"  \"no\"  \"no\"  \"no\" \n",
              "[3553] \"no\"  \"no\"  \"no\"  \"no\"  \"no\"  \"no\"  \"no\"  \"no\"  \"no\"  \"no\"  \"no\"  \"no\" \n",
              "[3565] \"no\"  \"no\"  \"no\"  \"yes\" \"no\"  \"no\"  \"no\"  \"no\"  \"no\"  \"no\"  \"no\"  \"no\" \n",
              "[3577] \"no\"  \"no\"  \"no\"  \"no\"  \"no\"  \"no\"  \"no\"  \"no\"  \"no\"  \"no\"  \"no\"  \"no\" \n",
              "[3589] \"no\"  \"no\"  \"no\"  \"no\"  \"no\"  \"no\"  \"no\"  \"no\"  \"no\"  \"no\"  \"no\"  \"no\" \n",
              "[3601] \"no\"  \"no\"  \"no\"  \"no\"  \"no\"  \"no\"  \"no\"  \"no\"  \"no\"  \"no\"  \"no\"  \"no\" \n",
              "[3613] \"no\"  \"no\"  \"no\"  \"no\"  \"no\"  \"no\"  \"no\"  \"no\"  \"no\"  \"no\"  \"no\"  \"no\" \n",
              "[3625] \"no\"  \"no\"  \"no\"  \"no\"  \"no\"  \"no\"  \"no\"  \"no\"  \"no\"  \"no\"  \"no\"  \"no\" \n",
              "[3637] \"no\"  \"no\"  \"no\"  \"no\"  \"no\"  \"no\"  \"no\"  \"no\"  \"no\"  \"yes\" \"no\"  \"no\" \n",
              "[3649] \"no\"  \"no\"  \"no\"  \"no\"  \"no\"  \"no\"  \"no\"  \"no\"  \"no\"  \"no\"  \"no\"  \"no\" \n",
              "[3661] \"no\"  \"no\"  \"no\"  \"no\"  \"no\"  \"no\"  \"no\"  \"no\"  \"no\"  \"no\"  \"no\"  \"no\" \n",
              "[3673] \"no\"  \"no\"  \"no\"  \"no\"  \"no\"  \"no\"  \"no\"  \"no\"  \"no\"  \"no\"  \"no\"  \"no\" \n",
              "[3685] \"no\"  \"no\"  \"no\"  \"no\"  \"no\"  \"no\"  \"no\"  \"no\"  \"no\"  \"no\"  \"no\"  \"no\" \n",
              "[3697] \"no\"  \"no\"  \"no\"  \"no\"  \"no\"  \"no\"  \"no\"  \"no\"  \"no\"  \"no\"  \"no\"  \"no\" \n",
              "[3709] \"no\"  \"no\"  \"no\"  \"no\"  \"no\"  \"no\"  \"no\"  \"no\"  \"no\"  \"no\"  \"no\"  \"no\" \n",
              "[3721] \"no\"  \"no\"  \"no\"  \"yes\" \"no\"  \"no\"  \"no\"  \"no\"  \"no\"  \"no\"  \"yes\" \"yes\"\n",
              "[3733] \"no\"  \"no\"  \"no\"  \"no\"  \"no\"  \"no\"  \"no\"  \"no\"  \"no\"  \"no\"  \"no\"  \"no\" \n",
              "[3745] \"no\"  \"no\"  \"no\"  \"no\"  \"no\"  \"no\"  \"no\"  \"no\"  \"no\"  \"no\"  \"no\"  \"no\" \n",
              "[3757] \"no\"  \"no\"  \"no\"  \"no\"  \"no\"  \"no\"  \"no\"  \"no\"  \"no\"  \"no\"  \"no\"  \"no\" \n",
              "[3769] \"no\"  \"no\"  \"no\"  \"no\"  \"no\"  \"no\"  \"no\"  \"no\"  \"no\"  \"no\"  \"no\"  \"no\" \n",
              "[3781] \"no\"  \"no\"  \"no\"  \"no\"  \"no\"  \"no\"  \"no\"  \"no\"  \"no\"  \"no\"  \"no\"  \"no\" \n",
              "[3793] \"no\"  \"no\"  \"no\"  \"no\"  \"no\"  \"no\"  \"no\"  \"no\"  \"no\"  \"no\"  \"no\"  \"no\" \n",
              "[3805] \"no\"  \"no\"  \"no\"  \"no\"  \"no\"  \"no\"  \"no\"  \"no\"  \"no\"  \"no\"  \"no\"  \"no\" \n",
              "[3817] \"no\"  \"no\"  \"no\"  \"no\"  \"no\"  \"no\"  \"no\"  \"no\"  \"no\"  \"no\"  \"no\"  \"no\" \n",
              "[3829] \"no\"  \"no\"  \"no\"  \"no\"  \"no\"  \"no\"  \"no\"  \"no\"  \"no\"  \"no\"  \"no\"  \"no\" \n",
              "[3841] \"no\"  \"no\"  \"no\"  \"no\"  \"no\"  \"no\"  \"no\"  \"no\"  \"no\"  \"no\"  \"no\"  \"no\" \n",
              "[3853] \"no\"  \"no\"  \"no\"  \"no\"  \"no\"  \"no\"  \"no\"  \"no\"  \"no\"  \"no\"  \"no\"  \"no\" \n",
              "[3865] \"no\"  \"no\"  \"no\"  \"no\"  \"no\"  \"no\"  \"no\"  \"no\"  \"no\"  \"no\"  \"no\"  \"no\" \n",
              "[3877] \"no\"  \"no\"  \"no\"  \"no\"  \"no\"  \"no\"  \"no\"  \"no\"  \"no\"  \"no\"  \"no\"  \"no\" \n",
              "[3889] \"no\"  \"no\"  \"no\"  \"no\"  \"no\"  \"no\"  \"no\"  \"no\"  \"no\"  \"no\"  \"no\"  \"no\" \n",
              "[3901] \"no\"  \"no\"  \"no\"  \"no\"  \"no\"  \"no\"  \"no\"  \"no\"  \"no\"  \"no\"  \"no\"  \"no\" \n",
              "[3913] \"no\"  \"no\"  \"no\"  \"no\"  \"no\"  \"no\"  \"no\"  \"no\"  \"no\"  \"no\"  \"no\"  \"no\" \n",
              "[3925] \"no\"  \"yes\" \"no\"  \"no\"  \"yes\" \"yes\" \"no\"  \"no\"  \"no\"  \"no\"  \"no\"  \"no\" \n",
              "[3937] \"no\"  \"no\"  \"no\"  \"no\"  \"no\"  \"no\"  \"no\"  \"no\"  \"no\"  \"no\"  \"no\"  \"no\" \n",
              "[3949] \"no\"  \"no\"  \"no\"  \"no\"  \"no\"  \"no\"  \"no\"  \"no\"  \"no\"  \"no\"  \"no\"  \"no\" \n",
              "[3961] \"no\"  \"no\"  \"no\"  \"no\"  \"no\"  \"no\"  \"no\"  \"no\"  \"no\"  \"no\"  \"no\"  \"no\" \n",
              "[3973] \"no\"  \"no\"  \"no\"  \"no\"  \"no\"  \"no\"  \"no\"  \"no\"  \"no\"  \"no\"  \"no\"  \"no\" \n",
              "[3985] \"no\"  \"no\"  \"no\"  \"no\"  \"no\"  \"no\"  \"no\"  \"no\"  \"no\"  \"no\"  \"no\"  \"no\" \n",
              "[3997] \"no\"  \"no\"  \"no\"  \"no\"  \"no\"  \"no\"  \"no\"  \"no\"  \"no\"  \"no\"  \"no\"  \"no\" \n",
              "[4009] \"no\"  \"no\"  \"no\"  \"no\"  \"no\"  \"no\"  \"no\"  \"no\"  \"no\"  \"no\"  \"no\"  \"no\" \n",
              "[4021] \"no\"  \"no\"  \"no\"  \"no\"  \"no\"  \"no\"  \"no\"  \"no\"  \"no\"  \"no\"  \"no\"  \"no\" \n",
              "[4033] \"no\"  \"no\"  \"no\"  \"no\"  \"no\"  \"no\"  \"no\"  \"no\"  \"no\"  \"no\"  \"no\"  \"no\" \n",
              "[4045] \"no\"  \"yes\" \"no\"  \"no\"  \"no\"  \"no\"  \"no\"  \"no\"  \"no\"  \"no\"  \"no\"  \"no\" \n",
              "[4057] \"no\"  \"no\"  \"no\"  \"no\"  \"no\"  \"no\"  \"no\"  \"no\"  \"no\"  \"no\"  \"no\"  \"no\" \n",
              "[4069] \"no\"  \"no\"  \"no\"  \"no\"  \"no\"  \"no\"  \"no\"  \"no\"  \"no\"  \"no\"  \"no\"  \"no\" \n",
              "[4081] \"no\"  \"no\"  \"no\"  \"no\"  \"no\"  \"no\"  \"no\"  \"no\"  \"no\"  \"no\"  \"no\"  \"no\" \n",
              "[4093] \"no\"  \"no\"  \"no\"  \"no\"  \"no\"  \"no\"  \"no\"  \"no\"  \"no\"  \"no\"  \"no\"  \"no\" \n",
              "[4105] \"no\"  \"no\"  \"no\"  \"no\"  \"no\"  \"no\"  \"no\"  \"no\"  \"no\"  \"no\"  \"no\"  \"no\" \n",
              "[4117] \"no\"  \"no\"  \"no\"  \"no\"  \"no\"  \"no\"  \"no\"  \"no\"  \"no\"  \"no\"  \"no\"  \"no\" \n",
              "[4129] \"no\"  \"no\"  \"no\"  \"no\"  \"no\"  \"no\"  \"no\"  \"no\"  \"no\"  \"no\"  \"no\"  \"no\" \n",
              "[4141] \"no\"  \"no\"  \"no\"  \"no\"  \"no\"  \"no\"  \"no\"  \"no\"  \"no\"  \"no\"  \"no\"  \"no\" \n",
              "[4153] \"no\"  \"no\"  \"no\"  \"no\"  \"no\"  \"no\"  \"no\"  \"no\"  \"no\"  \"no\"  \"no\"  \"no\" \n",
              "[4165] \"no\"  \"no\"  \"no\"  \"no\"  \"no\"  \"no\"  \"no\"  \"no\"  \"no\"  \"no\"  \"no\"  \"no\" \n",
              "[4177] \"no\"  \"no\"  \"no\"  \"no\"  \"no\"  \"no\"  \"no\"  \"no\"  \"no\"  \"no\"  \"no\"  \"no\" \n",
              "[4189] \"no\"  \"no\"  \"no\"  \"no\"  \"no\"  \"no\"  \"no\"  \"yes\" \"no\"  \"no\"  \"no\"  \"no\" \n",
              "[4201] \"no\"  \"no\"  \"no\"  \"no\"  \"no\"  \"no\"  \"no\"  \"no\"  \"no\"  \"no\"  \"no\"  \"no\" \n",
              "[4213] \"no\"  \"no\"  \"no\"  \"no\"  \"no\"  \"no\"  \"no\"  \"no\"  \"no\"  \"no\"  \"no\"  \"no\" \n",
              "[4225] \"no\"  \"no\"  \"no\"  \"no\"  \"no\"  \"no\"  \"no\"  \"no\"  \"no\"  \"no\"  \"no\"  \"no\" \n",
              "[4237] \"no\"  \"no\"  \"no\"  \"no\"  \"no\"  \"no\"  \"no\"  \"no\"  \"no\"  \"no\"  \"no\"  \"no\" \n",
              "[4249] \"no\"  \"no\"  \"no\"  \"no\"  \"no\"  \"no\"  \"no\"  \"no\"  \"no\"  \"no\"  \"no\"  \"no\" \n",
              "[4261] \"no\"  \"no\"  \"no\"  \"no\"  \"no\"  \"no\"  \"no\"  \"no\"  \"no\"  \"no\"  \"no\"  \"no\" \n",
              "[4273] \"no\"  \"no\"  \"no\"  \"no\"  \"no\"  \"no\"  \"no\"  \"no\"  \"no\"  \"no\"  \"no\"  \"no\" \n",
              "[4285] \"no\"  \"no\"  \"no\"  \"no\"  \"no\"  \"no\"  \"yes\" \"no\"  \"no\"  \"no\"  \"no\"  \"no\" \n",
              "[4297] \"no\"  \"no\"  \"no\"  \"no\"  \"no\"  \"no\"  \"no\"  \"no\"  \"no\"  \"no\"  \"no\"  \"no\" \n",
              "[4309] \"no\"  \"no\"  \"no\"  \"no\"  \"no\"  \"no\"  \"no\"  \"no\"  \"no\"  \"no\"  \"no\"  \"no\" \n",
              "[4321] \"no\"  \"no\"  \"no\"  \"no\"  \"no\"  \"no\"  \"no\"  \"no\"  \"no\"  \"no\"  \"yes\" \"no\" \n",
              "[4333] \"no\"  \"no\"  \"no\"  \"no\"  \"no\"  \"no\"  \"no\"  \"no\"  \"no\"  \"no\"  \"no\"  \"no\" \n",
              "[4345] \"no\"  \"no\"  \"no\"  \"no\"  \"no\"  \"no\"  \"yes\" \"no\"  \"no\"  \"no\"  \"yes\" \"no\" \n",
              "[4357] \"no\"  \"no\"  \"no\"  \"no\"  \"no\"  \"no\"  \"no\"  \"no\"  \"no\"  \"no\"  \"no\"  \"no\" \n",
              "[4369] \"no\"  \"no\"  \"no\"  \"no\"  \"no\"  \"no\"  \"no\"  \"no\"  \"no\"  \"no\"  \"no\"  \"no\" \n",
              "[4381] \"no\"  \"no\"  \"no\"  \"no\"  \"no\"  \"no\"  \"no\"  \"no\"  \"no\"  \"no\"  \"no\"  \"no\" \n",
              "[4393] \"no\"  \"no\"  \"no\"  \"no\"  \"no\"  \"no\"  \"no\"  \"no\"  \"no\"  \"no\"  \"no\"  \"no\" \n",
              "[4405] \"no\"  \"no\"  \"no\"  \"no\"  \"no\"  \"no\"  \"no\"  \"no\"  \"no\"  \"no\"  \"no\"  \"no\" \n",
              "[4417] \"no\"  \"no\"  \"no\"  \"no\"  \"no\"  \"no\"  \"no\"  \"no\"  \"no\"  \"no\"  \"no\"  \"no\" \n",
              "[4429] \"no\"  \"no\"  \"no\"  \"no\"  \"no\"  \"no\"  \"no\"  \"no\"  \"no\"  \"no\"  \"no\"  \"no\" \n",
              "[4441] \"no\"  \"no\"  \"no\"  \"no\"  \"no\"  \"no\"  \"no\"  \"no\"  \"no\"  \"no\"  \"no\"  \"no\" \n",
              "[4453] \"no\"  \"no\"  \"no\"  \"no\"  \"no\"  \"no\"  \"no\"  \"no\"  \"no\"  \"no\"  \"no\"  \"yes\"\n",
              "[4465] \"no\"  \"no\"  \"no\"  \"no\"  \"no\"  \"no\"  \"no\"  \"no\"  \"no\"  \"no\"  \"no\"  \"no\" \n",
              "[4477] \"no\"  \"no\"  \"no\"  \"no\"  \"no\"  \"no\"  \"no\"  \"no\"  \"no\"  \"no\"  \"no\"  \"no\" \n",
              "[4489] \"no\"  \"no\"  \"no\"  \"no\"  \"no\"  \"no\"  \"no\"  \"no\"  \"no\"  \"no\"  \"no\"  \"no\" \n",
              "[4501] \"no\"  \"no\"  \"no\"  \"no\"  \"no\"  \"no\"  \"no\"  \"no\"  \"no\"  \"no\"  \"no\"  \"no\" \n",
              "[4513] \"no\"  \"no\"  \"no\"  \"no\"  \"no\"  \"no\"  \"no\"  \"no\"  \"no\"  \"yes\" \"no\"  \"no\" \n",
              "[4525] \"no\"  \"no\"  \"no\"  \"no\"  \"no\"  \"no\"  \"no\"  \"no\"  \"no\"  \"no\"  \"no\"  \"no\" \n",
              "[4537] \"no\"  \"no\"  \"no\"  \"no\"  \"no\"  \"no\"  \"no\"  \"no\"  \"no\"  \"no\"  \"no\"  \"no\" \n",
              "[4549] \"no\"  \"no\"  \"no\"  \"no\"  \"no\"  \"no\"  \"no\"  \"no\"  \"no\"  \"no\"  \"no\"  \"no\" \n",
              "[4561] \"no\"  \"no\"  \"no\"  \"no\"  \"no\"  \"no\"  \"no\"  \"no\"  \"no\"  \"no\"  \"no\"  \"no\" \n",
              "[4573] \"no\"  \"no\"  \"no\"  \"no\"  \"no\"  \"no\"  \"no\"  \"yes\" \"no\"  \"no\"  \"no\"  \"no\" \n",
              "[4585] \"no\"  \"no\"  \"no\"  \"no\"  \"no\"  \"no\"  \"no\"  \"no\"  \"no\"  \"no\"  \"no\"  \"no\" \n",
              "[4597] \"no\"  \"no\"  \"no\"  \"no\"  \"no\"  \"no\"  \"no\"  \"no\"  \"no\"  \"no\"  \"no\"  \"no\" \n",
              "[4609] \"no\"  \"no\"  \"no\"  \"no\"  \"no\"  \"no\"  \"no\"  \"no\"  \"no\"  \"no\"  \"no\"  \"no\" \n",
              "[4621] \"no\"  \"no\"  \"no\"  \"no\"  \"no\"  \"no\"  \"no\"  \"no\"  \"no\"  \"no\"  \"no\"  \"no\" \n",
              "[4633] \"no\"  \"no\"  \"no\"  \"no\"  \"no\"  \"no\"  \"no\"  \"no\"  \"no\"  \"no\"  \"no\"  \"no\" \n",
              "[4645] \"no\"  \"no\"  \"no\"  \"no\"  \"no\"  \"no\"  \"no\"  \"no\"  \"no\"  \"no\"  \"no\"  \"no\" \n",
              "[4657] \"no\"  \"no\"  \"no\"  \"no\"  \"no\"  \"no\"  \"no\"  \"no\"  \"no\"  \"no\"  \"no\"  \"no\" \n",
              "[4669] \"no\"  \"no\"  \"no\"  \"no\"  \"no\"  \"no\"  \"no\"  \"no\"  \"no\"  \"no\"  \"no\"  \"no\" \n",
              "[4681] \"no\"  \"no\"  \"no\"  \"no\"  \"no\"  \"no\"  \"no\"  \"no\"  \"no\"  \"no\"  \"no\"  \"yes\"\n",
              "[4693] \"no\"  \"no\"  \"no\"  \"no\"  \"no\"  \"no\"  \"no\"  \"no\"  \"no\"  \"no\"  \"no\"  \"no\" \n",
              "[4705] \"no\"  \"no\"  \"no\"  \"no\"  \"no\"  \"no\"  \"no\"  \"no\"  \"no\"  \"no\"  \"no\"  \"no\" \n",
              "[4717] \"no\"  \"no\"  \"no\"  \"no\"  \"no\"  \"no\"  \"no\"  \"no\"  \"no\"  \"no\"  \"no\"  \"no\" \n",
              "[4729] \"no\"  \"no\"  \"no\"  \"no\"  \"no\"  \"no\"  \"no\"  \"no\"  \"no\"  \"no\"  \"no\"  \"no\" \n",
              "[4741] \"no\"  \"no\"  \"no\"  \"no\"  \"no\"  \"no\"  \"no\"  \"no\"  \"no\"  \"no\"  \"no\"  \"no\" \n",
              "[4753] \"no\"  \"no\"  \"no\"  \"no\"  \"no\"  \"no\"  \"no\"  \"no\"  \"no\"  \"no\"  \"no\"  \"no\" \n",
              "[4765] \"no\"  \"no\"  \"no\"  \"no\"  \"no\"  \"no\"  \"no\"  \"no\"  \"no\"  \"no\"  \"no\"  \"no\" \n",
              "[4777] \"no\"  \"no\"  \"no\"  \"no\"  \"no\"  \"no\"  \"no\"  \"no\"  \"no\"  \"no\"  \"no\"  \"no\" \n",
              "[4789] \"no\"  \"no\"  \"no\"  \"no\"  \"no\"  \"no\"  \"no\"  \"no\"  \"no\"  \"no\"  \"no\"  \"no\" \n",
              "[4801] \"no\"  \"no\"  \"no\"  \"no\"  \"no\"  \"no\"  \"no\"  \"no\"  \"no\"  \"no\"  \"no\"  \"no\" \n",
              "[4813] \"no\"  \"no\"  \"no\"  \"no\"  \"no\"  \"no\"  \"yes\" \"no\"  \"no\"  \"no\"  \"no\"  \"no\" \n",
              "[4825] \"no\"  \"no\"  \"no\"  \"no\"  \"no\"  \"no\"  \"no\"  \"no\"  \"no\"  \"no\"  \"no\"  \"no\" \n",
              "[4837] \"no\"  \"no\"  \"no\"  \"no\"  \"no\"  \"no\"  \"no\"  \"no\"  \"no\"  \"no\"  \"no\"  \"no\" \n",
              "[4849] \"no\"  \"no\"  \"no\"  \"no\"  \"no\"  \"no\"  \"no\"  \"no\"  \"no\"  \"no\"  \"no\"  \"no\" \n",
              "[4861] \"no\"  \"no\"  \"no\"  \"no\"  \"no\"  \"no\"  \"no\"  \"no\"  \"no\"  \"no\"  \"no\"  \"no\" \n",
              "[4873] \"no\"  \"no\"  \"no\"  \"no\"  \"no\"  \"no\"  \"no\"  \"no\"  \"no\"  \"no\"  \"no\"  \"no\" \n",
              "[4885] \"no\"  \"no\"  \"no\"  \"no\"  \"no\"  \"no\"  \"no\"  \"no\"  \"no\"  \"no\"  \"no\"  \"no\" \n",
              "[4897] \"no\"  \"no\"  \"no\"  \"no\"  \"no\"  \"no\"  \"no\"  \"no\"  \"no\"  \"no\"  \"no\"  \"no\" \n",
              "[4909] \"no\"  \"no\"  \"no\"  \"no\"  \"no\"  \"no\"  \"no\"  \"no\"  \"no\"  \"no\"  \"no\"  \"no\" \n",
              "[4921] \"no\"  \"no\"  \"no\"  \"no\"  \"no\"  \"no\"  \"no\"  \"no\"  \"no\"  \"no\"  \"no\"  \"no\" \n",
              "[4933] \"no\"  \"no\"  \"no\"  \"no\"  \"no\"  \"yes\" \"no\"  \"no\"  \"no\"  \"no\"  \"no\"  \"no\" \n",
              "[4945] \"no\"  \"no\"  \"no\"  \"no\"  \"no\"  \"no\"  \"no\"  \"no\"  \"no\"  \"no\"  \"no\"  \"no\" \n",
              "[4957] \"no\"  \"no\"  \"no\"  \"no\"  \"no\"  \"no\"  \"no\"  \"no\"  \"no\"  \"no\"  \"no\"  \"no\" \n",
              "[4969] \"no\"  \"no\"  \"no\"  \"no\"  \"no\"  \"no\"  \"no\"  \"no\"  \"no\"  \"no\"  \"no\"  \"no\" \n",
              "[4981] \"no\"  \"no\"  \"no\"  \"no\"  \"no\"  \"no\"  \"no\"  \"no\"  \"no\"  \"no\"  \"no\"  \"no\" \n",
              "[4993] \"no\"  \"no\"  \"no\"  \"no\"  \"no\"  \"no\"  \"no\"  \"no\"  \"no\"  \"no\"  \"no\"  \"no\" \n",
              "[5005] \"no\"  \"no\"  \"no\"  \"no\"  \"no\"  \"no\"  \"no\"  \"no\"  \"no\"  \"no\"  \"no\"  \"no\" \n",
              "[5017] \"no\"  \"yes\" \"no\"  \"no\"  \"no\"  \"no\"  \"no\"  \"no\"  \"no\"  \"yes\" \"no\"  \"no\" \n",
              "[5029] \"no\"  \"no\"  \"no\"  \"no\"  \"no\"  \"no\"  \"no\"  \"no\"  \"no\"  \"no\"  \"no\"  \"no\" \n",
              "[5041] \"no\"  \"no\"  \"no\"  \"no\"  \"no\"  \"no\"  \"no\"  \"no\"  \"no\"  \"no\"  \"no\"  \"no\" \n",
              "[5053] \"no\"  \"no\"  \"no\"  \"no\"  \"no\"  \"no\"  \"no\"  \"no\"  \"no\"  \"no\"  \"no\"  \"no\" \n",
              "[5065] \"no\"  \"no\"  \"no\"  \"no\"  \"no\"  \"no\"  \"no\"  \"no\"  \"no\"  \"no\"  \"no\"  \"no\" \n",
              "[5077] \"no\"  \"no\"  \"no\"  \"no\"  \"no\"  \"no\"  \"no\"  \"no\"  \"no\"  \"no\"  \"no\"  \"no\" \n",
              "[5089] \"no\"  \"no\"  \"no\"  \"no\"  \"no\"  \"no\"  \"no\"  \"no\"  \"no\"  \"no\"  \"no\"  \"no\" \n",
              "[5101] \"no\"  \"no\"  \"no\"  \"no\"  \"no\"  \"no\"  \"no\"  \"no\"  \"no\"  \"no\"  \"no\"  \"no\" \n",
              "[5113] \"no\"  \"no\"  \"no\"  \"no\"  \"no\"  \"no\"  \"no\"  \"no\"  \"no\"  \"no\"  \"no\"  \"no\" \n",
              "[5125] \"no\"  \"no\"  \"no\"  \"no\"  \"no\"  \"no\"  \"no\"  \"no\"  \"no\"  \"no\"  \"no\"  \"no\" \n",
              "[5137] \"no\"  \"no\"  \"yes\" \"no\"  \"no\"  \"no\"  \"no\"  \"no\"  \"no\"  \"no\"  \"no\"  \"no\" \n",
              "[5149] \"no\"  \"no\"  \"no\"  \"no\"  \"no\"  \"no\"  \"no\"  \"no\"  \"no\"  \"no\"  \"no\"  \"no\" \n",
              "[5161] \"no\"  \"no\"  \"no\"  \"no\"  \"no\"  \"no\"  \"no\"  \"no\"  \"no\"  \"no\"  \"no\"  \"no\" \n",
              "[5173] \"no\"  \"no\"  \"no\"  \"no\"  \"no\"  \"no\"  \"no\"  \"no\"  \"no\"  \"no\"  \"no\"  \"no\" \n",
              "[5185] \"no\"  \"no\"  \"no\"  \"no\"  \"no\"  \"no\"  \"no\"  \"no\"  \"no\"  \"no\"  \"no\"  \"no\" \n",
              "[5197] \"no\"  \"no\"  \"no\"  \"no\"  \"no\"  \"no\"  \"no\"  \"no\"  \"no\"  \"no\"  \"no\"  \"no\" \n",
              "[5209] \"no\"  \"no\"  \"no\"  \"no\"  \"no\"  \"no\"  \"no\"  \"no\"  \"no\"  \"no\"  \"no\"  \"no\" \n",
              "[5221] \"no\"  \"no\"  \"no\"  \"no\"  \"no\"  \"no\"  \"no\"  \"no\"  \"yes\" \"no\"  \"no\"  \"no\" \n",
              "[5233] \"no\"  \"no\"  \"no\"  \"no\"  \"no\"  \"no\"  \"no\"  \"no\"  \"no\"  \"no\"  \"no\"  \"no\" \n",
              "[5245] \"no\"  \"no\"  \"no\"  \"no\"  \"no\"  \"no\"  \"yes\" \"no\"  \"no\"  \"no\"  \"no\"  \"no\" \n",
              "[5257] \"no\"  \"no\"  \"no\"  \"no\"  \"no\"  \"no\"  \"no\"  \"no\"  \"no\"  \"no\"  \"no\"  \"no\" \n",
              "[5269] \"no\"  \"no\"  \"no\"  \"no\"  \"no\"  \"no\"  \"no\"  \"no\"  \"no\"  \"no\"  \"no\"  \"no\" \n",
              "[5281] \"no\"  \"no\"  \"no\"  \"no\"  \"no\"  \"no\"  \"no\"  \"no\"  \"no\"  \"no\"  \"no\"  \"no\" \n",
              "[5293] \"no\"  \"no\"  \"no\"  \"no\"  \"no\"  \"yes\" \"no\"  \"no\"  \"no\"  \"no\"  \"no\"  \"no\" \n",
              "[5305] \"no\"  \"no\"  \"no\"  \"no\"  \"no\"  \"no\"  \"no\"  \"no\"  \"no\"  \"no\"  \"no\"  \"no\" \n",
              "[5317] \"no\"  \"no\"  \"no\"  \"no\"  \"no\"  \"no\"  \"no\"  \"no\"  \"no\"  \"no\"  \"no\"  \"no\" \n",
              "[5329] \"no\"  \"no\"  \"no\"  \"no\"  \"no\"  \"no\"  \"no\"  \"no\"  \"no\"  \"no\"  \"no\"  \"no\" \n",
              "[5341] \"no\"  \"no\"  \"no\"  \"no\"  \"no\"  \"no\"  \"no\"  \"no\"  \"no\"  \"no\"  \"no\"  \"no\" \n",
              "[5353] \"no\"  \"yes\" \"no\"  \"no\"  \"no\"  \"no\"  \"no\"  \"no\"  \"no\"  \"no\"  \"no\"  \"no\" \n",
              "[5365] \"no\"  \"no\"  \"no\"  \"no\"  \"no\"  \"no\"  \"no\"  \"no\"  \"no\"  \"no\"  \"no\"  \"no\" \n",
              "[5377] \"no\"  \"no\"  \"no\"  \"no\"  \"no\"  \"no\"  \"no\"  \"no\"  \"no\"  \"no\"  \"no\"  \"no\" \n",
              "[5389] \"no\"  \"no\"  \"no\"  \"no\"  \"no\"  \"no\"  \"no\"  \"no\"  \"no\"  \"no\"  \"no\"  \"no\" \n",
              "[5401] \"no\"  \"no\"  \"no\"  \"no\"  \"no\"  \"no\"  \"no\"  \"no\"  \"no\"  \"no\"  \"no\"  \"no\" \n",
              "[5413] \"no\"  \"no\"  \"no\"  \"no\"  \"no\"  \"no\"  \"no\"  \"no\"  \"no\"  \"no\"  \"no\"  \"no\" \n",
              "[5425] \"no\"  \"no\"  \"no\"  \"no\"  \"no\"  \"no\"  \"no\"  \"no\"  \"no\"  \"no\"  \"no\"  \"no\" \n",
              "[5437] \"no\"  \"no\"  \"no\"  \"no\"  \"no\"  \"no\"  \"no\"  \"no\"  \"no\"  \"no\"  \"no\"  \"no\" \n",
              "[5449] \"no\"  \"no\"  \"no\"  \"no\"  \"no\"  \"no\"  \"no\"  \"no\"  \"no\"  \"no\"  \"no\"  \"no\" \n",
              "[5461] \"no\"  \"no\"  \"no\"  \"no\"  \"no\"  \"no\"  \"no\"  \"no\"  \"no\"  \"no\"  \"no\"  \"no\" \n",
              "[5473] \"no\"  \"no\"  \"no\"  \"no\"  \"no\"  \"no\"  \"no\"  \"no\"  \"no\"  \"no\"  \"no\"  \"no\" \n",
              "[5485] \"no\"  \"no\"  \"no\"  \"no\"  \"no\"  \"no\"  \"no\"  \"no\"  \"no\"  \"no\"  \"no\"  \"no\" \n",
              "[5497] \"no\"  \"no\"  \"no\"  \"no\"  \"no\"  \"no\"  \"no\"  \"no\"  \"no\"  \"no\"  \"no\"  \"no\" \n",
              "[5509] \"no\"  \"no\"  \"no\"  \"no\"  \"no\"  \"yes\" \"no\"  \"no\"  \"no\"  \"no\"  \"no\"  \"no\" \n",
              "[5521] \"no\"  \"no\"  \"no\"  \"no\"  \"no\"  \"no\"  \"no\"  \"no\"  \"no\"  \"no\"  \"no\"  \"no\" \n",
              "[5533] \"no\"  \"no\"  \"no\"  \"no\"  \"no\"  \"no\"  \"no\"  \"no\"  \"no\"  \"no\"  \"no\"  \"no\" \n",
              "[5545] \"no\"  \"no\"  \"no\"  \"no\"  \"no\"  \"no\"  \"no\"  \"no\"  \"no\"  \"no\"  \"no\"  \"no\" \n",
              "[5557] \"no\"  \"no\"  \"no\"  \"no\"  \"no\"  \"no\"  \"no\"  \"no\"  \"no\"  \"no\"  \"no\"  \"no\" \n",
              "[5569] \"no\"  \"no\"  \"no\"  \"no\"  \"no\"  \"no\"  \"no\"  \"no\"  \"no\"  \"no\"  \"no\"  \"no\" \n",
              "[5581] \"no\"  \"no\"  \"no\"  \"no\"  \"no\"  \"no\"  \"no\"  \"no\"  \"no\"  \"no\"  \"no\"  \"no\" \n",
              "[5593] \"no\"  \"no\"  \"no\"  \"no\"  \"no\"  \"no\"  \"no\"  \"no\"  \"no\"  \"no\"  \"no\"  \"no\" \n",
              "[5605] \"no\"  \"no\"  \"no\"  \"no\"  \"no\"  \"no\"  \"no\"  \"no\"  \"yes\" \"no\"  \"no\"  \"no\" \n",
              "[5617] \"no\"  \"no\"  \"no\"  \"no\"  \"no\"  \"no\"  \"no\"  \"no\"  \"no\"  \"no\"  \"no\"  \"no\" \n",
              "[5629] \"no\"  \"no\"  \"no\"  \"no\"  \"no\"  \"no\"  \"no\"  \"no\"  \"no\"  \"no\"  \"no\"  \"no\" \n",
              "[5641] \"no\"  \"no\"  \"no\"  \"no\"  \"no\"  \"no\"  \"no\"  \"no\"  \"no\"  \"no\"  \"no\"  \"no\" \n",
              "[5653] \"no\"  \"no\"  \"no\"  \"no\"  \"no\"  \"no\"  \"no\"  \"no\"  \"no\"  \"no\"  \"no\"  \"no\" \n",
              "[5665] \"no\"  \"no\"  \"no\"  \"no\"  \"no\"  \"no\"  \"no\"  \"no\"  \"no\"  \"no\"  \"no\"  \"no\" \n",
              "[5677] \"no\"  \"no\"  \"no\"  \"no\"  \"no\"  \"no\"  \"no\"  \"no\"  \"no\"  \"no\"  \"no\"  \"no\" \n",
              "[5689] \"no\"  \"no\"  \"no\"  \"no\"  \"no\"  \"no\"  \"no\"  \"no\"  \"no\"  \"no\"  \"no\"  \"no\" \n",
              "[5701] \"no\"  \"no\"  \"no\"  \"no\"  \"no\"  \"no\"  \"no\"  \"no\"  \"no\"  \"no\"  \"no\"  \"no\" \n",
              "[5713] \"no\"  \"no\"  \"no\"  \"no\"  \"no\"  \"no\"  \"no\"  \"no\"  \"no\"  \"no\"  \"no\"  \"no\" \n",
              "[5725] \"no\"  \"no\"  \"no\"  \"no\"  \"no\"  \"no\"  \"no\"  \"no\"  \"no\"  \"no\"  \"no\"  \"no\" \n",
              "[5737] \"no\"  \"no\"  \"no\"  \"no\"  \"no\"  \"no\"  \"no\"  \"no\"  \"no\"  \"no\"  \"no\"  \"no\" \n",
              "[5749] \"no\"  \"no\"  \"no\"  \"no\"  \"no\"  \"no\"  \"no\"  \"no\"  \"no\"  \"no\"  \"no\"  \"no\" \n",
              "[5761] \"no\"  \"no\"  \"no\"  \"yes\" \"no\"  \"no\"  \"no\"  \"no\"  \"no\"  \"no\"  \"no\"  \"no\" \n",
              "[5773] \"no\"  \"no\"  \"no\"  \"no\"  \"no\"  \"no\"  \"no\"  \"no\"  \"no\"  \"no\"  \"no\"  \"yes\"\n",
              "[5785] \"no\"  \"no\"  \"no\"  \"no\"  \"no\"  \"no\"  \"no\"  \"no\"  \"no\"  \"no\"  \"no\"  \"no\" \n",
              "[5797] \"no\"  \"no\"  \"no\"  \"no\"  \"no\"  \"no\"  \"no\"  \"no\"  \"no\"  \"no\"  \"no\"  \"no\" \n",
              "[5809] \"no\"  \"no\"  \"no\"  \"no\"  \"no\"  \"no\"  \"no\"  \"no\"  \"no\"  \"no\"  \"no\"  \"no\" \n",
              "[5821] \"no\"  \"no\"  \"no\"  \"no\"  \"no\"  \"no\"  \"no\"  \"no\"  \"no\"  \"no\"  \"no\"  \"no\" \n",
              "[5833] \"no\"  \"no\"  \"yes\" \"no\"  \"no\"  \"no\"  \"no\"  \"no\"  \"no\"  \"no\"  \"no\"  \"no\" \n",
              "[5845] \"no\"  \"no\"  \"no\"  \"no\"  \"no\"  \"no\"  \"no\"  \"no\"  \"no\"  \"no\"  \"no\"  \"no\" \n",
              "[5857] \"no\"  \"no\"  \"no\"  \"no\"  \"no\"  \"no\"  \"no\"  \"no\"  \"no\"  \"no\"  \"no\"  \"no\" \n",
              "[5869] \"no\"  \"no\"  \"no\"  \"no\"  \"no\"  \"no\"  \"no\"  \"no\"  \"no\"  \"no\"  \"no\"  \"no\" \n",
              "[5881] \"no\"  \"no\"  \"no\"  \"no\"  \"no\"  \"no\"  \"no\"  \"no\"  \"no\"  \"no\"  \"no\"  \"no\" \n",
              "[5893] \"no\"  \"no\"  \"no\"  \"no\"  \"no\"  \"no\"  \"no\"  \"no\"  \"no\"  \"no\"  \"no\"  \"no\" \n",
              "[5905] \"no\"  \"no\"  \"no\"  \"no\"  \"no\"  \"no\"  \"no\"  \"no\"  \"no\"  \"no\"  \"no\"  \"no\" \n",
              "[5917] \"no\"  \"no\"  \"no\"  \"no\"  \"no\"  \"no\"  \"no\"  \"no\"  \"no\"  \"no\"  \"no\"  \"no\" \n",
              "[5929] \"no\"  \"no\"  \"no\"  \"no\"  \"no\"  \"no\"  \"no\"  \"no\"  \"yes\" \"no\"  \"no\"  \"no\" \n",
              "[5941] \"no\"  \"no\"  \"no\"  \"no\"  \"no\"  \"no\"  \"no\"  \"no\"  \"no\"  \"no\"  \"no\"  \"no\" \n",
              "[5953] \"no\"  \"no\"  \"no\"  \"no\"  \"no\"  \"no\"  \"no\"  \"no\"  \"no\"  \"no\"  \"no\"  \"no\" \n",
              "[5965] \"no\"  \"no\"  \"no\"  \"no\"  \"no\"  \"yes\" \"yes\" \"no\"  \"no\"  \"no\"  \"no\"  \"yes\"\n",
              "[5977] \"no\"  \"no\"  \"no\"  \"no\"  \"no\"  \"no\"  \"no\"  \"no\"  \"no\"  \"no\"  \"no\"  \"no\" \n",
              "[5989] \"no\"  \"no\"  \"no\"  \"no\"  \"no\"  \"no\"  \"no\"  \"no\"  \"no\"  \"no\"  \"no\"  \"no\" \n",
              "[6001] \"no\"  \"no\"  \"no\"  \"no\"  \"no\"  \"no\"  \"no\"  \"no\"  \"no\"  \"no\"  \"no\"  \"no\" \n",
              "[6013] \"no\"  \"no\"  \"no\"  \"no\"  \"no\"  \"no\"  \"no\"  \"no\"  \"no\"  \"no\"  \"no\"  \"no\" \n",
              "[6025] \"no\"  \"no\"  \"no\"  \"no\"  \"no\"  \"no\"  \"no\"  \"no\"  \"no\"  \"no\"  \"no\"  \"no\" \n",
              "[6037] \"no\"  \"no\"  \"no\"  \"no\"  \"no\"  \"no\"  \"no\"  \"no\"  \"no\"  \"no\"  \"no\"  \"no\" \n",
              "[6049] \"no\"  \"no\"  \"no\"  \"no\"  \"no\"  \"no\"  \"no\"  \"no\"  \"no\"  \"no\"  \"no\"  \"no\" \n",
              "[6061] \"no\"  \"no\"  \"no\"  \"no\"  \"no\"  \"no\"  \"no\"  \"no\"  \"no\"  \"no\"  \"no\"  \"no\" \n",
              "[6073] \"no\"  \"no\"  \"no\"  \"no\"  \"no\"  \"no\"  \"no\"  \"no\"  \"no\"  \"no\"  \"no\"  \"no\" \n",
              "[6085] \"no\"  \"no\"  \"no\"  \"no\"  \"no\"  \"no\"  \"no\"  \"no\"  \"no\"  \"no\"  \"no\"  \"no\" \n",
              "[6097] \"no\"  \"no\"  \"no\"  \"no\"  \"no\"  \"no\"  \"no\"  \"no\"  \"no\"  \"no\"  \"no\"  \"no\" \n",
              "[6109] \"no\"  \"no\"  \"no\"  \"no\"  \"no\"  \"no\"  \"no\"  \"no\"  \"no\"  \"no\"  \"no\"  \"no\" \n",
              "[6121] \"no\"  \"no\"  \"no\"  \"no\"  \"no\"  \"no\"  \"no\"  \"no\"  \"no\"  \"no\"  \"no\"  \"no\" \n",
              "[6133] \"no\"  \"no\"  \"no\"  \"no\"  \"no\"  \"no\"  \"no\"  \"no\"  \"no\"  \"no\"  \"no\"  \"no\" \n",
              "[6145] \"no\"  \"no\"  \"no\"  \"no\"  \"no\"  \"no\"  \"no\"  \"no\"  \"yes\" \"no\"  \"no\"  \"no\" \n",
              "[6157] \"no\"  \"no\"  \"no\"  \"no\"  \"no\"  \"no\"  \"no\"  \"no\"  \"no\"  \"no\"  \"no\"  \"no\" \n",
              "[6169] \"yes\" \"no\"  \"no\"  \"no\"  \"no\"  \"no\"  \"no\"  \"no\"  \"no\"  \"no\"  \"no\"  \"no\" \n",
              "[6181] \"no\"  \"no\"  \"no\"  \"yes\" \"no\"  \"no\"  \"no\"  \"no\"  \"no\"  \"no\"  \"no\"  \"no\" \n",
              "[6193] \"no\"  \"no\"  \"no\"  \"no\"  \"no\"  \"no\"  \"no\"  \"no\"  \"no\"  \"no\"  \"no\"  \"no\" \n",
              "[6205] \"no\"  \"no\"  \"no\"  \"no\"  \"no\"  \"no\"  \"no\"  \"no\"  \"no\"  \"no\"  \"no\"  \"no\" \n",
              "[6217] \"no\"  \"no\"  \"no\"  \"no\"  \"no\"  \"no\"  \"no\"  \"no\"  \"no\"  \"no\"  \"no\"  \"no\" \n",
              "[6229] \"no\"  \"no\"  \"no\"  \"no\"  \"no\"  \"no\"  \"yes\" \"no\"  \"no\"  \"no\"  \"no\"  \"no\" \n",
              "[6241] \"no\"  \"no\"  \"no\"  \"no\"  \"no\"  \"no\"  \"no\"  \"no\"  \"no\"  \"no\"  \"no\"  \"no\" \n",
              "[6253] \"no\"  \"no\"  \"no\"  \"no\"  \"no\"  \"no\"  \"no\"  \"no\"  \"no\"  \"no\"  \"no\"  \"no\" \n",
              "[6265] \"no\"  \"no\"  \"no\"  \"no\"  \"no\"  \"no\"  \"no\"  \"no\"  \"no\"  \"no\"  \"no\"  \"no\" \n",
              "[6277] \"no\"  \"no\"  \"no\"  \"no\"  \"no\"  \"no\"  \"no\"  \"no\"  \"no\"  \"no\"  \"no\"  \"no\" \n",
              "[6289] \"no\"  \"no\"  \"no\"  \"no\"  \"no\"  \"no\"  \"no\"  \"no\"  \"no\"  \"no\"  \"no\"  \"no\" \n",
              "[6301] \"no\"  \"no\"  \"no\"  \"no\"  \"no\"  \"yes\" \"yes\" \"no\"  \"no\"  \"no\"  \"no\"  \"no\" \n",
              "[6313] \"no\"  \"no\"  \"no\"  \"no\"  \"no\"  \"no\"  \"no\"  \"no\"  \"no\"  \"no\"  \"no\"  \"no\" \n",
              "[6325] \"no\"  \"no\"  \"no\"  \"no\"  \"no\"  \"no\"  \"no\"  \"no\"  \"no\"  \"no\"  \"no\"  \"no\" \n",
              "[6337] \"no\"  \"no\"  \"no\"  \"no\"  \"no\"  \"no\"  \"no\"  \"no\"  \"no\"  \"no\"  \"no\"  \"no\" \n",
              "[6349] \"no\"  \"no\"  \"no\"  \"no\"  \"no\"  \"no\"  \"no\"  \"no\"  \"no\"  \"no\"  \"no\"  \"no\" \n",
              "[6361] \"no\"  \"no\"  \"no\"  \"no\"  \"no\"  \"no\"  \"no\"  \"no\"  \"no\"  \"no\"  \"no\"  \"no\" \n",
              "[6373] \"no\"  \"no\"  \"no\"  \"no\"  \"no\"  \"no\"  \"no\"  \"no\"  \"no\"  \"no\"  \"no\"  \"no\" \n",
              "[6385] \"no\"  \"no\"  \"no\"  \"no\"  \"no\"  \"no\"  \"no\"  \"no\"  \"no\"  \"no\"  \"no\"  \"no\" \n",
              "[6397] \"no\"  \"no\"  \"no\"  \"no\"  \"no\"  \"no\"  \"no\"  \"no\"  \"no\"  \"no\"  \"no\"  \"no\" \n",
              "[6409] \"no\"  \"no\"  \"no\"  \"no\"  \"no\"  \"no\"  \"yes\" \"no\"  \"no\"  \"no\"  \"no\"  \"no\" \n",
              "[6421] \"no\"  \"no\"  \"no\"  \"no\"  \"no\"  \"no\"  \"no\"  \"no\"  \"no\"  \"no\"  \"yes\" \"no\" \n",
              "[6433] \"no\"  \"no\"  \"no\"  \"no\"  \"no\"  \"no\"  \"no\"  \"no\"  \"no\"  \"no\"  \"no\"  \"no\" \n",
              "[6445] \"no\"  \"no\"  \"no\"  \"no\"  \"no\"  \"no\"  \"no\"  \"no\"  \"no\"  \"no\"  \"no\"  \"no\" \n",
              "[6457] \"no\"  \"no\"  \"no\"  \"no\"  \"no\"  \"no\"  \"no\"  \"no\"  \"no\"  \"no\"  \"no\"  \"no\" \n",
              "[6469] \"no\"  \"no\"  \"no\"  \"no\"  \"no\"  \"no\"  \"no\"  \"no\"  \"no\"  \"no\"  \"no\"  \"yes\"\n",
              "[6481] \"no\"  \"no\"  \"no\"  \"no\"  \"no\"  \"no\"  \"no\"  \"no\"  \"no\"  \"no\"  \"no\"  \"no\" \n",
              "[6493] \"no\"  \"no\"  \"no\"  \"no\"  \"no\"  \"no\"  \"no\"  \"no\"  \"no\"  \"no\"  \"no\"  \"no\" \n",
              "[6505] \"no\"  \"no\"  \"no\"  \"no\"  \"no\"  \"no\"  \"no\"  \"no\"  \"no\"  \"no\"  \"no\"  \"no\" \n",
              "[6517] \"no\"  \"no\"  \"no\"  \"no\"  \"no\"  \"no\"  \"no\"  \"no\"  \"no\"  \"no\"  \"no\"  \"no\" \n",
              "[6529] \"no\"  \"no\"  \"no\"  \"no\"  \"no\"  \"no\"  \"no\"  \"no\"  \"no\"  \"no\"  \"no\"  \"no\" \n",
              "[6541] \"no\"  \"no\"  \"no\"  \"no\"  \"no\"  \"no\"  \"no\"  \"no\"  \"no\"  \"no\"  \"no\"  \"no\" \n",
              "[6553] \"no\"  \"no\"  \"no\"  \"no\"  \"no\"  \"no\"  \"no\"  \"no\"  \"no\"  \"no\"  \"no\"  \"no\" \n",
              "[6565] \"no\"  \"no\"  \"no\"  \"no\"  \"no\"  \"no\"  \"no\"  \"no\"  \"no\"  \"no\"  \"no\"  \"no\" \n",
              "[6577] \"no\"  \"no\"  \"no\"  \"no\"  \"no\"  \"no\"  \"no\"  \"no\"  \"no\"  \"no\"  \"no\"  \"no\" \n",
              "[6589] \"no\"  \"no\"  \"no\"  \"no\"  \"no\"  \"no\"  \"no\"  \"no\"  \"no\"  \"no\"  \"no\"  \"no\" \n",
              "[6601] \"no\"  \"no\"  \"no\"  \"no\"  \"no\"  \"no\"  \"no\"  \"no\"  \"no\"  \"no\"  \"yes\" \"no\" \n",
              "[6613] \"no\"  \"no\"  \"no\"  \"no\"  \"no\"  \"no\"  \"no\"  \"no\"  \"no\"  \"no\"  \"no\"  \"no\" \n",
              "[6625] \"no\"  \"no\"  \"no\"  \"no\"  \"no\"  \"no\"  \"no\"  \"no\"  \"no\"  \"no\"  \"no\"  \"no\" \n",
              "[6637] \"no\"  \"no\"  \"no\"  \"no\"  \"no\"  \"no\"  \"no\"  \"no\"  \"no\"  \"no\"  \"no\"  \"no\" \n",
              "[6649] \"no\"  \"no\"  \"no\"  \"no\"  \"no\"  \"no\"  \"no\"  \"no\"  \"no\"  \"no\"  \"no\"  \"no\" \n",
              "[6661] \"no\"  \"no\"  \"no\"  \"no\"  \"no\"  \"no\"  \"no\"  \"no\"  \"no\"  \"yes\" \"no\"  \"no\" \n",
              "[6673] \"no\"  \"no\"  \"no\"  \"no\"  \"no\"  \"no\"  \"no\"  \"no\"  \"no\"  \"no\"  \"no\"  \"no\" \n",
              "[6685] \"no\"  \"no\"  \"no\"  \"no\"  \"no\"  \"no\"  \"no\"  \"no\"  \"no\"  \"no\"  \"no\"  \"no\" \n",
              "[6697] \"no\"  \"no\"  \"no\"  \"no\"  \"no\"  \"no\"  \"no\"  \"no\"  \"no\"  \"no\"  \"no\"  \"yes\"\n",
              "[6709] \"no\"  \"no\"  \"no\"  \"no\"  \"no\"  \"no\"  \"no\"  \"no\"  \"no\"  \"no\"  \"no\"  \"no\" \n",
              "[6721] \"no\"  \"no\"  \"no\"  \"no\"  \"no\"  \"no\"  \"no\"  \"no\"  \"no\"  \"no\"  \"no\"  \"no\" \n",
              "[6733] \"no\"  \"no\"  \"no\"  \"no\"  \"no\"  \"no\"  \"no\"  \"no\"  \"no\"  \"yes\" \"no\"  \"no\" \n",
              "[6745] \"no\"  \"no\"  \"no\"  \"no\"  \"no\"  \"no\"  \"no\"  \"no\"  \"no\"  \"no\"  \"no\"  \"no\" \n",
              "[6757] \"no\"  \"no\"  \"no\"  \"no\"  \"no\"  \"no\"  \"no\"  \"no\"  \"no\"  \"no\"  \"no\"  \"no\" \n",
              "[6769] \"no\"  \"no\"  \"no\"  \"no\"  \"no\"  \"no\"  \"no\"  \"no\"  \"no\"  \"no\"  \"no\"  \"no\" \n",
              "[6781] \"no\"  \"no\"  \"no\"  \"no\"  \"no\"  \"no\"  \"no\"  \"no\"  \"no\"  \"no\"  \"no\"  \"no\" \n",
              "[6793] \"no\"  \"no\"  \"no\"  \"no\"  \"no\"  \"no\"  \"no\"  \"no\"  \"no\"  \"no\"  \"no\"  \"no\" \n",
              "[6805] \"no\"  \"no\"  \"no\"  \"no\"  \"no\"  \"no\"  \"no\"  \"no\"  \"no\"  \"no\"  \"no\"  \"no\" \n",
              "[6817] \"no\"  \"no\"  \"no\"  \"no\"  \"no\"  \"no\"  \"no\"  \"no\"  \"no\"  \"no\"  \"no\"  \"no\" \n",
              "[6829] \"no\"  \"no\"  \"no\"  \"no\"  \"no\"  \"no\"  \"no\"  \"no\"  \"no\"  \"no\"  \"no\"  \"no\" \n",
              "[6841] \"no\"  \"no\"  \"no\"  \"no\"  \"no\"  \"no\"  \"no\"  \"no\"  \"no\"  \"no\"  \"no\"  \"no\" \n",
              "[6853] \"yes\" \"no\"  \"no\"  \"no\"  \"no\"  \"no\"  \"no\"  \"no\"  \"no\"  \"no\"  \"no\"  \"no\" \n",
              "[6865] \"no\"  \"no\"  \"no\"  \"no\"  \"no\"  \"no\"  \"no\"  \"no\"  \"no\"  \"no\"  \"no\"  \"no\" \n",
              "[6877] \"no\"  \"no\"  \"no\"  \"no\"  \"no\"  \"no\"  \"no\"  \"no\"  \"no\"  \"no\"  \"no\"  \"no\" \n",
              "[6889] \"no\"  \"no\"  \"no\"  \"no\"  \"no\"  \"no\"  \"no\"  \"no\"  \"no\"  \"no\"  \"no\"  \"no\" \n",
              "[6901] \"no\"  \"no\"  \"no\"  \"no\"  \"no\"  \"no\"  \"no\"  \"no\"  \"no\"  \"no\"  \"no\"  \"no\" \n",
              "[6913] \"no\"  \"no\"  \"no\"  \"no\"  \"no\"  \"no\"  \"no\"  \"no\"  \"no\"  \"no\"  \"no\"  \"no\" \n",
              "[6925] \"no\"  \"no\"  \"no\"  \"no\"  \"no\"  \"no\"  \"no\"  \"no\"  \"no\"  \"no\"  \"no\"  \"no\" \n",
              "[6937] \"no\"  \"no\"  \"no\"  \"no\"  \"no\"  \"no\"  \"no\"  \"no\"  \"no\"  \"no\"  \"no\"  \"no\" \n",
              "[6949] \"no\"  \"no\"  \"no\"  \"no\"  \"no\"  \"no\"  \"no\"  \"no\"  \"no\"  \"no\"  \"no\"  \"no\" \n",
              "[6961] \"no\"  \"no\"  \"no\"  \"no\"  \"no\"  \"no\"  \"no\"  \"no\"  \"no\"  \"no\"  \"no\"  \"no\" \n",
              "[6973] \"no\"  \"no\"  \"no\"  \"no\"  \"no\"  \"no\"  \"no\"  \"no\"  \"no\"  \"no\"  \"no\"  \"no\" \n",
              "[6985] \"no\"  \"no\"  \"no\"  \"no\"  \"no\"  \"no\"  \"no\"  \"no\"  \"no\"  \"no\"  \"no\"  \"no\" \n",
              "[6997] \"no\"  \"no\"  \"no\"  \"no\"  \"no\"  \"no\"  \"no\"  \"no\"  \"no\"  \"no\"  \"no\"  \"no\" \n",
              "[7009] \"no\"  \"no\"  \"no\"  \"no\"  \"no\"  \"no\"  \"no\"  \"no\"  \"no\"  \"no\"  \"no\"  \"no\" \n",
              "[7021] \"no\"  \"no\"  \"no\"  \"no\"  \"no\"  \"no\"  \"no\"  \"no\"  \"no\"  \"no\"  \"no\"  \"no\" \n",
              "[7033] \"no\"  \"no\"  \"no\"  \"no\"  \"no\"  \"no\"  \"no\"  \"no\"  \"no\"  \"no\"  \"no\"  \"no\" \n",
              "[7045] \"no\"  \"no\"  \"no\"  \"no\"  \"no\"  \"no\"  \"no\"  \"no\"  \"no\"  \"no\"  \"no\"  \"no\" \n",
              "[7057] \"no\"  \"no\"  \"no\"  \"no\"  \"no\"  \"no\"  \"no\"  \"no\"  \"no\"  \"no\"  \"yes\" \"yes\"\n",
              "[7069] \"no\"  \"no\"  \"no\"  \"no\"  \"no\"  \"no\"  \"no\"  \"no\"  \"no\"  \"no\"  \"no\"  \"no\" \n",
              "[7081] \"no\"  \"no\"  \"no\"  \"no\"  \"no\"  \"no\"  \"no\"  \"no\"  \"no\"  \"no\"  \"no\"  \"no\" \n",
              "[7093] \"no\"  \"no\"  \"no\"  \"no\"  \"no\"  \"no\"  \"no\"  \"no\"  \"no\"  \"no\"  \"no\"  \"no\" \n",
              "[7105] \"no\"  \"no\"  \"no\"  \"no\"  \"no\"  \"no\"  \"no\"  \"no\"  \"no\"  \"no\"  \"no\"  \"no\" \n",
              "[7117] \"no\"  \"no\"  \"no\"  \"no\"  \"no\"  \"no\"  \"no\"  \"no\"  \"no\"  \"no\"  \"no\"  \"no\" \n",
              "[7129] \"no\"  \"no\"  \"no\"  \"no\"  \"no\"  \"no\"  \"no\"  \"no\"  \"no\"  \"no\"  \"no\"  \"no\" \n",
              "[7141] \"no\"  \"no\"  \"no\"  \"no\"  \"no\"  \"no\"  \"no\"  \"no\"  \"no\"  \"no\"  \"no\"  \"no\" \n",
              "[7153] \"no\"  \"no\"  \"no\"  \"no\"  \"no\"  \"no\"  \"yes\" \"no\"  \"no\"  \"yes\" \"no\"  \"yes\"\n",
              "[7165] \"no\"  \"no\"  \"no\"  \"no\"  \"no\"  \"no\"  \"no\"  \"no\"  \"no\"  \"no\"  \"yes\" \"no\" \n",
              "[7177] \"no\"  \"no\"  \"no\"  \"no\"  \"no\"  \"yes\" \"no\"  \"no\"  \"no\"  \"no\"  \"no\"  \"no\" \n",
              "[7189] \"no\"  \"no\"  \"no\"  \"no\"  \"no\"  \"no\"  \"no\"  \"no\"  \"no\"  \"no\"  \"no\"  \"no\" \n",
              "[7201] \"no\"  \"no\"  \"no\"  \"no\"  \"no\"  \"no\"  \"no\"  \"no\"  \"no\"  \"no\"  \"no\"  \"no\" \n",
              "[7213] \"no\"  \"no\"  \"no\"  \"no\"  \"no\"  \"no\"  \"no\"  \"no\"  \"no\"  \"no\"  \"no\"  \"no\" \n",
              "[7225] \"yes\" \"no\"  \"no\"  \"no\"  \"no\"  \"no\"  \"no\"  \"no\"  \"no\"  \"no\"  \"no\"  \"no\" \n",
              "[7237] \"no\"  \"no\"  \"no\"  \"no\"  \"no\"  \"no\"  \"no\"  \"no\"  \"no\"  \"no\"  \"no\"  \"no\" \n",
              "[7249] \"no\"  \"no\"  \"no\"  \"no\"  \"no\"  \"no\"  \"no\"  \"no\"  \"no\"  \"no\"  \"no\"  \"no\" \n",
              "[7261] \"no\"  \"no\"  \"no\"  \"no\"  \"no\"  \"no\"  \"no\"  \"no\"  \"no\"  \"no\"  \"no\"  \"no\" \n",
              "[7273] \"no\"  \"no\"  \"no\"  \"no\"  \"no\"  \"no\"  \"no\"  \"no\"  \"no\"  \"no\"  \"no\"  \"no\" \n",
              "[7285] \"no\"  \"no\"  \"no\"  \"no\"  \"yes\" \"no\"  \"no\"  \"no\"  \"no\"  \"no\"  \"no\"  \"no\" \n",
              "[7297] \"no\"  \"no\"  \"no\"  \"no\"  \"no\"  \"no\"  \"no\"  \"no\"  \"no\"  \"no\"  \"no\"  \"no\" \n",
              "[7309] \"no\"  \"no\"  \"no\"  \"no\"  \"no\"  \"no\"  \"no\"  \"no\"  \"no\"  \"no\"  \"no\"  \"no\" \n",
              "[7321] \"no\"  \"no\"  \"no\"  \"no\"  \"no\"  \"no\"  \"no\"  \"no\"  \"no\"  \"no\"  \"yes\" \"no\" \n",
              "[7333] \"no\"  \"no\"  \"no\"  \"no\"  \"no\"  \"no\"  \"no\"  \"no\"  \"no\"  \"no\"  \"no\"  \"no\" \n",
              "[7345] \"no\"  \"no\"  \"no\"  \"no\"  \"no\"  \"no\"  \"no\"  \"no\"  \"no\"  \"no\"  \"no\"  \"no\" \n",
              "[7357] \"no\"  \"no\"  \"no\"  \"no\"  \"no\"  \"no\"  \"no\"  \"no\"  \"no\"  \"yes\" \"no\"  \"no\" \n",
              "[7369] \"no\"  \"no\"  \"no\"  \"no\"  \"no\"  \"no\"  \"no\"  \"no\"  \"no\"  \"no\"  \"no\"  \"no\" \n",
              "[7381] \"no\"  \"no\"  \"no\"  \"no\"  \"no\"  \"no\"  \"no\"  \"no\"  \"no\"  \"no\"  \"no\"  \"no\" \n",
              "[7393] \"no\"  \"no\"  \"no\"  \"no\"  \"no\"  \"no\"  \"no\"  \"no\"  \"no\"  \"no\"  \"no\"  \"no\" \n",
              "[7405] \"no\"  \"no\"  \"no\"  \"no\"  \"no\"  \"no\"  \"no\"  \"no\"  \"no\"  \"no\"  \"no\"  \"no\" \n",
              "[7417] \"no\"  \"no\"  \"no\"  \"no\"  \"no\"  \"no\"  \"no\"  \"no\"  \"no\"  \"no\"  \"no\"  \"no\" \n",
              "[7429] \"no\"  \"no\"  \"no\"  \"no\"  \"no\"  \"no\"  \"no\"  \"no\"  \"no\"  \"no\"  \"no\"  \"no\" \n",
              "[7441] \"no\"  \"no\"  \"no\"  \"no\"  \"no\"  \"no\"  \"no\"  \"no\"  \"no\"  \"no\"  \"no\"  \"no\" \n",
              "[7453] \"no\"  \"no\"  \"no\"  \"no\"  \"no\"  \"no\"  \"no\"  \"no\"  \"no\"  \"no\"  \"no\"  \"no\" \n",
              "[7465] \"no\"  \"no\"  \"no\"  \"no\"  \"no\"  \"no\"  \"no\"  \"no\"  \"no\"  \"no\"  \"no\"  \"no\" \n",
              "[7477] \"no\"  \"no\"  \"no\"  \"no\"  \"no\"  \"no\"  \"no\"  \"yes\" \"yes\" \"no\"  \"no\"  \"no\" \n",
              "[7489] \"no\"  \"no\"  \"no\"  \"no\"  \"no\"  \"no\"  \"no\"  \"no\"  \"no\"  \"no\"  \"no\"  \"no\" \n",
              "[7501] \"no\"  \"no\"  \"no\"  \"no\"  \"no\"  \"no\"  \"no\"  \"no\"  \"no\"  \"no\"  \"no\"  \"no\" \n",
              "[7513] \"no\"  \"no\"  \"no\"  \"no\"  \"no\"  \"no\"  \"no\"  \"no\"  \"no\"  \"no\"  \"no\"  \"no\" \n",
              "[7525] \"no\"  \"no\"  \"no\"  \"no\"  \"no\"  \"no\"  \"no\"  \"no\"  \"no\"  \"no\"  \"no\"  \"no\" \n",
              "[7537] \"no\"  \"no\"  \"no\"  \"no\"  \"yes\" \"no\"  \"no\"  \"no\"  \"no\"  \"no\"  \"no\"  \"no\" \n",
              "[7549] \"no\"  \"no\"  \"no\"  \"no\"  \"yes\" \"no\"  \"no\"  \"no\"  \"no\"  \"no\"  \"no\"  \"no\" \n",
              "[7561] \"no\"  \"no\"  \"no\"  \"no\"  \"no\"  \"no\"  \"no\"  \"no\"  \"no\"  \"no\"  \"no\"  \"no\" \n",
              "[7573] \"no\"  \"no\"  \"no\"  \"no\"  \"no\"  \"no\"  \"no\"  \"no\"  \"no\"  \"no\"  \"no\"  \"no\" \n",
              "[7585] \"no\"  \"no\"  \"no\"  \"no\"  \"no\"  \"no\"  \"no\"  \"no\"  \"no\"  \"no\"  \"no\"  \"no\" \n",
              "[7597] \"no\"  \"no\"  \"no\"  \"no\"  \"no\"  \"no\"  \"no\"  \"no\"  \"no\"  \"no\"  \"no\"  \"no\" \n",
              "[7609] \"no\"  \"no\"  \"no\"  \"no\"  \"no\"  \"no\"  \"no\"  \"no\"  \"no\"  \"no\"  \"no\"  \"no\" \n",
              "[7621] \"no\"  \"no\"  \"no\"  \"no\"  \"no\"  \"no\"  \"no\"  \"no\"  \"no\"  \"no\"  \"no\"  \"no\" \n",
              "[7633] \"no\"  \"no\"  \"no\"  \"no\"  \"no\"  \"no\"  \"no\"  \"no\"  \"no\"  \"no\"  \"no\"  \"no\" \n",
              "[7645] \"no\"  \"no\"  \"no\"  \"no\"  \"no\"  \"no\"  \"no\"  \"no\"  \"no\"  \"no\"  \"no\"  \"no\" \n",
              "[7657] \"no\"  \"no\"  \"no\"  \"no\"  \"no\"  \"no\"  \"no\"  \"no\"  \"no\"  \"no\"  \"no\"  \"no\" \n",
              "[7669] \"no\"  \"no\"  \"no\"  \"yes\" \"no\"  \"no\"  \"no\"  \"no\"  \"no\"  \"no\"  \"no\"  \"no\" \n",
              "[7681] \"no\"  \"no\"  \"no\"  \"no\"  \"no\"  \"no\"  \"no\"  \"no\"  \"no\"  \"no\"  \"no\"  \"no\" \n",
              "[7693] \"no\"  \"yes\" \"no\"  \"no\"  \"no\"  \"no\"  \"no\"  \"no\"  \"no\"  \"no\"  \"no\"  \"no\" \n",
              "[7705] \"no\"  \"no\"  \"no\"  \"no\"  \"no\"  \"no\"  \"no\"  \"no\"  \"no\"  \"no\"  \"no\"  \"no\" \n",
              "[7717] \"no\"  \"no\"  \"no\"  \"no\"  \"no\"  \"no\"  \"no\"  \"no\"  \"no\"  \"yes\" \"no\"  \"no\" \n",
              "[7729] \"no\"  \"no\"  \"no\"  \"no\"  \"no\"  \"no\"  \"no\"  \"no\"  \"no\"  \"yes\" \"no\"  \"no\" \n",
              "[7741] \"no\"  \"no\"  \"no\"  \"yes\" \"yes\" \"no\"  \"no\"  \"no\"  \"no\"  \"no\"  \"no\"  \"no\" \n",
              "[7753] \"no\"  \"yes\" \"no\"  \"no\"  \"no\"  \"no\"  \"no\"  \"no\"  \"no\"  \"no\"  \"no\"  \"no\" \n",
              "[7765] \"no\"  \"no\"  \"no\"  \"no\"  \"no\"  \"no\"  \"no\"  \"no\"  \"no\"  \"no\"  \"no\"  \"no\" \n",
              "[7777] \"no\"  \"no\"  \"no\"  \"no\"  \"yes\" \"no\"  \"no\"  \"no\"  \"no\"  \"no\"  \"no\"  \"no\" \n",
              "[7789] \"no\"  \"no\"  \"no\"  \"no\"  \"no\"  \"no\"  \"no\"  \"no\"  \"no\"  \"no\"  \"no\"  \"no\" \n",
              "[7801] \"no\"  \"no\"  \"no\"  \"no\"  \"no\"  \"no\"  \"no\"  \"no\"  \"no\"  \"no\"  \"no\"  \"no\" \n",
              "[7813] \"no\"  \"no\"  \"no\"  \"no\"  \"no\"  \"no\"  \"no\"  \"no\"  \"no\"  \"no\"  \"no\"  \"no\" \n",
              "[7825] \"no\"  \"no\"  \"no\"  \"no\"  \"no\"  \"no\"  \"no\"  \"no\"  \"no\"  \"no\"  \"no\"  \"no\" \n",
              "[7837] \"no\"  \"no\"  \"no\"  \"no\"  \"no\"  \"no\"  \"no\"  \"no\"  \"no\"  \"no\"  \"no\"  \"no\" \n",
              "[7849] \"no\"  \"no\"  \"no\"  \"no\"  \"no\"  \"no\"  \"no\"  \"no\"  \"no\"  \"no\"  \"no\"  \"no\" \n",
              "[7861] \"no\"  \"no\"  \"no\"  \"no\"  \"no\"  \"no\"  \"no\"  \"no\"  \"no\"  \"no\"  \"no\"  \"no\" \n",
              "[7873] \"no\"  \"no\"  \"no\"  \"no\"  \"no\"  \"no\"  \"no\"  \"no\"  \"no\"  \"no\"  \"no\"  \"no\" \n",
              "[7885] \"no\"  \"no\"  \"no\"  \"no\"  \"no\"  \"no\"  \"no\"  \"no\"  \"no\"  \"no\"  \"no\"  \"no\" \n",
              "[7897] \"no\"  \"no\"  \"no\"  \"no\"  \"no\"  \"no\"  \"no\"  \"no\"  \"no\"  \"no\"  \"no\"  \"no\" \n",
              "[7909] \"no\"  \"no\"  \"no\"  \"no\"  \"no\"  \"no\"  \"no\"  \"no\"  \"no\"  \"no\"  \"yes\" \"no\" \n",
              "[7921] \"no\"  \"no\"  \"no\"  \"no\"  \"no\"  \"no\"  \"no\"  \"no\"  \"no\"  \"no\"  \"no\"  \"no\" \n",
              "[7933] \"no\"  \"no\"  \"no\"  \"no\"  \"no\"  \"no\"  \"no\"  \"no\"  \"no\"  \"no\"  \"no\"  \"no\" \n",
              "[7945] \"no\"  \"no\"  \"no\"  \"no\"  \"no\"  \"no\"  \"no\"  \"no\"  \"no\"  \"no\"  \"no\"  \"no\" \n",
              "[7957] \"no\"  \"no\"  \"no\"  \"no\"  \"no\"  \"no\"  \"no\"  \"no\"  \"no\"  \"no\"  \"no\"  \"no\" \n",
              "[7969] \"no\"  \"no\"  \"no\"  \"no\"  \"no\"  \"no\"  \"no\"  \"no\"  \"no\"  \"no\"  \"no\"  \"no\" \n",
              "[7981] \"no\"  \"no\"  \"no\"  \"no\"  \"no\"  \"no\"  \"no\"  \"no\"  \"no\"  \"no\"  \"no\"  \"no\" \n",
              "[7993] \"no\"  \"no\"  \"no\"  \"no\"  \"no\"  \"no\"  \"no\"  \"no\"  \"no\"  \"no\"  \"no\"  \"no\" \n",
              "[8005] \"no\"  \"no\"  \"no\"  \"yes\" \"no\"  \"no\"  \"no\"  \"no\"  \"no\"  \"yes\" \"yes\" \"no\" \n",
              "[8017] \"no\"  \"no\"  \"no\"  \"no\"  \"no\"  \"no\"  \"no\"  \"no\"  \"yes\" \"no\"  \"no\"  \"no\" \n",
              "[8029] \"no\"  \"no\"  \"no\"  \"no\"  \"no\"  \"no\"  \"no\"  \"no\"  \"no\"  \"no\"  \"no\"  \"no\" \n",
              "[8041] \"no\"  \"no\"  \"no\"  \"no\"  \"no\"  \"no\"  \"no\"  \"no\"  \"no\"  \"no\"  \"no\"  \"no\" \n",
              "[8053] \"no\"  \"no\"  \"no\"  \"no\"  \"no\"  \"no\"  \"no\"  \"no\"  \"no\"  \"no\"  \"no\"  \"no\" \n",
              "[8065] \"no\"  \"no\"  \"no\"  \"no\"  \"no\"  \"no\"  \"no\"  \"no\"  \"no\"  \"no\"  \"no\"  \"no\" \n",
              "[8077] \"no\"  \"no\"  \"no\"  \"no\"  \"no\"  \"no\"  \"no\"  \"no\"  \"no\"  \"no\"  \"no\"  \"no\" \n",
              "[8089] \"no\"  \"no\"  \"no\"  \"no\"  \"no\"  \"no\"  \"no\"  \"no\"  \"no\"  \"no\"  \"no\"  \"no\" \n",
              "[8101] \"no\"  \"no\"  \"no\"  \"no\"  \"no\"  \"no\"  \"no\"  \"no\"  \"no\"  \"no\"  \"no\"  \"no\" \n",
              "[8113] \"no\"  \"no\"  \"no\"  \"no\"  \"no\"  \"no\"  \"no\"  \"no\"  \"no\"  \"no\"  \"no\"  \"no\" \n",
              "[8125] \"no\"  \"no\"  \"no\"  \"no\"  \"no\"  \"no\"  \"no\"  \"no\"  \"no\"  \"no\"  \"no\"  \"no\" \n",
              "[8137] \"no\"  \"no\"  \"no\"  \"no\"  \"no\"  \"no\"  \"no\"  \"no\"  \"no\"  \"no\"  \"no\"  \"no\" \n",
              "[8149] \"no\"  \"no\"  \"no\"  \"no\"  \"no\"  \"no\"  \"no\"  \"no\"  \"no\"  \"no\"  \"no\"  \"no\" \n",
              "[8161] \"no\"  \"no\"  \"no\"  \"no\"  \"no\"  \"no\"  \"no\"  \"no\"  \"no\"  \"no\"  \"no\"  \"no\" \n",
              "[8173] \"no\"  \"no\"  \"no\"  \"no\"  \"no\"  \"no\"  \"no\"  \"no\"  \"no\"  \"no\"  \"no\"  \"no\" \n",
              "[8185] \"no\"  \"no\"  \"no\"  \"no\"  \"no\"  \"no\"  \"no\"  \"no\"  \"no\"  \"no\"  \"no\"  \"no\" \n",
              "[8197] \"no\"  \"no\"  \"no\"  \"no\"  \"no\"  \"no\"  \"no\"  \"no\"  \"no\"  \"no\"  \"no\"  \"no\" \n",
              "[8209] \"no\"  \"no\"  \"no\"  \"no\"  \"no\"  \"no\"  \"no\"  \"no\"  \"no\"  \"no\"  \"no\"  \"no\" \n",
              "[8221] \"no\"  \"no\"  \"no\"  \"no\"  \"no\"  \"no\"  \"no\"  \"no\"  \"no\"  \"no\"  \"no\"  \"no\" \n",
              "[8233] \"no\"  \"no\"  \"no\"  \"no\"  \"no\"  \"no\"  \"no\"  \"no\"  \"no\"  \"yes\" \"no\"  \"no\" \n",
              "[8245] \"no\"  \"no\"  \"no\"  \"no\"  \"no\"  \"no\"  \"no\"  \"no\"  \"no\"  \"no\"  \"no\"  \"no\" \n",
              "[8257] \"no\"  \"no\"  \"no\"  \"no\"  \"no\"  \"no\"  \"no\"  \"no\"  \"no\"  \"no\"  \"no\"  \"no\" \n",
              "[8269] \"no\"  \"no\"  \"no\"  \"no\"  \"no\"  \"no\"  \"no\"  \"no\"  \"no\"  \"no\"  \"no\"  \"no\" \n",
              "[8281] \"no\"  \"no\"  \"no\"  \"no\"  \"no\"  \"no\"  \"no\"  \"no\"  \"no\"  \"no\"  \"no\"  \"no\" \n",
              "[8293] \"no\"  \"no\"  \"yes\" \"yes\" \"no\"  \"no\"  \"no\"  \"no\"  \"no\"  \"no\"  \"no\"  \"no\" \n",
              "[8305] \"no\"  \"no\"  \"no\"  \"no\"  \"no\"  \"no\"  \"no\"  \"no\"  \"no\"  \"no\"  \"no\"  \"no\" \n",
              "[8317] \"no\"  \"no\"  \"no\"  \"no\"  \"no\"  \"no\"  \"no\"  \"no\"  \"no\"  \"no\"  \"no\"  \"no\" \n",
              "[8329] \"no\"  \"no\"  \"no\"  \"no\"  \"no\"  \"no\"  \"no\"  \"no\"  \"no\"  \"no\"  \"no\"  \"yes\"\n",
              "[8341] \"no\"  \"no\"  \"no\"  \"no\"  \"no\"  \"no\"  \"no\"  \"no\"  \"no\"  \"no\"  \"no\"  \"no\" \n",
              "[8353] \"no\"  \"no\"  \"no\"  \"no\"  \"no\"  \"no\"  \"no\"  \"no\"  \"no\"  \"no\"  \"no\"  \"no\" \n",
              "[8365] \"no\"  \"no\"  \"no\"  \"no\"  \"no\"  \"no\"  \"no\"  \"no\"  \"no\"  \"no\"  \"no\"  \"no\" \n",
              "[8377] \"no\"  \"no\"  \"no\"  \"no\"  \"no\"  \"no\"  \"no\"  \"no\"  \"no\"  \"no\"  \"no\"  \"no\" \n",
              "[8389] \"no\"  \"no\"  \"no\"  \"no\"  \"no\"  \"no\"  \"no\"  \"no\"  \"no\"  \"no\"  \"no\"  \"no\" \n",
              "[8401] \"no\"  \"no\"  \"no\"  \"no\"  \"no\"  \"no\"  \"no\"  \"no\"  \"no\"  \"no\"  \"no\"  \"no\" \n",
              "[8413] \"no\"  \"no\"  \"no\"  \"no\"  \"no\"  \"no\"  \"no\"  \"yes\" \"no\"  \"no\"  \"no\"  \"no\" \n",
              "[8425] \"no\"  \"no\"  \"no\"  \"no\"  \"no\"  \"yes\" \"no\"  \"no\"  \"no\"  \"no\"  \"no\"  \"no\" \n",
              "[8437] \"no\"  \"no\"  \"no\"  \"no\"  \"no\"  \"no\"  \"no\"  \"no\"  \"no\"  \"no\"  \"no\"  \"no\" \n",
              "[8449] \"no\"  \"no\"  \"no\"  \"no\"  \"no\"  \"no\"  \"no\"  \"no\"  \"no\"  \"no\"  \"no\"  \"no\" \n",
              "[8461] \"no\"  \"no\"  \"no\"  \"no\"  \"no\"  \"no\"  \"no\"  \"no\"  \"no\"  \"no\"  \"no\"  \"no\" \n",
              "[8473] \"no\"  \"no\"  \"no\"  \"no\"  \"no\"  \"no\"  \"no\"  \"no\"  \"no\"  \"no\"  \"no\"  \"no\" \n",
              "[8485] \"no\"  \"no\"  \"no\"  \"no\"  \"no\"  \"no\"  \"no\"  \"no\"  \"no\"  \"no\"  \"no\"  \"no\" \n",
              "[8497] \"no\"  \"no\"  \"no\"  \"no\"  \"no\"  \"no\"  \"no\"  \"no\"  \"no\"  \"no\"  \"no\"  \"no\" \n",
              "[8509] \"no\"  \"no\"  \"no\"  \"no\"  \"no\"  \"no\"  \"no\"  \"no\"  \"no\"  \"no\"  \"no\"  \"no\" \n",
              "[8521] \"no\"  \"no\"  \"no\"  \"no\"  \"no\"  \"no\"  \"no\"  \"no\"  \"no\"  \"no\"  \"no\"  \"no\" \n",
              "[8533] \"no\"  \"no\"  \"no\"  \"no\"  \"no\"  \"no\"  \"no\"  \"no\"  \"no\"  \"no\"  \"no\"  \"no\" \n",
              "[8545] \"no\"  \"no\"  \"no\"  \"no\"  \"no\"  \"no\"  \"no\"  \"no\"  \"no\"  \"no\"  \"no\"  \"no\" \n",
              "[8557] \"no\"  \"no\"  \"no\"  \"no\"  \"no\"  \"no\"  \"no\" "
            ],
            "text/latex": "\\begin{enumerate*}\n\\item 'no'\n\\item 'no'\n\\item 'no'\n\\item 'no'\n\\item 'no'\n\\item 'no'\n\\item 'no'\n\\item 'no'\n\\item 'no'\n\\item 'no'\n\\item 'no'\n\\item 'no'\n\\item 'no'\n\\item 'no'\n\\item 'no'\n\\item 'no'\n\\item 'no'\n\\item 'no'\n\\item 'no'\n\\item 'no'\n\\item 'no'\n\\item 'no'\n\\item 'no'\n\\item 'no'\n\\item 'no'\n\\item 'no'\n\\item 'no'\n\\item 'no'\n\\item 'no'\n\\item 'no'\n\\item 'no'\n\\item 'no'\n\\item 'no'\n\\item 'no'\n\\item 'no'\n\\item 'no'\n\\item 'no'\n\\item 'no'\n\\item 'no'\n\\item 'no'\n\\item 'no'\n\\item 'no'\n\\item 'no'\n\\item 'no'\n\\item 'no'\n\\item 'no'\n\\item 'no'\n\\item 'no'\n\\item 'no'\n\\item 'no'\n\\item 'no'\n\\item 'no'\n\\item 'no'\n\\item 'no'\n\\item 'no'\n\\item 'no'\n\\item 'no'\n\\item 'no'\n\\item 'no'\n\\item 'no'\n\\item 'no'\n\\item 'no'\n\\item 'no'\n\\item 'no'\n\\item 'no'\n\\item 'no'\n\\item 'no'\n\\item 'no'\n\\item 'no'\n\\item 'no'\n\\item 'no'\n\\item 'no'\n\\item 'no'\n\\item 'no'\n\\item 'no'\n\\item 'no'\n\\item 'no'\n\\item 'no'\n\\item 'no'\n\\item 'no'\n\\item 'no'\n\\item 'no'\n\\item 'no'\n\\item 'no'\n\\item 'no'\n\\item 'no'\n\\item 'no'\n\\item 'no'\n\\item 'no'\n\\item 'no'\n\\item 'no'\n\\item 'no'\n\\item 'no'\n\\item 'no'\n\\item 'no'\n\\item 'no'\n\\item 'no'\n\\item 'no'\n\\item 'no'\n\\item 'no'\n\\item 'no'\n\\item 'no'\n\\item 'no'\n\\item 'no'\n\\item 'no'\n\\item 'no'\n\\item 'no'\n\\item 'no'\n\\item 'no'\n\\item 'no'\n\\item 'no'\n\\item 'no'\n\\item 'no'\n\\item 'no'\n\\item 'no'\n\\item 'no'\n\\item 'no'\n\\item 'no'\n\\item 'no'\n\\item 'no'\n\\item 'no'\n\\item 'no'\n\\item 'no'\n\\item 'no'\n\\item 'no'\n\\item 'no'\n\\item 'no'\n\\item 'no'\n\\item 'no'\n\\item 'no'\n\\item 'no'\n\\item 'no'\n\\item 'no'\n\\item 'no'\n\\item 'no'\n\\item 'no'\n\\item 'no'\n\\item 'no'\n\\item 'no'\n\\item 'no'\n\\item 'no'\n\\item 'no'\n\\item 'no'\n\\item 'no'\n\\item 'no'\n\\item 'no'\n\\item 'no'\n\\item 'no'\n\\item 'no'\n\\item 'no'\n\\item 'no'\n\\item 'no'\n\\item 'no'\n\\item 'no'\n\\item 'no'\n\\item 'no'\n\\item 'no'\n\\item 'no'\n\\item 'no'\n\\item 'yes'\n\\item 'no'\n\\item 'no'\n\\item 'no'\n\\item 'no'\n\\item 'no'\n\\item 'no'\n\\item 'no'\n\\item 'no'\n\\item 'no'\n\\item 'no'\n\\item 'no'\n\\item 'no'\n\\item 'no'\n\\item 'no'\n\\item 'no'\n\\item 'no'\n\\item 'no'\n\\item 'no'\n\\item 'no'\n\\item 'no'\n\\item 'no'\n\\item 'no'\n\\item 'no'\n\\item 'no'\n\\item 'no'\n\\item 'no'\n\\item 'no'\n\\item 'no'\n\\item 'no'\n\\item 'no'\n\\item 'no'\n\\item 'no'\n\\item 'no'\n\\item 'no'\n\\item 'no'\n\\item 'no'\n\\item 'no'\n\\item 'no'\n\\item 'no'\n\\item 'no'\n\\item ⋯\n\\item 'no'\n\\item 'no'\n\\item 'no'\n\\item 'no'\n\\item 'no'\n\\item 'no'\n\\item 'no'\n\\item 'no'\n\\item 'no'\n\\item 'no'\n\\item 'no'\n\\item 'no'\n\\item 'no'\n\\item 'no'\n\\item 'no'\n\\item 'no'\n\\item 'no'\n\\item 'no'\n\\item 'no'\n\\item 'no'\n\\item 'no'\n\\item 'no'\n\\item 'no'\n\\item 'no'\n\\item 'no'\n\\item 'no'\n\\item 'no'\n\\item 'no'\n\\item 'no'\n\\item 'no'\n\\item 'no'\n\\item 'no'\n\\item 'no'\n\\item 'no'\n\\item 'no'\n\\item 'no'\n\\item 'no'\n\\item 'no'\n\\item 'no'\n\\item 'no'\n\\item 'no'\n\\item 'no'\n\\item 'no'\n\\item 'no'\n\\item 'no'\n\\item 'no'\n\\item 'no'\n\\item 'no'\n\\item 'no'\n\\item 'no'\n\\item 'no'\n\\item 'no'\n\\item 'no'\n\\item 'no'\n\\item 'no'\n\\item 'no'\n\\item 'yes'\n\\item 'no'\n\\item 'no'\n\\item 'no'\n\\item 'no'\n\\item 'no'\n\\item 'no'\n\\item 'no'\n\\item 'no'\n\\item 'no'\n\\item 'yes'\n\\item 'no'\n\\item 'no'\n\\item 'no'\n\\item 'no'\n\\item 'no'\n\\item 'no'\n\\item 'no'\n\\item 'no'\n\\item 'no'\n\\item 'no'\n\\item 'no'\n\\item 'no'\n\\item 'no'\n\\item 'no'\n\\item 'no'\n\\item 'no'\n\\item 'no'\n\\item 'no'\n\\item 'no'\n\\item 'no'\n\\item 'no'\n\\item 'no'\n\\item 'no'\n\\item 'no'\n\\item 'no'\n\\item 'no'\n\\item 'no'\n\\item 'no'\n\\item 'no'\n\\item 'no'\n\\item 'no'\n\\item 'no'\n\\item 'no'\n\\item 'no'\n\\item 'no'\n\\item 'no'\n\\item 'no'\n\\item 'no'\n\\item 'no'\n\\item 'no'\n\\item 'no'\n\\item 'no'\n\\item 'no'\n\\item 'no'\n\\item 'no'\n\\item 'no'\n\\item 'no'\n\\item 'no'\n\\item 'no'\n\\item 'no'\n\\item 'no'\n\\item 'no'\n\\item 'no'\n\\item 'no'\n\\item 'no'\n\\item 'no'\n\\item 'no'\n\\item 'no'\n\\item 'no'\n\\item 'no'\n\\item 'no'\n\\item 'no'\n\\item 'no'\n\\item 'no'\n\\item 'no'\n\\item 'no'\n\\item 'no'\n\\item 'no'\n\\item 'no'\n\\item 'no'\n\\item 'no'\n\\item 'no'\n\\item 'no'\n\\item 'no'\n\\item 'no'\n\\item 'no'\n\\item 'no'\n\\item 'no'\n\\item 'no'\n\\item 'no'\n\\item 'no'\n\\item 'no'\n\\item 'no'\n\\item 'no'\n\\item 'no'\n\\item 'no'\n\\item 'no'\n\\item 'no'\n\\item 'no'\n\\item 'no'\n\\item 'no'\n\\item 'no'\n\\item 'no'\n\\item 'no'\n\\item 'no'\n\\item 'no'\n\\item 'no'\n\\item 'no'\n\\item 'no'\n\\item 'no'\n\\item 'no'\n\\item 'no'\n\\item 'no'\n\\item 'no'\n\\item 'no'\n\\item 'no'\n\\item 'no'\n\\item 'no'\n\\item 'no'\n\\item 'no'\n\\item 'no'\n\\item 'no'\n\\item 'no'\n\\item 'no'\n\\item 'no'\n\\item 'no'\n\\item 'no'\n\\item 'no'\n\\item 'no'\n\\item 'no'\n\\item 'no'\n\\item 'no'\n\\item 'no'\n\\item 'no'\n\\item 'no'\n\\item 'no'\n\\item 'no'\n\\item 'no'\n\\item 'no'\n\\item 'no'\n\\item 'no'\n\\item 'no'\n\\item 'no'\n\\end{enumerate*}\n",
            "text/markdown": "1. 'no'\n2. 'no'\n3. 'no'\n4. 'no'\n5. 'no'\n6. 'no'\n7. 'no'\n8. 'no'\n9. 'no'\n10. 'no'\n11. 'no'\n12. 'no'\n13. 'no'\n14. 'no'\n15. 'no'\n16. 'no'\n17. 'no'\n18. 'no'\n19. 'no'\n20. 'no'\n21. 'no'\n22. 'no'\n23. 'no'\n24. 'no'\n25. 'no'\n26. 'no'\n27. 'no'\n28. 'no'\n29. 'no'\n30. 'no'\n31. 'no'\n32. 'no'\n33. 'no'\n34. 'no'\n35. 'no'\n36. 'no'\n37. 'no'\n38. 'no'\n39. 'no'\n40. 'no'\n41. 'no'\n42. 'no'\n43. 'no'\n44. 'no'\n45. 'no'\n46. 'no'\n47. 'no'\n48. 'no'\n49. 'no'\n50. 'no'\n51. 'no'\n52. 'no'\n53. 'no'\n54. 'no'\n55. 'no'\n56. 'no'\n57. 'no'\n58. 'no'\n59. 'no'\n60. 'no'\n61. 'no'\n62. 'no'\n63. 'no'\n64. 'no'\n65. 'no'\n66. 'no'\n67. 'no'\n68. 'no'\n69. 'no'\n70. 'no'\n71. 'no'\n72. 'no'\n73. 'no'\n74. 'no'\n75. 'no'\n76. 'no'\n77. 'no'\n78. 'no'\n79. 'no'\n80. 'no'\n81. 'no'\n82. 'no'\n83. 'no'\n84. 'no'\n85. 'no'\n86. 'no'\n87. 'no'\n88. 'no'\n89. 'no'\n90. 'no'\n91. 'no'\n92. 'no'\n93. 'no'\n94. 'no'\n95. 'no'\n96. 'no'\n97. 'no'\n98. 'no'\n99. 'no'\n100. 'no'\n101. 'no'\n102. 'no'\n103. 'no'\n104. 'no'\n105. 'no'\n106. 'no'\n107. 'no'\n108. 'no'\n109. 'no'\n110. 'no'\n111. 'no'\n112. 'no'\n113. 'no'\n114. 'no'\n115. 'no'\n116. 'no'\n117. 'no'\n118. 'no'\n119. 'no'\n120. 'no'\n121. 'no'\n122. 'no'\n123. 'no'\n124. 'no'\n125. 'no'\n126. 'no'\n127. 'no'\n128. 'no'\n129. 'no'\n130. 'no'\n131. 'no'\n132. 'no'\n133. 'no'\n134. 'no'\n135. 'no'\n136. 'no'\n137. 'no'\n138. 'no'\n139. 'no'\n140. 'no'\n141. 'no'\n142. 'no'\n143. 'no'\n144. 'no'\n145. 'no'\n146. 'no'\n147. 'no'\n148. 'no'\n149. 'no'\n150. 'no'\n151. 'no'\n152. 'no'\n153. 'no'\n154. 'no'\n155. 'no'\n156. 'no'\n157. 'no'\n158. 'no'\n159. 'no'\n160. 'yes'\n161. 'no'\n162. 'no'\n163. 'no'\n164. 'no'\n165. 'no'\n166. 'no'\n167. 'no'\n168. 'no'\n169. 'no'\n170. 'no'\n171. 'no'\n172. 'no'\n173. 'no'\n174. 'no'\n175. 'no'\n176. 'no'\n177. 'no'\n178. 'no'\n179. 'no'\n180. 'no'\n181. 'no'\n182. 'no'\n183. 'no'\n184. 'no'\n185. 'no'\n186. 'no'\n187. 'no'\n188. 'no'\n189. 'no'\n190. 'no'\n191. 'no'\n192. 'no'\n193. 'no'\n194. 'no'\n195. 'no'\n196. 'no'\n197. 'no'\n198. 'no'\n199. 'no'\n200. 'no'\n201. ⋯\n202. 'no'\n203. 'no'\n204. 'no'\n205. 'no'\n206. 'no'\n207. 'no'\n208. 'no'\n209. 'no'\n210. 'no'\n211. 'no'\n212. 'no'\n213. 'no'\n214. 'no'\n215. 'no'\n216. 'no'\n217. 'no'\n218. 'no'\n219. 'no'\n220. 'no'\n221. 'no'\n222. 'no'\n223. 'no'\n224. 'no'\n225. 'no'\n226. 'no'\n227. 'no'\n228. 'no'\n229. 'no'\n230. 'no'\n231. 'no'\n232. 'no'\n233. 'no'\n234. 'no'\n235. 'no'\n236. 'no'\n237. 'no'\n238. 'no'\n239. 'no'\n240. 'no'\n241. 'no'\n242. 'no'\n243. 'no'\n244. 'no'\n245. 'no'\n246. 'no'\n247. 'no'\n248. 'no'\n249. 'no'\n250. 'no'\n251. 'no'\n252. 'no'\n253. 'no'\n254. 'no'\n255. 'no'\n256. 'no'\n257. 'no'\n258. 'yes'\n259. 'no'\n260. 'no'\n261. 'no'\n262. 'no'\n263. 'no'\n264. 'no'\n265. 'no'\n266. 'no'\n267. 'no'\n268. 'yes'\n269. 'no'\n270. 'no'\n271. 'no'\n272. 'no'\n273. 'no'\n274. 'no'\n275. 'no'\n276. 'no'\n277. 'no'\n278. 'no'\n279. 'no'\n280. 'no'\n281. 'no'\n282. 'no'\n283. 'no'\n284. 'no'\n285. 'no'\n286. 'no'\n287. 'no'\n288. 'no'\n289. 'no'\n290. 'no'\n291. 'no'\n292. 'no'\n293. 'no'\n294. 'no'\n295. 'no'\n296. 'no'\n297. 'no'\n298. 'no'\n299. 'no'\n300. 'no'\n301. 'no'\n302. 'no'\n303. 'no'\n304. 'no'\n305. 'no'\n306. 'no'\n307. 'no'\n308. 'no'\n309. 'no'\n310. 'no'\n311. 'no'\n312. 'no'\n313. 'no'\n314. 'no'\n315. 'no'\n316. 'no'\n317. 'no'\n318. 'no'\n319. 'no'\n320. 'no'\n321. 'no'\n322. 'no'\n323. 'no'\n324. 'no'\n325. 'no'\n326. 'no'\n327. 'no'\n328. 'no'\n329. 'no'\n330. 'no'\n331. 'no'\n332. 'no'\n333. 'no'\n334. 'no'\n335. 'no'\n336. 'no'\n337. 'no'\n338. 'no'\n339. 'no'\n340. 'no'\n341. 'no'\n342. 'no'\n343. 'no'\n344. 'no'\n345. 'no'\n346. 'no'\n347. 'no'\n348. 'no'\n349. 'no'\n350. 'no'\n351. 'no'\n352. 'no'\n353. 'no'\n354. 'no'\n355. 'no'\n356. 'no'\n357. 'no'\n358. 'no'\n359. 'no'\n360. 'no'\n361. 'no'\n362. 'no'\n363. 'no'\n364. 'no'\n365. 'no'\n366. 'no'\n367. 'no'\n368. 'no'\n369. 'no'\n370. 'no'\n371. 'no'\n372. 'no'\n373. 'no'\n374. 'no'\n375. 'no'\n376. 'no'\n377. 'no'\n378. 'no'\n379. 'no'\n380. 'no'\n381. 'no'\n382. 'no'\n383. 'no'\n384. 'no'\n385. 'no'\n386. 'no'\n387. 'no'\n388. 'no'\n389. 'no'\n390. 'no'\n391. 'no'\n392. 'no'\n393. 'no'\n394. 'no'\n395. 'no'\n396. 'no'\n397. 'no'\n398. 'no'\n399. 'no'\n400. 'no'\n401. 'no'\n\n\n",
            "text/html": [
              "<style>\n",
              ".list-inline {list-style: none; margin:0; padding: 0}\n",
              ".list-inline>li {display: inline-block}\n",
              ".list-inline>li:not(:last-child)::after {content: \"\\00b7\"; padding: 0 .5ex}\n",
              "</style>\n",
              "<ol class=list-inline><li>'no'</li><li>'no'</li><li>'no'</li><li>'no'</li><li>'no'</li><li>'no'</li><li>'no'</li><li>'no'</li><li>'no'</li><li>'no'</li><li>'no'</li><li>'no'</li><li>'no'</li><li>'no'</li><li>'no'</li><li>'no'</li><li>'no'</li><li>'no'</li><li>'no'</li><li>'no'</li><li>'no'</li><li>'no'</li><li>'no'</li><li>'no'</li><li>'no'</li><li>'no'</li><li>'no'</li><li>'no'</li><li>'no'</li><li>'no'</li><li>'no'</li><li>'no'</li><li>'no'</li><li>'no'</li><li>'no'</li><li>'no'</li><li>'no'</li><li>'no'</li><li>'no'</li><li>'no'</li><li>'no'</li><li>'no'</li><li>'no'</li><li>'no'</li><li>'no'</li><li>'no'</li><li>'no'</li><li>'no'</li><li>'no'</li><li>'no'</li><li>'no'</li><li>'no'</li><li>'no'</li><li>'no'</li><li>'no'</li><li>'no'</li><li>'no'</li><li>'no'</li><li>'no'</li><li>'no'</li><li>'no'</li><li>'no'</li><li>'no'</li><li>'no'</li><li>'no'</li><li>'no'</li><li>'no'</li><li>'no'</li><li>'no'</li><li>'no'</li><li>'no'</li><li>'no'</li><li>'no'</li><li>'no'</li><li>'no'</li><li>'no'</li><li>'no'</li><li>'no'</li><li>'no'</li><li>'no'</li><li>'no'</li><li>'no'</li><li>'no'</li><li>'no'</li><li>'no'</li><li>'no'</li><li>'no'</li><li>'no'</li><li>'no'</li><li>'no'</li><li>'no'</li><li>'no'</li><li>'no'</li><li>'no'</li><li>'no'</li><li>'no'</li><li>'no'</li><li>'no'</li><li>'no'</li><li>'no'</li><li>'no'</li><li>'no'</li><li>'no'</li><li>'no'</li><li>'no'</li><li>'no'</li><li>'no'</li><li>'no'</li><li>'no'</li><li>'no'</li><li>'no'</li><li>'no'</li><li>'no'</li><li>'no'</li><li>'no'</li><li>'no'</li><li>'no'</li><li>'no'</li><li>'no'</li><li>'no'</li><li>'no'</li><li>'no'</li><li>'no'</li><li>'no'</li><li>'no'</li><li>'no'</li><li>'no'</li><li>'no'</li><li>'no'</li><li>'no'</li><li>'no'</li><li>'no'</li><li>'no'</li><li>'no'</li><li>'no'</li><li>'no'</li><li>'no'</li><li>'no'</li><li>'no'</li><li>'no'</li><li>'no'</li><li>'no'</li><li>'no'</li><li>'no'</li><li>'no'</li><li>'no'</li><li>'no'</li><li>'no'</li><li>'no'</li><li>'no'</li><li>'no'</li><li>'no'</li><li>'no'</li><li>'no'</li><li>'no'</li><li>'no'</li><li>'no'</li><li>'no'</li><li>'no'</li><li>'yes'</li><li>'no'</li><li>'no'</li><li>'no'</li><li>'no'</li><li>'no'</li><li>'no'</li><li>'no'</li><li>'no'</li><li>'no'</li><li>'no'</li><li>'no'</li><li>'no'</li><li>'no'</li><li>'no'</li><li>'no'</li><li>'no'</li><li>'no'</li><li>'no'</li><li>'no'</li><li>'no'</li><li>'no'</li><li>'no'</li><li>'no'</li><li>'no'</li><li>'no'</li><li>'no'</li><li>'no'</li><li>'no'</li><li>'no'</li><li>'no'</li><li>'no'</li><li>'no'</li><li>'no'</li><li>'no'</li><li>'no'</li><li>'no'</li><li>'no'</li><li>'no'</li><li>'no'</li><li>'no'</li><li>⋯</li><li>'no'</li><li>'no'</li><li>'no'</li><li>'no'</li><li>'no'</li><li>'no'</li><li>'no'</li><li>'no'</li><li>'no'</li><li>'no'</li><li>'no'</li><li>'no'</li><li>'no'</li><li>'no'</li><li>'no'</li><li>'no'</li><li>'no'</li><li>'no'</li><li>'no'</li><li>'no'</li><li>'no'</li><li>'no'</li><li>'no'</li><li>'no'</li><li>'no'</li><li>'no'</li><li>'no'</li><li>'no'</li><li>'no'</li><li>'no'</li><li>'no'</li><li>'no'</li><li>'no'</li><li>'no'</li><li>'no'</li><li>'no'</li><li>'no'</li><li>'no'</li><li>'no'</li><li>'no'</li><li>'no'</li><li>'no'</li><li>'no'</li><li>'no'</li><li>'no'</li><li>'no'</li><li>'no'</li><li>'no'</li><li>'no'</li><li>'no'</li><li>'no'</li><li>'no'</li><li>'no'</li><li>'no'</li><li>'no'</li><li>'no'</li><li>'yes'</li><li>'no'</li><li>'no'</li><li>'no'</li><li>'no'</li><li>'no'</li><li>'no'</li><li>'no'</li><li>'no'</li><li>'no'</li><li>'yes'</li><li>'no'</li><li>'no'</li><li>'no'</li><li>'no'</li><li>'no'</li><li>'no'</li><li>'no'</li><li>'no'</li><li>'no'</li><li>'no'</li><li>'no'</li><li>'no'</li><li>'no'</li><li>'no'</li><li>'no'</li><li>'no'</li><li>'no'</li><li>'no'</li><li>'no'</li><li>'no'</li><li>'no'</li><li>'no'</li><li>'no'</li><li>'no'</li><li>'no'</li><li>'no'</li><li>'no'</li><li>'no'</li><li>'no'</li><li>'no'</li><li>'no'</li><li>'no'</li><li>'no'</li><li>'no'</li><li>'no'</li><li>'no'</li><li>'no'</li><li>'no'</li><li>'no'</li><li>'no'</li><li>'no'</li><li>'no'</li><li>'no'</li><li>'no'</li><li>'no'</li><li>'no'</li><li>'no'</li><li>'no'</li><li>'no'</li><li>'no'</li><li>'no'</li><li>'no'</li><li>'no'</li><li>'no'</li><li>'no'</li><li>'no'</li><li>'no'</li><li>'no'</li><li>'no'</li><li>'no'</li><li>'no'</li><li>'no'</li><li>'no'</li><li>'no'</li><li>'no'</li><li>'no'</li><li>'no'</li><li>'no'</li><li>'no'</li><li>'no'</li><li>'no'</li><li>'no'</li><li>'no'</li><li>'no'</li><li>'no'</li><li>'no'</li><li>'no'</li><li>'no'</li><li>'no'</li><li>'no'</li><li>'no'</li><li>'no'</li><li>'no'</li><li>'no'</li><li>'no'</li><li>'no'</li><li>'no'</li><li>'no'</li><li>'no'</li><li>'no'</li><li>'no'</li><li>'no'</li><li>'no'</li><li>'no'</li><li>'no'</li><li>'no'</li><li>'no'</li><li>'no'</li><li>'no'</li><li>'no'</li><li>'no'</li><li>'no'</li><li>'no'</li><li>'no'</li><li>'no'</li><li>'no'</li><li>'no'</li><li>'no'</li><li>'no'</li><li>'no'</li><li>'no'</li><li>'no'</li><li>'no'</li><li>'no'</li><li>'no'</li><li>'no'</li><li>'no'</li><li>'no'</li><li>'no'</li><li>'no'</li><li>'no'</li><li>'no'</li><li>'no'</li><li>'no'</li><li>'no'</li><li>'no'</li><li>'no'</li><li>'no'</li><li>'no'</li><li>'no'</li><li>'no'</li><li>'no'</li><li>'no'</li></ol>\n"
            ]
          },
          "metadata": {}
        }
      ]
    },
    {
      "cell_type": "code",
      "source": [
        "length(bs$p300)"
      ],
      "metadata": {
        "colab": {
          "base_uri": "https://localhost:8080/",
          "height": 34
        },
        "id": "eGdmBS0dwF3G",
        "outputId": "5916217d-d10b-4d2f-dbbd-953017ee0533"
      },
      "execution_count": null,
      "outputs": [
        {
          "output_type": "display_data",
          "data": {
            "text/plain": [
              "[1] 8563"
            ],
            "text/latex": "8563",
            "text/markdown": "8563",
            "text/html": [
              "8563"
            ]
          },
          "metadata": {}
        }
      ]
    },
    {
      "cell_type": "markdown",
      "metadata": {
        "id": "8Z7IlmD96ikz"
      },
      "source": [
        "# Generating Normalized matrix for Enriched Heatmap"
      ]
    },
    {
      "cell_type": "code",
      "metadata": {
        "id": "B7Q8CkEAQD-C"
      },
      "source": [
        "mat <- mclapply(s3_bw_files, function(bw_file){\n",
        "  cvg <- rtracklayer::import(\n",
        "    bw_file, \n",
        "    which = trim(GenomicRanges::reduce(resize(binding_sites, fix = 'center', width = target_width + 1000 * 2)))\n",
        "  )  # returned as a GRanges object\n",
        "  normalizeToMatrix(\n",
        "    cvg, \n",
        "    resize(binding_sites, fix = 'center', width = 1L), \n",
        "    extend = 1000, \n",
        "    value_column = 'score', \n",
        "    mean_mode = 'w0', \n",
        "    w = 50,\n",
        "    smooth = smooth\n",
        "  )\n",
        "}, mc.cores = 2)"
      ],
      "execution_count": null,
      "outputs": []
    },
    {
      "cell_type": "code",
      "metadata": {
        "id": "b9BSSkiH0gEf"
      },
      "source": [
        "bw <- lapply(s3_bw_files, function(bw_file){\n",
        " rtracklayer::import.bw(\n",
        "    bw_file, \n",
        "    which = trim(GenomicRanges::reduce(resize(binding_sites, fix = 'center', width = target_width + extend * 2)))\n",
        "  ) \n",
        "})"
      ],
      "execution_count": null,
      "outputs": []
    },
    {
      "cell_type": "markdown",
      "metadata": {
        "id": "8Tza0MX66v8C"
      },
      "source": [
        "**Color scheme for heatmap**"
      ]
    },
    {
      "cell_type": "code",
      "metadata": {
        "id": "pl28LoaIVt-k"
      },
      "source": [
        "group_cols <- rep('darkblue', length(s3_bw_files))\n",
        "names(group_cols) <- names(s3_bw_files)\n",
        "col_fun <- lapply(1:length(mat), function(i) colorRamp2(quantile(mat[[i]], c(0.001, 0.991)), c('white', group_cols[i])))\n",
        "names(col_fun) <- names(s3_bw_files)\n"
      ],
      "execution_count": null,
      "outputs": []
    },
    {
      "cell_type": "markdown",
      "metadata": {
        "id": "i08g1NuV6y7z"
      },
      "source": [
        "**Annotation for heatmap**"
      ]
    },
    {
      "cell_type": "code",
      "metadata": {
        "id": "Pg8q7p7RPb7q"
      },
      "source": [
        "ta <- HeatmapAnnotation(\n",
        "  enriched = anno_enriched(gp = gpar(lty = 1, lwd = 2, col = 1:length(unique(sp2))),\n",
        "  axis_param = list(facing = 'inside'),\n",
        "  ylim=c(0,12)\n",
        "  )\n",
        ")"
      ],
      "execution_count": null,
      "outputs": []
    },
    {
      "cell_type": "code",
      "metadata": {
        "colab": {
          "base_uri": "https://localhost:8080/",
          "height": 34
        },
        "id": "h8f5igBJAbAL",
        "outputId": "f84e58d3-19c2-4cc5-82a8-a7032852e037"
      },
      "source": [
        "names(mat)"
      ],
      "execution_count": null,
      "outputs": [
        {
          "output_type": "display_data",
          "data": {
            "text/plain": [
              "[1] \"E10_5_Posterior\"  \"E9.5_HL\"          \"Etv2cKO_E10_25\"   \"Etv2_CKO_E10_5\"  \n",
              "[5] \"WT_E10_25\"        \"FL_GFP_pos_E10_5\" \"HL_GFP_pos_E10_5\" \"E_10_5_Anterior\" "
            ],
            "text/latex": "\\begin{enumerate*}\n\\item 'E10\\_5\\_Posterior'\n\\item 'E9.5\\_HL'\n\\item 'Etv2cKO\\_E10\\_25'\n\\item 'Etv2\\_CKO\\_E10\\_5'\n\\item 'WT\\_E10\\_25'\n\\item 'FL\\_GFP\\_pos\\_E10\\_5'\n\\item 'HL\\_GFP\\_pos\\_E10\\_5'\n\\item 'E\\_10\\_5\\_Anterior'\n\\end{enumerate*}\n",
            "text/markdown": "1. 'E10_5_Posterior'\n2. 'E9.5_HL'\n3. 'Etv2cKO_E10_25'\n4. 'Etv2_CKO_E10_5'\n5. 'WT_E10_25'\n6. 'FL_GFP_pos_E10_5'\n7. 'HL_GFP_pos_E10_5'\n8. 'E_10_5_Anterior'\n\n\n",
            "text/html": [
              "<style>\n",
              ".list-inline {list-style: none; margin:0; padding: 0}\n",
              ".list-inline>li {display: inline-block}\n",
              ".list-inline>li:not(:last-child)::after {content: \"\\00b7\"; padding: 0 .5ex}\n",
              "</style>\n",
              "<ol class=list-inline><li>'E10_5_Posterior'</li><li>'E9.5_HL'</li><li>'Etv2cKO_E10_25'</li><li>'Etv2_CKO_E10_5'</li><li>'WT_E10_25'</li><li>'FL_GFP_pos_E10_5'</li><li>'HL_GFP_pos_E10_5'</li><li>'E_10_5_Anterior'</li></ol>\n"
            ]
          },
          "metadata": {}
        }
      ]
    },
    {
      "cell_type": "code",
      "source": [
        "length(sp2)"
      ],
      "metadata": {
        "colab": {
          "base_uri": "https://localhost:8080/",
          "height": 34
        },
        "id": "JOHO90FGuTec",
        "outputId": "50502cd0-f46d-4141-8b57-8e04ecbb9a5d"
      },
      "execution_count": null,
      "outputs": [
        {
          "output_type": "display_data",
          "data": {
            "text/plain": [
              "[1] 8563"
            ],
            "text/latex": "8563",
            "text/markdown": "8563",
            "text/html": [
              "8563"
            ]
          },
          "metadata": {}
        }
      ]
    },
    {
      "cell_type": "code",
      "source": [
        "binding_sites"
      ],
      "metadata": {
        "colab": {
          "base_uri": "https://localhost:8080/",
          "height": 295
        },
        "id": "hcv-xGVxuVVe",
        "outputId": "ca264186-8755-4294-f9a2-9ef1a7cb148c"
      },
      "execution_count": null,
      "outputs": [
        {
          "output_type": "display_data",
          "data": {
            "text/plain": [
              "GRanges object with 8563 ranges and 1 metadata column:\n",
              "         seqnames              ranges strand |     score\n",
              "            <Rle>           <IRanges>  <Rle> | <numeric>\n",
              "     [1]     chr1     4571746-4571757      - |   8.14628\n",
              "     [2]     chr1     4775237-4775248      + |   8.02301\n",
              "     [3]     chr1     4785700-4785711      - |   7.68610\n",
              "     [4]     chr1     4843892-4843903      - |   7.84453\n",
              "     [5]     chr1     6761368-6761379      + |   7.75192\n",
              "     ...      ...                 ...    ... .       ...\n",
              "  [8559]     chrX 170675522-170675533      - |   7.73663\n",
              "  [8560]     chrX 170841992-170842003      + |   7.75203\n",
              "  [8561]     chrX 170854586-170854597      + |   7.75203\n",
              "  [8562]     chrX 170859360-170859371      + |   7.75203\n",
              "  [8563]     chrX 170867276-170867287      + |   7.75203\n",
              "  -------\n",
              "  seqinfo: 239 sequences from mm10 genome"
            ]
          },
          "metadata": {}
        }
      ]
    },
    {
      "cell_type": "markdown",
      "metadata": {
        "id": "Z9mUHB-udvR_"
      },
      "source": [
        "## Enriched Heatmap using subsetting method"
      ]
    },
    {
      "cell_type": "code",
      "source": [
        "mat_new <- mat"
      ],
      "metadata": {
        "id": "WmOafqay4kxm"
      },
      "execution_count": null,
      "outputs": []
    },
    {
      "cell_type": "code",
      "source": [
        "names(mat_new) <- gsub('Etv2_|Etv2','',names(mat))"
      ],
      "metadata": {
        "id": "OtHl6gqW4d4A"
      },
      "execution_count": null,
      "outputs": []
    },
    {
      "cell_type": "code",
      "source": [
        "col_fun_new <- col_fun"
      ],
      "metadata": {
        "id": "ZjnZUHc65OVC"
      },
      "execution_count": null,
      "outputs": []
    },
    {
      "cell_type": "code",
      "source": [
        "names(col_fun_new) <-  gsub('Etv2_|Etv2','',names(col_fun_new))"
      ],
      "metadata": {
        "id": "udxH3xaE5RmL"
      },
      "execution_count": null,
      "outputs": []
    },
    {
      "cell_type": "code",
      "source": [
        "h <- Heatmap(sp2, col = structure(1:length(unique(sp2))), name = \"cluster\", width = unit(3, \"mm\"), row_order = order(enriched_score(mat[['Etv2cKO_E10_25']]), decreasing = TRUE)) +\n",
        "     Heatmap(bs$limb, col = c('white', 'darkred'), name = 'Limb Enhancer', \n",
        "              show_row_names = FALSE, width = unit(3, \"mm\")) +\n",
        "     Heatmap(bs$p300, col = c('white', 'blue'), name = 'p300',\n",
        "              show_row_names = FALSE, width = unit(3, \"mm\")) +\n",
        "     EnrichedHeatmap(mat_new[['E9.5_HL']], col = col_fun_new[['E9.5_HL']], name = 'E9.5_HL', top_annotation = ta, pos_line = FALSE) \n",
        "     j <- c('WT_E10_25','cKO_E10_25','E_10_5_Anterior','E10_5_Posterior','HL_GFP_pos_E10_5','FL_GFP_pos_E10_5','CKO_E10_5')\n",
        "     for (i in j[j %in% names(mat_new)]){\n",
        "       h <- h +\n",
        "       EnrichedHeatmap(mat_new[[i]], col = col_fun_new[[i]], name = i, top_annotation = ta, pos_line = FALSE) \n",
        "} \n",
        "options(repr.plot.width = 12, repr.plot.height = 8)\n",
        "draw(h, heatmap_legend_side = 'bottom',  split = sp2)"
      ],
      "metadata": {
        "colab": {
          "base_uri": "https://localhost:8080/",
          "height": 1000
        },
        "id": "YL5a6V_F2q69",
        "outputId": "f3fed86d-df8e-4b3f-dc94-19356deb555d"
      },
      "execution_count": null,
      "outputs": [
        {
          "output_type": "stream",
          "name": "stderr",
          "text": [
            "`use_raster` is automatically set to TRUE for a matrix with more than\n",
            "2000 rows. You can control `use_raster` argument by explicitly setting\n",
            "TRUE/FALSE to it.\n",
            "\n",
            "Set `ht_opt$message = FALSE` to turn off this message.\n",
            "\n",
            "'magick' package is suggested to install to give better rasterization.\n",
            "\n",
            "Set `ht_opt$message = FALSE` to turn off this message.\n",
            "\n",
            "`use_raster` is automatically set to TRUE for a matrix with more than\n",
            "2000 rows. You can control `use_raster` argument by explicitly setting\n",
            "TRUE/FALSE to it.\n",
            "\n",
            "Set `ht_opt$message = FALSE` to turn off this message.\n",
            "\n",
            "'magick' package is suggested to install to give better rasterization.\n",
            "\n",
            "Set `ht_opt$message = FALSE` to turn off this message.\n",
            "\n",
            "`use_raster` is automatically set to TRUE for a matrix with more than\n",
            "2000 rows. You can control `use_raster` argument by explicitly setting\n",
            "TRUE/FALSE to it.\n",
            "\n",
            "Set `ht_opt$message = FALSE` to turn off this message.\n",
            "\n",
            "'magick' package is suggested to install to give better rasterization.\n",
            "\n",
            "Set `ht_opt$message = FALSE` to turn off this message.\n",
            "\n",
            "`use_raster` is automatically set to TRUE for a matrix with more than\n",
            "2000 rows. You can control `use_raster` argument by explicitly setting\n",
            "TRUE/FALSE to it.\n",
            "\n",
            "Set `ht_opt$message = FALSE` to turn off this message.\n",
            "\n",
            "'magick' package is suggested to install to give better rasterization.\n",
            "\n",
            "Set `ht_opt$message = FALSE` to turn off this message.\n",
            "\n",
            "`use_raster` is automatically set to TRUE for a matrix with more than\n",
            "2000 rows. You can control `use_raster` argument by explicitly setting\n",
            "TRUE/FALSE to it.\n",
            "\n",
            "Set `ht_opt$message = FALSE` to turn off this message.\n",
            "\n",
            "'magick' package is suggested to install to give better rasterization.\n",
            "\n",
            "Set `ht_opt$message = FALSE` to turn off this message.\n",
            "\n",
            "`use_raster` is automatically set to TRUE for a matrix with more than\n",
            "2000 rows. You can control `use_raster` argument by explicitly setting\n",
            "TRUE/FALSE to it.\n",
            "\n",
            "Set `ht_opt$message = FALSE` to turn off this message.\n",
            "\n",
            "'magick' package is suggested to install to give better rasterization.\n",
            "\n",
            "Set `ht_opt$message = FALSE` to turn off this message.\n",
            "\n",
            "`use_raster` is automatically set to TRUE for a matrix with more than\n",
            "2000 rows. You can control `use_raster` argument by explicitly setting\n",
            "TRUE/FALSE to it.\n",
            "\n",
            "Set `ht_opt$message = FALSE` to turn off this message.\n",
            "\n",
            "'magick' package is suggested to install to give better rasterization.\n",
            "\n",
            "Set `ht_opt$message = FALSE` to turn off this message.\n",
            "\n",
            "`use_raster` is automatically set to TRUE for a matrix with more than\n",
            "2000 rows. You can control `use_raster` argument by explicitly setting\n",
            "TRUE/FALSE to it.\n",
            "\n",
            "Set `ht_opt$message = FALSE` to turn off this message.\n",
            "\n",
            "'magick' package is suggested to install to give better rasterization.\n",
            "\n",
            "Set `ht_opt$message = FALSE` to turn off this message.\n",
            "\n"
          ]
        },
        {
          "output_type": "display_data",
          "data": {
            "image/png": "[encoded data removed]",
            "text/plain": [
              "plot without title"
            ]
          },
          "metadata": {
            "image/png": {
              "width": 720,
              "height": 480
            }
          }
        }
      ]
    },
    {
      "cell_type": "markdown",
      "metadata": {
        "id": "OT3FDcYdXQwJ"
      },
      "source": [
        "# Line plot of the E10.5 Posterior only cluster for the Fold enrichment heatmap"
      ]
    },
    {
      "cell_type": "markdown",
      "metadata": {
        "id": "8p3jw_zZa3-B"
      },
      "source": [
        "Position ranging from -1KB to 1KB"
      ]
    },
    {
      "cell_type": "code",
      "metadata": {
        "id": "Bn4RjlSOSuse"
      },
      "source": [
        "pos <- 1:2001 - (2001 + 1)/2"
      ],
      "execution_count": null,
      "outputs": []
    },
    {
      "cell_type": "code",
      "metadata": {
        "id": "MF8bXAJ8THGR"
      },
      "source": [
        "bw <- lapply(s3_bw_files, function(bw_file){\n",
        " rtracklayer::import.bw(\n",
        "    bw_file, \n",
        "    which = trim(GenomicRanges::reduce(resize(binding_sites, fix = 'center', width = target_width + extend * 2)))\n",
        "  ) \n",
        "})"
      ],
      "execution_count": null,
      "outputs": []
    },
    {
      "cell_type": "code",
      "metadata": {
        "id": "Pv44sbclUXyA"
      },
      "source": [
        "cvg_bd <- lapply(bw, function(x){coverage(x, weight = 'score')[resize(binding_sites, fix = 'center', width = 2001)] %>% as.matrix()})"
      ],
      "execution_count": null,
      "outputs": []
    },
    {
      "cell_type": "code",
      "metadata": {
        "id": "DeCiY3rKUdWA"
      },
      "source": [
        "for (i in 1:length(cvg_bd)){\n",
        "  rownames(cvg_bd[[i]]) <- sp2\n",
        "} ##naming the rows to a 'TRUE_FALSE' format"
      ],
      "execution_count": null,
      "outputs": []
    },
    {
      "cell_type": "code",
      "metadata": {
        "id": "IrjwZwFJUpSE"
      },
      "source": [
        "line_df <- lapply(cvg_bd, function(m){m[grepl('FALSE_TRUE', rownames(m)),]}) ##Subsetting the cluster with only E10.5 posterior peaks\n",
        "line_dat <- lapply(line_df, function(l){colMeans(l)}) ##ColMeans to get the line plot"
      ],
      "execution_count": null,
      "outputs": []
    },
    {
      "cell_type": "code",
      "metadata": {
        "id": "qd9i0ua1U4q-"
      },
      "source": [
        ""
      ],
      "execution_count": null,
      "outputs": []
    },
    {
      "cell_type": "code",
      "metadata": {
        "id": "hAziR-2tJcAL",
        "colab": {
          "base_uri": "https://localhost:8080/",
          "height": 306
        },
        "outputId": "82bbbd65-3e7d-414e-dd66-c637ffa644d1"
      },
      "source": [
        "dat <- do.call('cbind', line_dat) ##Making a dataframe that contains colmeans \n",
        "dat <- cbind(dat, pos = pos)\n",
        "dat <- as.data.frame(dat)\n",
        "head(dat)"
      ],
      "execution_count": null,
      "outputs": [
        {
          "output_type": "display_data",
          "data": {
            "text/plain": [
              "  E10_5_Posterior E9.5_HL   Etv2cKO_E10_25 Etv2_CKO_E10_5 WT_E10_25\n",
              "1 0.7899263       0.8120852 0.8375918      0.8026296      0.8651279\n",
              "2 0.7911312       0.8116127 0.8372478      0.8030963      0.8645864\n",
              "3 0.7901523       0.8120716 0.8380587      0.8064005      0.8643419\n",
              "4 0.7904090       0.8116717 0.8387661      0.8059948      0.8651364\n",
              "5 0.7931810       0.8104793 0.8398212      0.8081165      0.8663734\n",
              "6 0.7932419       0.8117325 0.8410893      0.8108025      0.8663704\n",
              "  FL_GFP_pos_E10_5 HL_GFP_pos_E10_5 E_10_5_Anterior pos  \n",
              "1 0.7890630        0.7699476        0.8700948       -1000\n",
              "2 0.7872292        0.7686483        0.8700722        -999\n",
              "3 0.7873187        0.7687978        0.8705899        -998\n",
              "4 0.7865103        0.7693399        0.8702953        -997\n",
              "5 0.7858844        0.7710138        0.8697515        -996\n",
              "6 0.7841254        0.7718124        0.8711249        -995"
            ],
            "text/latex": "A data.frame: 6 × 9\n\\begin{tabular}{r|lllllllll}\n  & E10\\_5\\_Posterior & E9.5\\_HL & Etv2cKO\\_E10\\_25 & Etv2\\_CKO\\_E10\\_5 & WT\\_E10\\_25 & FL\\_GFP\\_pos\\_E10\\_5 & HL\\_GFP\\_pos\\_E10\\_5 & E\\_10\\_5\\_Anterior & pos\\\\\n  & <dbl> & <dbl> & <dbl> & <dbl> & <dbl> & <dbl> & <dbl> & <dbl> & <dbl>\\\\\n\\hline\n\t1 & 0.7899263 & 0.8120852 & 0.8375918 & 0.8026296 & 0.8651279 & 0.7890630 & 0.7699476 & 0.8700948 & -1000\\\\\n\t2 & 0.7911312 & 0.8116127 & 0.8372478 & 0.8030963 & 0.8645864 & 0.7872292 & 0.7686483 & 0.8700722 &  -999\\\\\n\t3 & 0.7901523 & 0.8120716 & 0.8380587 & 0.8064005 & 0.8643419 & 0.7873187 & 0.7687978 & 0.8705899 &  -998\\\\\n\t4 & 0.7904090 & 0.8116717 & 0.8387661 & 0.8059948 & 0.8651364 & 0.7865103 & 0.7693399 & 0.8702953 &  -997\\\\\n\t5 & 0.7931810 & 0.8104793 & 0.8398212 & 0.8081165 & 0.8663734 & 0.7858844 & 0.7710138 & 0.8697515 &  -996\\\\\n\t6 & 0.7932419 & 0.8117325 & 0.8410893 & 0.8108025 & 0.8663704 & 0.7841254 & 0.7718124 & 0.8711249 &  -995\\\\\n\\end{tabular}\n",
            "text/markdown": "\nA data.frame: 6 × 9\n\n| <!--/--> | E10_5_Posterior &lt;dbl&gt; | E9.5_HL &lt;dbl&gt; | Etv2cKO_E10_25 &lt;dbl&gt; | Etv2_CKO_E10_5 &lt;dbl&gt; | WT_E10_25 &lt;dbl&gt; | FL_GFP_pos_E10_5 &lt;dbl&gt; | HL_GFP_pos_E10_5 &lt;dbl&gt; | E_10_5_Anterior &lt;dbl&gt; | pos &lt;dbl&gt; |\n|---|---|---|---|---|---|---|---|---|---|\n| 1 | 0.7899263 | 0.8120852 | 0.8375918 | 0.8026296 | 0.8651279 | 0.7890630 | 0.7699476 | 0.8700948 | -1000 |\n| 2 | 0.7911312 | 0.8116127 | 0.8372478 | 0.8030963 | 0.8645864 | 0.7872292 | 0.7686483 | 0.8700722 |  -999 |\n| 3 | 0.7901523 | 0.8120716 | 0.8380587 | 0.8064005 | 0.8643419 | 0.7873187 | 0.7687978 | 0.8705899 |  -998 |\n| 4 | 0.7904090 | 0.8116717 | 0.8387661 | 0.8059948 | 0.8651364 | 0.7865103 | 0.7693399 | 0.8702953 |  -997 |\n| 5 | 0.7931810 | 0.8104793 | 0.8398212 | 0.8081165 | 0.8663734 | 0.7858844 | 0.7710138 | 0.8697515 |  -996 |\n| 6 | 0.7932419 | 0.8117325 | 0.8410893 | 0.8108025 | 0.8663704 | 0.7841254 | 0.7718124 | 0.8711249 |  -995 |\n\n",
            "text/html": [
              "<table class=\"dataframe\">\n",
              "<caption>A data.frame: 6 × 9</caption>\n",
              "<thead>\n",
              "\t<tr><th></th><th scope=col>E10_5_Posterior</th><th scope=col>E9.5_HL</th><th scope=col>Etv2cKO_E10_25</th><th scope=col>Etv2_CKO_E10_5</th><th scope=col>WT_E10_25</th><th scope=col>FL_GFP_pos_E10_5</th><th scope=col>HL_GFP_pos_E10_5</th><th scope=col>E_10_5_Anterior</th><th scope=col>pos</th></tr>\n",
              "\t<tr><th></th><th scope=col>&lt;dbl&gt;</th><th scope=col>&lt;dbl&gt;</th><th scope=col>&lt;dbl&gt;</th><th scope=col>&lt;dbl&gt;</th><th scope=col>&lt;dbl&gt;</th><th scope=col>&lt;dbl&gt;</th><th scope=col>&lt;dbl&gt;</th><th scope=col>&lt;dbl&gt;</th><th scope=col>&lt;dbl&gt;</th></tr>\n",
              "</thead>\n",
              "<tbody>\n",
              "\t<tr><th scope=row>1</th><td>0.7899263</td><td>0.8120852</td><td>0.8375918</td><td>0.8026296</td><td>0.8651279</td><td>0.7890630</td><td>0.7699476</td><td>0.8700948</td><td>-1000</td></tr>\n",
              "\t<tr><th scope=row>2</th><td>0.7911312</td><td>0.8116127</td><td>0.8372478</td><td>0.8030963</td><td>0.8645864</td><td>0.7872292</td><td>0.7686483</td><td>0.8700722</td><td> -999</td></tr>\n",
              "\t<tr><th scope=row>3</th><td>0.7901523</td><td>0.8120716</td><td>0.8380587</td><td>0.8064005</td><td>0.8643419</td><td>0.7873187</td><td>0.7687978</td><td>0.8705899</td><td> -998</td></tr>\n",
              "\t<tr><th scope=row>4</th><td>0.7904090</td><td>0.8116717</td><td>0.8387661</td><td>0.8059948</td><td>0.8651364</td><td>0.7865103</td><td>0.7693399</td><td>0.8702953</td><td> -997</td></tr>\n",
              "\t<tr><th scope=row>5</th><td>0.7931810</td><td>0.8104793</td><td>0.8398212</td><td>0.8081165</td><td>0.8663734</td><td>0.7858844</td><td>0.7710138</td><td>0.8697515</td><td> -996</td></tr>\n",
              "\t<tr><th scope=row>6</th><td>0.7932419</td><td>0.8117325</td><td>0.8410893</td><td>0.8108025</td><td>0.8663704</td><td>0.7841254</td><td>0.7718124</td><td>0.8711249</td><td> -995</td></tr>\n",
              "</tbody>\n",
              "</table>\n"
            ]
          },
          "metadata": {}
        }
      ]
    },
    {
      "cell_type": "code",
      "metadata": {
        "id": "ClXx3ZzB5_PP"
      },
      "source": [
        "dat <- dat[,c('E10_5_Posterior', 'E9.5_HL', 'Etv2cKO_E10_25', 'pos')]"
      ],
      "execution_count": null,
      "outputs": []
    },
    {
      "cell_type": "code",
      "metadata": {
        "id": "EDBV_4e1VoPA",
        "colab": {
          "base_uri": "https://localhost:8080/",
          "height": 286
        },
        "outputId": "e4c37821-f8cc-43e7-fa61-b23ebf67862e"
      },
      "source": [
        "long_df <- dat %>% gather(Sample, cvg, c('E10_5_Posterior', 'E9.5_HL', 'Etv2cKO_E10_25'))\n",
        "head(long_df)"
      ],
      "execution_count": null,
      "outputs": [
        {
          "output_type": "display_data",
          "data": {
            "text/plain": [
              "  pos   Sample          cvg      \n",
              "1 -1000 E10_5_Posterior 0.7899263\n",
              "2  -999 E10_5_Posterior 0.7911312\n",
              "3  -998 E10_5_Posterior 0.7901523\n",
              "4  -997 E10_5_Posterior 0.7904090\n",
              "5  -996 E10_5_Posterior 0.7931810\n",
              "6  -995 E10_5_Posterior 0.7932419"
            ],
            "text/latex": "A data.frame: 6 × 3\n\\begin{tabular}{r|lll}\n  & pos & Sample & cvg\\\\\n  & <dbl> & <chr> & <dbl>\\\\\n\\hline\n\t1 & -1000 & E10\\_5\\_Posterior & 0.7899263\\\\\n\t2 &  -999 & E10\\_5\\_Posterior & 0.7911312\\\\\n\t3 &  -998 & E10\\_5\\_Posterior & 0.7901523\\\\\n\t4 &  -997 & E10\\_5\\_Posterior & 0.7904090\\\\\n\t5 &  -996 & E10\\_5\\_Posterior & 0.7931810\\\\\n\t6 &  -995 & E10\\_5\\_Posterior & 0.7932419\\\\\n\\end{tabular}\n",
            "text/markdown": "\nA data.frame: 6 × 3\n\n| <!--/--> | pos &lt;dbl&gt; | Sample &lt;chr&gt; | cvg &lt;dbl&gt; |\n|---|---|---|---|\n| 1 | -1000 | E10_5_Posterior | 0.7899263 |\n| 2 |  -999 | E10_5_Posterior | 0.7911312 |\n| 3 |  -998 | E10_5_Posterior | 0.7901523 |\n| 4 |  -997 | E10_5_Posterior | 0.7904090 |\n| 5 |  -996 | E10_5_Posterior | 0.7931810 |\n| 6 |  -995 | E10_5_Posterior | 0.7932419 |\n\n",
            "text/html": [
              "<table class=\"dataframe\">\n",
              "<caption>A data.frame: 6 × 3</caption>\n",
              "<thead>\n",
              "\t<tr><th></th><th scope=col>pos</th><th scope=col>Sample</th><th scope=col>cvg</th></tr>\n",
              "\t<tr><th></th><th scope=col>&lt;dbl&gt;</th><th scope=col>&lt;chr&gt;</th><th scope=col>&lt;dbl&gt;</th></tr>\n",
              "</thead>\n",
              "<tbody>\n",
              "\t<tr><th scope=row>1</th><td>-1000</td><td>E10_5_Posterior</td><td>0.7899263</td></tr>\n",
              "\t<tr><th scope=row>2</th><td> -999</td><td>E10_5_Posterior</td><td>0.7911312</td></tr>\n",
              "\t<tr><th scope=row>3</th><td> -998</td><td>E10_5_Posterior</td><td>0.7901523</td></tr>\n",
              "\t<tr><th scope=row>4</th><td> -997</td><td>E10_5_Posterior</td><td>0.7904090</td></tr>\n",
              "\t<tr><th scope=row>5</th><td> -996</td><td>E10_5_Posterior</td><td>0.7931810</td></tr>\n",
              "\t<tr><th scope=row>6</th><td> -995</td><td>E10_5_Posterior</td><td>0.7932419</td></tr>\n",
              "</tbody>\n",
              "</table>\n"
            ]
          },
          "metadata": {}
        }
      ]
    },
    {
      "cell_type": "markdown",
      "metadata": {
        "id": "9A_lqHAcG7gX"
      },
      "source": [
        "Assigning colors to the sample to match the previous color scheme of the paper"
      ]
    },
    {
      "cell_type": "code",
      "metadata": {
        "id": "nqsvdAtEDgdu"
      },
      "source": [
        "bg <- c(\n",
        "  'E9.5_HL' = 'green',\n",
        "  'E10_5_Posterior' = 'burlywood4',\n",
        "  'Etv2_CKO_E10_5' = 'blue',\n",
        "  'Etv2cKO_E10_25' = 'purple',\n",
        "  'WT_E10_25' = 'lightblue',\n",
        "  'FL_GFP_pos_E10_5' = 'coral',\n",
        "  'HL_GFP_pos_E10_5' = 'cyan',\n",
        "  'E_10_5_Anterior' = 'red'\n",
        ")"
      ],
      "execution_count": null,
      "outputs": []
    },
    {
      "cell_type": "code",
      "metadata": {
        "colab": {
          "base_uri": "https://localhost:8080/",
          "height": 349
        },
        "id": "szVuJOajDiBa",
        "outputId": "ec83c075-7674-45ef-b0af-6b592cba81ba"
      },
      "source": [
        "bg <- as.data.frame(bg)\n",
        "bg$Sample <- rownames(bg)\n",
        "bg"
      ],
      "execution_count": null,
      "outputs": [
        {
          "output_type": "display_data",
          "data": {
            "text/plain": [
              "                 bg         Sample          \n",
              "E9.5_HL          green      E9.5_HL         \n",
              "E10_5_Posterior  burlywood4 E10_5_Posterior \n",
              "Etv2_CKO_E10_5   blue       Etv2_CKO_E10_5  \n",
              "Etv2cKO_E10_25   purple     Etv2cKO_E10_25  \n",
              "WT_E10_25        lightblue  WT_E10_25       \n",
              "FL_GFP_pos_E10_5 coral      FL_GFP_pos_E10_5\n",
              "HL_GFP_pos_E10_5 cyan       HL_GFP_pos_E10_5\n",
              "E_10_5_Anterior  red        E_10_5_Anterior "
            ],
            "text/latex": "A data.frame: 8 × 2\n\\begin{tabular}{r|ll}\n  & bg & Sample\\\\\n  & <chr> & <chr>\\\\\n\\hline\n\tE9.5\\_HL & green      & E9.5\\_HL         \\\\\n\tE10\\_5\\_Posterior & burlywood4 & E10\\_5\\_Posterior \\\\\n\tEtv2\\_CKO\\_E10\\_5 & blue       & Etv2\\_CKO\\_E10\\_5  \\\\\n\tEtv2cKO\\_E10\\_25 & purple     & Etv2cKO\\_E10\\_25  \\\\\n\tWT\\_E10\\_25 & lightblue  & WT\\_E10\\_25       \\\\\n\tFL\\_GFP\\_pos\\_E10\\_5 & coral      & FL\\_GFP\\_pos\\_E10\\_5\\\\\n\tHL\\_GFP\\_pos\\_E10\\_5 & cyan       & HL\\_GFP\\_pos\\_E10\\_5\\\\\n\tE\\_10\\_5\\_Anterior & red        & E\\_10\\_5\\_Anterior \\\\\n\\end{tabular}\n",
            "text/markdown": "\nA data.frame: 8 × 2\n\n| <!--/--> | bg &lt;chr&gt; | Sample &lt;chr&gt; |\n|---|---|---|\n| E9.5_HL | green      | E9.5_HL          |\n| E10_5_Posterior | burlywood4 | E10_5_Posterior  |\n| Etv2_CKO_E10_5 | blue       | Etv2_CKO_E10_5   |\n| Etv2cKO_E10_25 | purple     | Etv2cKO_E10_25   |\n| WT_E10_25 | lightblue  | WT_E10_25        |\n| FL_GFP_pos_E10_5 | coral      | FL_GFP_pos_E10_5 |\n| HL_GFP_pos_E10_5 | cyan       | HL_GFP_pos_E10_5 |\n| E_10_5_Anterior | red        | E_10_5_Anterior  |\n\n",
            "text/html": [
              "<table class=\"dataframe\">\n",
              "<caption>A data.frame: 8 × 2</caption>\n",
              "<thead>\n",
              "\t<tr><th></th><th scope=col>bg</th><th scope=col>Sample</th></tr>\n",
              "\t<tr><th></th><th scope=col>&lt;chr&gt;</th><th scope=col>&lt;chr&gt;</th></tr>\n",
              "</thead>\n",
              "<tbody>\n",
              "\t<tr><th scope=row>E9.5_HL</th><td>green     </td><td>E9.5_HL         </td></tr>\n",
              "\t<tr><th scope=row>E10_5_Posterior</th><td>burlywood4</td><td>E10_5_Posterior </td></tr>\n",
              "\t<tr><th scope=row>Etv2_CKO_E10_5</th><td>blue      </td><td>Etv2_CKO_E10_5  </td></tr>\n",
              "\t<tr><th scope=row>Etv2cKO_E10_25</th><td>purple    </td><td>Etv2cKO_E10_25  </td></tr>\n",
              "\t<tr><th scope=row>WT_E10_25</th><td>lightblue </td><td>WT_E10_25       </td></tr>\n",
              "\t<tr><th scope=row>FL_GFP_pos_E10_5</th><td>coral     </td><td>FL_GFP_pos_E10_5</td></tr>\n",
              "\t<tr><th scope=row>HL_GFP_pos_E10_5</th><td>cyan      </td><td>HL_GFP_pos_E10_5</td></tr>\n",
              "\t<tr><th scope=row>E_10_5_Anterior</th><td>red       </td><td>E_10_5_Anterior </td></tr>\n",
              "</tbody>\n",
              "</table>\n"
            ]
          },
          "metadata": {}
        }
      ]
    },
    {
      "cell_type": "code",
      "metadata": {
        "id": "DrExcY_GEnVc"
      },
      "source": [
        "long_df$bg <- bg$bg[match(long_df$Sample, bg$Sample)] ##Adding the colors by matching Sample names to get the color in Long_df"
      ],
      "execution_count": null,
      "outputs": []
    },
    {
      "cell_type": "code",
      "metadata": {
        "colab": {
          "base_uri": "https://localhost:8080/",
          "height": 286
        },
        "id": "1oLi8ymkFJSX",
        "outputId": "e979e78c-2ec5-42a4-87d8-87409c192685"
      },
      "source": [
        "head(long_df)"
      ],
      "execution_count": null,
      "outputs": [
        {
          "output_type": "display_data",
          "data": {
            "text/plain": [
              "  pos   Sample          cvg       bg        \n",
              "1 -1000 E10_5_Posterior 0.7899263 burlywood4\n",
              "2  -999 E10_5_Posterior 0.7911312 burlywood4\n",
              "3  -998 E10_5_Posterior 0.7901523 burlywood4\n",
              "4  -997 E10_5_Posterior 0.7904090 burlywood4\n",
              "5  -996 E10_5_Posterior 0.7931810 burlywood4\n",
              "6  -995 E10_5_Posterior 0.7932419 burlywood4"
            ],
            "text/latex": "A data.frame: 6 × 4\n\\begin{tabular}{r|llll}\n  & pos & Sample & cvg & bg\\\\\n  & <dbl> & <chr> & <dbl> & <chr>\\\\\n\\hline\n\t1 & -1000 & E10\\_5\\_Posterior & 0.7899263 & burlywood4\\\\\n\t2 &  -999 & E10\\_5\\_Posterior & 0.7911312 & burlywood4\\\\\n\t3 &  -998 & E10\\_5\\_Posterior & 0.7901523 & burlywood4\\\\\n\t4 &  -997 & E10\\_5\\_Posterior & 0.7904090 & burlywood4\\\\\n\t5 &  -996 & E10\\_5\\_Posterior & 0.7931810 & burlywood4\\\\\n\t6 &  -995 & E10\\_5\\_Posterior & 0.7932419 & burlywood4\\\\\n\\end{tabular}\n",
            "text/markdown": "\nA data.frame: 6 × 4\n\n| <!--/--> | pos &lt;dbl&gt; | Sample &lt;chr&gt; | cvg &lt;dbl&gt; | bg &lt;chr&gt; |\n|---|---|---|---|---|\n| 1 | -1000 | E10_5_Posterior | 0.7899263 | burlywood4 |\n| 2 |  -999 | E10_5_Posterior | 0.7911312 | burlywood4 |\n| 3 |  -998 | E10_5_Posterior | 0.7901523 | burlywood4 |\n| 4 |  -997 | E10_5_Posterior | 0.7904090 | burlywood4 |\n| 5 |  -996 | E10_5_Posterior | 0.7931810 | burlywood4 |\n| 6 |  -995 | E10_5_Posterior | 0.7932419 | burlywood4 |\n\n",
            "text/html": [
              "<table class=\"dataframe\">\n",
              "<caption>A data.frame: 6 × 4</caption>\n",
              "<thead>\n",
              "\t<tr><th></th><th scope=col>pos</th><th scope=col>Sample</th><th scope=col>cvg</th><th scope=col>bg</th></tr>\n",
              "\t<tr><th></th><th scope=col>&lt;dbl&gt;</th><th scope=col>&lt;chr&gt;</th><th scope=col>&lt;dbl&gt;</th><th scope=col>&lt;chr&gt;</th></tr>\n",
              "</thead>\n",
              "<tbody>\n",
              "\t<tr><th scope=row>1</th><td>-1000</td><td>E10_5_Posterior</td><td>0.7899263</td><td>burlywood4</td></tr>\n",
              "\t<tr><th scope=row>2</th><td> -999</td><td>E10_5_Posterior</td><td>0.7911312</td><td>burlywood4</td></tr>\n",
              "\t<tr><th scope=row>3</th><td> -998</td><td>E10_5_Posterior</td><td>0.7901523</td><td>burlywood4</td></tr>\n",
              "\t<tr><th scope=row>4</th><td> -997</td><td>E10_5_Posterior</td><td>0.7904090</td><td>burlywood4</td></tr>\n",
              "\t<tr><th scope=row>5</th><td> -996</td><td>E10_5_Posterior</td><td>0.7931810</td><td>burlywood4</td></tr>\n",
              "\t<tr><th scope=row>6</th><td> -995</td><td>E10_5_Posterior</td><td>0.7932419</td><td>burlywood4</td></tr>\n",
              "</tbody>\n",
              "</table>\n"
            ]
          },
          "metadata": {}
        }
      ]
    },
    {
      "cell_type": "markdown",
      "metadata": {
        "id": "gGYDljYxHT3W"
      },
      "source": [
        "## Line Plot for the Posterior only cluster"
      ]
    },
    {
      "cell_type": "code",
      "metadata": {
        "colab": {
          "base_uri": "https://localhost:8080/",
          "height": 412
        },
        "id": "cVIaCMV4WLNk",
        "outputId": "fa4f83ee-449d-4d56-a52f-c1e38a22aebe"
      },
      "source": [
        "options(repr.plot.width = 10, repr.plot.height = 6)\n",
        "ggplot(long_df, aes(x = pos, y = cvg, color = bg)) +\n",
        "    #geom_line(size = 1.1) + \n",
        "    geom_smooth() +\n",
        "    scale_x_continuous(name = 'Position', breaks = c(-1000, 0, 1000), expand = c(0, 0)) + scale_color_identity() +\n",
        "  theme_bw() +\n",
        "  theme(panel.grid.major = element_blank(), panel.grid.minor = element_blank(),\n",
        "panel.background = element_blank(), axis.line = element_line(colour = \"black\"))"
      ],
      "execution_count": null,
      "outputs": [
        {
          "output_type": "stream",
          "name": "stderr",
          "text": [
            "`geom_smooth()` using method = 'gam' and formula 'y ~ s(x, bs = \"cs\")'\n",
            "\n"
          ]
        },
        {
          "output_type": "display_data",
          "data": {
            "image/png": "[encoded data removed]",
            "text/plain": [
              "plot without title"
            ]
          },
          "metadata": {
            "image/png": {
              "width": 600,
              "height": 360
            }
          }
        }
      ]
    },
    {
      "cell_type": "markdown",
      "metadata": {
        "id": "9zTU8PgbfRjH"
      },
      "source": [
        "# Percent of Limb enhancers in each cluster"
      ]
    },
    {
      "cell_type": "markdown",
      "metadata": {
        "id": "Bb7j8jxS6qBZ"
      },
      "source": [
        "## Limb Enhancer Genie"
      ]
    },
    {
      "cell_type": "code",
      "metadata": {
        "id": "fcyk_7fVw3hw"
      },
      "source": [
        "peak <- unique(sp2)"
      ],
      "execution_count": null,
      "outputs": []
    },
    {
      "cell_type": "code",
      "source": [
        "peak"
      ],
      "metadata": {
        "colab": {
          "base_uri": "https://localhost:8080/",
          "height": 52
        },
        "id": "3pnmj94kH5H_",
        "outputId": "67b587ac-1035-438e-f9b9-0ebfe93959e3"
      },
      "execution_count": null,
      "outputs": [
        {
          "output_type": "display_data",
          "data": {
            "text/plain": [
              "[1] FALSE_TRUE  TRUE_FALSE  TRUE_TRUE   FALSE_FALSE\n",
              "Levels: FALSE_FALSE FALSE_TRUE TRUE_FALSE TRUE_TRUE"
            ],
            "text/latex": "\\begin{enumerate*}\n\\item FALSE\\_TRUE\n\\item TRUE\\_FALSE\n\\item TRUE\\_TRUE\n\\item FALSE\\_FALSE\n\\end{enumerate*}\n\n\\emph{Levels}: \\begin{enumerate*}\n\\item 'FALSE\\_FALSE'\n\\item 'FALSE\\_TRUE'\n\\item 'TRUE\\_FALSE'\n\\item 'TRUE\\_TRUE'\n\\end{enumerate*}\n",
            "text/markdown": "1. FALSE_TRUE\n2. TRUE_FALSE\n3. TRUE_TRUE\n4. FALSE_FALSE\n\n\n\n**Levels**: 1. 'FALSE_FALSE'\n2. 'FALSE_TRUE'\n3. 'TRUE_FALSE'\n4. 'TRUE_TRUE'\n\n\n",
            "text/html": [
              "<style>\n",
              ".list-inline {list-style: none; margin:0; padding: 0}\n",
              ".list-inline>li {display: inline-block}\n",
              ".list-inline>li:not(:last-child)::after {content: \"\\00b7\"; padding: 0 .5ex}\n",
              "</style>\n",
              "<ol class=list-inline><li>FALSE_TRUE</li><li>TRUE_FALSE</li><li>TRUE_TRUE</li><li>FALSE_FALSE</li></ol>\n",
              "\n",
              "<details>\n",
              "\t<summary style=display:list-item;cursor:pointer>\n",
              "\t\t<strong>Levels</strong>:\n",
              "\t</summary>\n",
              "\t<style>\n",
              "\t.list-inline {list-style: none; margin:0; padding: 0}\n",
              "\t.list-inline>li {display: inline-block}\n",
              "\t.list-inline>li:not(:last-child)::after {content: \"\\00b7\"; padding: 0 .5ex}\n",
              "\t</style>\n",
              "\t<ol class=list-inline><li>'FALSE_FALSE'</li><li>'FALSE_TRUE'</li><li>'TRUE_FALSE'</li><li>'TRUE_TRUE'</li></ol>\n",
              "</details>"
            ]
          },
          "metadata": {}
        }
      ]
    },
    {
      "cell_type": "code",
      "source": [
        "lapply(peak, function(p){\n",
        "  length(sp2[sp2 == p])\n",
        "})"
      ],
      "metadata": {
        "colab": {
          "base_uri": "https://localhost:8080/",
          "height": 114
        },
        "id": "IwqylX_XkocY",
        "outputId": "4cb1cdf2-915c-44ba-dcc6-7c6d7e0232f5"
      },
      "execution_count": null,
      "outputs": [
        {
          "output_type": "display_data",
          "data": {
            "text/plain": [
              "[[1]]\n",
              "[1] 1229\n",
              "\n",
              "[[2]]\n",
              "[1] 792\n",
              "\n",
              "[[3]]\n",
              "[1] 1532\n",
              "\n",
              "[[4]]\n",
              "[1] 5010\n"
            ],
            "text/latex": "\\begin{enumerate}\n\\item 1229\n\\item 792\n\\item 1532\n\\item 5010\n\\end{enumerate}\n",
            "text/markdown": "1. 1229\n2. 792\n3. 1532\n4. 5010\n\n\n",
            "text/html": [
              "<ol>\n",
              "\t<li>1229</li>\n",
              "\t<li>792</li>\n",
              "\t<li>1532</li>\n",
              "\t<li>5010</li>\n",
              "</ol>\n"
            ]
          },
          "metadata": {}
        }
      ]
    },
    {
      "cell_type": "code",
      "source": [
        "length(sp2[sp2== 'TRUE_TRUE'])"
      ],
      "metadata": {
        "id": "X-Oi6jf3IOHj",
        "outputId": "ba7a5ead-f25f-484b-f2f6-849bedcad415",
        "colab": {
          "base_uri": "https://localhost:8080/",
          "height": 34
        }
      },
      "execution_count": null,
      "outputs": [
        {
          "output_type": "display_data",
          "data": {
            "text/plain": [
              "[1] 1532"
            ],
            "text/latex": "1532",
            "text/markdown": "1532",
            "text/html": [
              "1532"
            ]
          },
          "metadata": {}
        }
      ]
    },
    {
      "cell_type": "code",
      "source": [
        "nrow(leg_sub[grepl('TRUE_TRUE', leg_sub$log),])/length(sp2[sp2== 'TRUE_TRUE'])"
      ],
      "metadata": {
        "colab": {
          "base_uri": "https://localhost:8080/",
          "height": 34
        },
        "id": "dW4SgBZ1IC7M",
        "outputId": "c071c541-e0db-441d-ae48-e1b2ba44eebf"
      },
      "execution_count": null,
      "outputs": [
        {
          "output_type": "display_data",
          "data": {
            "text/plain": [
              "[1] 0.06723238"
            ],
            "text/latex": "0.0672323759791123",
            "text/markdown": "0.0672323759791123",
            "text/html": [
              "0.0672323759791123"
            ]
          },
          "metadata": {}
        }
      ]
    },
    {
      "cell_type": "code",
      "metadata": {
        "id": "paDmQH4dwrjT"
      },
      "source": [
        "leg_bar <- lapply(peak, function(p){nrow(leg_sub[grepl(p, leg_sub$log),])/length(sp2[sp2== p])})\n",
        "leg_bar <- as.data.frame(do.call('rbind', leg_bar))\n",
        "leg_bar$cluster <- as.character(peak)\n",
        "leg_bar$col<- c(\"deepskyblue3\",\"green\",\"deeppink3\",\"black\")"
      ],
      "execution_count": null,
      "outputs": []
    },
    {
      "cell_type": "code",
      "metadata": {
        "colab": {
          "base_uri": "https://localhost:8080/",
          "height": 224
        },
        "id": "uy7a1urI1FLv",
        "outputId": "5155bd5d-1956-44ee-861e-7e18d5aa9a58"
      },
      "source": [
        "leg_bar"
      ],
      "execution_count": null,
      "outputs": [
        {
          "output_type": "display_data",
          "data": {
            "text/plain": [
              "  V1         cluster     col         \n",
              "1 0.20504475 FALSE_TRUE  deepskyblue3\n",
              "2 0.07575758 TRUE_FALSE  green       \n",
              "3 0.06723238 TRUE_TRUE   deeppink3   \n",
              "4 0.11636727 FALSE_FALSE black       "
            ],
            "text/latex": "A data.frame: 4 × 3\n\\begin{tabular}{lll}\n V1 & cluster & col\\\\\n <dbl> & <chr> & <chr>\\\\\n\\hline\n\t 0.20504475 & FALSE\\_TRUE  & deepskyblue3\\\\\n\t 0.07575758 & TRUE\\_FALSE  & green       \\\\\n\t 0.06723238 & TRUE\\_TRUE   & deeppink3   \\\\\n\t 0.11636727 & FALSE\\_FALSE & black       \\\\\n\\end{tabular}\n",
            "text/markdown": "\nA data.frame: 4 × 3\n\n| V1 &lt;dbl&gt; | cluster &lt;chr&gt; | col &lt;chr&gt; |\n|---|---|---|\n| 0.20504475 | FALSE_TRUE  | deepskyblue3 |\n| 0.07575758 | TRUE_FALSE  | green        |\n| 0.06723238 | TRUE_TRUE   | deeppink3    |\n| 0.11636727 | FALSE_FALSE | black        |\n\n",
            "text/html": [
              "<table class=\"dataframe\">\n",
              "<caption>A data.frame: 4 × 3</caption>\n",
              "<thead>\n",
              "\t<tr><th scope=col>V1</th><th scope=col>cluster</th><th scope=col>col</th></tr>\n",
              "\t<tr><th scope=col>&lt;dbl&gt;</th><th scope=col>&lt;chr&gt;</th><th scope=col>&lt;chr&gt;</th></tr>\n",
              "</thead>\n",
              "<tbody>\n",
              "\t<tr><td>0.20504475</td><td>FALSE_TRUE </td><td>deepskyblue3</td></tr>\n",
              "\t<tr><td>0.07575758</td><td>TRUE_FALSE </td><td>green       </td></tr>\n",
              "\t<tr><td>0.06723238</td><td>TRUE_TRUE  </td><td>deeppink3   </td></tr>\n",
              "\t<tr><td>0.11636727</td><td>FALSE_FALSE</td><td>black       </td></tr>\n",
              "</tbody>\n",
              "</table>\n"
            ]
          },
          "metadata": {}
        }
      ]
    },
    {
      "cell_type": "code",
      "metadata": {
        "colab": {
          "base_uri": "https://localhost:8080/",
          "height": 377
        },
        "id": "txA47bXO3G2Z",
        "outputId": "3f34e7b7-0fc7-49ab-b515-428c99c8c8cb"
      },
      "source": [
        "ggplot(leg_bar, aes(x = cluster, y = V1, fill = col)) + geom_bar(stat = 'identity') + scale_fill_identity() + \n",
        "  theme_bw() +\n",
        "  theme(panel.grid.major = element_blank(), panel.grid.minor = element_blank(),\n",
        "panel.background = element_blank(), axis.line = element_line(colour = \"black\"))"
      ],
      "execution_count": null,
      "outputs": [
        {
          "output_type": "display_data",
          "data": {
            "image/png": "[encoded data removed]",
            "text/plain": [
              "plot without title"
            ]
          },
          "metadata": {
            "image/png": {
              "width": 600,
              "height": 360
            }
          }
        }
      ]
    },
    {
      "cell_type": "markdown",
      "metadata": {
        "id": "P-OBseAq6tkI"
      },
      "source": [
        "## Limb enhancer from 'ChIP-seq accurately predicts tissue-specific activity of enhancers' paper"
      ]
    },
    {
      "cell_type": "code",
      "metadata": {
        "id": "D7vNRlnawuXf"
      },
      "source": [
        "p300_bar <- lapply(peak, function(p){nrow(p300_sub[grepl(p, p300_sub$log),])/length(sp2[sp2== 'TRUE_TRUE'])})\n",
        "p300_bar <- as.data.frame(do.call('rbind', p300_bar))\n",
        "p300_bar$cluster <- as.character(peak)\n",
        "p300_bar$col <- c(\"deepskyblue3\",\"green\",\"deeppink3\",\"black\")"
      ],
      "execution_count": null,
      "outputs": []
    },
    {
      "cell_type": "code",
      "metadata": {
        "colab": {
          "base_uri": "https://localhost:8080/",
          "height": 224
        },
        "id": "ZplRqZSJxYN4",
        "outputId": "a7a43901-ce31-4c48-d6ed-0e0bf9074d7c"
      },
      "source": [
        "p300_bar"
      ],
      "execution_count": null,
      "outputs": [
        {
          "output_type": "display_data",
          "data": {
            "text/plain": [
              "  V1         cluster     col         \n",
              "1 0.03067885 FALSE_TRUE  deepskyblue3\n",
              "2 0.00848564 TRUE_FALSE  green       \n",
              "3 0.01958225 TRUE_TRUE   deeppink3   \n",
              "4 0.03851175 FALSE_FALSE black       "
            ],
            "text/latex": "A data.frame: 4 × 3\n\\begin{tabular}{lll}\n V1 & cluster & col\\\\\n <dbl> & <chr> & <chr>\\\\\n\\hline\n\t 0.03067885 & FALSE\\_TRUE  & deepskyblue3\\\\\n\t 0.00848564 & TRUE\\_FALSE  & green       \\\\\n\t 0.01958225 & TRUE\\_TRUE   & deeppink3   \\\\\n\t 0.03851175 & FALSE\\_FALSE & black       \\\\\n\\end{tabular}\n",
            "text/markdown": "\nA data.frame: 4 × 3\n\n| V1 &lt;dbl&gt; | cluster &lt;chr&gt; | col &lt;chr&gt; |\n|---|---|---|\n| 0.03067885 | FALSE_TRUE  | deepskyblue3 |\n| 0.00848564 | TRUE_FALSE  | green        |\n| 0.01958225 | TRUE_TRUE   | deeppink3    |\n| 0.03851175 | FALSE_FALSE | black        |\n\n",
            "text/html": [
              "<table class=\"dataframe\">\n",
              "<caption>A data.frame: 4 × 3</caption>\n",
              "<thead>\n",
              "\t<tr><th scope=col>V1</th><th scope=col>cluster</th><th scope=col>col</th></tr>\n",
              "\t<tr><th scope=col>&lt;dbl&gt;</th><th scope=col>&lt;chr&gt;</th><th scope=col>&lt;chr&gt;</th></tr>\n",
              "</thead>\n",
              "<tbody>\n",
              "\t<tr><td>0.03067885</td><td>FALSE_TRUE </td><td>deepskyblue3</td></tr>\n",
              "\t<tr><td>0.00848564</td><td>TRUE_FALSE </td><td>green       </td></tr>\n",
              "\t<tr><td>0.01958225</td><td>TRUE_TRUE  </td><td>deeppink3   </td></tr>\n",
              "\t<tr><td>0.03851175</td><td>FALSE_FALSE</td><td>black       </td></tr>\n",
              "</tbody>\n",
              "</table>\n"
            ]
          },
          "metadata": {}
        }
      ]
    },
    {
      "cell_type": "code",
      "metadata": {
        "colab": {
          "base_uri": "https://localhost:8080/",
          "height": 377
        },
        "id": "65RlSqvc1Ucw",
        "outputId": "f0bf496b-5412-40c5-e710-96a528460f97"
      },
      "source": [
        "ggplot(p300_bar, aes(x = cluster, y = V1, fill = col)) + geom_bar(stat = 'identity') + scale_fill_identity() + \n",
        "  theme_bw() +\n",
        "  theme(panel.grid.major = element_blank(), panel.grid.minor = element_blank(),\n",
        "panel.background = element_blank(), axis.line = element_line(colour = \"black\"))"
      ],
      "execution_count": null,
      "outputs": [
        {
          "output_type": "display_data",
          "data": {
            "image/png": "[encoded data removed]",
            "text/plain": [
              "plot without title"
            ]
          },
          "metadata": {
            "image/png": {
              "width": 600,
              "height": 360
            }
          }
        }
      ]
    },
    {
      "cell_type": "code",
      "metadata": {
        "id": "9wfpfiH0lQup",
        "colab": {
          "base_uri": "https://localhost:8080/",
          "height": 34
        },
        "outputId": "6f353e72-1efa-422b-e83a-cdab15a016d1"
      },
      "source": [
        "Sys.time() - start_time0"
      ],
      "execution_count": null,
      "outputs": [
        {
          "output_type": "display_data",
          "data": {
            "text/plain": [
              "Time difference of 47.13125 mins"
            ]
          },
          "metadata": {}
        }
      ]
    },
    {
      "cell_type": "code",
      "metadata": {
        "id": "kmKcIM3mlTKh",
        "colab": {
          "base_uri": "https://localhost:8080/",
          "height": 1000
        },
        "outputId": "a57e2b80-bb0c-48b5-f6d5-1ecd900b565f"
      },
      "source": [
        "sessionInfo()"
      ],
      "execution_count": null,
      "outputs": [
        {
          "output_type": "display_data",
          "data": {
            "text/plain": [
              "R version 4.1.2 (2021-11-01)\n",
              "Platform: x86_64-pc-linux-gnu (64-bit)\n",
              "Running under: Ubuntu 18.04.5 LTS\n",
              "\n",
              "Matrix products: default\n",
              "BLAS:   /usr/lib/x86_64-linux-gnu/openblas/libblas.so.3\n",
              "LAPACK: /usr/lib/x86_64-linux-gnu/libopenblasp-r0.2.20.so\n",
              "\n",
              "locale:\n",
              " [1] LC_CTYPE=en_US.UTF-8       LC_NUMERIC=C              \n",
              " [3] LC_TIME=en_US.UTF-8        LC_COLLATE=en_US.UTF-8    \n",
              " [5] LC_MONETARY=en_US.UTF-8    LC_MESSAGES=en_US.UTF-8   \n",
              " [7] LC_PAPER=en_US.UTF-8       LC_NAME=C                 \n",
              " [9] LC_ADDRESS=C               LC_TELEPHONE=C            \n",
              "[11] LC_MEASUREMENT=en_US.UTF-8 LC_IDENTIFICATION=C       \n",
              "\n",
              "attached base packages:\n",
              " [1] parallel  grid      stats4    stats     graphics  grDevices utils    \n",
              " [8] datasets  methods   base     \n",
              "\n",
              "other attached packages:\n",
              " [1] tidyr_1.1.4                        reshape2_1.4.4                    \n",
              " [3] dbscan_1.1-8                       umap_0.2.7.0                      \n",
              " [5] EnrichedHeatmap_1.23.1             ggwordcloud_0.5.0                 \n",
              " [7] ggplot2_3.3.5                      VennDiagram_1.7.1                 \n",
              " [9] futile.logger_1.4.3                DESeq2_1.34.0                     \n",
              "[11] dplyr_1.0.7                        plyr_1.8.6                        \n",
              "[13] ComplexHeatmap_2.11.1              circlize_0.4.13                   \n",
              "[15] gplots_3.1.1                       SummarizedExperiment_1.24.0       \n",
              "[17] Biobase_2.54.0                     MatrixGenerics_1.6.0              \n",
              "[19] matrixStats_0.61.0                 BiocParallel_1.28.3               \n",
              "[21] motifmatchr_1.16.0                 BSgenome.Mmusculus.UCSC.mm10_1.4.3\n",
              "[23] BSgenome_1.62.0                    rtracklayer_1.54.0                \n",
              "[25] Biostrings_2.62.0                  XVector_0.34.0                    \n",
              "[27] GenomicRanges_1.46.1               GenomeInfoDb_1.30.0               \n",
              "[29] IRanges_2.28.0                     S4Vectors_0.32.3                  \n",
              "[31] BiocGenerics_0.40.0                chromVAR_1.16.0                   \n",
              "[33] chromVARmotifs_0.2.0              \n",
              "\n",
              "loaded via a namespace (and not attached):\n",
              "  [1] utf8_1.2.2                  reticulate_1.22            \n",
              "  [3] R.utils_2.11.0              tidyselect_1.1.1           \n",
              "  [5] poweRlaw_0.70.6             RSQLite_2.2.9              \n",
              "  [7] AnnotationDbi_1.56.2        htmlwidgets_1.5.4          \n",
              "  [9] devtools_2.4.3              munsell_0.5.0              \n",
              " [11] codetools_0.2-18            DT_0.20                    \n",
              " [13] pbdZMQ_0.3-6                miniUI_0.1.1.1             \n",
              " [15] withr_2.4.3                 colorspace_2.0-2           \n",
              " [17] uuid_1.0-3                  labeling_0.4.2             \n",
              " [19] repr_1.1.3                  GenomeInfoDbData_1.2.7     \n",
              " [21] bit64_4.0.5                 farver_2.1.0               \n",
              " [23] rprojroot_2.0.2             vctrs_0.3.8                \n",
              " [25] generics_0.1.1              lambda.r_1.2.4             \n",
              " [27] R6_2.5.1                    doParallel_1.0.16          \n",
              " [29] clue_0.3-60                 locfit_1.5-9.4             \n",
              " [31] bitops_1.0-7                cachem_1.0.6               \n",
              " [33] DelayedArray_0.20.0         assertthat_0.2.1           \n",
              " [35] promises_1.2.0.1            BiocIO_1.4.0               \n",
              " [37] scales_1.1.1                gtable_0.3.0               \n",
              " [39] Cairo_1.5-14                processx_3.5.2             \n",
              " [41] seqLogo_1.60.0              rlang_0.4.12               \n",
              " [43] genefilter_1.76.0           GlobalOptions_0.1.2        \n",
              " [45] splines_4.1.2               lazyeval_0.2.2             \n",
              " [47] BiocManager_1.30.16         yaml_2.2.1                 \n",
              " [49] httpuv_1.6.5                tools_4.1.2                \n",
              " [51] usethis_2.1.5               ellipsis_0.3.2             \n",
              " [53] RColorBrewer_1.1-2          sessioninfo_1.2.2          \n",
              " [55] Rcpp_1.0.7                  base64enc_0.1-3            \n",
              " [57] zlibbioc_1.40.0             purrr_0.3.4                \n",
              " [59] RCurl_1.98-1.5              ps_1.6.0                   \n",
              " [61] prettyunits_1.1.1           openssl_1.4.6              \n",
              " [63] GetoptLong_1.0.5            cluster_2.1.2              \n",
              " [65] fs_1.5.2                    magrittr_2.0.1             \n",
              " [67] data.table_1.14.2           RSpectra_0.16-0            \n",
              " [69] futile.options_1.0.1        pkgload_1.2.4              \n",
              " [71] hms_1.1.1                   mime_0.12                  \n",
              " [73] evaluate_0.14               xtable_1.8-4               \n",
              " [75] XML_3.99-0.8                shape_1.4.6                \n",
              " [77] testthat_3.1.1              compiler_4.1.2             \n",
              " [79] tibble_3.1.6                KernSmooth_2.23-20         \n",
              " [81] crayon_1.4.2                R.oo_1.24.0                \n",
              " [83] htmltools_0.5.2             mgcv_1.8-38                \n",
              " [85] later_1.3.0                 tzdb_0.2.0                 \n",
              " [87] TFBSTools_1.32.0            geneplotter_1.72.0         \n",
              " [89] DBI_1.1.2                   formatR_1.11               \n",
              " [91] Matrix_1.4-0                readr_2.1.1                \n",
              " [93] cli_3.1.0                   R.methodsS3_1.8.1          \n",
              " [95] pkgconfig_2.0.3             GenomicAlignments_1.30.0   \n",
              " [97] TFMPvalue_0.0.8             IRdisplay_1.0              \n",
              " [99] plotly_4.10.0               foreach_1.5.1              \n",
              "[101] annotate_1.72.0             DirichletMultinomial_1.36.0\n",
              "[103] stringr_1.4.0               callr_3.7.0                \n",
              "[105] digest_0.6.29               pracma_2.3.6               \n",
              "[107] CNEr_1.30.0                 restfulr_0.0.13            \n",
              "[109] curl_4.3.2                  shiny_1.7.1                \n",
              "[111] Rsamtools_2.10.0            gtools_3.9.2               \n",
              "[113] rjson_0.2.20                lifecycle_1.0.1            \n",
              "[115] nlme_3.1-152                jsonlite_1.7.2             \n",
              "[117] desc_1.4.0                  viridisLite_0.4.0          \n",
              "[119] askpass_1.1                 fansi_0.5.0                \n",
              "[121] pillar_1.6.4                lattice_0.20-45            \n",
              "[123] KEGGREST_1.34.0             fastmap_1.1.0              \n",
              "[125] httr_1.4.2                  pkgbuild_1.3.1             \n",
              "[127] survival_3.2-13             GO.db_3.14.0               \n",
              "[129] glue_1.6.0                  remotes_2.4.2              \n",
              "[131] png_0.1-7                   iterators_1.0.13           \n",
              "[133] bit_4.0.4                   stringi_1.7.6              \n",
              "[135] blob_1.2.2                  caTools_1.18.2             \n",
              "[137] memoise_2.0.1               IRkernel_1.2               "
            ]
          },
          "metadata": {}
        }
      ]
    }
  ]
}