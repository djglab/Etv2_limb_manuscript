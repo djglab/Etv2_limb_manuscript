{
  "nbformat": 4,
  "nbformat_minor": 0,
  "metadata": {
    "kernelspec": {
      "display_name": "R",
      "language": "R",
      "name": "ir"
    },
    "language_info": {
      "codemirror_mode": "r",
      "file_extension": ".r",
      "mimetype": "text/x-r-source",
      "name": "R",
      "pygments_lexer": "r",
      "version": "3.3.1"
    },
    "colab": {
      "name": "Etv2_vplots_limb.ipynb",
      "provenance": [],
      "collapsed_sections": [],
      "machine_shape": "hm",
      "toc_visible": true,
      "include_colab_link": true
    },
    "accelerator": "GPU"
  },
  "cells": [
    {
      "cell_type": "markdown",
      "metadata": {
        "id": "view-in-github",
        "colab_type": "text"
      },
      "source": [
        "<a href=\"https://colab.research.google.com/github/gongx030/Etv2_limb_manuscript/blob/main/Etv2_vplots_limb.ipynb\" target=\"_parent\"><img src=\"https://colab.research.google.com/assets/colab-badge.svg\" alt=\"Open In Colab\"/></a>"
      ]
    },
    {
      "cell_type": "markdown",
      "metadata": {
        "id": "M0jDe-m_5aq4"
      },
      "source": [
        "# Examine the V-plots of Etv2 binding sites WT and Etv2 OE ATAC-seq samples\n",
        "by Wuming Gong\n"
      ]
    },
    {
      "cell_type": "code",
      "metadata": {
        "id": "6OhqEEeZHroa"
      },
      "source": [
        "start_time <- Sys.time()"
      ],
      "execution_count": null,
      "outputs": []
    },
    {
      "cell_type": "markdown",
      "metadata": {
        "id": "obcf6pAcw6TQ"
      },
      "source": [
        "### Install external packages"
      ]
    },
    {
      "cell_type": "code",
      "metadata": {
        "id": "99vS8MZUxApi",
        "colab": {
          "base_uri": "https://localhost:8080/",
          "height": 225
        },
        "outputId": "362c20bf-67f1-4be6-a6b4-b4f8151ede26"
      },
      "source": [
        "system('apt-get -q install libgsl-dev', intern = TRUE)"
      ],
      "execution_count": null,
      "outputs": [
        {
          "output_type": "display_data",
          "data": {
            "text/html": [
              "<style>\n",
              ".list-inline {list-style: none; margin:0; padding: 0}\n",
              ".list-inline>li {display: inline-block}\n",
              ".list-inline>li:not(:last-child)::after {content: \"\\00b7\"; padding: 0 .5ex}\n",
              "</style>\n",
              "<ol class=list-inline><li>'Reading package lists...'</li><li>'Building dependency tree...'</li><li>'Reading state information...'</li><li>'The following additional packages will be installed:'</li><li><span style=white-space:pre-wrap>'  libgsl23 libgslcblas0'</span></li><li>'Suggested packages:'</li><li><span style=white-space:pre-wrap>'  gsl-ref-psdoc | gsl-doc-pdf | gsl-doc-info | gsl-ref-html'</span></li><li>'The following NEW packages will be installed:'</li><li><span style=white-space:pre-wrap>'  libgsl-dev libgsl23 libgslcblas0'</span></li><li>'0 upgraded, 3 newly installed, 0 to remove and 39 not upgraded.'</li><li>'Need to get 1,926 kB of archives.'</li><li>'After this operation, 9,474 kB of additional disk space will be used.'</li><li>'Get:1 http://archive.ubuntu.com/ubuntu bionic/universe amd64 libgslcblas0 amd64 2.4+dfsg-6 [79.7 kB]'</li><li>'Get:2 http://archive.ubuntu.com/ubuntu bionic/universe amd64 libgsl23 amd64 2.4+dfsg-6 [823 kB]'</li><li>'Get:3 http://archive.ubuntu.com/ubuntu bionic/universe amd64 libgsl-dev amd64 2.4+dfsg-6 [1,023 kB]'</li><li>'Fetched 1,926 kB in 0s (15.2 MB/s)'</li><li>'Selecting previously unselected package libgslcblas0:amd64.\\r'</li><li>'(Reading database ... \\r(Reading database ... 5%\\r(Reading database ... 10%\\r(Reading database ... 15%\\r(Reading database ... 20%\\r(Reading database ... 25%\\r(Reading database ... 30%\\r(Reading database ... 35%\\r(Reading database ... 40%\\r(Reading database ... 45%\\r(Reading database ... 50%\\r(Reading database ... 55%\\r(Reading database ... 60%\\r(Reading database ... 65%\\r(Reading database ... 70%\\r(Reading database ... 75%\\r(Reading database ... 80%\\r(Reading database ... 85%\\r(Reading database ... 90%\\r(Reading database ... 95%\\r(Reading database ... 100%\\r(Reading database ... 155455 files and directories currently installed.)\\r'</li><li>'Preparing to unpack .../libgslcblas0_2.4+dfsg-6_amd64.deb ...\\r'</li><li>'Unpacking libgslcblas0:amd64 (2.4+dfsg-6) ...\\r'</li><li>'Selecting previously unselected package libgsl23:amd64.\\r'</li><li>'Preparing to unpack .../libgsl23_2.4+dfsg-6_amd64.deb ...\\r'</li><li>'Unpacking libgsl23:amd64 (2.4+dfsg-6) ...\\r'</li><li>'Selecting previously unselected package libgsl-dev.\\r'</li><li>'Preparing to unpack .../libgsl-dev_2.4+dfsg-6_amd64.deb ...\\r'</li><li>'Unpacking libgsl-dev (2.4+dfsg-6) ...\\r'</li><li>'Setting up libgslcblas0:amd64 (2.4+dfsg-6) ...\\r'</li><li>'Setting up libgsl23:amd64 (2.4+dfsg-6) ...\\r'</li><li>'Setting up libgsl-dev (2.4+dfsg-6) ...\\r'</li><li>'Processing triggers for man-db (2.8.3-2ubuntu0.1) ...\\r'</li><li>'Processing triggers for libc-bin (2.27-3ubuntu1.3) ...\\r'</li><li>'/sbin/ldconfig.real: /usr/local/lib/python3.7/dist-packages/ideep4py/lib/libmkldnn.so.0 is not a symbolic link\\r'</li><li>'\\r'</li></ol>\n"
            ],
            "text/markdown": "1. 'Reading package lists...'\n2. 'Building dependency tree...'\n3. 'Reading state information...'\n4. 'The following additional packages will be installed:'\n5. <span style=white-space:pre-wrap>'  libgsl23 libgslcblas0'</span>\n6. 'Suggested packages:'\n7. <span style=white-space:pre-wrap>'  gsl-ref-psdoc | gsl-doc-pdf | gsl-doc-info | gsl-ref-html'</span>\n8. 'The following NEW packages will be installed:'\n9. <span style=white-space:pre-wrap>'  libgsl-dev libgsl23 libgslcblas0'</span>\n10. '0 upgraded, 3 newly installed, 0 to remove and 39 not upgraded.'\n11. 'Need to get 1,926 kB of archives.'\n12. 'After this operation, 9,474 kB of additional disk space will be used.'\n13. 'Get:1 http://archive.ubuntu.com/ubuntu bionic/universe amd64 libgslcblas0 amd64 2.4+dfsg-6 [79.7 kB]'\n14. 'Get:2 http://archive.ubuntu.com/ubuntu bionic/universe amd64 libgsl23 amd64 2.4+dfsg-6 [823 kB]'\n15. 'Get:3 http://archive.ubuntu.com/ubuntu bionic/universe amd64 libgsl-dev amd64 2.4+dfsg-6 [1,023 kB]'\n16. 'Fetched 1,926 kB in 0s (15.2 MB/s)'\n17. 'Selecting previously unselected package libgslcblas0:amd64.\\r'\n18. '(Reading database ... \\r(Reading database ... 5%\\r(Reading database ... 10%\\r(Reading database ... 15%\\r(Reading database ... 20%\\r(Reading database ... 25%\\r(Reading database ... 30%\\r(Reading database ... 35%\\r(Reading database ... 40%\\r(Reading database ... 45%\\r(Reading database ... 50%\\r(Reading database ... 55%\\r(Reading database ... 60%\\r(Reading database ... 65%\\r(Reading database ... 70%\\r(Reading database ... 75%\\r(Reading database ... 80%\\r(Reading database ... 85%\\r(Reading database ... 90%\\r(Reading database ... 95%\\r(Reading database ... 100%\\r(Reading database ... 155455 files and directories currently installed.)\\r'\n19. 'Preparing to unpack .../libgslcblas0_2.4+dfsg-6_amd64.deb ...\\r'\n20. 'Unpacking libgslcblas0:amd64 (2.4+dfsg-6) ...\\r'\n21. 'Selecting previously unselected package libgsl23:amd64.\\r'\n22. 'Preparing to unpack .../libgsl23_2.4+dfsg-6_amd64.deb ...\\r'\n23. 'Unpacking libgsl23:amd64 (2.4+dfsg-6) ...\\r'\n24. 'Selecting previously unselected package libgsl-dev.\\r'\n25. 'Preparing to unpack .../libgsl-dev_2.4+dfsg-6_amd64.deb ...\\r'\n26. 'Unpacking libgsl-dev (2.4+dfsg-6) ...\\r'\n27. 'Setting up libgslcblas0:amd64 (2.4+dfsg-6) ...\\r'\n28. 'Setting up libgsl23:amd64 (2.4+dfsg-6) ...\\r'\n29. 'Setting up libgsl-dev (2.4+dfsg-6) ...\\r'\n30. 'Processing triggers for man-db (2.8.3-2ubuntu0.1) ...\\r'\n31. 'Processing triggers for libc-bin (2.27-3ubuntu1.3) ...\\r'\n32. '/sbin/ldconfig.real: /usr/local/lib/python3.7/dist-packages/ideep4py/lib/libmkldnn.so.0 is not a symbolic link\\r'\n33. '\\r'\n\n\n",
            "text/latex": "\\begin{enumerate*}\n\\item 'Reading package lists...'\n\\item 'Building dependency tree...'\n\\item 'Reading state information...'\n\\item 'The following additional packages will be installed:'\n\\item '  libgsl23 libgslcblas0'\n\\item 'Suggested packages:'\n\\item '  gsl-ref-psdoc \\textbar{} gsl-doc-pdf \\textbar{} gsl-doc-info \\textbar{} gsl-ref-html'\n\\item 'The following NEW packages will be installed:'\n\\item '  libgsl-dev libgsl23 libgslcblas0'\n\\item '0 upgraded, 3 newly installed, 0 to remove and 39 not upgraded.'\n\\item 'Need to get 1,926 kB of archives.'\n\\item 'After this operation, 9,474 kB of additional disk space will be used.'\n\\item 'Get:1 http://archive.ubuntu.com/ubuntu bionic/universe amd64 libgslcblas0 amd64 2.4+dfsg-6 {[}79.7 kB{]}'\n\\item 'Get:2 http://archive.ubuntu.com/ubuntu bionic/universe amd64 libgsl23 amd64 2.4+dfsg-6 {[}823 kB{]}'\n\\item 'Get:3 http://archive.ubuntu.com/ubuntu bionic/universe amd64 libgsl-dev amd64 2.4+dfsg-6 {[}1,023 kB{]}'\n\\item 'Fetched 1,926 kB in 0s (15.2 MB/s)'\n\\item 'Selecting previously unselected package libgslcblas0:amd64.\\textbackslash{}r'\n\\item '(Reading database ... \\textbackslash{}r(Reading database ... 5\\%\\textbackslash{}r(Reading database ... 10\\%\\textbackslash{}r(Reading database ... 15\\%\\textbackslash{}r(Reading database ... 20\\%\\textbackslash{}r(Reading database ... 25\\%\\textbackslash{}r(Reading database ... 30\\%\\textbackslash{}r(Reading database ... 35\\%\\textbackslash{}r(Reading database ... 40\\%\\textbackslash{}r(Reading database ... 45\\%\\textbackslash{}r(Reading database ... 50\\%\\textbackslash{}r(Reading database ... 55\\%\\textbackslash{}r(Reading database ... 60\\%\\textbackslash{}r(Reading database ... 65\\%\\textbackslash{}r(Reading database ... 70\\%\\textbackslash{}r(Reading database ... 75\\%\\textbackslash{}r(Reading database ... 80\\%\\textbackslash{}r(Reading database ... 85\\%\\textbackslash{}r(Reading database ... 90\\%\\textbackslash{}r(Reading database ... 95\\%\\textbackslash{}r(Reading database ... 100\\%\\textbackslash{}r(Reading database ... 155455 files and directories currently installed.)\\textbackslash{}r'\n\\item 'Preparing to unpack .../libgslcblas0\\_2.4+dfsg-6\\_amd64.deb ...\\textbackslash{}r'\n\\item 'Unpacking libgslcblas0:amd64 (2.4+dfsg-6) ...\\textbackslash{}r'\n\\item 'Selecting previously unselected package libgsl23:amd64.\\textbackslash{}r'\n\\item 'Preparing to unpack .../libgsl23\\_2.4+dfsg-6\\_amd64.deb ...\\textbackslash{}r'\n\\item 'Unpacking libgsl23:amd64 (2.4+dfsg-6) ...\\textbackslash{}r'\n\\item 'Selecting previously unselected package libgsl-dev.\\textbackslash{}r'\n\\item 'Preparing to unpack .../libgsl-dev\\_2.4+dfsg-6\\_amd64.deb ...\\textbackslash{}r'\n\\item 'Unpacking libgsl-dev (2.4+dfsg-6) ...\\textbackslash{}r'\n\\item 'Setting up libgslcblas0:amd64 (2.4+dfsg-6) ...\\textbackslash{}r'\n\\item 'Setting up libgsl23:amd64 (2.4+dfsg-6) ...\\textbackslash{}r'\n\\item 'Setting up libgsl-dev (2.4+dfsg-6) ...\\textbackslash{}r'\n\\item 'Processing triggers for man-db (2.8.3-2ubuntu0.1) ...\\textbackslash{}r'\n\\item 'Processing triggers for libc-bin (2.27-3ubuntu1.3) ...\\textbackslash{}r'\n\\item '/sbin/ldconfig.real: /usr/local/lib/python3.7/dist-packages/ideep4py/lib/libmkldnn.so.0 is not a symbolic link\\textbackslash{}r'\n\\item '\\textbackslash{}r'\n\\end{enumerate*}\n",
            "text/plain": [
              " [1] \"Reading package lists...\"                                                                                                                                                                                                                                                                                                                                                                                                                                                                                                                                                                                                                                      \n",
              " [2] \"Building dependency tree...\"                                                                                                                                                                                                                                                                                                                                                                                                                                                                                                                                                                                                                                   \n",
              " [3] \"Reading state information...\"                                                                                                                                                                                                                                                                                                                                                                                                                                                                                                                                                                                                                                  \n",
              " [4] \"The following additional packages will be installed:\"                                                                                                                                                                                                                                                                                                                                                                                                                                                                                                                                                                                                          \n",
              " [5] \"  libgsl23 libgslcblas0\"                                                                                                                                                                                                                                                                                                                                                                                                                                                                                                                                                                                                                                       \n",
              " [6] \"Suggested packages:\"                                                                                                                                                                                                                                                                                                                                                                                                                                                                                                                                                                                                                                           \n",
              " [7] \"  gsl-ref-psdoc | gsl-doc-pdf | gsl-doc-info | gsl-ref-html\"                                                                                                                                                                                                                                                                                                                                                                                                                                                                                                                                                                                                   \n",
              " [8] \"The following NEW packages will be installed:\"                                                                                                                                                                                                                                                                                                                                                                                                                                                                                                                                                                                                                 \n",
              " [9] \"  libgsl-dev libgsl23 libgslcblas0\"                                                                                                                                                                                                                                                                                                                                                                                                                                                                                                                                                                                                                            \n",
              "[10] \"0 upgraded, 3 newly installed, 0 to remove and 39 not upgraded.\"                                                                                                                                                                                                                                                                                                                                                                                                                                                                                                                                                                                               \n",
              "[11] \"Need to get 1,926 kB of archives.\"                                                                                                                                                                                                                                                                                                                                                                                                                                                                                                                                                                                                                             \n",
              "[12] \"After this operation, 9,474 kB of additional disk space will be used.\"                                                                                                                                                                                                                                                                                                                                                                                                                                                                                                                                                                                         \n",
              "[13] \"Get:1 http://archive.ubuntu.com/ubuntu bionic/universe amd64 libgslcblas0 amd64 2.4+dfsg-6 [79.7 kB]\"                                                                                                                                                                                                                                                                                                                                                                                                                                                                                                                                                          \n",
              "[14] \"Get:2 http://archive.ubuntu.com/ubuntu bionic/universe amd64 libgsl23 amd64 2.4+dfsg-6 [823 kB]\"                                                                                                                                                                                                                                                                                                                                                                                                                                                                                                                                                               \n",
              "[15] \"Get:3 http://archive.ubuntu.com/ubuntu bionic/universe amd64 libgsl-dev amd64 2.4+dfsg-6 [1,023 kB]\"                                                                                                                                                                                                                                                                                                                                                                                                                                                                                                                                                           \n",
              "[16] \"Fetched 1,926 kB in 0s (15.2 MB/s)\"                                                                                                                                                                                                                                                                                                                                                                                                                                                                                                                                                                                                                            \n",
              "[17] \"Selecting previously unselected package libgslcblas0:amd64.\\r\"                                                                                                                                                                                                                                                                                                                                                                                                                                                                                                                                                                                                 \n",
              "[18] \"(Reading database ... \\r(Reading database ... 5%\\r(Reading database ... 10%\\r(Reading database ... 15%\\r(Reading database ... 20%\\r(Reading database ... 25%\\r(Reading database ... 30%\\r(Reading database ... 35%\\r(Reading database ... 40%\\r(Reading database ... 45%\\r(Reading database ... 50%\\r(Reading database ... 55%\\r(Reading database ... 60%\\r(Reading database ... 65%\\r(Reading database ... 70%\\r(Reading database ... 75%\\r(Reading database ... 80%\\r(Reading database ... 85%\\r(Reading database ... 90%\\r(Reading database ... 95%\\r(Reading database ... 100%\\r(Reading database ... 155455 files and directories currently installed.)\\r\"\n",
              "[19] \"Preparing to unpack .../libgslcblas0_2.4+dfsg-6_amd64.deb ...\\r\"                                                                                                                                                                                                                                                                                                                                                                                                                                                                                                                                                                                               \n",
              "[20] \"Unpacking libgslcblas0:amd64 (2.4+dfsg-6) ...\\r\"                                                                                                                                                                                                                                                                                                                                                                                                                                                                                                                                                                                                               \n",
              "[21] \"Selecting previously unselected package libgsl23:amd64.\\r\"                                                                                                                                                                                                                                                                                                                                                                                                                                                                                                                                                                                                     \n",
              "[22] \"Preparing to unpack .../libgsl23_2.4+dfsg-6_amd64.deb ...\\r\"                                                                                                                                                                                                                                                                                                                                                                                                                                                                                                                                                                                                   \n",
              "[23] \"Unpacking libgsl23:amd64 (2.4+dfsg-6) ...\\r\"                                                                                                                                                                                                                                                                                                                                                                                                                                                                                                                                                                                                                   \n",
              "[24] \"Selecting previously unselected package libgsl-dev.\\r\"                                                                                                                                                                                                                                                                                                                                                                                                                                                                                                                                                                                                         \n",
              "[25] \"Preparing to unpack .../libgsl-dev_2.4+dfsg-6_amd64.deb ...\\r\"                                                                                                                                                                                                                                                                                                                                                                                                                                                                                                                                                                                                 \n",
              "[26] \"Unpacking libgsl-dev (2.4+dfsg-6) ...\\r\"                                                                                                                                                                                                                                                                                                                                                                                                                                                                                                                                                                                                                       \n",
              "[27] \"Setting up libgslcblas0:amd64 (2.4+dfsg-6) ...\\r\"                                                                                                                                                                                                                                                                                                                                                                                                                                                                                                                                                                                                              \n",
              "[28] \"Setting up libgsl23:amd64 (2.4+dfsg-6) ...\\r\"                                                                                                                                                                                                                                                                                                                                                                                                                                                                                                                                                                                                                  \n",
              "[29] \"Setting up libgsl-dev (2.4+dfsg-6) ...\\r\"                                                                                                                                                                                                                                                                                                                                                                                                                                                                                                                                                                                                                      \n",
              "[30] \"Processing triggers for man-db (2.8.3-2ubuntu0.1) ...\\r\"                                                                                                                                                                                                                                                                                                                                                                                                                                                                                                                                                                                                       \n",
              "[31] \"Processing triggers for libc-bin (2.27-3ubuntu1.3) ...\\r\"                                                                                                                                                                                                                                                                                                                                                                                                                                                                                                                                                                                                      \n",
              "[32] \"/sbin/ldconfig.real: /usr/local/lib/python3.7/dist-packages/ideep4py/lib/libmkldnn.so.0 is not a symbolic link\\r\"                                                                                                                                                                                                                                                                                                                                                                                                                                                                                                                                              \n",
              "[33] \"\\r\"                                                                                                                                                                                                                                                                                                                                                                                                                                                                                                                                                                                                                                                            "
            ]
          },
          "metadata": {}
        }
      ]
    },
    {
      "cell_type": "code",
      "metadata": {
        "id": "HgPXAFx1xZHE",
        "colab": {
          "base_uri": "https://localhost:8080/",
          "height": 312
        },
        "outputId": "64cf77a4-02a7-4856-8560-7fa8cf6d0ddf"
      },
      "source": [
        "system('apt-get install libcairo2-dev', intern = TRUE) # for Cairo package that is required by ComplexHeatmap package"
      ],
      "execution_count": null,
      "outputs": [
        {
          "output_type": "display_data",
          "data": {
            "text/html": [
              "<style>\n",
              ".list-inline {list-style: none; margin:0; padding: 0}\n",
              ".list-inline>li {display: inline-block}\n",
              ".list-inline>li:not(:last-child)::after {content: \"\\00b7\"; padding: 0 .5ex}\n",
              "</style>\n",
              "<ol class=list-inline><li>'Reading package lists...'</li><li>'Building dependency tree...'</li><li>'Reading state information...'</li><li>'The following additional packages will be installed:'</li><li><span style=white-space:pre-wrap>'  libcairo-script-interpreter2 libpixman-1-dev libxcb-shm0-dev'</span></li><li>'Suggested packages:'</li><li><span style=white-space:pre-wrap>'  libcairo2-doc'</span></li><li>'The following NEW packages will be installed:'</li><li><span style=white-space:pre-wrap>'  libcairo-script-interpreter2 libcairo2-dev libpixman-1-dev libxcb-shm0-dev'</span></li><li>'0 upgraded, 4 newly installed, 0 to remove and 39 not upgraded.'</li><li>'Need to get 930 kB of archives.'</li><li>'After this operation, 3,986 kB of additional disk space will be used.'</li><li>'Get:1 http://archive.ubuntu.com/ubuntu bionic-updates/main amd64 libcairo-script-interpreter2 amd64 1.15.10-2ubuntu0.1 [53.5 kB]'</li><li>'Get:2 http://archive.ubuntu.com/ubuntu bionic/main amd64 libpixman-1-dev amd64 0.34.0-2 [244 kB]'</li><li>'Get:3 http://archive.ubuntu.com/ubuntu bionic-updates/main amd64 libxcb-shm0-dev amd64 1.13-2~ubuntu18.04 [6,684 B]'</li><li>'Get:4 http://archive.ubuntu.com/ubuntu bionic-updates/main amd64 libcairo2-dev amd64 1.15.10-2ubuntu0.1 [626 kB]'</li><li>'Fetched 930 kB in 0s (8,933 kB/s)'</li><li>'Selecting previously unselected package libcairo-script-interpreter2:amd64.\\r'</li><li>'(Reading database ... \\r(Reading database ... 5%\\r(Reading database ... 10%\\r(Reading database ... 15%\\r(Reading database ... 20%\\r(Reading database ... 25%\\r(Reading database ... 30%\\r(Reading database ... 35%\\r(Reading database ... 40%\\r(Reading database ... 45%\\r(Reading database ... 50%\\r(Reading database ... 55%\\r(Reading database ... 60%\\r(Reading database ... 65%\\r(Reading database ... 70%\\r(Reading database ... 75%\\r(Reading database ... 80%\\r(Reading database ... 85%\\r(Reading database ... 90%\\r(Reading database ... 95%\\r(Reading database ... 100%\\r(Reading database ... 155727 files and directories currently installed.)\\r'</li><li>'Preparing to unpack .../libcairo-script-interpreter2_1.15.10-2ubuntu0.1_amd64.deb ...\\r'</li><li>'Unpacking libcairo-script-interpreter2:amd64 (1.15.10-2ubuntu0.1) ...\\r'</li><li>'Selecting previously unselected package libpixman-1-dev:amd64.\\r'</li><li>'Preparing to unpack .../libpixman-1-dev_0.34.0-2_amd64.deb ...\\r'</li><li>'Unpacking libpixman-1-dev:amd64 (0.34.0-2) ...\\r'</li><li>'Selecting previously unselected package libxcb-shm0-dev:amd64.\\r'</li><li>'Preparing to unpack .../libxcb-shm0-dev_1.13-2~ubuntu18.04_amd64.deb ...\\r'</li><li>'Unpacking libxcb-shm0-dev:amd64 (1.13-2~ubuntu18.04) ...\\r'</li><li>'Selecting previously unselected package libcairo2-dev:amd64.\\r'</li><li>'Preparing to unpack .../libcairo2-dev_1.15.10-2ubuntu0.1_amd64.deb ...\\r'</li><li>'Unpacking libcairo2-dev:amd64 (1.15.10-2ubuntu0.1) ...\\r'</li><li>'Setting up libcairo-script-interpreter2:amd64 (1.15.10-2ubuntu0.1) ...\\r'</li><li>'Setting up libxcb-shm0-dev:amd64 (1.13-2~ubuntu18.04) ...\\r'</li><li>'Setting up libpixman-1-dev:amd64 (0.34.0-2) ...\\r'</li><li>'Setting up libcairo2-dev:amd64 (1.15.10-2ubuntu0.1) ...\\r'</li><li>'Processing triggers for libc-bin (2.27-3ubuntu1.3) ...\\r'</li><li>'/sbin/ldconfig.real: /usr/local/lib/python3.7/dist-packages/ideep4py/lib/libmkldnn.so.0 is not a symbolic link\\r'</li><li>'\\r'</li></ol>\n"
            ],
            "text/markdown": "1. 'Reading package lists...'\n2. 'Building dependency tree...'\n3. 'Reading state information...'\n4. 'The following additional packages will be installed:'\n5. <span style=white-space:pre-wrap>'  libcairo-script-interpreter2 libpixman-1-dev libxcb-shm0-dev'</span>\n6. 'Suggested packages:'\n7. <span style=white-space:pre-wrap>'  libcairo2-doc'</span>\n8. 'The following NEW packages will be installed:'\n9. <span style=white-space:pre-wrap>'  libcairo-script-interpreter2 libcairo2-dev libpixman-1-dev libxcb-shm0-dev'</span>\n10. '0 upgraded, 4 newly installed, 0 to remove and 39 not upgraded.'\n11. 'Need to get 930 kB of archives.'\n12. 'After this operation, 3,986 kB of additional disk space will be used.'\n13. 'Get:1 http://archive.ubuntu.com/ubuntu bionic-updates/main amd64 libcairo-script-interpreter2 amd64 1.15.10-2ubuntu0.1 [53.5 kB]'\n14. 'Get:2 http://archive.ubuntu.com/ubuntu bionic/main amd64 libpixman-1-dev amd64 0.34.0-2 [244 kB]'\n15. 'Get:3 http://archive.ubuntu.com/ubuntu bionic-updates/main amd64 libxcb-shm0-dev amd64 1.13-2~ubuntu18.04 [6,684 B]'\n16. 'Get:4 http://archive.ubuntu.com/ubuntu bionic-updates/main amd64 libcairo2-dev amd64 1.15.10-2ubuntu0.1 [626 kB]'\n17. 'Fetched 930 kB in 0s (8,933 kB/s)'\n18. 'Selecting previously unselected package libcairo-script-interpreter2:amd64.\\r'\n19. '(Reading database ... \\r(Reading database ... 5%\\r(Reading database ... 10%\\r(Reading database ... 15%\\r(Reading database ... 20%\\r(Reading database ... 25%\\r(Reading database ... 30%\\r(Reading database ... 35%\\r(Reading database ... 40%\\r(Reading database ... 45%\\r(Reading database ... 50%\\r(Reading database ... 55%\\r(Reading database ... 60%\\r(Reading database ... 65%\\r(Reading database ... 70%\\r(Reading database ... 75%\\r(Reading database ... 80%\\r(Reading database ... 85%\\r(Reading database ... 90%\\r(Reading database ... 95%\\r(Reading database ... 100%\\r(Reading database ... 155727 files and directories currently installed.)\\r'\n20. 'Preparing to unpack .../libcairo-script-interpreter2_1.15.10-2ubuntu0.1_amd64.deb ...\\r'\n21. 'Unpacking libcairo-script-interpreter2:amd64 (1.15.10-2ubuntu0.1) ...\\r'\n22. 'Selecting previously unselected package libpixman-1-dev:amd64.\\r'\n23. 'Preparing to unpack .../libpixman-1-dev_0.34.0-2_amd64.deb ...\\r'\n24. 'Unpacking libpixman-1-dev:amd64 (0.34.0-2) ...\\r'\n25. 'Selecting previously unselected package libxcb-shm0-dev:amd64.\\r'\n26. 'Preparing to unpack .../libxcb-shm0-dev_1.13-2~ubuntu18.04_amd64.deb ...\\r'\n27. 'Unpacking libxcb-shm0-dev:amd64 (1.13-2~ubuntu18.04) ...\\r'\n28. 'Selecting previously unselected package libcairo2-dev:amd64.\\r'\n29. 'Preparing to unpack .../libcairo2-dev_1.15.10-2ubuntu0.1_amd64.deb ...\\r'\n30. 'Unpacking libcairo2-dev:amd64 (1.15.10-2ubuntu0.1) ...\\r'\n31. 'Setting up libcairo-script-interpreter2:amd64 (1.15.10-2ubuntu0.1) ...\\r'\n32. 'Setting up libxcb-shm0-dev:amd64 (1.13-2~ubuntu18.04) ...\\r'\n33. 'Setting up libpixman-1-dev:amd64 (0.34.0-2) ...\\r'\n34. 'Setting up libcairo2-dev:amd64 (1.15.10-2ubuntu0.1) ...\\r'\n35. 'Processing triggers for libc-bin (2.27-3ubuntu1.3) ...\\r'\n36. '/sbin/ldconfig.real: /usr/local/lib/python3.7/dist-packages/ideep4py/lib/libmkldnn.so.0 is not a symbolic link\\r'\n37. '\\r'\n\n\n",
            "text/latex": "\\begin{enumerate*}\n\\item 'Reading package lists...'\n\\item 'Building dependency tree...'\n\\item 'Reading state information...'\n\\item 'The following additional packages will be installed:'\n\\item '  libcairo-script-interpreter2 libpixman-1-dev libxcb-shm0-dev'\n\\item 'Suggested packages:'\n\\item '  libcairo2-doc'\n\\item 'The following NEW packages will be installed:'\n\\item '  libcairo-script-interpreter2 libcairo2-dev libpixman-1-dev libxcb-shm0-dev'\n\\item '0 upgraded, 4 newly installed, 0 to remove and 39 not upgraded.'\n\\item 'Need to get 930 kB of archives.'\n\\item 'After this operation, 3,986 kB of additional disk space will be used.'\n\\item 'Get:1 http://archive.ubuntu.com/ubuntu bionic-updates/main amd64 libcairo-script-interpreter2 amd64 1.15.10-2ubuntu0.1 {[}53.5 kB{]}'\n\\item 'Get:2 http://archive.ubuntu.com/ubuntu bionic/main amd64 libpixman-1-dev amd64 0.34.0-2 {[}244 kB{]}'\n\\item 'Get:3 http://archive.ubuntu.com/ubuntu bionic-updates/main amd64 libxcb-shm0-dev amd64 1.13-2\\textasciitilde{}ubuntu18.04 {[}6,684 B{]}'\n\\item 'Get:4 http://archive.ubuntu.com/ubuntu bionic-updates/main amd64 libcairo2-dev amd64 1.15.10-2ubuntu0.1 {[}626 kB{]}'\n\\item 'Fetched 930 kB in 0s (8,933 kB/s)'\n\\item 'Selecting previously unselected package libcairo-script-interpreter2:amd64.\\textbackslash{}r'\n\\item '(Reading database ... \\textbackslash{}r(Reading database ... 5\\%\\textbackslash{}r(Reading database ... 10\\%\\textbackslash{}r(Reading database ... 15\\%\\textbackslash{}r(Reading database ... 20\\%\\textbackslash{}r(Reading database ... 25\\%\\textbackslash{}r(Reading database ... 30\\%\\textbackslash{}r(Reading database ... 35\\%\\textbackslash{}r(Reading database ... 40\\%\\textbackslash{}r(Reading database ... 45\\%\\textbackslash{}r(Reading database ... 50\\%\\textbackslash{}r(Reading database ... 55\\%\\textbackslash{}r(Reading database ... 60\\%\\textbackslash{}r(Reading database ... 65\\%\\textbackslash{}r(Reading database ... 70\\%\\textbackslash{}r(Reading database ... 75\\%\\textbackslash{}r(Reading database ... 80\\%\\textbackslash{}r(Reading database ... 85\\%\\textbackslash{}r(Reading database ... 90\\%\\textbackslash{}r(Reading database ... 95\\%\\textbackslash{}r(Reading database ... 100\\%\\textbackslash{}r(Reading database ... 155727 files and directories currently installed.)\\textbackslash{}r'\n\\item 'Preparing to unpack .../libcairo-script-interpreter2\\_1.15.10-2ubuntu0.1\\_amd64.deb ...\\textbackslash{}r'\n\\item 'Unpacking libcairo-script-interpreter2:amd64 (1.15.10-2ubuntu0.1) ...\\textbackslash{}r'\n\\item 'Selecting previously unselected package libpixman-1-dev:amd64.\\textbackslash{}r'\n\\item 'Preparing to unpack .../libpixman-1-dev\\_0.34.0-2\\_amd64.deb ...\\textbackslash{}r'\n\\item 'Unpacking libpixman-1-dev:amd64 (0.34.0-2) ...\\textbackslash{}r'\n\\item 'Selecting previously unselected package libxcb-shm0-dev:amd64.\\textbackslash{}r'\n\\item 'Preparing to unpack .../libxcb-shm0-dev\\_1.13-2\\textasciitilde{}ubuntu18.04\\_amd64.deb ...\\textbackslash{}r'\n\\item 'Unpacking libxcb-shm0-dev:amd64 (1.13-2\\textasciitilde{}ubuntu18.04) ...\\textbackslash{}r'\n\\item 'Selecting previously unselected package libcairo2-dev:amd64.\\textbackslash{}r'\n\\item 'Preparing to unpack .../libcairo2-dev\\_1.15.10-2ubuntu0.1\\_amd64.deb ...\\textbackslash{}r'\n\\item 'Unpacking libcairo2-dev:amd64 (1.15.10-2ubuntu0.1) ...\\textbackslash{}r'\n\\item 'Setting up libcairo-script-interpreter2:amd64 (1.15.10-2ubuntu0.1) ...\\textbackslash{}r'\n\\item 'Setting up libxcb-shm0-dev:amd64 (1.13-2\\textasciitilde{}ubuntu18.04) ...\\textbackslash{}r'\n\\item 'Setting up libpixman-1-dev:amd64 (0.34.0-2) ...\\textbackslash{}r'\n\\item 'Setting up libcairo2-dev:amd64 (1.15.10-2ubuntu0.1) ...\\textbackslash{}r'\n\\item 'Processing triggers for libc-bin (2.27-3ubuntu1.3) ...\\textbackslash{}r'\n\\item '/sbin/ldconfig.real: /usr/local/lib/python3.7/dist-packages/ideep4py/lib/libmkldnn.so.0 is not a symbolic link\\textbackslash{}r'\n\\item '\\textbackslash{}r'\n\\end{enumerate*}\n",
            "text/plain": [
              " [1] \"Reading package lists...\"                                                                                                                                                                                                                                                                                                                                                                                                                                                                                                                                                                                                                                      \n",
              " [2] \"Building dependency tree...\"                                                                                                                                                                                                                                                                                                                                                                                                                                                                                                                                                                                                                                   \n",
              " [3] \"Reading state information...\"                                                                                                                                                                                                                                                                                                                                                                                                                                                                                                                                                                                                                                  \n",
              " [4] \"The following additional packages will be installed:\"                                                                                                                                                                                                                                                                                                                                                                                                                                                                                                                                                                                                          \n",
              " [5] \"  libcairo-script-interpreter2 libpixman-1-dev libxcb-shm0-dev\"                                                                                                                                                                                                                                                                                                                                                                                                                                                                                                                                                                                                \n",
              " [6] \"Suggested packages:\"                                                                                                                                                                                                                                                                                                                                                                                                                                                                                                                                                                                                                                           \n",
              " [7] \"  libcairo2-doc\"                                                                                                                                                                                                                                                                                                                                                                                                                                                                                                                                                                                                                                               \n",
              " [8] \"The following NEW packages will be installed:\"                                                                                                                                                                                                                                                                                                                                                                                                                                                                                                                                                                                                                 \n",
              " [9] \"  libcairo-script-interpreter2 libcairo2-dev libpixman-1-dev libxcb-shm0-dev\"                                                                                                                                                                                                                                                                                                                                                                                                                                                                                                                                                                                  \n",
              "[10] \"0 upgraded, 4 newly installed, 0 to remove and 39 not upgraded.\"                                                                                                                                                                                                                                                                                                                                                                                                                                                                                                                                                                                               \n",
              "[11] \"Need to get 930 kB of archives.\"                                                                                                                                                                                                                                                                                                                                                                                                                                                                                                                                                                                                                               \n",
              "[12] \"After this operation, 3,986 kB of additional disk space will be used.\"                                                                                                                                                                                                                                                                                                                                                                                                                                                                                                                                                                                         \n",
              "[13] \"Get:1 http://archive.ubuntu.com/ubuntu bionic-updates/main amd64 libcairo-script-interpreter2 amd64 1.15.10-2ubuntu0.1 [53.5 kB]\"                                                                                                                                                                                                                                                                                                                                                                                                                                                                                                                              \n",
              "[14] \"Get:2 http://archive.ubuntu.com/ubuntu bionic/main amd64 libpixman-1-dev amd64 0.34.0-2 [244 kB]\"                                                                                                                                                                                                                                                                                                                                                                                                                                                                                                                                                              \n",
              "[15] \"Get:3 http://archive.ubuntu.com/ubuntu bionic-updates/main amd64 libxcb-shm0-dev amd64 1.13-2~ubuntu18.04 [6,684 B]\"                                                                                                                                                                                                                                                                                                                                                                                                                                                                                                                                           \n",
              "[16] \"Get:4 http://archive.ubuntu.com/ubuntu bionic-updates/main amd64 libcairo2-dev amd64 1.15.10-2ubuntu0.1 [626 kB]\"                                                                                                                                                                                                                                                                                                                                                                                                                                                                                                                                              \n",
              "[17] \"Fetched 930 kB in 0s (8,933 kB/s)\"                                                                                                                                                                                                                                                                                                                                                                                                                                                                                                                                                                                                                             \n",
              "[18] \"Selecting previously unselected package libcairo-script-interpreter2:amd64.\\r\"                                                                                                                                                                                                                                                                                                                                                                                                                                                                                                                                                                                 \n",
              "[19] \"(Reading database ... \\r(Reading database ... 5%\\r(Reading database ... 10%\\r(Reading database ... 15%\\r(Reading database ... 20%\\r(Reading database ... 25%\\r(Reading database ... 30%\\r(Reading database ... 35%\\r(Reading database ... 40%\\r(Reading database ... 45%\\r(Reading database ... 50%\\r(Reading database ... 55%\\r(Reading database ... 60%\\r(Reading database ... 65%\\r(Reading database ... 70%\\r(Reading database ... 75%\\r(Reading database ... 80%\\r(Reading database ... 85%\\r(Reading database ... 90%\\r(Reading database ... 95%\\r(Reading database ... 100%\\r(Reading database ... 155727 files and directories currently installed.)\\r\"\n",
              "[20] \"Preparing to unpack .../libcairo-script-interpreter2_1.15.10-2ubuntu0.1_amd64.deb ...\\r\"                                                                                                                                                                                                                                                                                                                                                                                                                                                                                                                                                                       \n",
              "[21] \"Unpacking libcairo-script-interpreter2:amd64 (1.15.10-2ubuntu0.1) ...\\r\"                                                                                                                                                                                                                                                                                                                                                                                                                                                                                                                                                                                       \n",
              "[22] \"Selecting previously unselected package libpixman-1-dev:amd64.\\r\"                                                                                                                                                                                                                                                                                                                                                                                                                                                                                                                                                                                              \n",
              "[23] \"Preparing to unpack .../libpixman-1-dev_0.34.0-2_amd64.deb ...\\r\"                                                                                                                                                                                                                                                                                                                                                                                                                                                                                                                                                                                              \n",
              "[24] \"Unpacking libpixman-1-dev:amd64 (0.34.0-2) ...\\r\"                                                                                                                                                                                                                                                                                                                                                                                                                                                                                                                                                                                                              \n",
              "[25] \"Selecting previously unselected package libxcb-shm0-dev:amd64.\\r\"                                                                                                                                                                                                                                                                                                                                                                                                                                                                                                                                                                                              \n",
              "[26] \"Preparing to unpack .../libxcb-shm0-dev_1.13-2~ubuntu18.04_amd64.deb ...\\r\"                                                                                                                                                                                                                                                                                                                                                                                                                                                                                                                                                                                    \n",
              "[27] \"Unpacking libxcb-shm0-dev:amd64 (1.13-2~ubuntu18.04) ...\\r\"                                                                                                                                                                                                                                                                                                                                                                                                                                                                                                                                                                                                    \n",
              "[28] \"Selecting previously unselected package libcairo2-dev:amd64.\\r\"                                                                                                                                                                                                                                                                                                                                                                                                                                                                                                                                                                                                \n",
              "[29] \"Preparing to unpack .../libcairo2-dev_1.15.10-2ubuntu0.1_amd64.deb ...\\r\"                                                                                                                                                                                                                                                                                                                                                                                                                                                                                                                                                                                      \n",
              "[30] \"Unpacking libcairo2-dev:amd64 (1.15.10-2ubuntu0.1) ...\\r\"                                                                                                                                                                                                                                                                                                                                                                                                                                                                                                                                                                                                      \n",
              "[31] \"Setting up libcairo-script-interpreter2:amd64 (1.15.10-2ubuntu0.1) ...\\r\"                                                                                                                                                                                                                                                                                                                                                                                                                                                                                                                                                                                      \n",
              "[32] \"Setting up libxcb-shm0-dev:amd64 (1.13-2~ubuntu18.04) ...\\r\"                                                                                                                                                                                                                                                                                                                                                                                                                                                                                                                                                                                                   \n",
              "[33] \"Setting up libpixman-1-dev:amd64 (0.34.0-2) ...\\r\"                                                                                                                                                                                                                                                                                                                                                                                                                                                                                                                                                                                                             \n",
              "[34] \"Setting up libcairo2-dev:amd64 (1.15.10-2ubuntu0.1) ...\\r\"                                                                                                                                                                                                                                                                                                                                                                                                                                                                                                                                                                                                     \n",
              "[35] \"Processing triggers for libc-bin (2.27-3ubuntu1.3) ...\\r\"                                                                                                                                                                                                                                                                                                                                                                                                                                                                                                                                                                                                      \n",
              "[36] \"/sbin/ldconfig.real: /usr/local/lib/python3.7/dist-packages/ideep4py/lib/libmkldnn.so.0 is not a symbolic link\\r\"                                                                                                                                                                                                                                                                                                                                                                                                                                                                                                                                              \n",
              "[37] \"\\r\"                                                                                                                                                                                                                                                                                                                                                                                                                                                                                                                                                                                                                                                            "
            ]
          },
          "metadata": {}
        }
      ]
    },
    {
      "cell_type": "markdown",
      "metadata": {
        "id": "uY3cIu62WZd0"
      },
      "source": [
        "### Install R packages from CRAN"
      ]
    },
    {
      "cell_type": "code",
      "metadata": {
        "colab": {
          "base_uri": "https://localhost:8080/"
        },
        "id": "yfBnWIqfWZd0",
        "outputId": "da77c83a-0ea9-4b90-e997-3d12f3c65f44"
      },
      "source": [
        "install.packages('BiocManager')"
      ],
      "execution_count": null,
      "outputs": [
        {
          "output_type": "stream",
          "name": "stderr",
          "text": [
            "Installing package into ‘/usr/local/lib/R/site-library’\n",
            "(as ‘lib’ is unspecified)\n",
            "\n"
          ]
        }
      ]
    },
    {
      "cell_type": "code",
      "metadata": {
        "id": "e5KbNCmTWZd0"
      },
      "source": [
        "required_packages <- c(\n",
        "  \"BSgenome.Mmusculus.UCSC.mm10\", \n",
        "  \"dplyr\", \n",
        "  'motifmatchr',\n",
        "  'patchwork'\n",
        ")"
      ],
      "execution_count": null,
      "outputs": []
    },
    {
      "cell_type": "code",
      "metadata": {
        "id": "FzhTYT3EWZd0",
        "colab": {
          "base_uri": "https://localhost:8080/"
        },
        "outputId": "52b4b4df-998c-4ed2-c3d5-7525825b4aa2"
      },
      "source": [
        "missing_packages <- required_packages[!required_packages %in% rownames(installed.packages())]\n",
        "if (length(missing_packages) > 0){\n",
        "    BiocManager::install(missing_packages)\n",
        "}"
      ],
      "execution_count": null,
      "outputs": [
        {
          "output_type": "stream",
          "name": "stderr",
          "text": [
            "'getOption(\"repos\")' replaces Bioconductor standard repositories, see\n",
            "'?repositories' for details\n",
            "\n",
            "replacement repositories:\n",
            "    CRAN: https://cran.rstudio.com\n",
            "\n",
            "\n",
            "Bioconductor version 3.14 (BiocManager 1.30.16), R 4.1.3 (2022-03-10)\n",
            "\n",
            "Installing package(s) 'BiocVersion', 'BSgenome.Mmusculus.UCSC.mm10',\n",
            "  'motifmatchr', 'patchwork'\n",
            "\n",
            "also installing the dependencies ‘formatR’, ‘rjson’, ‘lambda.r’, ‘futile.options’, ‘plyr’, ‘pracma’, ‘AnnotationDbi’, ‘xtable’, ‘R.oo’, ‘R.methodsS3’, ‘png’, ‘GenomicAlignments’, ‘BiocIO’, ‘restfulr’, ‘futile.logger’, ‘snow’, ‘BH’, ‘reshape2’, ‘poweRlaw’, ‘annotate’, ‘GO.db’, ‘R.utils’, ‘KEGGREST’, ‘plogr’, ‘BiocGenerics’, ‘rtracklayer’, ‘matrixStats’, ‘XVector’, ‘Biobase’, ‘BiocParallel’, ‘caTools’, ‘CNEr’, ‘DirichletMultinomial’, ‘gtools’, ‘RSQLite’, ‘seqLogo’, ‘TFMPvalue’, ‘XML’, ‘MatrixGenerics’, ‘DelayedArray’, ‘zlibbioc’, ‘bitops’, ‘Rhtslib’, ‘RCurl’, ‘GenomeInfoDbData’, ‘BSgenome’, ‘Rcpp’, ‘TFBSTools’, ‘Biostrings’, ‘S4Vectors’, ‘SummarizedExperiment’, ‘GenomicRanges’, ‘IRanges’, ‘Rsamtools’, ‘GenomeInfoDb’, ‘RcppArmadillo’\n",
            "\n",
            "\n",
            "Old packages: 'blob', 'broom', 'RColorBrewer', 'scales', 'vctrs'\n",
            "\n"
          ]
        }
      ]
    },
    {
      "cell_type": "code",
      "metadata": {
        "id": "BMptTKnyWZd1",
        "colab": {
          "base_uri": "https://localhost:8080/"
        },
        "outputId": "eec3e509-187d-4eb1-f556-f8c4e0e5c517"
      },
      "source": [
        "library(devtools)"
      ],
      "execution_count": null,
      "outputs": [
        {
          "output_type": "stream",
          "name": "stderr",
          "text": [
            "Loading required package: usethis\n",
            "\n"
          ]
        }
      ]
    },
    {
      "cell_type": "markdown",
      "metadata": {
        "id": "KHjoODrS2hKo"
      },
      "source": [
        "### Install R packages from github"
      ]
    },
    {
      "cell_type": "code",
      "metadata": {
        "colab": {
          "base_uri": "https://localhost:8080/"
        },
        "id": "30uvd1_Nrpy_",
        "outputId": "4c1d29b4-0a35-43d5-8e56-b7dee8fdfb5d"
      },
      "source": [
        "install_github(\"GreenleafLab/chromVARmotifs\")"
      ],
      "execution_count": null,
      "outputs": [
        {
          "output_type": "stream",
          "name": "stderr",
          "text": [
            "Downloading GitHub repo GreenleafLab/chromVARmotifs@HEAD\n",
            "\n"
          ]
        },
        {
          "output_type": "stream",
          "name": "stdout",
          "text": [
            "vctrs        (0.4.0 -> 0.4.1) [CRAN]\n",
            "blob         (1.2.2 -> 1.2.3) [CRAN]\n",
            "RColorBrewer (1.1-2 -> 1.1-3) [CRAN]\n",
            "scales       (1.1.1 -> 1.2.0) [CRAN]\n"
          ]
        },
        {
          "output_type": "stream",
          "name": "stderr",
          "text": [
            "Installing 4 packages: vctrs, blob, RColorBrewer, scales\n",
            "\n",
            "Installing packages into ‘/usr/local/lib/R/site-library’\n",
            "(as ‘lib’ is unspecified)\n",
            "\n"
          ]
        },
        {
          "output_type": "stream",
          "name": "stdout",
          "text": [
            "* checking for file ‘/tmp/Rtmp6bQRMe/remotes6121c7d0f/GreenleafLab-chromVARmotifs-38bed55/DESCRIPTION’ ... OK\n",
            "* preparing ‘chromVARmotifs’:\n",
            "* checking DESCRIPTION meta-information ... OK\n",
            "* checking for LF line-endings in source and make files and shell scripts\n",
            "* checking for empty or unneeded directories\n",
            "* building ‘chromVARmotifs_0.2.0.tar.gz’\n",
            "\n"
          ]
        },
        {
          "output_type": "stream",
          "name": "stderr",
          "text": [
            "Installing package into ‘/usr/local/lib/R/site-library’\n",
            "(as ‘lib’ is unspecified)\n",
            "\n"
          ]
        }
      ]
    },
    {
      "cell_type": "markdown",
      "metadata": {
        "id": "FfduHH8aWZd1"
      },
      "source": [
        "### Install `seatac` from github"
      ]
    },
    {
      "cell_type": "code",
      "metadata": {
        "colab": {
          "base_uri": "https://localhost:8080/"
        },
        "id": "6cbnrdk2WZd1",
        "outputId": "b3bb6d04-953d-4fd0-a11b-b162938412fd"
      },
      "source": [
        "install_github('gongx030/seatac@v0.4.0', force = TRUE, quiet = FALSE)\n",
        "reload(pkgload::inst(\"seatac\"))\n",
        "library(seatac)"
      ],
      "execution_count": null,
      "outputs": [
        {
          "output_type": "stream",
          "name": "stderr",
          "text": [
            "Downloading GitHub repo gongx030/seatac@v0.4.0\n",
            "\n"
          ]
        },
        {
          "output_type": "stream",
          "name": "stdout",
          "text": [
            "tfautograph  (NA -> 0.3.2 ) [CRAN]\n",
            "config       (NA -> 0.3.1 ) [CRAN]\n",
            "here         (NA -> 1.0.1 ) [CRAN]\n",
            "RcppTOML     (NA -> 0.1.7 ) [CRAN]\n",
            "zeallot      (NA -> 0.1.0 ) [CRAN]\n",
            "tfruns       (NA -> 1.5.0 ) [CRAN]\n",
            "tensorflow   (NA -> 2.8.0 ) [CRAN]\n",
            "reticulate   (NA -> 1.24  ) [CRAN]\n",
            "keras        (NA -> 2.8.0 ) [CRAN]\n",
            "abind        (NA -> 1.4-5 ) [CRAN]\n",
            "gplots       (NA -> 3.1.1 ) [CRAN]\n",
            "tfdatasets   (NA -> 2.7.0 ) [CRAN]\n",
            "tfprobabi... (NA -> 0.15.0) [CRAN]\n"
          ]
        },
        {
          "output_type": "stream",
          "name": "stderr",
          "text": [
            "Installing 13 packages: tfautograph, config, here, RcppTOML, zeallot, tfruns, tensorflow, reticulate, keras, abind, gplots, tfdatasets, tfprobability\n",
            "\n",
            "Installing packages into ‘/usr/local/lib/R/site-library’\n",
            "(as ‘lib’ is unspecified)\n",
            "\n"
          ]
        },
        {
          "output_type": "stream",
          "name": "stdout",
          "text": [
            "* checking for file ‘/tmp/Rtmp6bQRMe/remotes6143ccd811/gongx030-seatac-55f9f36/DESCRIPTION’ ... OK\n",
            "* preparing ‘seatac’:\n",
            "* checking DESCRIPTION meta-information ... OK\n",
            "* checking for LF line-endings in source and make files and shell scripts\n",
            "* checking for empty or unneeded directories\n",
            "Omitted ‘LazyData’ from DESCRIPTION\n",
            "* building ‘seatac_0.4.0-010.tar.gz’\n",
            "\n"
          ]
        },
        {
          "output_type": "stream",
          "name": "stderr",
          "text": [
            "Installing package into ‘/usr/local/lib/R/site-library’\n",
            "(as ‘lib’ is unspecified)\n",
            "\n",
            "Loading required package: tensorflow\n",
            "\n",
            "Loading required package: tfprobability\n",
            "\n",
            "Loading required package: tfdatasets\n",
            "\n",
            "Loading required package: GenomicRanges\n",
            "\n",
            "Loading required package: stats4\n",
            "\n",
            "Loading required package: BiocGenerics\n",
            "\n",
            "\n",
            "Attaching package: ‘BiocGenerics’\n",
            "\n",
            "\n",
            "The following objects are masked from ‘package:stats’:\n",
            "\n",
            "    IQR, mad, sd, var, xtabs\n",
            "\n",
            "\n",
            "The following objects are masked from ‘package:base’:\n",
            "\n",
            "    anyDuplicated, append, as.data.frame, basename, cbind, colnames,\n",
            "    dirname, do.call, duplicated, eval, evalq, Filter, Find, get, grep,\n",
            "    grepl, intersect, is.unsorted, lapply, Map, mapply, match, mget,\n",
            "    order, paste, pmax, pmax.int, pmin, pmin.int, Position, rank,\n",
            "    rbind, Reduce, rownames, sapply, setdiff, sort, table, tapply,\n",
            "    union, unique, unsplit, which.max, which.min\n",
            "\n",
            "\n",
            "Loading required package: S4Vectors\n",
            "\n",
            "\n",
            "Attaching package: ‘S4Vectors’\n",
            "\n",
            "\n",
            "The following objects are masked from ‘package:base’:\n",
            "\n",
            "    expand.grid, I, unname\n",
            "\n",
            "\n",
            "Loading required package: IRanges\n",
            "\n",
            "Loading required package: GenomeInfoDb\n",
            "\n",
            "Loading required package: SummarizedExperiment\n",
            "\n",
            "Loading required package: MatrixGenerics\n",
            "\n",
            "Loading required package: matrixStats\n",
            "\n",
            "\n",
            "Attaching package: ‘MatrixGenerics’\n",
            "\n",
            "\n",
            "The following objects are masked from ‘package:matrixStats’:\n",
            "\n",
            "    colAlls, colAnyNAs, colAnys, colAvgsPerRowSet, colCollapse,\n",
            "    colCounts, colCummaxs, colCummins, colCumprods, colCumsums,\n",
            "    colDiffs, colIQRDiffs, colIQRs, colLogSumExps, colMadDiffs,\n",
            "    colMads, colMaxs, colMeans2, colMedians, colMins, colOrderStats,\n",
            "    colProds, colQuantiles, colRanges, colRanks, colSdDiffs, colSds,\n",
            "    colSums2, colTabulates, colVarDiffs, colVars, colWeightedMads,\n",
            "    colWeightedMeans, colWeightedMedians, colWeightedSds,\n",
            "    colWeightedVars, rowAlls, rowAnyNAs, rowAnys, rowAvgsPerColSet,\n",
            "    rowCollapse, rowCounts, rowCummaxs, rowCummins, rowCumprods,\n",
            "    rowCumsums, rowDiffs, rowIQRDiffs, rowIQRs, rowLogSumExps,\n",
            "    rowMadDiffs, rowMads, rowMaxs, rowMeans2, rowMedians, rowMins,\n",
            "    rowOrderStats, rowProds, rowQuantiles, rowRanges, rowRanks,\n",
            "    rowSdDiffs, rowSds, rowSums2, rowTabulates, rowVarDiffs, rowVars,\n",
            "    rowWeightedMads, rowWeightedMeans, rowWeightedMedians,\n",
            "    rowWeightedSds, rowWeightedVars\n",
            "\n",
            "\n",
            "Loading required package: Biobase\n",
            "\n",
            "Welcome to Bioconductor\n",
            "\n",
            "    Vignettes contain introductory material; view with\n",
            "    'browseVignettes()'. To cite Bioconductor, see\n",
            "    'citation(\"Biobase\")', and for packages 'citation(\"pkgname\")'.\n",
            "\n",
            "\n",
            "\n",
            "Attaching package: ‘Biobase’\n",
            "\n",
            "\n",
            "The following object is masked from ‘package:MatrixGenerics’:\n",
            "\n",
            "    rowMedians\n",
            "\n",
            "\n",
            "The following objects are masked from ‘package:matrixStats’:\n",
            "\n",
            "    anyMissing, rowMedians\n",
            "\n",
            "\n",
            "\n",
            "Attaching package: ‘seatac’\n",
            "\n",
            "\n",
            "The following object is masked from ‘package:tfdatasets’:\n",
            "\n",
            "    fit\n",
            "\n",
            "\n",
            "The following object is masked from ‘package:stats’:\n",
            "\n",
            "    predict\n",
            "\n",
            "\n"
          ]
        }
      ]
    },
    {
      "cell_type": "markdown",
      "metadata": {
        "id": "8LRcZG575RIi"
      },
      "source": [
        "### Load R packages"
      ]
    },
    {
      "cell_type": "code",
      "metadata": {
        "id": "xxvI6xd05RIi",
        "colab": {
          "base_uri": "https://localhost:8080/"
        },
        "outputId": "d2cf3fff-b2e7-4906-d0e4-335302db1415"
      },
      "source": [
        "library(BSgenome.Mmusculus.UCSC.mm10)\n",
        "library(dplyr)\n",
        "library(motifmatchr)\n",
        "library(chromVARmotifs)\n",
        "library(patchwork)"
      ],
      "execution_count": null,
      "outputs": [
        {
          "output_type": "stream",
          "name": "stderr",
          "text": [
            "Loading required package: BSgenome\n",
            "\n",
            "Loading required package: Biostrings\n",
            "\n",
            "Loading required package: XVector\n",
            "\n",
            "\n",
            "Attaching package: ‘Biostrings’\n",
            "\n",
            "\n",
            "The following object is masked from ‘package:base’:\n",
            "\n",
            "    strsplit\n",
            "\n",
            "\n",
            "Loading required package: rtracklayer\n",
            "\n",
            "\n",
            "Attaching package: ‘dplyr’\n",
            "\n",
            "\n",
            "The following objects are masked from ‘package:Biostrings’:\n",
            "\n",
            "    collapse, intersect, setdiff, setequal, union\n",
            "\n",
            "\n",
            "The following object is masked from ‘package:XVector’:\n",
            "\n",
            "    slice\n",
            "\n",
            "\n",
            "The following object is masked from ‘package:Biobase’:\n",
            "\n",
            "    combine\n",
            "\n",
            "\n",
            "The following object is masked from ‘package:matrixStats’:\n",
            "\n",
            "    count\n",
            "\n",
            "\n",
            "The following objects are masked from ‘package:GenomicRanges’:\n",
            "\n",
            "    intersect, setdiff, union\n",
            "\n",
            "\n",
            "The following object is masked from ‘package:GenomeInfoDb’:\n",
            "\n",
            "    intersect\n",
            "\n",
            "\n",
            "The following objects are masked from ‘package:IRanges’:\n",
            "\n",
            "    collapse, desc, intersect, setdiff, slice, union\n",
            "\n",
            "\n",
            "The following objects are masked from ‘package:S4Vectors’:\n",
            "\n",
            "    first, intersect, rename, setdiff, setequal, union\n",
            "\n",
            "\n",
            "The following objects are masked from ‘package:BiocGenerics’:\n",
            "\n",
            "    combine, intersect, setdiff, union\n",
            "\n",
            "\n",
            "The following objects are masked from ‘package:stats’:\n",
            "\n",
            "    filter, lag\n",
            "\n",
            "\n",
            "The following objects are masked from ‘package:base’:\n",
            "\n",
            "    intersect, setdiff, setequal, union\n",
            "\n",
            "\n",
            "\n",
            "\n"
          ]
        }
      ]
    },
    {
      "cell_type": "markdown",
      "metadata": {
        "id": "j-TPW4ME18Vg"
      },
      "source": [
        "### TensorFlow setup"
      ]
    },
    {
      "cell_type": "code",
      "metadata": {
        "id": "BvMo6o4K18Vh",
        "colab": {
          "base_uri": "https://localhost:8080/"
        },
        "outputId": "90647608-1050-4657-c7ee-4f0991487910"
      },
      "source": [
        "gpus <- tf$config$list_physical_devices('GPU')\n",
        "for (gpu in gpus){\n",
        "  tf$config$experimental$set_memory_growth(gpu, TRUE)\n",
        "}\n",
        "logical_gpus <- tf$config$experimental$list_logical_devices('GPU')\n",
        "sprintf('Physical GPUs: %d', length(gpus)) %>% message()\n",
        "sprintf('Logical GPUs: %d', length(logical_gpus)) %>% message()"
      ],
      "execution_count": null,
      "outputs": [
        {
          "output_type": "stream",
          "name": "stderr",
          "text": [
            "Loaded Tensorflow version 2.8.0\n",
            "\n",
            "Physical GPUs: 1\n",
            "\n",
            "Logical GPUs: 1\n",
            "\n"
          ]
        }
      ]
    },
    {
      "cell_type": "code",
      "metadata": {
        "id": "GfWHODPbHZ0s",
        "colab": {
          "base_uri": "https://localhost:8080/",
          "height": 35
        },
        "outputId": "3739e419-b56f-46b2-b543-ca23224608d8"
      },
      "source": [
        "Sys.time() - start_time"
      ],
      "execution_count": null,
      "outputs": [
        {
          "output_type": "display_data",
          "data": {
            "text/plain": [
              "Time difference of 21.69528 mins"
            ]
          },
          "metadata": {}
        }
      ]
    },
    {
      "cell_type": "markdown",
      "metadata": {
        "id": "hl2lXOAv9ljx"
      },
      "source": [
        "## Parameters"
      ]
    },
    {
      "cell_type": "code",
      "metadata": {
        "id": "KMfU5_KD9nN9"
      },
      "source": [
        "ARGS <- list(\n",
        "  bin_size = 5L,\n",
        "  fragment_size_range_max = 640L,\n",
        "  fragment_size_interval = 10L,\n",
        "  window_size = 1000L,\n",
        "  heatmap_window_size = 2000L,\n",
        "  block_size = 640L,\n",
        "  sliding_step = 20L,\n",
        "  min_reads = 5L,\n",
        "  step_size = 200L,\n",
        "\n",
        "  vae_num_peaks = 5000L,\n",
        "  vae_latent = c(10L),\n",
        "  vae_filters0 = c(128L),\n",
        "  vae_filters = c(32L),\n",
        "  vae_downsample_layers = 4L,\n",
        "  vae_upsample_layers = 4L,\n",
        "  vae_base_learning_rate = c(1e-2),\n",
        "  vae_epochs = 200L,\n",
        "  vae_beta_schedule_method = c('constant'),\n",
        "  vae_beta0 = 1,\n",
        "  vae_batch_size = c(128L),\n",
        "  vae_warmup_ratio = 0.1,\n",
        "\n",
        "  target_width = 100L,\n",
        "  min_test_reads = 1L,\n",
        "  max_test_reads = 10L,\n",
        "  center_width = 100L # the center width\n",
        ")"
      ],
      "execution_count": null,
      "outputs": []
    },
    {
      "cell_type": "markdown",
      "metadata": {
        "id": "KTlR7IjcYeAI"
      },
      "source": [
        "## Load data"
      ]
    },
    {
      "cell_type": "code",
      "metadata": {
        "id": "4C5C4mrdymmE"
      },
      "source": [
        "remote_bam_files = c(\n",
        "  WT_Control =  'https://s3.msi.umn.edu/dsouz072/datasets/dataset=Etv2_Limb_version=20210212a/Anterior_WT.dedup.bam',\n",
        "  Etv2_OE = 'https://s3.msi.umn.edu/dsouz072/datasets/dataset=Etv2_Limb_version=20210212a/Anterior_OE.dedup.bam'\n",
        ")\n",
        "for (f in remote_bam_files){\n",
        "  system(sprintf('wget -x -c -nH %s', f))\n",
        "}\n",
        "local_bam_files <- gsub('https://.+?/', './', remote_bam_files)"
      ],
      "execution_count": null,
      "outputs": []
    },
    {
      "cell_type": "code",
      "source": [
        "remote_meta_file <- 'https://s3.msi.umn.edu/dsouz072/datasets/dataset=Etv2_Limb_version=20210212a/etv2_limb_metadata.tsv'\n",
        "sprintf('wget -cx %s', remote_meta_file) %>% system()\n",
        "local_meta_file <- gsub('https://', './', remote_meta_file)\n",
        "x <- read.table(local_meta_file, header = TRUE, sep = '\\t')"
      ],
      "metadata": {
        "id": "trZfzoqfAlas"
      },
      "execution_count": null,
      "outputs": []
    },
    {
      "cell_type": "code",
      "source": [
        "remote_bed_files <- x$s3_bed"
      ],
      "metadata": {
        "id": "OrCx8AnopXpv"
      },
      "execution_count": null,
      "outputs": []
    },
    {
      "cell_type": "code",
      "metadata": {
        "id": "09ujkOkCyxtv"
      },
      "source": [
        "for (f in remote_bed_files){\n",
        "  system(sprintf('wget -x -c -nH %s', f))\n",
        "}\n",
        "local_bed_files <- gsub('https://.+?/', './', remote_bed_files)"
      ],
      "execution_count": null,
      "outputs": []
    },
    {
      "cell_type": "markdown",
      "metadata": {
        "id": "pIlGm6CFnr6k"
      },
      "source": [
        "## Read V-plots"
      ]
    },
    {
      "cell_type": "code",
      "metadata": {
        "id": "JnXiPxoSnbMM",
        "colab": {
          "base_uri": "https://localhost:8080/"
        },
        "outputId": "0d6c9c56-b3ec-4264-bdcd-fe4643afb8ec"
      },
      "source": [
        "gr0 <- lapply(local_bed_files, function(bed_file){\n",
        "  peaks <- read.table(bed_file, header = FALSE, sep = '\\t')\n",
        "  peaks <- GRanges(seqnames = peaks[, 1], range = IRanges(start = peaks[, 2], end = peaks[, 3]))\n",
        "  peaks <- resize(peaks, fix = 'center', width = 200L)\n",
        "  peaks\n",
        "}) %>%\n",
        "  GRangesList() %>%\n",
        "  coverage() %>%\n",
        "  IRanges::slice(lower = 1, rangesOnly = TRUE) %>%\n",
        "  GRanges() %>%\n",
        "  resize(fix = 'center', width = ARGS[['window_size']])\n",
        "gr0 <- gr0[!seqnames(gr0) %in% c('chrM', 'chrY')]\n",
        "gr <- slidingWindows(gr0, width = ARGS[['block_size']], step = ARGS[['sliding_step']]) %>% unlist()\n",
        "set.seed(1L); gr <- sample(gr, ARGS[['vae_num_peaks']])\n",
        "counts <- count_reads(gr, local_bam_files, genome = BSgenome.Mmusculus.UCSC.mm10,  fragment_size_range = c(0, ARGS[['fragment_size_range_max']]))"
      ],
      "execution_count": null,
      "outputs": [
        {
          "output_type": "stream",
          "name": "stderr",
          "text": [
            "validate_bam | indexing bam files: ./dsouz072/datasets/dataset=Etv2_Limb_version=20210212a/Anterior_WT.dedup.bam\n",
            "\n",
            "read_bam | reading ./dsouz072/datasets/dataset=Etv2_Limb_version=20210212a/Anterior_WT.dedup.bam\n",
            "\n",
            "validate_bam | indexing bam files: ./dsouz072/datasets/dataset=Etv2_Limb_version=20210212a/Anterior_OE.dedup.bam\n",
            "\n",
            "read_bam | reading ./dsouz072/datasets/dataset=Etv2_Limb_version=20210212a/Anterior_OE.dedup.bam\n",
            "\n"
          ]
        }
      ]
    },
    {
      "cell_type": "code",
      "metadata": {
        "id": "b7f3QZ0W_DXL",
        "colab": {
          "base_uri": "https://localhost:8080/"
        },
        "outputId": "e549457f-7c0d-4398-e211-b4fe77c953fb"
      },
      "source": [
        "counts <- matrix(counts, nrow = length(counts) / length(local_bam_files), ncol = length(local_bam_files), dimnames = list(NULL, local_bam_files))\n",
        "valid <- rowSums(counts >= ARGS[['min_reads']]) == length(local_bam_files)\n",
        "gr <- gr[valid]\n",
        "sprintf('number of training peaks for VaeModel: %d', length(gr)) %>% message()"
      ],
      "execution_count": null,
      "outputs": [
        {
          "output_type": "stream",
          "name": "stderr",
          "text": [
            "number of training peaks for VaeModel: 4971\n",
            "\n"
          ]
        }
      ]
    },
    {
      "cell_type": "code",
      "source": [
        "x <- read_vplot(gr, filenames = local_bam_files, genome = BSgenome.Mmusculus.UCSC.mm10, bin_size = ARGS[['bin_size']], fragment_size_range = c(0, ARGS[['fragment_size_range_max']]), fragment_size_interval = ARGS[['fragment_size_interval']])"
      ],
      "metadata": {
        "colab": {
          "base_uri": "https://localhost:8080/"
        },
        "id": "A0LEX7EWWX_9",
        "outputId": "cc7b2db2-ab66-4bdb-c2c4-91ee268898e1"
      },
      "execution_count": null,
      "outputs": [
        {
          "output_type": "stream",
          "name": "stderr",
          "text": [
            "read_bam | reading ./dsouz072/datasets/dataset=Etv2_Limb_version=20210212a/Anterior_WT.dedup.bam\n",
            "\n",
            "read_bam | reading ./dsouz072/datasets/dataset=Etv2_Limb_version=20210212a/Anterior_OE.dedup.bam\n",
            "\n"
          ]
        }
      ]
    },
    {
      "cell_type": "markdown",
      "metadata": {
        "id": "HcRTNNFJ94xf"
      },
      "source": [
        "## Training VAE model for V-plots"
      ]
    },
    {
      "cell_type": "code",
      "metadata": {
        "id": "BdWzYOndyjhu",
        "colab": {
          "base_uri": "https://localhost:8080/"
        },
        "outputId": "c6ec507a-8b8d-421e-efbb-8faab0b7f76e"
      },
      "source": [
        "model <- new('VaeModel', model = VaeModel(\n",
        "  n_samples = dim(x)['sample'],\n",
        "  latent_dim = ARGS[['vae_latent']],\n",
        "  block_size = ARGS[['block_size']],\n",
        "  bin_size = ARGS[['bin_size']],\n",
        "  filters0 = ARGS[['vae_filters0']],\n",
        "  filters = ARGS[['vae_filters']],\n",
        "  upsample_layers = ARGS[['vae_upsample_layers']],\n",
        "  downsample_layers = ARGS[['vae_downsample_layers']],\n",
        "  fragment_size_range  = c(0, ARGS[['fragment_size_range_max']]),\n",
        "  fragment_size_interval = ARGS[['fragment_size_interval']]\n",
        "))\n",
        "lr <- WarmUpAndCosineDecay(\n",
        "  base_learning_rate = ARGS[['vae_base_learning_rate']],\n",
        "  num_examples = nrow(x),\n",
        "  batch_size = ARGS[['vae_batch_size']],\n",
        "  epochs = ARGS[['vae_epochs']],\n",
        "  warmup_epochs = as.integer(ARGS[['vae_epochs']] * ARGS[['vae_warmup_ratio']])\n",
        ")\n",
        "beta <- beta_schedule(\n",
        "  method = ARGS[['vae_beta_schedule_method']],\n",
        "  beta0 = ARGS[['vae_beta0']],\n",
        "  epochs = ARGS[['vae_epochs']]\n",
        ")\n",
        "d <- model %>% prepare_data(x)\n",
        "d <- d %>% tensor_slices_dataset()\n",
        "model <- model %>% fit(d, batch_size =  ARGS[['vae_batch_size']], epochs = ARGS[['vae_epochs']], learning_rate = lr, compile = TRUE, beta = beta)"
      ],
      "execution_count": null,
      "outputs": [
        {
          "output_type": "stream",
          "name": "stderr",
          "text": [
            "epoch=     1/   200 | beta=1.000e+00 | loss= 6733.7183118 | loss_reconstruction= 6732.6396359 | loss_kl=    1.0786997\n",
            "\n",
            "epoch=     2/   200 | beta=1.000e+00 | loss= 5413.1223583 | loss_reconstruction= 5408.7407978 | loss_kl=    4.3815741\n",
            "\n",
            "epoch=     3/   200 | beta=1.000e+00 | loss= 4709.1067834 | loss_reconstruction= 4705.6592798 | loss_kl=    3.4474980\n",
            "\n",
            "epoch=     4/   200 | beta=1.000e+00 | loss= 3748.9823217 | loss_reconstruction= 3747.1000851 | loss_kl=    1.8822236\n",
            "\n",
            "epoch=     5/   200 | beta=1.000e+00 | loss= 2544.3610996 | loss_reconstruction= 2543.4333684 | loss_kl=    0.9277282\n",
            "\n",
            "epoch=     6/   200 | beta=1.000e+00 | loss= 1483.5149270 | loss_reconstruction= 1483.2116198 | loss_kl=    0.3033082\n",
            "\n",
            "epoch=     7/   200 | beta=1.000e+00 | loss=  858.1544722 | loss_reconstruction=  858.0163136 | loss_kl=    0.1381532\n",
            "\n",
            "epoch=     8/   200 | beta=1.000e+00 | loss=  569.4882296 | loss_reconstruction=  569.1448982 | loss_kl=    0.3433332\n",
            "\n",
            "epoch=     9/   200 | beta=1.000e+00 | loss=  438.8714435 | loss_reconstruction=  437.8822256 | loss_kl=    0.9892206\n",
            "\n",
            "epoch=    10/   200 | beta=1.000e+00 | loss=  373.9431176 | loss_reconstruction=  372.4088596 | loss_kl=    1.5342598\n",
            "\n",
            "epoch=    11/   200 | beta=1.000e+00 | loss=  338.8782818 | loss_reconstruction=  336.7085579 | loss_kl=    2.1697255\n",
            "\n",
            "epoch=    12/   200 | beta=1.000e+00 | loss=  319.1388245 | loss_reconstruction=  316.4090748 | loss_kl=    2.7297473\n",
            "\n",
            "epoch=    13/   200 | beta=1.000e+00 | loss=  307.3698151 | loss_reconstruction=  304.3491579 | loss_kl=    3.0206596\n",
            "\n",
            "epoch=    14/   200 | beta=1.000e+00 | loss=  300.0600688 | loss_reconstruction=  296.6578174 | loss_kl=    3.4022528\n",
            "\n",
            "epoch=    15/   200 | beta=1.000e+00 | loss=  295.2258391 | loss_reconstruction=  291.4833452 | loss_kl=    3.7424926\n",
            "\n",
            "epoch=    16/   200 | beta=1.000e+00 | loss=  292.0085571 | loss_reconstruction=  287.9109513 | loss_kl=    4.0976072\n",
            "\n",
            "epoch=    17/   200 | beta=1.000e+00 | loss=  288.7822246 | loss_reconstruction=  284.3188320 | loss_kl=    4.4633913\n",
            "\n",
            "epoch=    18/   200 | beta=1.000e+00 | loss=  286.0954899 | loss_reconstruction=  281.3123235 | loss_kl=    4.7831657\n",
            "\n",
            "epoch=    19/   200 | beta=1.000e+00 | loss=  283.6101810 | loss_reconstruction=  278.5679869 | loss_kl=    5.0421920\n",
            "\n",
            "epoch=    20/   200 | beta=1.000e+00 | loss=  282.3107362 | loss_reconstruction=  277.2343785 | loss_kl=    5.0763577\n",
            "\n",
            "epoch=    21/   200 | beta=1.000e+00 | loss=  281.1012198 | loss_reconstruction=  275.9209900 | loss_kl=    5.1802301\n",
            "\n",
            "epoch=    22/   200 | beta=1.000e+00 | loss=  280.3170182 | loss_reconstruction=  275.1168624 | loss_kl=    5.2001555\n",
            "\n",
            "epoch=    23/   200 | beta=1.000e+00 | loss=  279.7026398 | loss_reconstruction=  274.3746127 | loss_kl=    5.3280267\n",
            "\n",
            "epoch=    24/   200 | beta=1.000e+00 | loss=  278.7978453 | loss_reconstruction=  273.4232334 | loss_kl=    5.3746117\n",
            "\n",
            "epoch=    25/   200 | beta=1.000e+00 | loss=  278.7794804 | loss_reconstruction=  273.3405245 | loss_kl=    5.4389556\n",
            "\n",
            "epoch=    26/   200 | beta=1.000e+00 | loss=  278.0732164 | loss_reconstruction=  272.5490730 | loss_kl=    5.5241430\n",
            "\n",
            "epoch=    27/   200 | beta=1.000e+00 | loss=  277.6298848 | loss_reconstruction=  272.0272139 | loss_kl=    5.6026730\n",
            "\n",
            "epoch=    28/   200 | beta=1.000e+00 | loss=  277.5925563 | loss_reconstruction=  271.8991977 | loss_kl=    5.6933590\n",
            "\n",
            "epoch=    29/   200 | beta=1.000e+00 | loss=  277.3635860 | loss_reconstruction=  271.6116799 | loss_kl=    5.7519069\n",
            "\n",
            "epoch=    30/   200 | beta=1.000e+00 | loss=  277.5487851 | loss_reconstruction=  271.7420404 | loss_kl=    5.8067443\n",
            "\n",
            "epoch=    31/   200 | beta=1.000e+00 | loss=  276.8100825 | loss_reconstruction=  270.9154119 | loss_kl=    5.8946709\n",
            "\n",
            "epoch=    32/   200 | beta=1.000e+00 | loss=  276.9278670 | loss_reconstruction=  270.9859490 | loss_kl=    5.9419159\n",
            "\n",
            "epoch=    33/   200 | beta=1.000e+00 | loss=  277.1909156 | loss_reconstruction=  271.2151661 | loss_kl=    5.9757494\n",
            "\n",
            "epoch=    34/   200 | beta=1.000e+00 | loss=  276.7472229 | loss_reconstruction=  270.7647764 | loss_kl=    5.9824466\n",
            "\n",
            "epoch=    35/   200 | beta=1.000e+00 | loss=  276.6184446 | loss_reconstruction=  270.5925669 | loss_kl=    6.0258758\n",
            "\n",
            "epoch=    36/   200 | beta=1.000e+00 | loss=  276.2430436 | loss_reconstruction=  270.1537773 | loss_kl=    6.0892666\n",
            "\n",
            "epoch=    37/   200 | beta=1.000e+00 | loss=  276.2742106 | loss_reconstruction=  270.1455728 | loss_kl=    6.1286373\n",
            "\n",
            "epoch=    38/   200 | beta=1.000e+00 | loss=  276.2566121 | loss_reconstruction=  270.1271448 | loss_kl=    6.1294673\n",
            "\n",
            "epoch=    39/   200 | beta=1.000e+00 | loss=  276.5285159 | loss_reconstruction=  270.3755176 | loss_kl=    6.1529948\n",
            "\n",
            "epoch=    40/   200 | beta=1.000e+00 | loss=  276.0383915 | loss_reconstruction=  269.8514369 | loss_kl=    6.1869545\n",
            "\n",
            "epoch=    41/   200 | beta=1.000e+00 | loss=  276.2428655 | loss_reconstruction=  270.0882901 | loss_kl=    6.1545750\n",
            "\n",
            "epoch=    42/   200 | beta=1.000e+00 | loss=  275.6371632 | loss_reconstruction=  269.3865157 | loss_kl=    6.2506488\n",
            "\n",
            "epoch=    43/   200 | beta=1.000e+00 | loss=  275.8310312 | loss_reconstruction=  269.5833783 | loss_kl=    6.2476529\n",
            "\n",
            "epoch=    44/   200 | beta=1.000e+00 | loss=  276.3049962 | loss_reconstruction=  270.1000464 | loss_kl=    6.2049510\n",
            "\n",
            "epoch=    45/   200 | beta=1.000e+00 | loss=  275.5214069 | loss_reconstruction=  269.2550311 | loss_kl=    6.2663770\n",
            "\n",
            "epoch=    46/   200 | beta=1.000e+00 | loss=  275.3656737 | loss_reconstruction=  269.0659168 | loss_kl=    6.2997568\n",
            "\n",
            "epoch=    47/   200 | beta=1.000e+00 | loss=  275.2447807 | loss_reconstruction=  268.9062359 | loss_kl=    6.3385431\n",
            "\n",
            "epoch=    48/   200 | beta=1.000e+00 | loss=  275.1647941 | loss_reconstruction=  268.8335258 | loss_kl=    6.3312679\n",
            "\n",
            "epoch=    49/   200 | beta=1.000e+00 | loss=  275.1976620 | loss_reconstruction=  268.8527237 | loss_kl=    6.3449368\n",
            "\n",
            "epoch=    50/   200 | beta=1.000e+00 | loss=  275.5373332 | loss_reconstruction=  269.1526368 | loss_kl=    6.3846981\n",
            "\n",
            "epoch=    51/   200 | beta=1.000e+00 | loss=  275.0272542 | loss_reconstruction=  268.6228994 | loss_kl=    6.4043555\n",
            "\n",
            "epoch=    52/   200 | beta=1.000e+00 | loss=  274.9279668 | loss_reconstruction=  268.4851106 | loss_kl=    6.4428572\n",
            "\n",
            "epoch=    53/   200 | beta=1.000e+00 | loss=  274.9595853 | loss_reconstruction=  268.5304495 | loss_kl=    6.4291365\n",
            "\n",
            "epoch=    54/   200 | beta=1.000e+00 | loss=  275.4772527 | loss_reconstruction=  269.0586356 | loss_kl=    6.4186148\n",
            "\n",
            "epoch=    55/   200 | beta=1.000e+00 | loss=  274.9025891 | loss_reconstruction=  268.4144048 | loss_kl=    6.4881852\n",
            "\n",
            "epoch=    56/   200 | beta=1.000e+00 | loss=  274.7900226 | loss_reconstruction=  268.3052043 | loss_kl=    6.4848168\n",
            "\n",
            "epoch=    57/   200 | beta=1.000e+00 | loss=  274.9944888 | loss_reconstruction=  268.4667354 | loss_kl=    6.5277548\n",
            "\n",
            "epoch=    58/   200 | beta=1.000e+00 | loss=  274.8702764 | loss_reconstruction=  268.4063995 | loss_kl=    6.4638784\n",
            "\n",
            "epoch=    59/   200 | beta=1.000e+00 | loss=  274.6361980 | loss_reconstruction=  268.0748545 | loss_kl=    6.5613430\n",
            "\n",
            "epoch=    60/   200 | beta=1.000e+00 | loss=  274.4613514 | loss_reconstruction=  267.9502145 | loss_kl=    6.5111396\n",
            "\n",
            "epoch=    61/   200 | beta=1.000e+00 | loss=  274.5376399 | loss_reconstruction=  267.9523089 | loss_kl=    6.5853313\n",
            "\n",
            "epoch=    62/   200 | beta=1.000e+00 | loss=  274.4564729 | loss_reconstruction=  267.8597471 | loss_kl=    6.5967261\n",
            "\n",
            "epoch=    63/   200 | beta=1.000e+00 | loss=  274.4139580 | loss_reconstruction=  267.8289368 | loss_kl=    6.5850206\n",
            "\n",
            "epoch=    64/   200 | beta=1.000e+00 | loss=  274.9111633 | loss_reconstruction=  268.3055146 | loss_kl=    6.6056477\n",
            "\n",
            "epoch=    65/   200 | beta=1.000e+00 | loss=  274.5815903 | loss_reconstruction=  267.9499117 | loss_kl=    6.6316794\n",
            "\n",
            "epoch=    66/   200 | beta=1.000e+00 | loss=  274.2311394 | loss_reconstruction=  267.5502902 | loss_kl=    6.6808520\n",
            "\n",
            "epoch=    67/   200 | beta=1.000e+00 | loss=  273.9993983 | loss_reconstruction=  267.3228685 | loss_kl=    6.6765328\n",
            "\n",
            "epoch=    68/   200 | beta=1.000e+00 | loss=  274.1232914 | loss_reconstruction=  267.4406453 | loss_kl=    6.6826461\n",
            "\n",
            "epoch=    69/   200 | beta=1.000e+00 | loss=  274.0095101 | loss_reconstruction=  267.3139022 | loss_kl=    6.6956080\n",
            "\n",
            "epoch=    70/   200 | beta=1.000e+00 | loss=  274.3114209 | loss_reconstruction=  267.6142406 | loss_kl=    6.6971824\n",
            "\n",
            "epoch=    71/   200 | beta=1.000e+00 | loss=  274.1265783 | loss_reconstruction=  267.4020863 | loss_kl=    6.7244928\n",
            "\n",
            "epoch=    72/   200 | beta=1.000e+00 | loss=  274.1806934 | loss_reconstruction=  267.4723969 | loss_kl=    6.7082953\n",
            "\n",
            "epoch=    73/   200 | beta=1.000e+00 | loss=  273.8182768 | loss_reconstruction=  267.0547251 | loss_kl=    6.7635523\n",
            "\n",
            "epoch=    74/   200 | beta=1.000e+00 | loss=  273.7623412 | loss_reconstruction=  266.9891596 | loss_kl=    6.7731808\n",
            "\n",
            "epoch=    75/   200 | beta=1.000e+00 | loss=  273.6829333 | loss_reconstruction=  266.8895600 | loss_kl=    6.7933742\n",
            "\n",
            "epoch=    76/   200 | beta=1.000e+00 | loss=  273.7560930 | loss_reconstruction=  266.8797212 | loss_kl=    6.8763724\n",
            "\n",
            "epoch=    77/   200 | beta=1.000e+00 | loss=  273.6324968 | loss_reconstruction=  266.8348620 | loss_kl=    6.7976330\n",
            "\n",
            "epoch=    78/   200 | beta=1.000e+00 | loss=  273.4799230 | loss_reconstruction=  266.5689169 | loss_kl=    6.9110057\n",
            "\n",
            "epoch=    79/   200 | beta=1.000e+00 | loss=  273.2651175 | loss_reconstruction=  266.3376191 | loss_kl=    6.9274957\n",
            "\n",
            "epoch=    80/   200 | beta=1.000e+00 | loss=  273.3609760 | loss_reconstruction=  266.3804932 | loss_kl=    6.9804848\n",
            "\n",
            "epoch=    81/   200 | beta=1.000e+00 | loss=  273.1388734 | loss_reconstruction=  266.1257520 | loss_kl=    7.0131240\n",
            "\n",
            "epoch=    82/   200 | beta=1.000e+00 | loss=  273.0490410 | loss_reconstruction=  265.9791987 | loss_kl=    7.0698434\n",
            "\n",
            "epoch=    83/   200 | beta=1.000e+00 | loss=  273.0045295 | loss_reconstruction=  265.9682558 | loss_kl=    7.0362739\n",
            "\n",
            "epoch=    84/   200 | beta=1.000e+00 | loss=  272.9730412 | loss_reconstruction=  265.8378045 | loss_kl=    7.1352354\n",
            "\n",
            "epoch=    85/   200 | beta=1.000e+00 | loss=  272.7809198 | loss_reconstruction=  265.6371033 | loss_kl=    7.1438183\n",
            "\n",
            "epoch=    86/   200 | beta=1.000e+00 | loss=  273.0223983 | loss_reconstruction=  265.8495030 | loss_kl=    7.1728955\n",
            "\n",
            "epoch=    87/   200 | beta=1.000e+00 | loss=  272.6675141 | loss_reconstruction=  265.4476412 | loss_kl=    7.2198750\n",
            "\n",
            "epoch=    88/   200 | beta=1.000e+00 | loss=  272.8362521 | loss_reconstruction=  265.5890515 | loss_kl=    7.2472005\n",
            "\n",
            "epoch=    89/   200 | beta=1.000e+00 | loss=  272.7243449 | loss_reconstruction=  265.4548782 | loss_kl=    7.2694651\n",
            "\n",
            "epoch=    90/   200 | beta=1.000e+00 | loss=  272.5858886 | loss_reconstruction=  265.3104052 | loss_kl=    7.2754833\n",
            "\n",
            "epoch=    91/   200 | beta=1.000e+00 | loss=  272.3910143 | loss_reconstruction=  265.0294174 | loss_kl=    7.3615977\n",
            "\n",
            "epoch=    92/   200 | beta=1.000e+00 | loss=  272.3295272 | loss_reconstruction=  265.0144481 | loss_kl=    7.3150820\n",
            "\n",
            "epoch=    93/   200 | beta=1.000e+00 | loss=  272.2750025 | loss_reconstruction=  264.9051005 | loss_kl=    7.3699030\n",
            "\n",
            "epoch=    94/   200 | beta=1.000e+00 | loss=  272.2412551 | loss_reconstruction=  264.8321396 | loss_kl=    7.4091157\n",
            "\n",
            "epoch=    95/   200 | beta=1.000e+00 | loss=  272.1520937 | loss_reconstruction=  264.7326688 | loss_kl=    7.4194235\n",
            "\n",
            "epoch=    96/   200 | beta=1.000e+00 | loss=  272.2353813 | loss_reconstruction=  264.8307057 | loss_kl=    7.4046755\n",
            "\n",
            "epoch=    97/   200 | beta=1.000e+00 | loss=  272.1670513 | loss_reconstruction=  264.6668963 | loss_kl=    7.5001538\n",
            "\n",
            "epoch=    98/   200 | beta=1.000e+00 | loss=  271.9544373 | loss_reconstruction=  264.4703741 | loss_kl=    7.4840646\n",
            "\n",
            "epoch=    99/   200 | beta=1.000e+00 | loss=  271.9978959 | loss_reconstruction=  264.4976846 | loss_kl=    7.5002094\n",
            "\n",
            "epoch=   100/   200 | beta=1.000e+00 | loss=  271.9795630 | loss_reconstruction=  264.4316199 | loss_kl=    7.5479421\n",
            "\n",
            "epoch=   101/   200 | beta=1.000e+00 | loss=  271.8590910 | loss_reconstruction=  264.3151703 | loss_kl=    7.5439200\n",
            "\n",
            "epoch=   102/   200 | beta=1.000e+00 | loss=  271.6707932 | loss_reconstruction=  264.0920946 | loss_kl=    7.5786993\n",
            "\n",
            "epoch=   103/   200 | beta=1.000e+00 | loss=  271.6246909 | loss_reconstruction=  264.0622602 | loss_kl=    7.5624309\n",
            "\n",
            "epoch=   104/   200 | beta=1.000e+00 | loss=  271.6241389 | loss_reconstruction=  263.9998693 | loss_kl=    7.6242704\n",
            "\n",
            "epoch=   105/   200 | beta=1.000e+00 | loss=  271.6206043 | loss_reconstruction=  263.9635452 | loss_kl=    7.6570598\n",
            "\n",
            "epoch=   106/   200 | beta=1.000e+00 | loss=  271.5180069 | loss_reconstruction=  263.8682451 | loss_kl=    7.6497620\n",
            "\n",
            "epoch=   107/   200 | beta=1.000e+00 | loss=  271.4065759 | loss_reconstruction=  263.7417673 | loss_kl=    7.6648101\n",
            "\n",
            "epoch=   108/   200 | beta=1.000e+00 | loss=  271.3244723 | loss_reconstruction=  263.6102827 | loss_kl=    7.7141903\n",
            "\n",
            "epoch=   109/   200 | beta=1.000e+00 | loss=  271.2077054 | loss_reconstruction=  263.4590478 | loss_kl=    7.7486582\n",
            "\n",
            "epoch=   110/   200 | beta=1.000e+00 | loss=  271.4934685 | loss_reconstruction=  263.7888923 | loss_kl=    7.7045755\n",
            "\n",
            "epoch=   111/   200 | beta=1.000e+00 | loss=  271.4971161 | loss_reconstruction=  263.7474839 | loss_kl=    7.7496334\n",
            "\n",
            "epoch=   112/   200 | beta=1.000e+00 | loss=  271.1422616 | loss_reconstruction=  263.3709208 | loss_kl=    7.7713412\n",
            "\n",
            "epoch=   113/   200 | beta=1.000e+00 | loss=  271.0439031 | loss_reconstruction=  263.2558183 | loss_kl=    7.7880837\n",
            "\n",
            "epoch=   114/   200 | beta=1.000e+00 | loss=  270.9380255 | loss_reconstruction=  263.1048772 | loss_kl=    7.8331464\n",
            "\n",
            "epoch=   115/   200 | beta=1.000e+00 | loss=  270.9528437 | loss_reconstruction=  263.1029217 | loss_kl=    7.8499229\n",
            "\n",
            "epoch=   116/   200 | beta=1.000e+00 | loss=  270.8179904 | loss_reconstruction=  262.9592739 | loss_kl=    7.8587164\n",
            "\n",
            "epoch=   117/   200 | beta=1.000e+00 | loss=  270.8047920 | loss_reconstruction=  262.9289770 | loss_kl=    7.8758157\n",
            "\n",
            "epoch=   118/   200 | beta=1.000e+00 | loss=  270.7952615 | loss_reconstruction=  262.9293009 | loss_kl=    7.8659594\n",
            "\n",
            "epoch=   119/   200 | beta=1.000e+00 | loss=  270.6361765 | loss_reconstruction=  262.7193267 | loss_kl=    7.9168511\n",
            "\n",
            "epoch=   120/   200 | beta=1.000e+00 | loss=  270.6673967 | loss_reconstruction=  262.7668711 | loss_kl=    7.9005238\n",
            "\n",
            "epoch=   121/   200 | beta=1.000e+00 | loss=  270.6913566 | loss_reconstruction=  262.7282339 | loss_kl=    7.9631216\n",
            "\n",
            "epoch=   122/   200 | beta=1.000e+00 | loss=  270.6048877 | loss_reconstruction=  262.6373244 | loss_kl=    7.9675643\n",
            "\n",
            "epoch=   123/   200 | beta=1.000e+00 | loss=  270.4895254 | loss_reconstruction=  262.5233929 | loss_kl=    7.9661310\n",
            "\n",
            "epoch=   124/   200 | beta=1.000e+00 | loss=  270.3813504 | loss_reconstruction=  262.3624232 | loss_kl=    8.0189259\n",
            "\n",
            "epoch=   125/   200 | beta=1.000e+00 | loss=  270.3575349 | loss_reconstruction=  262.3708535 | loss_kl=    7.9866810\n",
            "\n",
            "epoch=   126/   200 | beta=1.000e+00 | loss=  270.3136577 | loss_reconstruction=  262.3016205 | loss_kl=    8.0120363\n",
            "\n",
            "epoch=   127/   200 | beta=1.000e+00 | loss=  270.2874560 | loss_reconstruction=  262.1969401 | loss_kl=    8.0905149\n",
            "\n",
            "epoch=   128/   200 | beta=1.000e+00 | loss=  270.2489280 | loss_reconstruction=  262.1842111 | loss_kl=    8.0647181\n",
            "\n",
            "epoch=   129/   200 | beta=1.000e+00 | loss=  270.1225203 | loss_reconstruction=  262.0485683 | loss_kl=    8.0739530\n",
            "\n",
            "epoch=   130/   200 | beta=1.000e+00 | loss=  270.0337047 | loss_reconstruction=  261.9093581 | loss_kl=    8.1243459\n",
            "\n",
            "epoch=   131/   200 | beta=1.000e+00 | loss=  270.1472767 | loss_reconstruction=  262.0154673 | loss_kl=    8.1318085\n",
            "\n",
            "epoch=   132/   200 | beta=1.000e+00 | loss=  270.0231828 | loss_reconstruction=  261.9061467 | loss_kl=    8.1170367\n",
            "\n",
            "epoch=   133/   200 | beta=1.000e+00 | loss=  269.9531105 | loss_reconstruction=  261.8246069 | loss_kl=    8.1285030\n",
            "\n",
            "epoch=   134/   200 | beta=1.000e+00 | loss=  269.8020919 | loss_reconstruction=  261.5998394 | loss_kl=    8.2022516\n",
            "\n",
            "epoch=   135/   200 | beta=1.000e+00 | loss=  269.7296804 | loss_reconstruction=  261.4946266 | loss_kl=    8.2350536\n",
            "\n",
            "epoch=   136/   200 | beta=1.000e+00 | loss=  269.8201587 | loss_reconstruction=  261.6178096 | loss_kl=    8.2023504\n",
            "\n",
            "epoch=   137/   200 | beta=1.000e+00 | loss=  269.6794175 | loss_reconstruction=  261.4477606 | loss_kl=    8.2316543\n",
            "\n",
            "epoch=   138/   200 | beta=1.000e+00 | loss=  269.6312890 | loss_reconstruction=  261.4052719 | loss_kl=    8.2260162\n",
            "\n",
            "epoch=   139/   200 | beta=1.000e+00 | loss=  269.6604587 | loss_reconstruction=  261.3950810 | loss_kl=    8.2653780\n",
            "\n",
            "epoch=   140/   200 | beta=1.000e+00 | loss=  269.5591290 | loss_reconstruction=  261.3051582 | loss_kl=    8.2539704\n",
            "\n",
            "epoch=   141/   200 | beta=1.000e+00 | loss=  269.4875535 | loss_reconstruction=  261.2279679 | loss_kl=    8.2595861\n",
            "\n",
            "epoch=   142/   200 | beta=1.000e+00 | loss=  269.4478944 | loss_reconstruction=  261.0958232 | loss_kl=    8.3520705\n",
            "\n",
            "epoch=   143/   200 | beta=1.000e+00 | loss=  269.3837867 | loss_reconstruction=  261.0269854 | loss_kl=    8.3567991\n",
            "\n",
            "epoch=   144/   200 | beta=1.000e+00 | loss=  269.2798732 | loss_reconstruction=  260.9379136 | loss_kl=    8.3419607\n",
            "\n",
            "epoch=   145/   200 | beta=1.000e+00 | loss=  269.2804808 | loss_reconstruction=  260.9149546 | loss_kl=    8.3655272\n",
            "\n",
            "epoch=   146/   200 | beta=1.000e+00 | loss=  269.1452488 | loss_reconstruction=  260.7703091 | loss_kl=    8.3749417\n",
            "\n",
            "epoch=   147/   200 | beta=1.000e+00 | loss=  269.1280263 | loss_reconstruction=  260.7385911 | loss_kl=    8.3894316\n",
            "\n",
            "epoch=   148/   200 | beta=1.000e+00 | loss=  269.0889544 | loss_reconstruction=  260.6726532 | loss_kl=    8.4162999\n",
            "\n",
            "epoch=   149/   200 | beta=1.000e+00 | loss=  269.0069424 | loss_reconstruction=  260.5766406 | loss_kl=    8.4303002\n",
            "\n",
            "epoch=   150/   200 | beta=1.000e+00 | loss=  268.8855618 | loss_reconstruction=  260.4531782 | loss_kl=    8.4323853\n",
            "\n",
            "epoch=   151/   200 | beta=1.000e+00 | loss=  268.9050751 | loss_reconstruction=  260.4545202 | loss_kl=    8.4505520\n",
            "\n",
            "epoch=   152/   200 | beta=1.000e+00 | loss=  268.8403868 | loss_reconstruction=  260.3607514 | loss_kl=    8.4796343\n",
            "\n",
            "epoch=   153/   200 | beta=1.000e+00 | loss=  268.7182077 | loss_reconstruction=  260.2442537 | loss_kl=    8.4739530\n",
            "\n",
            "epoch=   154/   200 | beta=1.000e+00 | loss=  268.6931231 | loss_reconstruction=  260.1852906 | loss_kl=    8.5078330\n",
            "\n",
            "epoch=   155/   200 | beta=1.000e+00 | loss=  268.6194071 | loss_reconstruction=  260.1037519 | loss_kl=    8.5156549\n",
            "\n",
            "epoch=   156/   200 | beta=1.000e+00 | loss=  268.5939182 | loss_reconstruction=  260.0684662 | loss_kl=    8.5254514\n",
            "\n",
            "epoch=   157/   200 | beta=1.000e+00 | loss=  268.6022652 | loss_reconstruction=  260.0292284 | loss_kl=    8.5730399\n",
            "\n",
            "epoch=   158/   200 | beta=1.000e+00 | loss=  268.5027697 | loss_reconstruction=  259.9241959 | loss_kl=    8.5785718\n",
            "\n",
            "epoch=   159/   200 | beta=1.000e+00 | loss=  268.4486507 | loss_reconstruction=  259.8787294 | loss_kl=    8.5699207\n",
            "\n",
            "epoch=   160/   200 | beta=1.000e+00 | loss=  268.4070712 | loss_reconstruction=  259.8226592 | loss_kl=    8.5844115\n",
            "\n",
            "epoch=   161/   200 | beta=1.000e+00 | loss=  268.3488813 | loss_reconstruction=  259.7539512 | loss_kl=    8.5949293\n",
            "\n",
            "epoch=   162/   200 | beta=1.000e+00 | loss=  268.3010164 | loss_reconstruction=  259.6715115 | loss_kl=    8.6295038\n",
            "\n",
            "epoch=   163/   200 | beta=1.000e+00 | loss=  268.2536402 | loss_reconstruction=  259.6001865 | loss_kl=    8.6534543\n",
            "\n",
            "epoch=   164/   200 | beta=1.000e+00 | loss=  268.2551915 | loss_reconstruction=  259.5803410 | loss_kl=    8.6748528\n",
            "\n",
            "epoch=   165/   200 | beta=1.000e+00 | loss=  268.2087942 | loss_reconstruction=  259.5743678 | loss_kl=    8.6344262\n",
            "\n",
            "epoch=   166/   200 | beta=1.000e+00 | loss=  268.1434534 | loss_reconstruction=  259.4713225 | loss_kl=    8.6721300\n",
            "\n",
            "epoch=   167/   200 | beta=1.000e+00 | loss=  268.0666723 | loss_reconstruction=  259.4096437 | loss_kl=    8.6570282\n",
            "\n",
            "epoch=   168/   200 | beta=1.000e+00 | loss=  268.0431131 | loss_reconstruction=  259.3091841 | loss_kl=    8.7339298\n",
            "\n",
            "epoch=   169/   200 | beta=1.000e+00 | loss=  268.0012097 | loss_reconstruction=  259.2720016 | loss_kl=    8.7292091\n",
            "\n",
            "epoch=   170/   200 | beta=1.000e+00 | loss=  267.9733398 | loss_reconstruction=  259.2789815 | loss_kl=    8.6943583\n",
            "\n",
            "epoch=   171/   200 | beta=1.000e+00 | loss=  267.9356470 | loss_reconstruction=  259.2073149 | loss_kl=    8.7283350\n",
            "\n",
            "epoch=   172/   200 | beta=1.000e+00 | loss=  267.9394179 | loss_reconstruction=  259.1995251 | loss_kl=    8.7398917\n",
            "\n",
            "epoch=   173/   200 | beta=1.000e+00 | loss=  267.8536240 | loss_reconstruction=  259.0985553 | loss_kl=    8.7550688\n",
            "\n",
            "epoch=   174/   200 | beta=1.000e+00 | loss=  267.8201552 | loss_reconstruction=  259.0890605 | loss_kl=    8.7310927\n",
            "\n",
            "epoch=   175/   200 | beta=1.000e+00 | loss=  267.7898333 | loss_reconstruction=  259.0129856 | loss_kl=    8.7768474\n",
            "\n",
            "epoch=   176/   200 | beta=1.000e+00 | loss=  267.7451857 | loss_reconstruction=  258.9556677 | loss_kl=    8.7895182\n",
            "\n",
            "epoch=   177/   200 | beta=1.000e+00 | loss=  267.7173313 | loss_reconstruction=  258.9579980 | loss_kl=    8.7593354\n",
            "\n",
            "epoch=   178/   200 | beta=1.000e+00 | loss=  267.7230545 | loss_reconstruction=  258.9097263 | loss_kl=    8.8133284\n",
            "\n",
            "epoch=   179/   200 | beta=1.000e+00 | loss=  267.6749260 | loss_reconstruction=  258.8778299 | loss_kl=    8.7970971\n",
            "\n",
            "epoch=   180/   200 | beta=1.000e+00 | loss=  267.6449119 | loss_reconstruction=  258.8344687 | loss_kl=    8.8104428\n",
            "\n",
            "epoch=   181/   200 | beta=1.000e+00 | loss=  267.5998034 | loss_reconstruction=  258.7875010 | loss_kl=    8.8123013\n",
            "\n",
            "epoch=   182/   200 | beta=1.000e+00 | loss=  267.5912335 | loss_reconstruction=  258.7520122 | loss_kl=    8.8392212\n",
            "\n",
            "epoch=   183/   200 | beta=1.000e+00 | loss=  267.5768699 | loss_reconstruction=  258.7707750 | loss_kl=    8.8060953\n",
            "\n",
            "epoch=   184/   200 | beta=1.000e+00 | loss=  267.5591255 | loss_reconstruction=  258.7146994 | loss_kl=    8.8444263\n",
            "\n",
            "epoch=   185/   200 | beta=1.000e+00 | loss=  267.4913479 | loss_reconstruction=  258.6623410 | loss_kl=    8.8290078\n",
            "\n",
            "epoch=   186/   200 | beta=1.000e+00 | loss=  267.5445713 | loss_reconstruction=  258.6876225 | loss_kl=    8.8569485\n",
            "\n",
            "epoch=   187/   200 | beta=1.000e+00 | loss=  267.5381301 | loss_reconstruction=  258.6713003 | loss_kl=    8.8668293\n",
            "\n",
            "epoch=   188/   200 | beta=1.000e+00 | loss=  267.4640319 | loss_reconstruction=  258.6174125 | loss_kl=    8.8466197\n",
            "\n",
            "epoch=   189/   200 | beta=1.000e+00 | loss=  267.4549122 | loss_reconstruction=  258.6389618 | loss_kl=    8.8159487\n",
            "\n",
            "epoch=   190/   200 | beta=1.000e+00 | loss=  267.4995148 | loss_reconstruction=  258.6099079 | loss_kl=    8.8896059\n",
            "\n",
            "epoch=   191/   200 | beta=1.000e+00 | loss=  267.4675993 | loss_reconstruction=  258.5454606 | loss_kl=    8.9221363\n",
            "\n",
            "epoch=   192/   200 | beta=1.000e+00 | loss=  267.4301214 | loss_reconstruction=  258.5966914 | loss_kl=    8.8334297\n",
            "\n",
            "epoch=   193/   200 | beta=1.000e+00 | loss=  267.4189308 | loss_reconstruction=  258.5431245 | loss_kl=    8.8758076\n",
            "\n",
            "epoch=   194/   200 | beta=1.000e+00 | loss=  267.4190991 | loss_reconstruction=  258.5951123 | loss_kl=    8.8239858\n",
            "\n",
            "epoch=   195/   200 | beta=1.000e+00 | loss=  267.3924392 | loss_reconstruction=  258.5611928 | loss_kl=    8.8312481\n",
            "\n",
            "epoch=   196/   200 | beta=1.000e+00 | loss=  267.4141885 | loss_reconstruction=  258.6001188 | loss_kl=    8.8140695\n",
            "\n",
            "epoch=   197/   200 | beta=1.000e+00 | loss=  267.4130840 | loss_reconstruction=  258.5359517 | loss_kl=    8.8771309\n",
            "\n",
            "epoch=   198/   200 | beta=1.000e+00 | loss=  267.3879672 | loss_reconstruction=  258.5333068 | loss_kl=    8.8546589\n",
            "\n",
            "epoch=   199/   200 | beta=1.000e+00 | loss=  267.4103691 | loss_reconstruction=  258.5351500 | loss_kl=    8.8752197\n",
            "\n",
            "epoch=   200/   200 | beta=1.000e+00 | loss=  267.4338003 | loss_reconstruction=  258.6037911 | loss_kl=    8.8300066\n",
            "\n"
          ]
        }
      ]
    },
    {
      "cell_type": "markdown",
      "metadata": {
        "id": "Tys_iLvnjlun"
      },
      "source": [
        "## Compare Etv2 motif centric V-plots between WT  and Etv2 OE\n",
        "\n",
        "\n"
      ]
    },
    {
      "cell_type": "markdown",
      "metadata": {
        "id": "HFi3FyWGes3d"
      },
      "source": [
        "### Extract motif centric regions"
      ]
    },
    {
      "cell_type": "code",
      "metadata": {
        "id": "DGqCiI2reZzF"
      },
      "source": [
        "data('homer_pwms') # 321 TF motifs from Homer database"
      ],
      "execution_count": null,
      "outputs": []
    },
    {
      "cell_type": "code",
      "metadata": {
        "id": "pRnZ76W5eh2T"
      },
      "source": [
        "j <- 82 # Etv2"
      ],
      "execution_count": null,
      "outputs": []
    },
    {
      "cell_type": "code",
      "metadata": {
        "id": "y92NANobehIy"
      },
      "source": [
        "gr <- matchMotifs(homer_pwms[j], gr0, genome = BSgenome.Mmusculus.UCSC.mm10, out = 'positions')[[1]] %>%\n",
        "  resize(width = ARGS[['block_size']], fix = 'center')"
      ],
      "execution_count": null,
      "outputs": []
    },
    {
      "cell_type": "code",
      "metadata": {
        "colab": {
          "base_uri": "https://localhost:8080/"
        },
        "id": "QijS2vz2fJAI",
        "outputId": "81884257-3ff0-426a-9d81-638753e0d7d0"
      },
      "source": [
        "sprintf('number of motif-centric regions: %s', length(gr)) %>% message()"
      ],
      "execution_count": null,
      "outputs": [
        {
          "output_type": "stream",
          "name": "stderr",
          "text": [
            "number of motif-centric regions: 41656\n",
            "\n"
          ]
        }
      ]
    },
    {
      "cell_type": "markdown",
      "metadata": {
        "id": "W1s_MLEnfeNW"
      },
      "source": [
        "### Read V-plots"
      ]
    },
    {
      "cell_type": "code",
      "metadata": {
        "id": "YZKSTzZ0V3gR",
        "colab": {
          "base_uri": "https://localhost:8080/"
        },
        "outputId": "3fdcad11-45bb-4ad4-86a3-259379f23481"
      },
      "source": [
        "x <- read_vplot(gr, filenames = local_bam_files, genome = BSgenome.Mmusculus.UCSC.mm10, bin_size = ARGS[['bin_size']], fragment_size_range = c(0, ARGS[['fragment_size_range_max']]), fragment_size_interval = ARGS[['fragment_size_interval']])"
      ],
      "execution_count": null,
      "outputs": [
        {
          "output_type": "stream",
          "name": "stderr",
          "text": [
            "read_bam | reading ./dsouz072/datasets/dataset=Etv2_Limb_version=20210212a/Anterior_WT.dedup.bam\n",
            "\n",
            "read_bam | reading ./dsouz072/datasets/dataset=Etv2_Limb_version=20210212a/Anterior_OE.dedup.bam\n",
            "\n"
          ]
        }
      ]
    },
    {
      "cell_type": "markdown",
      "metadata": {
        "id": "h6lhLCtYfhqw"
      },
      "source": [
        "### Get the latent representations of the V-plots"
      ]
    },
    {
      "cell_type": "code",
      "metadata": {
        "id": "qnCyKD4iwpFG"
      },
      "source": [
        "x <- model %>% predict(x, batch_size = ARGS[['vae_batch_size']], vplots = FALSE)"
      ],
      "execution_count": null,
      "outputs": []
    },
    {
      "cell_type": "markdown",
      "metadata": {
        "id": "zTZFIssWfoaQ"
      },
      "source": [
        "### Testing whether the V-plots between two conditions are significantly different"
      ]
    },
    {
      "cell_type": "code",
      "metadata": {
        "id": "gaKq3d-5MDOm"
      },
      "source": [
        "res <- model %>% results(x, type = 'vplots', contrast = c('name', 'WT_Control', 'Etv2_OE'))"
      ],
      "execution_count": null,
      "outputs": []
    },
    {
      "cell_type": "markdown",
      "metadata": {
        "id": "LV2m0krn2RJ3"
      },
      "source": [
        "### Plot the V-plots"
      ]
    },
    {
      "cell_type": "code",
      "source": [
        "NOR_NFR <- res$padj < 0.05 & res$log_ratio < -0.2"
      ],
      "metadata": {
        "id": "5nu91ZgAy4WW"
      },
      "execution_count": null,
      "outputs": []
    },
    {
      "cell_type": "code",
      "metadata": {
        "colab": {
          "base_uri": "https://localhost:8080/"
        },
        "outputId": "bae7d4ea-4838-4c8a-c0a4-9fd86f685f58",
        "id": "k4w6O0ud_-V1"
      },
      "source": [
        "sprintf('number of significantly different V-plots: %d', sum(NOR_NFR)) %>% message()"
      ],
      "execution_count": null,
      "outputs": [
        {
          "output_type": "stream",
          "name": "stderr",
          "text": [
            "number of significantly different V-plots: 430\n",
            "\n"
          ]
        }
      ]
    },
    {
      "cell_type": "code",
      "source": [
        "x2 <- model %>% predict(x[NOR_NFR], batch_size = ARGS[['vae_batch_size']], vplots = TRUE)"
      ],
      "metadata": {
        "id": "7EzR9x9ow3qs"
      },
      "execution_count": null,
      "outputs": []
    },
    {
      "cell_type": "code",
      "source": [
        "options(repr.plot.width = 9, repr.plot.height = 9)\n",
        "p1 <- vplot(x2,  'counts')\n",
        "p2 <- vplot(x2, 'predicted_counts')\n",
        "p1 / p2"
      ],
      "metadata": {
        "colab": {
          "base_uri": "https://localhost:8080/",
          "height": 631
        },
        "id": "1AEv8tIDzB2j",
        "outputId": "3db4e81c-d9a6-48db-9828-44bd24215e7e"
      },
      "execution_count": null,
      "outputs": [
        {
          "output_type": "stream",
          "name": "stderr",
          "text": [
            "Warning message:\n",
            "“Removed 128 rows containing missing values (geom_raster).”\n",
            "Warning message:\n",
            "“Removed 128 rows containing missing values (geom_raster).”\n"
          ]
        },
        {
          "output_type": "display_data",
          "data": {
            "text/plain": [
              "plot without title"
            ],
            "image/png": "[encoded data removed]"
          },
          "metadata": {
            "image/png": {
              "width": 540,
              "height": 540
            }
          }
        }
      ]
    },
    {
      "cell_type": "code",
      "source": [
        "zrs <- GRanges(seqnames = 'chr5', ranges = IRanges(start = 29315500))\n",
        "zrs <- resize(zrs, fix = 'center', width = 1000)"
      ],
      "metadata": {
        "id": "63XwK7q1x1X0"
      },
      "execution_count": null,
      "outputs": []
    },
    {
      "cell_type": "code",
      "metadata": {
        "colab": {
          "base_uri": "https://localhost:8080/",
          "height": 313
        },
        "id": "37p2P1-FzG38",
        "outputId": "137119e2-6ae9-43d5-b9ca-dd0d125ab099"
      },
      "source": [
        "gr_zrs <- matchMotifs(homer_pwms[j], zrs, genome = BSgenome.Mmusculus.UCSC.mm10,  p.cutoff = 0.05, out = 'positions')[[1]] %>%\n",
        "  resize(width = ARGS[['block_size']], fix = 'center')\n",
        "gr_zrs"
      ],
      "execution_count": null,
      "outputs": [
        {
          "output_type": "display_data",
          "data": {
            "text/plain": [
              "GRanges object with 99 ranges and 1 metadata column:\n",
              "       seqnames            ranges strand |     score\n",
              "          <Rle>         <IRanges>  <Rle> | <numeric>\n",
              "   [1]     chr5 29314688-29315327      + | -0.575049\n",
              "   [2]     chr5 29314698-29315337      + |  7.546673\n",
              "   [3]     chr5 29314702-29315341      + | -4.174457\n",
              "   [4]     chr5 29314728-29315367      + | -1.648975\n",
              "   [5]     chr5 29314759-29315398      + |  7.322850\n",
              "   ...      ...               ...    ... .       ...\n",
              "  [95]     chr5 29315643-29316282      - | -1.148704\n",
              "  [96]     chr5 29315649-29316288      - |  6.953313\n",
              "  [97]     chr5 29315652-29316291      - | -0.989821\n",
              "  [98]     chr5 29315653-29316292      - | -0.554817\n",
              "  [99]     chr5 29315668-29316307      - | -2.639463\n",
              "  -------\n",
              "  seqinfo: 1 sequence from an unspecified genome; no seqlengths"
            ]
          },
          "metadata": {}
        }
      ]
    },
    {
      "cell_type": "code",
      "metadata": {
        "colab": {
          "base_uri": "https://localhost:8080/"
        },
        "outputId": "c7da84dd-fd8e-40b3-c8f7-589b8bcdfa6e",
        "id": "GO0qUUoVzG39"
      },
      "source": [
        "sprintf('number of motif-centric regions: %s', length(gr_zrs)) %>% message()"
      ],
      "execution_count": null,
      "outputs": [
        {
          "output_type": "stream",
          "name": "stderr",
          "text": [
            "number of motif-centric regions: 99\n",
            "\n"
          ]
        }
      ]
    },
    {
      "cell_type": "code",
      "source": [
        "x_zrs <- read_vplot(gr_zrs, filenames = local_bam_files, genome = BSgenome.Mmusculus.UCSC.mm10, bin_size = ARGS[['bin_size']], fragment_size_range = c(0, ARGS[['fragment_size_range_max']]), fragment_size_interval = ARGS[['fragment_size_interval']], ignore_strand = FALSE)\n",
        "x_zrs <- model %>% predict(x_zrs, batch_size = ARGS[['vae_batch_size']], vplots = TRUE)\n",
        "res_zrs <- model %>% results(x_zrs, type = 'vplots', contrast = c('name', 'WT_Control', 'Etv2_OE'))"
      ],
      "metadata": {
        "colab": {
          "base_uri": "https://localhost:8080/"
        },
        "id": "Eu5fDJZDzaFO",
        "outputId": "18b8300a-cfee-4c07-841c-11f4ffbed8d3"
      },
      "execution_count": null,
      "outputs": [
        {
          "output_type": "stream",
          "name": "stderr",
          "text": [
            "read_bam | reading ./dsouz072/datasets/dataset=Etv2_Limb_version=20210212a/Anterior_WT.dedup.bam\n",
            "\n",
            "read_bam | reading ./dsouz072/datasets/dataset=Etv2_Limb_version=20210212a/Anterior_OE.dedup.bam\n",
            "\n"
          ]
        }
      ]
    },
    {
      "cell_type": "code",
      "source": [
        "NOR_NFR_zrs <- res_zrs$pvalue_z < 0.05 & res_zrs$log_ratio < -0.3\n",
        "sprintf('number of significantly different V-plots: %d', sum(NOR_NFR_zrs)) %>% message()"
      ],
      "metadata": {
        "colab": {
          "base_uri": "https://localhost:8080/"
        },
        "id": "vgijsHkXyM3g",
        "outputId": "e7ff5011-0765-4774-f347-667beeaf9563"
      },
      "execution_count": null,
      "outputs": [
        {
          "output_type": "stream",
          "name": "stderr",
          "text": [
            "number of significantly different V-plots: 16\n",
            "\n"
          ]
        }
      ]
    },
    {
      "cell_type": "code",
      "source": [
        "options(repr.plot.width = 9, repr.plot.height = 9)\n",
        "p1 <- vplot(x_zrs[NOR_NFR_zrs],  'counts')\n",
        "p2 <- vplot(x_zrs[NOR_NFR_zrs], 'predicted_counts')\n",
        "p1 / p2"
      ],
      "metadata": {
        "colab": {
          "base_uri": "https://localhost:8080/",
          "height": 631
        },
        "id": "jkcq_r5tyjIb",
        "outputId": "11d570ce-4dad-494b-ed43-291f00dfda14"
      },
      "execution_count": null,
      "outputs": [
        {
          "output_type": "stream",
          "name": "stderr",
          "text": [
            "Warning message:\n",
            "“Removed 128 rows containing missing values (geom_raster).”\n",
            "Warning message:\n",
            "“Removed 128 rows containing missing values (geom_raster).”\n"
          ]
        },
        {
          "output_type": "display_data",
          "data": {
            "text/plain": [
              "plot without title"
            ],
            "image/png": "[encoded data removed]"
          },
          "metadata": {
            "image/png": {
              "width": 540,
              "height": 540
            }
          }
        }
      ]
    },
    {
      "cell_type": "code",
      "source": [
        "res_zrs[NOR_NFR_zrs]"
      ],
      "metadata": {
        "colab": {
          "base_uri": "https://localhost:8080/",
          "height": 553
        },
        "id": "BHmT8G5U4JlD",
        "outputId": "f3ba96a9-9afe-48b4-8e91-39590fa6e726"
      },
      "execution_count": null,
      "outputs": [
        {
          "output_type": "display_data",
          "data": {
            "text/plain": [
              "GRanges object with 16 ranges and 5 metadata columns:\n",
              "       seqnames            ranges strand |    pvalue_z        padj\n",
              "          <Rle>         <IRanges>  <Rle> |   <numeric>   <numeric>\n",
              "   [1]     chr5 29314876-29315515      + | 1.19072e-07 1.05974e-05\n",
              "   [2]     chr5 29314927-29315566      + | 1.00379e-08 9.63638e-07\n",
              "   [3]     chr5 29315290-29315929      + | 1.85834e-02 7.80501e-01\n",
              "   [4]     chr5 29315323-29315962      + | 2.42417e-02 9.21183e-01\n",
              "   [5]     chr5 29314885-29315524      - | 1.10174e-08 1.04665e-06\n",
              "   ...      ...               ...    ... .         ...         ...\n",
              "  [12]     chr5 29315019-29315658      - | 6.00609e-06 0.000420426\n",
              "  [13]     chr5 29315285-29315924      - | 2.79307e-02 1.000000000\n",
              "  [14]     chr5 29315333-29315972      - | 4.57377e-02 1.000000000\n",
              "  [15]     chr5 29315338-29315977      - | 1.29908e-02 0.597131159\n",
              "  [16]     chr5 29315347-29315986      - | 3.77864e-02 1.000000000\n",
              "       nucleosome_treatment nucleosome_control log_ratio\n",
              "                  <numeric>          <numeric> <numeric>\n",
              "   [1]             0.409934           0.634219 -0.436397\n",
              "   [2]             0.372958           0.624773 -0.515922\n",
              "   [3]             0.440848           0.631630 -0.359603\n",
              "   [4]             0.434670           0.607532 -0.334817\n",
              "   [5]             0.384140           0.612199 -0.466051\n",
              "   ...                  ...                ...       ...\n",
              "  [12]             0.382648           0.520053 -0.306817\n",
              "  [13]             0.403339           0.565743 -0.338362\n",
              "  [14]             0.443105           0.611368 -0.321891\n",
              "  [15]             0.441534           0.651785 -0.389460\n",
              "  [16]             0.472185           0.651663 -0.322157\n",
              "  -------\n",
              "  seqinfo: 239 sequences from mm10 genome"
            ]
          },
          "metadata": {}
        }
      ]
    },
    {
      "cell_type": "markdown",
      "metadata": {
        "id": "wjg4jMFjHz_P"
      },
      "source": [
        "## SessionInfo"
      ]
    },
    {
      "cell_type": "code",
      "metadata": {
        "id": "1O6H0QYdIBSN",
        "colab": {
          "base_uri": "https://localhost:8080/",
          "height": 1000
        },
        "outputId": "d729ddc4-a063-4e2e-b3fe-e5fa2341eb8f"
      },
      "source": [
        "sessionInfo()"
      ],
      "execution_count": null,
      "outputs": [
        {
          "output_type": "display_data",
          "data": {
            "text/plain": [
              "R version 4.1.3 (2022-03-10)\n",
              "Platform: x86_64-pc-linux-gnu (64-bit)\n",
              "Running under: Ubuntu 18.04.5 LTS\n",
              "\n",
              "Matrix products: default\n",
              "BLAS:   /usr/lib/x86_64-linux-gnu/openblas/libblas.so.3\n",
              "LAPACK: /usr/lib/x86_64-linux-gnu/libopenblasp-r0.2.20.so\n",
              "\n",
              "locale:\n",
              " [1] LC_CTYPE=en_US.UTF-8       LC_NUMERIC=C              \n",
              " [3] LC_TIME=en_US.UTF-8        LC_COLLATE=en_US.UTF-8    \n",
              " [5] LC_MONETARY=en_US.UTF-8    LC_MESSAGES=en_US.UTF-8   \n",
              " [7] LC_PAPER=en_US.UTF-8       LC_NAME=C                 \n",
              " [9] LC_ADDRESS=C               LC_TELEPHONE=C            \n",
              "[11] LC_MEASUREMENT=en_US.UTF-8 LC_IDENTIFICATION=C       \n",
              "\n",
              "attached base packages:\n",
              "[1] stats4    stats     graphics  grDevices utils     datasets  methods  \n",
              "[8] base     \n",
              "\n",
              "other attached packages:\n",
              " [1] patchwork_1.1.1                    chromVARmotifs_0.2.0              \n",
              " [3] motifmatchr_1.16.0                 dplyr_1.0.8                       \n",
              " [5] BSgenome.Mmusculus.UCSC.mm10_1.4.3 BSgenome_1.62.0                   \n",
              " [7] rtracklayer_1.54.0                 Biostrings_2.62.0                 \n",
              " [9] XVector_0.34.0                     seatac_0.4.0-010                  \n",
              "[11] SummarizedExperiment_1.24.0        Biobase_2.54.0                    \n",
              "[13] MatrixGenerics_1.6.0               matrixStats_0.61.0                \n",
              "[15] GenomicRanges_1.46.1               GenomeInfoDb_1.30.1               \n",
              "[17] IRanges_2.28.0                     S4Vectors_0.32.4                  \n",
              "[19] BiocGenerics_0.40.0                tfdatasets_2.7.0                  \n",
              "[21] tfprobability_0.15.0               tensorflow_2.8.0                  \n",
              "[23] devtools_2.4.3                     usethis_2.1.5                     \n",
              "\n",
              "loaded via a namespace (and not attached):\n",
              "  [1] colorspace_2.0-3            rjson_0.2.21               \n",
              "  [3] ellipsis_0.3.2              rprojroot_2.0.3            \n",
              "  [5] IRdisplay_1.1               base64enc_0.1-3            \n",
              "  [7] fs_1.5.2                    farver_2.1.0               \n",
              "  [9] remotes_2.4.2               bit64_4.0.5                \n",
              " [11] AnnotationDbi_1.56.2        fansi_1.0.3                \n",
              " [13] R.methodsS3_1.8.1           cachem_1.0.6               \n",
              " [15] pkgload_1.2.4               zeallot_0.1.0              \n",
              " [17] IRkernel_1.3                jsonlite_1.8.0             \n",
              " [19] Rsamtools_2.10.0            seqLogo_1.60.0             \n",
              " [21] annotate_1.72.0             GO.db_3.14.0               \n",
              " [23] R.oo_1.24.0                 png_0.1-7                  \n",
              " [25] tfruns_1.5.0                httr_1.4.2                 \n",
              " [27] BiocManager_1.30.16         readr_2.1.2                \n",
              " [29] compiler_4.1.3              backports_1.4.1            \n",
              " [31] assertthat_0.2.1            Matrix_1.4-1               \n",
              " [33] fastmap_1.1.0               cli_3.2.0                  \n",
              " [35] htmltools_0.5.2             prettyunits_1.1.1          \n",
              " [37] tools_4.1.3                 gtable_0.3.0               \n",
              " [39] glue_1.6.2                  TFMPvalue_0.0.8            \n",
              " [41] GenomeInfoDbData_1.2.7      reshape2_1.4.4             \n",
              " [43] rappdirs_0.3.3              tfautograph_0.3.2          \n",
              " [45] Rcpp_1.0.8.3                vctrs_0.4.0                \n",
              " [47] stringr_1.4.0               CNEr_1.30.0                \n",
              " [49] ps_1.6.0                    brio_1.1.3                 \n",
              " [51] testthat_3.1.3              lifecycle_1.0.1            \n",
              " [53] restfulr_0.0.13             poweRlaw_0.70.6            \n",
              " [55] gtools_3.9.2                XML_3.99-0.9               \n",
              " [57] zlibbioc_1.40.0             scales_1.2.0               \n",
              " [59] hms_1.1.1                   parallel_4.1.3             \n",
              " [61] yaml_2.3.5                  curl_4.3.2                 \n",
              " [63] memoise_2.0.1               reticulate_1.24            \n",
              " [65] ggplot2_3.3.5               keras_2.8.0                \n",
              " [67] stringi_1.7.6               RSQLite_2.2.12             \n",
              " [69] BiocIO_1.4.0                desc_1.4.1                 \n",
              " [71] caTools_1.18.2              pkgbuild_1.3.1             \n",
              " [73] BiocParallel_1.28.3         repr_1.1.4                 \n",
              " [75] rlang_1.0.2                 pkgconfig_2.0.3            \n",
              " [77] bitops_1.0-7                pracma_2.3.8               \n",
              " [79] evaluate_0.15               lattice_0.20-45            \n",
              " [81] purrr_0.3.4                 labeling_0.4.2             \n",
              " [83] GenomicAlignments_1.30.0    bit_4.0.4                  \n",
              " [85] processx_3.5.3              tidyselect_1.1.2           \n",
              " [87] here_1.0.1                  plyr_1.8.7                 \n",
              " [89] magrittr_2.0.3              R6_2.5.1                   \n",
              " [91] gplots_3.1.1                generics_0.1.2             \n",
              " [93] pbdZMQ_0.3-7                DelayedArray_0.20.0        \n",
              " [95] DBI_1.1.2                   pillar_1.7.0               \n",
              " [97] whisker_0.4                 withr_2.5.0                \n",
              " [99] KEGGREST_1.34.0             abind_1.4-5                \n",
              "[101] RCurl_1.98-1.6              tibble_3.1.6               \n",
              "[103] crayon_1.5.1                uuid_1.0-4                 \n",
              "[105] KernSmooth_2.23-20          utf8_1.2.2                 \n",
              "[107] tzdb_0.3.0                  TFBSTools_1.32.0           \n",
              "[109] grid_4.1.3                  blob_1.2.3                 \n",
              "[111] callr_3.7.0                 digest_0.6.29              \n",
              "[113] xtable_1.8-4                R.utils_2.11.0             \n",
              "[115] munsell_0.5.0               DirichletMultinomial_1.36.0\n",
              "[117] sessioninfo_1.2.2          "
            ]
          },
          "metadata": {}
        }
      ]
    },
    {
      "cell_type": "code",
      "metadata": {
        "id": "-4pQeVrGHxXr",
        "colab": {
          "base_uri": "https://localhost:8080/",
          "height": 34
        },
        "outputId": "e728ab0f-1cc6-406e-afeb-1fef348779ce"
      },
      "source": [
        "Sys.time() - start_time"
      ],
      "execution_count": null,
      "outputs": [
        {
          "output_type": "display_data",
          "data": {
            "text/plain": [
              "Time difference of 1.294255 hours"
            ]
          },
          "metadata": {}
        }
      ]
    }
  ]
}